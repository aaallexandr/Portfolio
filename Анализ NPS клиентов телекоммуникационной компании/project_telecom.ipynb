{
 "cells": [
  {
   "cell_type": "markdown",
   "id": "434a46a7",
   "metadata": {},
   "source": [
    "# Анализ NPS клиентов телекоммуникационной компании"
   ]
  },
  {
   "cell_type": "markdown",
   "id": "4c373877",
   "metadata": {},
   "source": [
    "### Постановка задачи\n",
    "\n",
    "Заказчик исследования — телекоммуникационная компания, которая оказывает услуги на территории всего СНГ. Перед компанией стоит задача определить текущий уровень потребительской лояльности среди клиентов из России. \n",
    "\n",
    "Чтобы определить уровень лояльности, клиентам задавали классический вопрос: «Оцените по шкале от 1 до 10 вероятность того, что вы порекомендуете компанию друзьям и знакомым».\n",
    "Компания провела опрос и попросила подготовить дашборд с его итогами.\n",
    "\n",
    "Чтобы оценить результаты опроса, оценки делят на три группы:\n",
    "* 9-10 баллов — «cторонники» (англ. promoters);\n",
    "* 7-8 баллов — «нейтралы» (англ. passives);\n",
    "* 0-6 баллов — «критики» (англ. detractors)."
   ]
  },
  {
   "cell_type": "markdown",
   "id": "15485ee6",
   "metadata": {},
   "source": [
    "### План исследования\n",
    "\n",
    "* Импортирование библиотек\n",
    "* Подключение к базе данных\n",
    "* Выгрузка данных с помощью SQL-запроса\n",
    "* Создание дашборда в Tableau\n",
    "* Сделать презентацию с основными выводами"
   ]
  },
  {
   "cell_type": "markdown",
   "id": "d67105d9",
   "metadata": {},
   "source": [
    "### Импортирование библиотек"
   ]
  },
  {
   "cell_type": "code",
   "execution_count": 1,
   "id": "c8fc9213",
   "metadata": {},
   "outputs": [],
   "source": [
    "# Импортирование библиотек\n",
    "import os\n",
    "import pandas as pd\n",
    "from sqlalchemy import create_engine"
   ]
  },
  {
   "cell_type": "markdown",
   "id": "8a75903e",
   "metadata": {},
   "source": [
    "### Подключение к базе данных"
   ]
  },
  {
   "cell_type": "code",
   "execution_count": 2,
   "id": "4a32faf5",
   "metadata": {},
   "outputs": [],
   "source": [
    "# путь к БД на вашем компьютере (например, в той же папке, что и тетрадь)\n",
    "path_to_db_local = '/Users/aaleksakhin/Data/Data Bases/telecomm_csi.db'\n",
    "# путь к БД на платформе\n",
    "path_to_db_platform = '/datasets/telecomm_csi.db'\n",
    "# итоговый путь к БД\n",
    "path_to_db = None\n",
    "\n",
    "# если путь на вашем компьютере ведёт к БД, то он становится итоговым\n",
    "if os.path.exists(path_to_db_local):\n",
    "    path_to_db = path_to_db_local\n",
    "# иначе: если путь на платформе ведёт к БД, то он становится итоговым\n",
    "elif os.path.exists(path_to_db_platform):\n",
    "    path_to_db = path_to_db_platform\n",
    "# иначе выводится сообщение о том, что файл не найден\n",
    "else:\n",
    "    raise Exception('Файл с базой данных SQLite не найден!')\n",
    "\n",
    "# если итоговый путь не пустой\n",
    "if path_to_db:\n",
    "    # то создаём подключение к базе\n",
    "    engine = create_engine(f'sqlite:///{path_to_db}', echo=False)\n"
   ]
  },
  {
   "cell_type": "markdown",
   "id": "bf9e0835",
   "metadata": {},
   "source": [
    "### Выгрузка данных"
   ]
  },
  {
   "cell_type": "markdown",
   "id": "ac3afbb8",
   "metadata": {},
   "source": [
    "Выгрузим следующие данные для построения дашборда\n",
    "\n",
    "* `user_id` — Идентификатор клиента, первичный ключ таблицы\n",
    "* `lt_day` — Количество дней «жизни» клиента\n",
    "* `is_new` — Поле хранит информацию о том, является ли клиент новым\n",
    "* `age` — Возраст клиента в годах\n",
    "* `gender_segment` — Пол клиента (1 – женщина, 0 – мужчина)\n",
    "* `os_name` — Тип операционной системы\n",
    "* `cpe_type_name` — Тип устройства\n",
    "* `country` — Страна\n",
    "* `city` — Город\n",
    "* `age_segment` — Возрастной сегмент\n",
    "* `traffic_segment` — Сегмент по объёму потребляемого трафика\n",
    "* `lifetime_segment`— Сегмент по количеству дней «жизни»\n",
    "* `nps_score` — Оценка клиента в NPS-опросе\n",
    "* `nps_group` — Поле хранит информацию о том, к какой группе относится оценка клиента в опросе\t\n",
    "\n",
    "Определить, является ли клиент новым, можно по количеству дней «жизни». Клиента считают новым, если количество дней «жизни» составляет не более 365 дней. \n",
    "\n"
   ]
  },
  {
   "cell_type": "code",
   "execution_count": 3,
   "id": "816c1229",
   "metadata": {},
   "outputs": [],
   "source": [
    "# SQL-запрос\n",
    "query = \"\"\"\n",
    "\n",
    "    SELECT u.user_id,\n",
    "           u.lt_day,\n",
    "           CASE\n",
    "                   WHEN u.lt_day <= 365 THEN 'True'\n",
    "                   WHEN u.lt_day > 365 THEN 'False'\n",
    "               END AS is_new,\n",
    "               u.age,\n",
    "               u.gender_segment,\n",
    "               u.os_name,\n",
    "               u.cpe_type_name,\n",
    "               l.country,\n",
    "               l.city,\n",
    "               t.title as traffic_segment,\n",
    "               lt.title as lifetime_segment,\n",
    "               a.title as age_segment,\n",
    "               u.nps_score,\n",
    "               CASE \n",
    "                   WHEN u.nps_score > 0 and u.nps_score <= 6 THEN 'Detractors'\n",
    "                   WHEN u.nps_score >= 7 and u.nps_score <= 8 THEN 'Passives' \n",
    "                   ELSE 'Promoters'\n",
    "               END AS nps_group\n",
    "    FROM user AS u\n",
    "    LEFT JOIN location AS l ON u.location_id=l.location_id\n",
    "    LEFT JOIN age_segment AS a ON u.age_gr_id=a.age_gr_id\n",
    "    LEFT JOIN traffic_segment AS t ON u.tr_gr_id=t.tr_gr_id\n",
    "    LEFT JOIN lifetime_segment AS lt ON u.lt_gr_id=lt.lt_gr_id\n",
    "    \n",
    "    \"\"\""
   ]
  },
  {
   "cell_type": "code",
   "execution_count": 4,
   "id": "479f190d",
   "metadata": {},
   "outputs": [
    {
     "data": {
      "text/html": [
       "<div>\n",
       "<style scoped>\n",
       "    .dataframe tbody tr th:only-of-type {\n",
       "        vertical-align: middle;\n",
       "    }\n",
       "\n",
       "    .dataframe tbody tr th {\n",
       "        vertical-align: top;\n",
       "    }\n",
       "\n",
       "    .dataframe thead th {\n",
       "        text-align: right;\n",
       "    }\n",
       "</style>\n",
       "<table border=\"1\" class=\"dataframe\">\n",
       "  <thead>\n",
       "    <tr style=\"text-align: right;\">\n",
       "      <th></th>\n",
       "      <th>user_id</th>\n",
       "      <th>lt_day</th>\n",
       "      <th>is_new</th>\n",
       "      <th>age</th>\n",
       "      <th>gender_segment</th>\n",
       "      <th>os_name</th>\n",
       "      <th>cpe_type_name</th>\n",
       "      <th>country</th>\n",
       "      <th>city</th>\n",
       "      <th>traffic_segment</th>\n",
       "      <th>lifetime_segment</th>\n",
       "      <th>age_segment</th>\n",
       "      <th>nps_score</th>\n",
       "      <th>nps_group</th>\n",
       "    </tr>\n",
       "  </thead>\n",
       "  <tbody>\n",
       "    <tr>\n",
       "      <th>0</th>\n",
       "      <td>A001A2</td>\n",
       "      <td>2320</td>\n",
       "      <td>False</td>\n",
       "      <td>45.0</td>\n",
       "      <td>1.0</td>\n",
       "      <td>ANDROID</td>\n",
       "      <td>SMARTPHONE</td>\n",
       "      <td>Россия</td>\n",
       "      <td>Уфа</td>\n",
       "      <td>04 1-5</td>\n",
       "      <td>08 36+</td>\n",
       "      <td>05 45-54</td>\n",
       "      <td>10</td>\n",
       "      <td>Promoters</td>\n",
       "    </tr>\n",
       "    <tr>\n",
       "      <th>1</th>\n",
       "      <td>A001WF</td>\n",
       "      <td>2344</td>\n",
       "      <td>False</td>\n",
       "      <td>53.0</td>\n",
       "      <td>0.0</td>\n",
       "      <td>ANDROID</td>\n",
       "      <td>SMARTPHONE</td>\n",
       "      <td>Россия</td>\n",
       "      <td>Киров</td>\n",
       "      <td>04 1-5</td>\n",
       "      <td>08 36+</td>\n",
       "      <td>05 45-54</td>\n",
       "      <td>10</td>\n",
       "      <td>Promoters</td>\n",
       "    </tr>\n",
       "    <tr>\n",
       "      <th>2</th>\n",
       "      <td>A003Q7</td>\n",
       "      <td>467</td>\n",
       "      <td>False</td>\n",
       "      <td>57.0</td>\n",
       "      <td>0.0</td>\n",
       "      <td>ANDROID</td>\n",
       "      <td>SMARTPHONE</td>\n",
       "      <td>Россия</td>\n",
       "      <td>Москва</td>\n",
       "      <td>08 20-25</td>\n",
       "      <td>06 13-24</td>\n",
       "      <td>06 55-64</td>\n",
       "      <td>10</td>\n",
       "      <td>Promoters</td>\n",
       "    </tr>\n",
       "  </tbody>\n",
       "</table>\n",
       "</div>"
      ],
      "text/plain": [
       "  user_id  lt_day is_new   age  gender_segment  os_name cpe_type_name country  \\\n",
       "0  A001A2    2320  False  45.0             1.0  ANDROID    SMARTPHONE  Россия   \n",
       "1  A001WF    2344  False  53.0             0.0  ANDROID    SMARTPHONE  Россия   \n",
       "2  A003Q7     467  False  57.0             0.0  ANDROID    SMARTPHONE  Россия   \n",
       "\n",
       "     city traffic_segment lifetime_segment age_segment  nps_score  nps_group  \n",
       "0     Уфа          04 1-5           08 36+    05 45-54         10  Promoters  \n",
       "1   Киров          04 1-5           08 36+    05 45-54         10  Promoters  \n",
       "2  Москва        08 20-25         06 13-24    06 55-64         10  Promoters  "
      ]
     },
     "execution_count": 4,
     "metadata": {},
     "output_type": "execute_result"
    }
   ],
   "source": [
    "# создаём датафрейм по данным запроса\n",
    "df = pd.read_sql(query, engine)\n",
    "\n",
    "# проверим выгрузку\n",
    "df.head(3)"
   ]
  },
  {
   "cell_type": "markdown",
   "id": "fba77770",
   "metadata": {},
   "source": [
    "### Ссылки на дашборд и презентацию"
   ]
  },
  {
   "cell_type": "markdown",
   "id": "24791d30",
   "metadata": {},
   "source": [
    "Ссылка на дашборд - https://public.tableau.com/views/nps_project/1?:language=en-US&publish=yes&:display_count=n&:origin=viz_share_link\n",
    "\n",
    "Ссылка на презентацию - https://drive.google.com/file/d/1APB-suqL98g9wdb1FW5zhZVIx7LV8dw5/view?usp=sharing"
   ]
  }
 ],
 "metadata": {
  "ExecuteTimeLog": [
   {
    "duration": 527,
    "start_time": "2023-02-13T16:12:47.147Z"
   },
   {
    "duration": 59,
    "start_time": "2023-02-13T16:12:47.676Z"
   },
   {
    "duration": 3,
    "start_time": "2023-02-13T16:12:47.739Z"
   },
   {
    "duration": 5635,
    "start_time": "2023-02-13T16:12:47.744Z"
   },
   {
    "duration": 2,
    "start_time": "2023-02-13T16:12:53.382Z"
   }
  ],
  "kernelspec": {
   "display_name": "Python 3 (ipykernel)",
   "language": "python",
   "name": "python3"
  },
  "language_info": {
   "codemirror_mode": {
    "name": "ipython",
    "version": 3
   },
   "file_extension": ".py",
   "mimetype": "text/x-python",
   "name": "python",
   "nbconvert_exporter": "python",
   "pygments_lexer": "ipython3",
   "version": "3.9.12"
  },
  "toc": {
   "base_numbering": 1,
   "nav_menu": {},
   "number_sections": true,
   "sideBar": true,
   "skip_h1_title": true,
   "title_cell": "Table of Contents",
   "title_sidebar": "Contents",
   "toc_cell": false,
   "toc_position": {
    "height": "calc(100% - 180px)",
    "left": "10px",
    "top": "150px",
    "width": "523px"
   },
   "toc_section_display": true,
   "toc_window_display": false
  }
 },
 "nbformat": 4,
 "nbformat_minor": 5
}
