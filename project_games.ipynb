{
 "cells": [
  {
   "cell_type": "markdown",
   "metadata": {},
   "source": [
    "## Исследование интернет-магазина видеоигр"
   ]
  },
  {
   "cell_type": "markdown",
   "metadata": {},
   "source": [
    "### Постановка задачи"
   ]
  },
  {
   "cell_type": "markdown",
   "metadata": {},
   "source": [
    "Заказчик исследования — интернет-магазин, который продаёт по всему миру компьютерные игры.\n",
    "\n",
    "**Цель исследования** — определить закономерности, определяющие успешность игры, чтобы выявить выявить потенциально популярные продукты и составить план рекламных кампаний.\n"
   ]
  },
  {
   "cell_type": "markdown",
   "metadata": {},
   "source": [
    "### План исследования\n",
    "\n",
    "* Предобработка данных\n",
    "* Исследовательский анализ данных\n",
    "* Составление портрета пользователя\n",
    "* Статистическая проверка гипотез\n",
    "* Выводы и рекомендации"
   ]
  },
  {
   "cell_type": "markdown",
   "metadata": {},
   "source": [
    "### Импортирование библиотек"
   ]
  },
  {
   "cell_type": "code",
   "execution_count": 1,
   "metadata": {},
   "outputs": [],
   "source": [
    "# Импортирование библиотек\n",
    "import pandas as pd\n",
    "import matplotlib.pyplot as plt\n",
    "import seaborn as sns\n",
    "from scipy import stats as st\n",
    "import warnings\n",
    "\n",
    "# Игнорировать все предупреждения\n",
    "warnings.filterwarnings(\"ignore\")\n",
    "\n",
    "# Зададим стиль для всех графиков\n",
    "sns.set_style('darkgrid')"
   ]
  },
  {
   "cell_type": "markdown",
   "metadata": {},
   "source": [
    "### Загрузка данных"
   ]
  },
  {
   "cell_type": "code",
   "execution_count": 2,
   "metadata": {},
   "outputs": [],
   "source": [
    "# Прочитаем файл и сохраним его в переменную raw_data\n",
    "data = pd.read_csv('/Users/aaleksakhin/Library/CloudStorage/GoogleDrive-aaalexahin@gmail.com/My Drive/Data/Datasets/project_games/games.csv')"
   ]
  },
  {
   "cell_type": "code",
   "execution_count": 3,
   "metadata": {},
   "outputs": [
    {
     "data": {
      "text/html": [
       "<div>\n",
       "<style scoped>\n",
       "    .dataframe tbody tr th:only-of-type {\n",
       "        vertical-align: middle;\n",
       "    }\n",
       "\n",
       "    .dataframe tbody tr th {\n",
       "        vertical-align: top;\n",
       "    }\n",
       "\n",
       "    .dataframe thead th {\n",
       "        text-align: right;\n",
       "    }\n",
       "</style>\n",
       "<table border=\"1\" class=\"dataframe\">\n",
       "  <thead>\n",
       "    <tr style=\"text-align: right;\">\n",
       "      <th></th>\n",
       "      <th>Name</th>\n",
       "      <th>Platform</th>\n",
       "      <th>Year_of_Release</th>\n",
       "      <th>Genre</th>\n",
       "      <th>NA_sales</th>\n",
       "      <th>EU_sales</th>\n",
       "      <th>JP_sales</th>\n",
       "      <th>Other_sales</th>\n",
       "      <th>Critic_Score</th>\n",
       "      <th>User_Score</th>\n",
       "      <th>Rating</th>\n",
       "    </tr>\n",
       "  </thead>\n",
       "  <tbody>\n",
       "    <tr>\n",
       "      <th>0</th>\n",
       "      <td>Wii Sports</td>\n",
       "      <td>Wii</td>\n",
       "      <td>2006.0</td>\n",
       "      <td>Sports</td>\n",
       "      <td>41.36</td>\n",
       "      <td>28.96</td>\n",
       "      <td>3.77</td>\n",
       "      <td>8.45</td>\n",
       "      <td>76.0</td>\n",
       "      <td>8</td>\n",
       "      <td>E</td>\n",
       "    </tr>\n",
       "    <tr>\n",
       "      <th>1</th>\n",
       "      <td>Super Mario Bros.</td>\n",
       "      <td>NES</td>\n",
       "      <td>1985.0</td>\n",
       "      <td>Platform</td>\n",
       "      <td>29.08</td>\n",
       "      <td>3.58</td>\n",
       "      <td>6.81</td>\n",
       "      <td>0.77</td>\n",
       "      <td>NaN</td>\n",
       "      <td>NaN</td>\n",
       "      <td>NaN</td>\n",
       "    </tr>\n",
       "    <tr>\n",
       "      <th>2</th>\n",
       "      <td>Mario Kart Wii</td>\n",
       "      <td>Wii</td>\n",
       "      <td>2008.0</td>\n",
       "      <td>Racing</td>\n",
       "      <td>15.68</td>\n",
       "      <td>12.76</td>\n",
       "      <td>3.79</td>\n",
       "      <td>3.29</td>\n",
       "      <td>82.0</td>\n",
       "      <td>8.3</td>\n",
       "      <td>E</td>\n",
       "    </tr>\n",
       "    <tr>\n",
       "      <th>3</th>\n",
       "      <td>Wii Sports Resort</td>\n",
       "      <td>Wii</td>\n",
       "      <td>2009.0</td>\n",
       "      <td>Sports</td>\n",
       "      <td>15.61</td>\n",
       "      <td>10.93</td>\n",
       "      <td>3.28</td>\n",
       "      <td>2.95</td>\n",
       "      <td>80.0</td>\n",
       "      <td>8</td>\n",
       "      <td>E</td>\n",
       "    </tr>\n",
       "    <tr>\n",
       "      <th>4</th>\n",
       "      <td>Pokemon Red/Pokemon Blue</td>\n",
       "      <td>GB</td>\n",
       "      <td>1996.0</td>\n",
       "      <td>Role-Playing</td>\n",
       "      <td>11.27</td>\n",
       "      <td>8.89</td>\n",
       "      <td>10.22</td>\n",
       "      <td>1.00</td>\n",
       "      <td>NaN</td>\n",
       "      <td>NaN</td>\n",
       "      <td>NaN</td>\n",
       "    </tr>\n",
       "  </tbody>\n",
       "</table>\n",
       "</div>"
      ],
      "text/plain": [
       "                       Name Platform  Year_of_Release         Genre  NA_sales  \\\n",
       "0                Wii Sports      Wii           2006.0        Sports     41.36   \n",
       "1         Super Mario Bros.      NES           1985.0      Platform     29.08   \n",
       "2            Mario Kart Wii      Wii           2008.0        Racing     15.68   \n",
       "3         Wii Sports Resort      Wii           2009.0        Sports     15.61   \n",
       "4  Pokemon Red/Pokemon Blue       GB           1996.0  Role-Playing     11.27   \n",
       "\n",
       "   EU_sales  JP_sales  Other_sales  Critic_Score User_Score Rating  \n",
       "0     28.96      3.77         8.45          76.0          8      E  \n",
       "1      3.58      6.81         0.77           NaN        NaN    NaN  \n",
       "2     12.76      3.79         3.29          82.0        8.3      E  \n",
       "3     10.93      3.28         2.95          80.0          8      E  \n",
       "4      8.89     10.22         1.00           NaN        NaN    NaN  "
      ]
     },
     "execution_count": 3,
     "metadata": {},
     "output_type": "execute_result"
    }
   ],
   "source": [
    "# Выведение первых строк методом .head()\n",
    "data.head()"
   ]
  },
  {
   "cell_type": "markdown",
   "metadata": {},
   "source": [
    "Датасет состоит из девяти столбцов с данными о выпуске игр."
   ]
  },
  {
   "cell_type": "markdown",
   "metadata": {},
   "source": [
    "### Предобработка данных"
   ]
  },
  {
   "cell_type": "markdown",
   "metadata": {},
   "source": [
    "Выведем основную информацию о датафрейме."
   ]
  },
  {
   "cell_type": "code",
   "execution_count": 4,
   "metadata": {},
   "outputs": [
    {
     "name": "stdout",
     "output_type": "stream",
     "text": [
      "<class 'pandas.core.frame.DataFrame'>\n",
      "RangeIndex: 16715 entries, 0 to 16714\n",
      "Data columns (total 11 columns):\n",
      " #   Column           Non-Null Count  Dtype  \n",
      "---  ------           --------------  -----  \n",
      " 0   Name             16713 non-null  object \n",
      " 1   Platform         16715 non-null  object \n",
      " 2   Year_of_Release  16446 non-null  float64\n",
      " 3   Genre            16713 non-null  object \n",
      " 4   NA_sales         16715 non-null  float64\n",
      " 5   EU_sales         16715 non-null  float64\n",
      " 6   JP_sales         16715 non-null  float64\n",
      " 7   Other_sales      16715 non-null  float64\n",
      " 8   Critic_Score     8137 non-null   float64\n",
      " 9   User_Score       10014 non-null  object \n",
      " 10  Rating           9949 non-null   object \n",
      "dtypes: float64(6), object(5)\n",
      "memory usage: 1.4+ MB\n"
     ]
    }
   ],
   "source": [
    "# Вывод основной информации методом .info()\n",
    "data.info()"
   ]
  },
  {
   "cell_type": "markdown",
   "metadata": {},
   "source": [
    "В рамках предобработки данных необходимо сделать следующее:\n",
    "\n",
    "* привести названия всех столбцов к нижнему регистру;\n",
    "* обработать пропущенные значения;\n",
    "* проверить датасет на наличие дубликатов;\n",
    "* при необходимости изменить типы данных."
   ]
  },
  {
   "cell_type": "markdown",
   "metadata": {},
   "source": [
    "Начнем с приведения заголовков столбцов к нижнему регистру."
   ]
  },
  {
   "cell_type": "code",
   "execution_count": 5,
   "metadata": {},
   "outputs": [],
   "source": [
    "# Приведение названий столбцов к нижнему регистру\n",
    "data.columns = data.columns.str.lower()"
   ]
  },
  {
   "cell_type": "markdown",
   "metadata": {},
   "source": [
    "Теперь проверим датасет на наличие пропущенных значений."
   ]
  },
  {
   "cell_type": "code",
   "execution_count": 6,
   "metadata": {},
   "outputs": [
    {
     "data": {
      "text/plain": [
       "name                  2\n",
       "platform              0\n",
       "year_of_release     269\n",
       "genre                 2\n",
       "na_sales              0\n",
       "eu_sales              0\n",
       "jp_sales              0\n",
       "other_sales           0\n",
       "critic_score       8578\n",
       "user_score         6701\n",
       "rating             6766\n",
       "dtype: int64"
      ]
     },
     "execution_count": 6,
     "metadata": {},
     "output_type": "execute_result"
    }
   ],
   "source": [
    "# Выведем количество пропущенных значений для каждого столбца\n",
    "data.isna().sum()"
   ]
  },
  {
   "cell_type": "markdown",
   "metadata": {},
   "source": [
    "* В столбцах `name` и `genre` всего два пропущенных значения, которые могут быть объяснены человеческим фактором и ошибками при сборе данных. Эти строки можно убрать — их удаление существенно не изменит исходный датасет.\n",
    "* В столбце `year_of_release` пропусков больше — 269. Заменить их нечем, а оперативно восстановить год выпуска каждой игры не представляется возможным. В данном случае строки с пропусками также можно удалить. Итого, количество удаленных строк будет равно 271, это  менее 2% от всего датафрейма, что допустимо.\n",
    "* В столбцах с оценками критиков и пользователей очень много пропусков — убрать их нельзя, так как удаление пустых строк сильно исказит изначальный датасте. Оставим такие строки без изменений.\n",
    "* В столбце с возрастным рейтингом также много пропусков. Это может объясняться тем, что ESRB, присваивающая играм рейтинг, является американо-канадской ассоциацией. Вероятно, игры, произведенные в других странах, не попадают под требование оценки со стороны ESRB — у таких игр может быть своя система оценок. Оставим эти пропуски без изменений.\n",
    "\n",
    "Удалим строки с пропущенными значениями в столбцах `name`, `genre` и `year_of_release`.\n"
   ]
  },
  {
   "cell_type": "code",
   "execution_count": 7,
   "metadata": {},
   "outputs": [],
   "source": [
    "# Удалим строки с пропущенными значениями в столбцах `name`, `genre` и `year_of_release`.\n",
    "data.dropna(subset=['name', 'genre', 'year_of_release'], inplace=True)"
   ]
  },
  {
   "cell_type": "markdown",
   "metadata": {},
   "source": [
    "В столбце  `user_score`, помимо пустых значений, есть значения `tbd`. `TBD` — это аббревиатура, которая расшифровывается, как `To Be Determined` — такое значение может быть, если игра не набрала достаточного для репрезентативности количества оценок. Не будет ошибкой приравнять значения `tbd` к  `NaN`, так как оба значения имеют одинаковый смысл — оценка неизвестна.\n",
    "\n",
    "Переведем все значения в столбце `user_score` из типа `object` в тип `float` и заменим `tbd` на `NaN` ."
   ]
  },
  {
   "cell_type": "code",
   "execution_count": 8,
   "metadata": {},
   "outputs": [],
   "source": [
    "# Заменим тип данных, команда errors='coerce' автоматически заменит 'tbd' на 'NaN'\n",
    "data['user_score'] = pd.to_numeric(data['user_score'], errors='coerce')"
   ]
  },
  {
   "cell_type": "markdown",
   "metadata": {},
   "source": [
    "Дополнительно переведем столбец `year_of_release` из типа `float` в тип  `int`, так как номер года всегда выражается целым числом."
   ]
  },
  {
   "cell_type": "code",
   "execution_count": 9,
   "metadata": {},
   "outputs": [],
   "source": [
    "# Заменим типы данных на int\n",
    "data['year_of_release'] = data['year_of_release'].astype('int')"
   ]
  },
  {
   "cell_type": "markdown",
   "metadata": {},
   "source": [
    "Проверим датасет на наличие полных дубликатов."
   ]
  },
  {
   "cell_type": "code",
   "execution_count": 10,
   "metadata": {},
   "outputs": [
    {
     "data": {
      "text/plain": [
       "0"
      ]
     },
     "execution_count": 10,
     "metadata": {},
     "output_type": "execute_result"
    }
   ],
   "source": [
    "# Проверка дубликатов\n",
    "data.duplicated().sum()"
   ]
  },
  {
   "cell_type": "markdown",
   "metadata": {},
   "source": [
    "Полные дубликаты отсутствуют, теперь проверим дубликаты по названию игры, платформе и году выпуска. "
   ]
  },
  {
   "cell_type": "code",
   "execution_count": 11,
   "metadata": {},
   "outputs": [
    {
     "data": {
      "text/plain": [
       "1"
      ]
     },
     "execution_count": 11,
     "metadata": {},
     "output_type": "execute_result"
    }
   ],
   "source": [
    "data.duplicated(subset=['name', 'platform', 'year_of_release']).sum()"
   ]
  },
  {
   "cell_type": "markdown",
   "metadata": {},
   "source": [
    "Дубликаты в названии игр и платформ могут встречаться, так как игры часто выходят на нескольких платформатах, но дубликаты по всем трем параметрам явно лишние, их нужно удалить."
   ]
  },
  {
   "cell_type": "code",
   "execution_count": 12,
   "metadata": {},
   "outputs": [],
   "source": [
    "# Удаление дубликатов\n",
    "data.drop_duplicates(subset=['name', 'platform', 'year_of_release'], inplace=True)"
   ]
  },
  {
   "cell_type": "markdown",
   "metadata": {},
   "source": [
    "Проверим результат предобработки"
   ]
  },
  {
   "cell_type": "code",
   "execution_count": 13,
   "metadata": {},
   "outputs": [
    {
     "name": "stdout",
     "output_type": "stream",
     "text": [
      "<class 'pandas.core.frame.DataFrame'>\n",
      "Int64Index: 16443 entries, 0 to 16714\n",
      "Data columns (total 11 columns):\n",
      " #   Column           Non-Null Count  Dtype  \n",
      "---  ------           --------------  -----  \n",
      " 0   name             16443 non-null  object \n",
      " 1   platform         16443 non-null  object \n",
      " 2   year_of_release  16443 non-null  int64  \n",
      " 3   genre            16443 non-null  object \n",
      " 4   na_sales         16443 non-null  float64\n",
      " 5   eu_sales         16443 non-null  float64\n",
      " 6   jp_sales         16443 non-null  float64\n",
      " 7   other_sales      16443 non-null  float64\n",
      " 8   critic_score     7982 non-null   float64\n",
      " 9   user_score       7462 non-null   float64\n",
      " 10  rating           9767 non-null   object \n",
      "dtypes: float64(6), int64(1), object(4)\n",
      "memory usage: 1.5+ MB\n"
     ]
    }
   ],
   "source": [
    "data.info()"
   ]
  },
  {
   "cell_type": "markdown",
   "metadata": {},
   "source": [
    "Все пункты предобработки выполнены — названия столбцов приведены к нижнему регистру, типы данных изменены, пропуски обработаны. Проверим, насколько сильно уменьшился полученный датафрейм по сравнению с исходным — разделим длину текущего датафрейму на длину исходного датафрейма."
   ]
  },
  {
   "cell_type": "code",
   "execution_count": 14,
   "metadata": {},
   "outputs": [
    {
     "data": {
      "text/plain": [
       "1.6272808854322474"
      ]
     },
     "execution_count": 14,
     "metadata": {},
     "output_type": "execute_result"
    }
   ],
   "source": [
    "(1 - (len(data)/16715))*100"
   ]
  },
  {
   "cell_type": "markdown",
   "metadata": {},
   "source": [
    "Датафрейм уменьшился на `1.6%` — это в рамках допустимого предела в `5%`.\n",
    "\n",
    "Для последующего анализа данных посчитаем суммарные продажи по всем регионам и добавим полученные значения в новый столбец."
   ]
  },
  {
   "cell_type": "code",
   "execution_count": 15,
   "metadata": {},
   "outputs": [],
   "source": [
    "# Добавление нового столбца\n",
    "data['total_sales'] = data[['na_sales', 'eu_sales', 'jp_sales', 'other_sales']].sum(axis=1)"
   ]
  },
  {
   "cell_type": "markdown",
   "metadata": {},
   "source": [
    "### Исследовательский анализ данных"
   ]
  },
  {
   "cell_type": "markdown",
   "metadata": {},
   "source": [
    "Проведем исследовательский анализ данных. Для начала посмотрим на количество выпущенных игр по годам — построим столбчатую диаграмму."
   ]
  },
  {
   "cell_type": "code",
   "execution_count": 16,
   "metadata": {},
   "outputs": [
    {
     "data": {
      "image/png": "[encoded data removed]",
      "text/plain": [
       "<Figure size 1008x360 with 1 Axes>"
      ]
     },
     "metadata": {
      "needs_background": "light"
     },
     "output_type": "display_data"
    }
   ],
   "source": [
    "# Зададим размер графика\n",
    "plt.figure(figsize=(14,5))\n",
    "\n",
    "# Построение диаграммы\n",
    "data.groupby('year_of_release')['name'].count().plot(kind='bar')\n",
    "plt.title('Количество выпущенных игр по годам')\n",
    "plt.xlabel('')\n",
    "\n",
    "# Выведение графика\n",
    "plt.show()"
   ]
  },
  {
   "cell_type": "markdown",
   "metadata": {},
   "source": [
    "Больше всего игр было выпущено в 2008 и 2009 годах — более 1,4 тысячи. Заметный рост индустрии видеоигр начался с начала 1990-х годов. Количество игр в 2016 году меньше, чем годом ранее, так как данные за 2016 год не полные. "
   ]
  },
  {
   "cell_type": "markdown",
   "metadata": {},
   "source": [
    "Посмотрим динамику продаж по наиболее популярным платформам за всем время — выберем топ-10 платформ с наибольшим количеством продаж."
   ]
  },
  {
   "cell_type": "code",
   "execution_count": 17,
   "metadata": {},
   "outputs": [
    {
     "data": {
      "image/png": "[encoded data removed]",
      "text/plain": [
       "<Figure size 1008x360 with 1 Axes>"
      ]
     },
     "metadata": {
      "needs_background": "light"
     },
     "output_type": "display_data"
    }
   ],
   "source": [
    "# Заздадим количество анализируемых платформ\n",
    "number_of_platforms = 10\n",
    "\n",
    "# Сгруппируем таблицу по платформам и сократим полученный датасет до количества платфорт \n",
    "# в предыдущей переменной\n",
    "top_platforms_by_sales = (data.groupby('platform')['total_sales']\n",
    "                                .sum()\n",
    "                                .reset_index()\n",
    "                                .sort_values(by='total_sales', ascending = False)\n",
    "                                .head(number_of_platforms))\n",
    "\n",
    "# Построим сводную таблицу продаж по годам для топ-10 платформ\n",
    "pivot_sales = (data.loc[(data['platform'].isin(top_platforms_by_sales['platform']))\n",
    "                        & (data['year_of_release'] >= 1994)]    \\\n",
    "                  .pivot_table(index='year_of_release',\n",
    "                               columns = 'platform', aggfunc='sum', values='total_sales'))\n",
    "\n",
    "# Построение графика\n",
    "pivot_sales.plot(kind='line', marker='o', linestyle='-', grid=True, figsize=(14,5))\n",
    "plt.xlabel('')\n",
    "plt.ylabel('Продажи')\n",
    "plt.title('Динамика продаж по платформам')\n",
    "plt.legend(title='Платформа', bbox_to_anchor=(1, 1)) \n",
    "plt.show()"
   ]
  },
  {
   "cell_type": "markdown",
   "metadata": {},
   "source": [
    "Характерно, что срок жизни платформы в среднем составляет от 7 до 10 лет.\n",
    "\n",
    "Зададим временные границы дальнейшего анализа — возьмем наиболее акутальные данные за период с 2013 по 2016 годы."
   ]
  },
  {
   "cell_type": "code",
   "execution_count": 18,
   "metadata": {},
   "outputs": [],
   "source": [
    "# Зададим границы анализируемого периода\n",
    "actual_period_min = 2013\n",
    "actual_period_max = 2016\n",
    "\n",
    "# Сохраним данные за анализируемый период в отдельную переменную\n",
    "actual_data = (data.loc[(data['year_of_release'] >= actual_period_min) &\n",
    "                        (data['year_of_release'] <= actual_period_max)])"
   ]
  },
  {
   "cell_type": "markdown",
   "metadata": {},
   "source": [
    "Построим график динамики продаж по платформам для актуального периода и определим потенциально наиболее прибыльные платформы "
   ]
  },
  {
   "cell_type": "code",
   "execution_count": 19,
   "metadata": {},
   "outputs": [
    {
     "data": {
      "image/png": "[encoded data removed]",
      "text/plain": [
       "<Figure size 1008x360 with 1 Axes>"
      ]
     },
     "metadata": {
      "needs_background": "light"
     },
     "output_type": "display_data"
    }
   ],
   "source": [
    "# Создадим сводную таблицу по годам\n",
    "pivot_actual_data = actual_data.pivot_table(index='year_of_release',\n",
    "                                            columns = 'platform',\n",
    "                                            aggfunc='sum',\n",
    "                                            values='total_sales')\n",
    "                    \n",
    "# Сохраним индексы сводной таблицы в формате int для корректного отображения графика\n",
    "pivot_actual_data.index = pivot_actual_data.index.astype(int)\n",
    "\n",
    "# Созжание графика\n",
    "ax = pivot_actual_data.plot(kind='line', marker='o', linestyle='-', grid=True, figsize=(14,5))\n",
    "plt.xlabel('')\n",
    "plt.ylabel('Продажи, млн. копий')\n",
    "plt.title('Динамика продаж по платформам')\n",
    "plt.legend(title='Платформа', bbox_to_anchor=(1, 1))\n",
    "ax.xaxis.set_major_locator(plt.MaxNLocator(integer=True))\n",
    "\n",
    "plt.show()\n"
   ]
  },
  {
   "cell_type": "markdown",
   "metadata": {},
   "source": [
    "C 2014 по 2015 годы рост продаж наблюдается у двух платформ — PS4 и XOne, эти плаформы можно считать наиболее перспективными. По графику в 2016 году на всех платформах наблюдается снижение, которое связано с неполнотой данных. Данные были предоставлены в декабре 2016 года — в них точно не были учтены продажи во время новогодних и рождественских праздников, которые потенциально занимают большую долю от годовых продаж."
   ]
  },
  {
   "cell_type": "markdown",
   "metadata": {},
   "source": [
    "Посмотроим на распределние продаж в каждой платформе — построим боксплоты."
   ]
  },
  {
   "cell_type": "code",
   "execution_count": 20,
   "metadata": {},
   "outputs": [
    {
     "data": {
      "image/png": "[encoded data removed]",
      "text/plain": [
       "<Figure size 1008x360 with 1 Axes>"
      ]
     },
     "metadata": {
      "needs_background": "light"
     },
     "output_type": "display_data"
    }
   ],
   "source": [
    "# Группировка данных по платформам, расчет медианного значения продаж для каждой платформы\n",
    "median_sales_by_platform = (actual_data.groupby('platform')['total_sales']\n",
    "                                       .median()\n",
    "                                       .sort_values(ascending=False)\n",
    "                                       .head())\n",
    "\n",
    "# Получим название платформ в порядке убывания медианных продаж \n",
    "sorted_platforms = median_sales_by_platform.sort_values(ascending=False).index\n",
    "\n",
    "# Построение графика\n",
    "plt.figure(figsize=(14, 5))\n",
    "plt.ylim(0,2)\n",
    "sns.boxplot(x='platform', y='total_sales', data=actual_data, order=sorted_platforms)\n",
    "plt.xlabel('Платформа')  \n",
    "plt.ylabel('Продажи, млн. копий') \n",
    "plt.show()"
   ]
  },
  {
   "cell_type": "markdown",
   "metadata": {},
   "source": [
    "Наибольшее медианное количество проданных копий было выпущено на платформах X360, XOne, PS4, WiiU и Wii — около 0.25 млн копий."
   ]
  },
  {
   "cell_type": "markdown",
   "metadata": {},
   "source": [
    "Посмотрим, как внутри одной платформы отзывы критиков и пользователей влияют на продажи. Постройте диаграмму рассеяния для PS4 и XOne и посчитаем корреляцию между отзывами и продажами.\n"
   ]
  },
  {
   "cell_type": "code",
   "execution_count": 21,
   "metadata": {
    "scrolled": false
   },
   "outputs": [
    {
     "data": {
      "text/plain": [
       "('Платформа PS4: корреляция между продажами и показателем user_score:',\n",
       " -0.03195711020455645)"
      ]
     },
     "metadata": {},
     "output_type": "display_data"
    },
    {
     "data": {
      "image/png": "[encoded data removed]",
      "text/plain": [
       "<Figure size 1008x360 with 1 Axes>"
      ]
     },
     "metadata": {
      "needs_background": "light"
     },
     "output_type": "display_data"
    },
    {
     "data": {
      "text/plain": [
       "('Платформа PS4: корреляция между продажами и показателем critic_score:',\n",
       " 0.40656790206178145)"
      ]
     },
     "metadata": {},
     "output_type": "display_data"
    },
    {
     "data": {
      "image/png": "[encoded data removed]",
      "text/plain": [
       "<Figure size 1008x360 with 1 Axes>"
      ]
     },
     "metadata": {
      "needs_background": "light"
     },
     "output_type": "display_data"
    },
    {
     "data": {
      "text/plain": [
       "('Платформа XOne: корреляция между продажами и показателем user_score:',\n",
       " -0.0689250532827942)"
      ]
     },
     "metadata": {},
     "output_type": "display_data"
    },
    {
     "data": {
      "image/png": "[encoded data removed]",
      "text/plain": [
       "<Figure size 1008x360 with 1 Axes>"
      ]
     },
     "metadata": {
      "needs_background": "light"
     },
     "output_type": "display_data"
    },
    {
     "data": {
      "text/plain": [
       "('Платформа XOne: корреляция между продажами и показателем critic_score:',\n",
       " 0.4169983280084016)"
      ]
     },
     "metadata": {},
     "output_type": "display_data"
    },
    {
     "data": {
      "image/png": "[encoded data removed]",
      "text/plain": [
       "<Figure size 1008x360 with 1 Axes>"
      ]
     },
     "metadata": {
      "needs_background": "light"
     },
     "output_type": "display_data"
    }
   ],
   "source": [
    "# Зададим списки для цикла\n",
    "scores = ['user_score', 'critic_score']\n",
    "platforms = ['PS4', 'XOne']\n",
    "\n",
    "# Зададим цикл\n",
    "for p in platforms:\n",
    "    platform_actual_data = actual_data.loc[actual_data['platform'] == p]\n",
    "    for s in scores:\n",
    "        # Выведем корреляцию\n",
    "        display ((f'Платформа {p}: корреляция между продажами и показателем {s}:'\n",
    "                  ,platform_actual_data['total_sales'].corr(platform_actual_data[s])))\n",
    "        # Построение графика\n",
    "        plt.figure(figsize=(14, 5))\n",
    "        sns.scatterplot(x=platform_actual_data['total_sales'],\n",
    "                        y=platform_actual_data[s],\n",
    "                        data=platform_actual_data,\n",
    "                        alpha=0.5)\n",
    "        plt.title(f'Платформа {p} — диаграммма рассеяния для продаж и {s}')\n",
    "        plt.xlabel('Продажи, млн. копий')\n",
    "        plt.ylabel('Оценка пользователя')\n",
    "        plt.grid(True)\n",
    "        plt.show()"
   ]
  },
  {
   "cell_type": "markdown",
   "metadata": {},
   "source": [
    "Корреляция между оценкой пользователя и количеством проданных копий очень низкая — можно сказать, что оценка пользователей не влияет на продажи видеоигр. Корреляция между оценкой критиков и продажами уже больше — в районе 0,4 — мнение критиков на продажи влияют больше. По всей видимости, большая часть пользователей покупают игры в рамках предзаказа, не дожидаясь появление пользовательских оценок."
   ]
  },
  {
   "cell_type": "markdown",
   "metadata": {},
   "source": [
    "Посмотрим на общее распределение игр по жанрам и изучим самые прибыльные из них по показателю медианных продаж.\n"
   ]
  },
  {
   "cell_type": "code",
   "execution_count": 22,
   "metadata": {},
   "outputs": [
    {
     "data": {
      "image/png": "[encoded data removed]",
      "text/plain": [
       "<Figure size 1008x432 with 2 Axes>"
      ]
     },
     "metadata": {
      "needs_background": "light"
     },
     "output_type": "display_data"
    }
   ],
   "source": [
    "# Построим сводную таблицу по жанрам\n",
    "# в значениях укажем два столбца — с количеством игр и медианой проданных копий\n",
    "pivot_act_data = actual_data.pivot_table(index='genre',\n",
    "                                         values='total_sales',\n",
    "                                         aggfunc=['count', 'median'])\n",
    "\n",
    "pivot_act_data.columns = ['games_count', 'total_sales']\n",
    "pivot_act_data = pivot_act_data.reset_index().sort_values(by='games_count', ascending=False)\n",
    "\n",
    "fig, ax1 = plt.subplots(figsize=(14, 6))\n",
    "\n",
    "# Для количества игр построим столбчатую диаграмму\n",
    "ax1.bar(pivot_act_data['genre'],\n",
    "        pivot_act_data['games_count'],\n",
    "        color='#00b7c7',\n",
    "        label='Количество игр')\n",
    "\n",
    "ax1.set_xlabel('Жанр')\n",
    "ax1.set_ylabel('Количество игр', color='black')\n",
    "ax1.tick_params(axis='y', labelcolor='black')\n",
    "\n",
    "# Создадим вторую ось для количества проданных копий\n",
    "ax2 = ax1.twinx()\n",
    "\n",
    "# Построим линейный график для продаж\n",
    "ax2.plot(pivot_act_data['genre'],\n",
    "         pivot_act_data['total_sales'],\n",
    "         marker='o',\n",
    "         color='#7c1158',\n",
    "         label='Продажи, млн. копий')\n",
    "\n",
    "ax2.set_ylabel('Продажи, млн. копий', color='black')\n",
    "ax2.tick_params(axis='y', labelcolor='black')\n",
    "\n",
    "fig.suptitle('Количество игр и продажи по жанрам ')\n",
    "fig.tight_layout()\n",
    "fig.legend(loc='upper right')\n",
    "\n",
    "plt.xticks(rotation=45)\n",
    "plt.grid(True)\n",
    "plt.show()\n"
   ]
  },
  {
   "cell_type": "markdown",
   "metadata": {},
   "source": [
    "Наиболее распространенные жанры среди игр: Action, Role-Playing, Adventure и Sports, самые непопулярные игры — в жанре Puzzle и Strategy. По продажам распределение выглядит  иначе, самый продаваемый (с большим отрывом от остальных) жанр — Shooter, на втором месте жанр Platform."
   ]
  },
  {
   "cell_type": "markdown",
   "metadata": {},
   "source": [
    "### Составление портрета пользователя"
   ]
  },
  {
   "cell_type": "markdown",
   "metadata": {},
   "source": [
    "Изучим топ-5 платформ и жанров по количеству проданных копий отдельно для каждого региона, напишем для этого функцию."
   ]
  },
  {
   "cell_type": "code",
   "execution_count": 23,
   "metadata": {},
   "outputs": [],
   "source": [
    "# В функции будет три переменные:датасет, названия категории (платформа или жанр)\n",
    "# и количество категорий для анализа (по умолчанию 5)\n",
    "def regions_top_by_categories(df, category, num_of_categories=5):\n",
    "    \n",
    "    # Сделаем списки для цикла\n",
    "    region_sales = ['na_sales', 'eu_sales', 'jp_sales']\n",
    "    region_names = ['Северной Америке', 'Европе', 'Японии']\n",
    "    \n",
    "    # Создание сводной таблицы по категории\n",
    "    category_pivot = df.pivot_table(index=category,\n",
    "                                    aggfunc='sum',\n",
    "                                    values=region_sales).reset_index()\n",
    "\n",
    "    # Объявление цикла\n",
    "    for s, n in zip(region_sales, region_names):\n",
    "        # Расчет доли продаж для определенного региона\n",
    "        category_pivot['region_share'] = category_pivot[s] / sum(category_pivot[s])\n",
    "        # Создание топа категорий по продажам\n",
    "        top = (category_pivot[[category, 'region_share']]\n",
    "               .sort_values(by='region_share',ascending=False).head(num_of_categories))\n",
    "        # Сохранение топовых категорий в отдельную переменную\n",
    "        top_categories = top[category].values\n",
    "        # Отнесем все категории, не попавшие в топ, в категорию \"Другое\" — \n",
    "        # создадим для этого столбец 'category_group'\n",
    "        category_pivot['category_group'] = (category_pivot[category].apply\n",
    "                                            (lambda x: x if x in top_categories else 'Другое'))\n",
    "        # Группировка по новому столбцу\n",
    "        top_grouped = category_pivot.groupby('category_group')['region_share'].sum().reset_index()\n",
    "        \n",
    "        # Построение круговой диаграммы\n",
    "        plt.figure(figsize=(7, 7))\n",
    "        plt.title(f'Топ-{num_of_categories} категорий \"{category}\" по продажам в {n}')\n",
    "        plt.pie(top_grouped['region_share'],\n",
    "                labels=top_grouped['category_group'],\n",
    "                autopct='%1.1f%%',\n",
    "                startangle=140)\n",
    "        \n",
    "        plt.show()\n",
    "        \n",
    "        # Выведение таблицы\n",
    "        display(category_pivot[[category, s]].sort_values(by=s, ascending=False).head())"
   ]
  },
  {
   "cell_type": "markdown",
   "metadata": {},
   "source": [
    "Проверим, как работает функция — посмотрим на топ-5 платформ по количеству проданных копий в каждом регионе."
   ]
  },
  {
   "cell_type": "code",
   "execution_count": 24,
   "metadata": {
    "scrolled": false
   },
   "outputs": [
    {
     "data": {
      "image/png": "[encoded data removed]",
      "text/plain": [
       "<Figure size 504x504 with 1 Axes>"
      ]
     },
     "metadata": {},
     "output_type": "display_data"
    },
    {
     "data": {
      "text/html": [
       "<div>\n",
       "<style scoped>\n",
       "    .dataframe tbody tr th:only-of-type {\n",
       "        vertical-align: middle;\n",
       "    }\n",
       "\n",
       "    .dataframe tbody tr th {\n",
       "        vertical-align: top;\n",
       "    }\n",
       "\n",
       "    .dataframe thead th {\n",
       "        text-align: right;\n",
       "    }\n",
       "</style>\n",
       "<table border=\"1\" class=\"dataframe\">\n",
       "  <thead>\n",
       "    <tr style=\"text-align: right;\">\n",
       "      <th></th>\n",
       "      <th>platform</th>\n",
       "      <th>na_sales</th>\n",
       "    </tr>\n",
       "  </thead>\n",
       "  <tbody>\n",
       "    <tr>\n",
       "      <th>4</th>\n",
       "      <td>PS4</td>\n",
       "      <td>108.74</td>\n",
       "    </tr>\n",
       "    <tr>\n",
       "      <th>10</th>\n",
       "      <td>XOne</td>\n",
       "      <td>93.12</td>\n",
       "    </tr>\n",
       "    <tr>\n",
       "      <th>9</th>\n",
       "      <td>X360</td>\n",
       "      <td>81.66</td>\n",
       "    </tr>\n",
       "    <tr>\n",
       "      <th>3</th>\n",
       "      <td>PS3</td>\n",
       "      <td>63.50</td>\n",
       "    </tr>\n",
       "    <tr>\n",
       "      <th>0</th>\n",
       "      <td>3DS</td>\n",
       "      <td>38.20</td>\n",
       "    </tr>\n",
       "  </tbody>\n",
       "</table>\n",
       "</div>"
      ],
      "text/plain": [
       "   platform  na_sales\n",
       "4       PS4    108.74\n",
       "10     XOne     93.12\n",
       "9      X360     81.66\n",
       "3       PS3     63.50\n",
       "0       3DS     38.20"
      ]
     },
     "metadata": {},
     "output_type": "display_data"
    },
    {
     "data": {
      "image/png": "[encoded data removed]",
      "text/plain": [
       "<Figure size 504x504 with 1 Axes>"
      ]
     },
     "metadata": {},
     "output_type": "display_data"
    },
    {
     "data": {
      "text/html": [
       "<div>\n",
       "<style scoped>\n",
       "    .dataframe tbody tr th:only-of-type {\n",
       "        vertical-align: middle;\n",
       "    }\n",
       "\n",
       "    .dataframe tbody tr th {\n",
       "        vertical-align: top;\n",
       "    }\n",
       "\n",
       "    .dataframe thead th {\n",
       "        text-align: right;\n",
       "    }\n",
       "</style>\n",
       "<table border=\"1\" class=\"dataframe\">\n",
       "  <thead>\n",
       "    <tr style=\"text-align: right;\">\n",
       "      <th></th>\n",
       "      <th>platform</th>\n",
       "      <th>eu_sales</th>\n",
       "    </tr>\n",
       "  </thead>\n",
       "  <tbody>\n",
       "    <tr>\n",
       "      <th>4</th>\n",
       "      <td>PS4</td>\n",
       "      <td>141.09</td>\n",
       "    </tr>\n",
       "    <tr>\n",
       "      <th>3</th>\n",
       "      <td>PS3</td>\n",
       "      <td>67.81</td>\n",
       "    </tr>\n",
       "    <tr>\n",
       "      <th>10</th>\n",
       "      <td>XOne</td>\n",
       "      <td>51.59</td>\n",
       "    </tr>\n",
       "    <tr>\n",
       "      <th>9</th>\n",
       "      <td>X360</td>\n",
       "      <td>42.52</td>\n",
       "    </tr>\n",
       "    <tr>\n",
       "      <th>0</th>\n",
       "      <td>3DS</td>\n",
       "      <td>30.96</td>\n",
       "    </tr>\n",
       "  </tbody>\n",
       "</table>\n",
       "</div>"
      ],
      "text/plain": [
       "   platform  eu_sales\n",
       "4       PS4    141.09\n",
       "3       PS3     67.81\n",
       "10     XOne     51.59\n",
       "9      X360     42.52\n",
       "0       3DS     30.96"
      ]
     },
     "metadata": {},
     "output_type": "display_data"
    },
    {
     "data": {
      "image/png": "[encoded data removed]",
      "text/plain": [
       "<Figure size 504x504 with 1 Axes>"
      ]
     },
     "metadata": {},
     "output_type": "display_data"
    },
    {
     "data": {
      "text/html": [
       "<div>\n",
       "<style scoped>\n",
       "    .dataframe tbody tr th:only-of-type {\n",
       "        vertical-align: middle;\n",
       "    }\n",
       "\n",
       "    .dataframe tbody tr th {\n",
       "        vertical-align: top;\n",
       "    }\n",
       "\n",
       "    .dataframe thead th {\n",
       "        text-align: right;\n",
       "    }\n",
       "</style>\n",
       "<table border=\"1\" class=\"dataframe\">\n",
       "  <thead>\n",
       "    <tr style=\"text-align: right;\">\n",
       "      <th></th>\n",
       "      <th>platform</th>\n",
       "      <th>jp_sales</th>\n",
       "    </tr>\n",
       "  </thead>\n",
       "  <tbody>\n",
       "    <tr>\n",
       "      <th>0</th>\n",
       "      <td>3DS</td>\n",
       "      <td>67.81</td>\n",
       "    </tr>\n",
       "    <tr>\n",
       "      <th>3</th>\n",
       "      <td>PS3</td>\n",
       "      <td>23.35</td>\n",
       "    </tr>\n",
       "    <tr>\n",
       "      <th>6</th>\n",
       "      <td>PSV</td>\n",
       "      <td>18.59</td>\n",
       "    </tr>\n",
       "    <tr>\n",
       "      <th>4</th>\n",
       "      <td>PS4</td>\n",
       "      <td>15.96</td>\n",
       "    </tr>\n",
       "    <tr>\n",
       "      <th>8</th>\n",
       "      <td>WiiU</td>\n",
       "      <td>10.88</td>\n",
       "    </tr>\n",
       "  </tbody>\n",
       "</table>\n",
       "</div>"
      ],
      "text/plain": [
       "  platform  jp_sales\n",
       "0      3DS     67.81\n",
       "3      PS3     23.35\n",
       "6      PSV     18.59\n",
       "4      PS4     15.96\n",
       "8     WiiU     10.88"
      ]
     },
     "metadata": {},
     "output_type": "display_data"
    }
   ],
   "source": [
    "# Вызов функции\n",
    "regions_top_by_categories(actual_data, 'platform')"
   ]
  },
  {
   "cell_type": "markdown",
   "metadata": {},
   "source": [
    "В Японии распределение платформ по продаж существенно отличается от Северной Америки и Европы. В Японии игры на платформе 3DS самые продаваемые — почти в 3 раза больше, чем в PS3, которая в Японии занимает второе место по продажа. В Северной Америке и Европе 3DS занимает последнее место — там наиболее продаваемой платформой является PS4.\n",
    "\n",
    "Теперь рассмотрим такую же статистику в разбивке по жанрам."
   ]
  },
  {
   "cell_type": "code",
   "execution_count": 25,
   "metadata": {
    "scrolled": false
   },
   "outputs": [
    {
     "data": {
      "image/png": "[encoded data removed]",
      "text/plain": [
       "<Figure size 504x504 with 1 Axes>"
      ]
     },
     "metadata": {},
     "output_type": "display_data"
    },
    {
     "data": {
      "text/html": [
       "<div>\n",
       "<style scoped>\n",
       "    .dataframe tbody tr th:only-of-type {\n",
       "        vertical-align: middle;\n",
       "    }\n",
       "\n",
       "    .dataframe tbody tr th {\n",
       "        vertical-align: top;\n",
       "    }\n",
       "\n",
       "    .dataframe thead th {\n",
       "        text-align: right;\n",
       "    }\n",
       "</style>\n",
       "<table border=\"1\" class=\"dataframe\">\n",
       "  <thead>\n",
       "    <tr style=\"text-align: right;\">\n",
       "      <th></th>\n",
       "      <th>genre</th>\n",
       "      <th>na_sales</th>\n",
       "    </tr>\n",
       "  </thead>\n",
       "  <tbody>\n",
       "    <tr>\n",
       "      <th>0</th>\n",
       "      <td>Action</td>\n",
       "      <td>126.05</td>\n",
       "    </tr>\n",
       "    <tr>\n",
       "      <th>8</th>\n",
       "      <td>Shooter</td>\n",
       "      <td>109.74</td>\n",
       "    </tr>\n",
       "    <tr>\n",
       "      <th>10</th>\n",
       "      <td>Sports</td>\n",
       "      <td>65.27</td>\n",
       "    </tr>\n",
       "    <tr>\n",
       "      <th>7</th>\n",
       "      <td>Role-Playing</td>\n",
       "      <td>46.40</td>\n",
       "    </tr>\n",
       "    <tr>\n",
       "      <th>3</th>\n",
       "      <td>Misc</td>\n",
       "      <td>27.49</td>\n",
       "    </tr>\n",
       "  </tbody>\n",
       "</table>\n",
       "</div>"
      ],
      "text/plain": [
       "           genre  na_sales\n",
       "0         Action    126.05\n",
       "8        Shooter    109.74\n",
       "10        Sports     65.27\n",
       "7   Role-Playing     46.40\n",
       "3           Misc     27.49"
      ]
     },
     "metadata": {},
     "output_type": "display_data"
    },
    {
     "data": {
      "image/png": "[encoded data removed]",
      "text/plain": [
       "<Figure size 504x504 with 1 Axes>"
      ]
     },
     "metadata": {},
     "output_type": "display_data"
    },
    {
     "data": {
      "text/html": [
       "<div>\n",
       "<style scoped>\n",
       "    .dataframe tbody tr th:only-of-type {\n",
       "        vertical-align: middle;\n",
       "    }\n",
       "\n",
       "    .dataframe tbody tr th {\n",
       "        vertical-align: top;\n",
       "    }\n",
       "\n",
       "    .dataframe thead th {\n",
       "        text-align: right;\n",
       "    }\n",
       "</style>\n",
       "<table border=\"1\" class=\"dataframe\">\n",
       "  <thead>\n",
       "    <tr style=\"text-align: right;\">\n",
       "      <th></th>\n",
       "      <th>genre</th>\n",
       "      <th>eu_sales</th>\n",
       "    </tr>\n",
       "  </thead>\n",
       "  <tbody>\n",
       "    <tr>\n",
       "      <th>0</th>\n",
       "      <td>Action</td>\n",
       "      <td>118.13</td>\n",
       "    </tr>\n",
       "    <tr>\n",
       "      <th>8</th>\n",
       "      <td>Shooter</td>\n",
       "      <td>87.86</td>\n",
       "    </tr>\n",
       "    <tr>\n",
       "      <th>10</th>\n",
       "      <td>Sports</td>\n",
       "      <td>60.52</td>\n",
       "    </tr>\n",
       "    <tr>\n",
       "      <th>7</th>\n",
       "      <td>Role-Playing</td>\n",
       "      <td>36.97</td>\n",
       "    </tr>\n",
       "    <tr>\n",
       "      <th>6</th>\n",
       "      <td>Racing</td>\n",
       "      <td>20.19</td>\n",
       "    </tr>\n",
       "  </tbody>\n",
       "</table>\n",
       "</div>"
      ],
      "text/plain": [
       "           genre  eu_sales\n",
       "0         Action    118.13\n",
       "8        Shooter     87.86\n",
       "10        Sports     60.52\n",
       "7   Role-Playing     36.97\n",
       "6         Racing     20.19"
      ]
     },
     "metadata": {},
     "output_type": "display_data"
    },
    {
     "data": {
      "image/png": "[encoded data removed]",
      "text/plain": [
       "<Figure size 504x504 with 1 Axes>"
      ]
     },
     "metadata": {},
     "output_type": "display_data"
    },
    {
     "data": {
      "text/html": [
       "<div>\n",
       "<style scoped>\n",
       "    .dataframe tbody tr th:only-of-type {\n",
       "        vertical-align: middle;\n",
       "    }\n",
       "\n",
       "    .dataframe tbody tr th {\n",
       "        vertical-align: top;\n",
       "    }\n",
       "\n",
       "    .dataframe thead th {\n",
       "        text-align: right;\n",
       "    }\n",
       "</style>\n",
       "<table border=\"1\" class=\"dataframe\">\n",
       "  <thead>\n",
       "    <tr style=\"text-align: right;\">\n",
       "      <th></th>\n",
       "      <th>genre</th>\n",
       "      <th>jp_sales</th>\n",
       "    </tr>\n",
       "  </thead>\n",
       "  <tbody>\n",
       "    <tr>\n",
       "      <th>7</th>\n",
       "      <td>Role-Playing</td>\n",
       "      <td>51.04</td>\n",
       "    </tr>\n",
       "    <tr>\n",
       "      <th>0</th>\n",
       "      <td>Action</td>\n",
       "      <td>40.49</td>\n",
       "    </tr>\n",
       "    <tr>\n",
       "      <th>3</th>\n",
       "      <td>Misc</td>\n",
       "      <td>9.20</td>\n",
       "    </tr>\n",
       "    <tr>\n",
       "      <th>2</th>\n",
       "      <td>Fighting</td>\n",
       "      <td>7.65</td>\n",
       "    </tr>\n",
       "    <tr>\n",
       "      <th>8</th>\n",
       "      <td>Shooter</td>\n",
       "      <td>6.61</td>\n",
       "    </tr>\n",
       "  </tbody>\n",
       "</table>\n",
       "</div>"
      ],
      "text/plain": [
       "          genre  jp_sales\n",
       "7  Role-Playing     51.04\n",
       "0        Action     40.49\n",
       "3          Misc      9.20\n",
       "2      Fighting      7.65\n",
       "8       Shooter      6.61"
      ]
     },
     "metadata": {},
     "output_type": "display_data"
    }
   ],
   "source": [
    "# Вызов функции\n",
    "regions_top_by_categories(actual_data, 'genre')"
   ]
  },
  {
   "cell_type": "markdown",
   "metadata": {},
   "source": [
    "В Европе и Северной Америке среди жанров по продажам лидируют Action, в Японии этот жанр занимает второе место, уступая первое место ролевых играм. Топ-5 у Северной Америке и Европы почти одинаковые, отличаются только последние места — в Северной Америке это ролевые игры, в Европе — гонки. Интересно, что популярный в западных странах жанр Shooter, в Японии занимает последнее пятое место."
   ]
  },
  {
   "cell_type": "markdown",
   "metadata": {},
   "source": [
    "Теперь исследуем, как возратной рейтинг влияет на продажи в каждом регионе — рассмотрим средее количество проданных копий для каждого возрастного рейтинга. Предвариетельно исключим из региона те игры, продажи которых равны нулю — скорее всего такие игры не продавались в регионе. Если оставить нулевыые значения, они могут искуственно занизить результат."
   ]
  },
  {
   "cell_type": "code",
   "execution_count": 26,
   "metadata": {},
   "outputs": [
    {
     "data": {
      "text/plain": [
       "'Среднее количество проданных копий по возрастным рейтингам в Северной Америке'"
      ]
     },
     "metadata": {},
     "output_type": "display_data"
    },
    {
     "data": {
      "text/html": [
       "<div>\n",
       "<style scoped>\n",
       "    .dataframe tbody tr th:only-of-type {\n",
       "        vertical-align: middle;\n",
       "    }\n",
       "\n",
       "    .dataframe tbody tr th {\n",
       "        vertical-align: top;\n",
       "    }\n",
       "\n",
       "    .dataframe thead th {\n",
       "        text-align: right;\n",
       "    }\n",
       "</style>\n",
       "<table border=\"1\" class=\"dataframe\">\n",
       "  <thead>\n",
       "    <tr style=\"text-align: right;\">\n",
       "      <th></th>\n",
       "      <th>rating</th>\n",
       "      <th>na_sales</th>\n",
       "    </tr>\n",
       "  </thead>\n",
       "  <tbody>\n",
       "    <tr>\n",
       "      <th>2</th>\n",
       "      <td>M</td>\n",
       "      <td>0.494641</td>\n",
       "    </tr>\n",
       "    <tr>\n",
       "      <th>0</th>\n",
       "      <td>E</td>\n",
       "      <td>0.364286</td>\n",
       "    </tr>\n",
       "    <tr>\n",
       "      <th>1</th>\n",
       "      <td>E10+</td>\n",
       "      <td>0.246545</td>\n",
       "    </tr>\n",
       "    <tr>\n",
       "      <th>3</th>\n",
       "      <td>T</td>\n",
       "      <td>0.207458</td>\n",
       "    </tr>\n",
       "  </tbody>\n",
       "</table>\n",
       "</div>"
      ],
      "text/plain": [
       "  rating  na_sales\n",
       "2      M  0.494641\n",
       "0      E  0.364286\n",
       "1   E10+  0.246545\n",
       "3      T  0.207458"
      ]
     },
     "metadata": {},
     "output_type": "display_data"
    },
    {
     "data": {
      "text/plain": [
       "'Среднее количество проданных копий по возрастным рейтингам в Европе'"
      ]
     },
     "metadata": {},
     "output_type": "display_data"
    },
    {
     "data": {
      "text/html": [
       "<div>\n",
       "<style scoped>\n",
       "    .dataframe tbody tr th:only-of-type {\n",
       "        vertical-align: middle;\n",
       "    }\n",
       "\n",
       "    .dataframe tbody tr th {\n",
       "        vertical-align: top;\n",
       "    }\n",
       "\n",
       "    .dataframe thead th {\n",
       "        text-align: right;\n",
       "    }\n",
       "</style>\n",
       "<table border=\"1\" class=\"dataframe\">\n",
       "  <thead>\n",
       "    <tr style=\"text-align: right;\">\n",
       "      <th></th>\n",
       "      <th>rating</th>\n",
       "      <th>eu_sales</th>\n",
       "    </tr>\n",
       "  </thead>\n",
       "  <tbody>\n",
       "    <tr>\n",
       "      <th>2</th>\n",
       "      <td>M</td>\n",
       "      <td>0.431217</td>\n",
       "    </tr>\n",
       "    <tr>\n",
       "      <th>0</th>\n",
       "      <td>E</td>\n",
       "      <td>0.314566</td>\n",
       "    </tr>\n",
       "    <tr>\n",
       "      <th>1</th>\n",
       "      <td>E10+</td>\n",
       "      <td>0.184805</td>\n",
       "    </tr>\n",
       "    <tr>\n",
       "      <th>3</th>\n",
       "      <td>T</td>\n",
       "      <td>0.165810</td>\n",
       "    </tr>\n",
       "  </tbody>\n",
       "</table>\n",
       "</div>"
      ],
      "text/plain": [
       "  rating  eu_sales\n",
       "2      M  0.431217\n",
       "0      E  0.314566\n",
       "1   E10+  0.184805\n",
       "3      T  0.165810"
      ]
     },
     "metadata": {},
     "output_type": "display_data"
    },
    {
     "data": {
      "text/plain": [
       "'Среднее количество проданных копий по возрастным рейтингам в Японии'"
      ]
     },
     "metadata": {},
     "output_type": "display_data"
    },
    {
     "data": {
      "text/html": [
       "<div>\n",
       "<style scoped>\n",
       "    .dataframe tbody tr th:only-of-type {\n",
       "        vertical-align: middle;\n",
       "    }\n",
       "\n",
       "    .dataframe tbody tr th {\n",
       "        vertical-align: top;\n",
       "    }\n",
       "\n",
       "    .dataframe thead th {\n",
       "        text-align: right;\n",
       "    }\n",
       "</style>\n",
       "<table border=\"1\" class=\"dataframe\">\n",
       "  <thead>\n",
       "    <tr style=\"text-align: right;\">\n",
       "      <th></th>\n",
       "      <th>rating</th>\n",
       "      <th>jp_sales</th>\n",
       "    </tr>\n",
       "  </thead>\n",
       "  <tbody>\n",
       "    <tr>\n",
       "      <th>0</th>\n",
       "      <td>E</td>\n",
       "      <td>0.196623</td>\n",
       "    </tr>\n",
       "    <tr>\n",
       "      <th>3</th>\n",
       "      <td>T</td>\n",
       "      <td>0.113757</td>\n",
       "    </tr>\n",
       "    <tr>\n",
       "      <th>1</th>\n",
       "      <td>E10+</td>\n",
       "      <td>0.101552</td>\n",
       "    </tr>\n",
       "    <tr>\n",
       "      <th>2</th>\n",
       "      <td>M</td>\n",
       "      <td>0.088742</td>\n",
       "    </tr>\n",
       "  </tbody>\n",
       "</table>\n",
       "</div>"
      ],
      "text/plain": [
       "  rating  jp_sales\n",
       "0      E  0.196623\n",
       "3      T  0.113757\n",
       "1   E10+  0.101552\n",
       "2      M  0.088742"
      ]
     },
     "metadata": {},
     "output_type": "display_data"
    }
   ],
   "source": [
    "# Создание списков для цикла\n",
    "region_sales = ['na_sales', 'eu_sales', 'jp_sales']\n",
    "region_names = ['Северной Америке', 'Европе', 'Японии']\n",
    "\n",
    "# Для каждого региона исключим строки с нулевыми продажами,\n",
    "# сгруппируем строки по рейтингу и посчитвем средний продажи\n",
    "for s, n in zip (region_sales, region_names):\n",
    "    display (f'Среднее количество проданных копий по возрастным рейтингам в {n}')\n",
    "    display ((actual_data.loc[actual_data[s] > 0]\n",
    "                         .groupby('rating')[s]\n",
    "                         .mean()\n",
    "                         .reset_index()\n",
    "                         .sort_values(by=s, ascending=False)))\n",
    "                                                                                                       \n",
    "                                                                                                       \n",
    "                                                                                                      "
   ]
  },
  {
   "cell_type": "markdown",
   "metadata": {},
   "source": [
    "Рейтинг влияет на продажи в разных регионах по-разному. В Северной Америке и Европе распределение мест одинаковое. Игры с рейтингом M продаются лучше всего. В Японии наиболее популярны игры с рейтингом E (для всех возрастов). Есть предположение, что в Японии чаще всего играют дети — это может объяснить популярность рейтингов \"для всех\" и непопулярность шутеров."
   ]
  },
  {
   "cell_type": "markdown",
   "metadata": {},
   "source": [
    "### Статистическая проверка гипотез"
   ]
  },
  {
   "cell_type": "markdown",
   "metadata": {},
   "source": [
    "Проверим, отличаются ли средние пользователиские оценки для жанров Action и Sports. Для проверки гипотез будем использовать стандартный t-тест. Сформулируем гипотезы:\n",
    "\n",
    "* H0: средние пользовательские оценки для жанров Action и Sports не отличаются \n",
    "* H1: средние пользовательские оценки для жанров Action и Sports отличаются "
   ]
  },
  {
   "cell_type": "code",
   "execution_count": 27,
   "metadata": {},
   "outputs": [
    {
     "name": "stdout",
     "output_type": "stream",
     "text": [
      "p-значение: 1.4460039700704315e-20\n",
      "Отвергаем нулевую гипотезу\n"
     ]
    }
   ],
   "source": [
    "# Создадим объекты Series с пользовательскими оценами для жанров\n",
    "action = data.loc[(actual_data['genre'] == 'Action')&(data['user_score'] > 0)]['user_score']\n",
    "sports = data.loc[(actual_data['genre'] == 'Sports')&(data['user_score'] > 0)]['user_score']\n",
    "\n",
    "# Проведем t-test, результаты запишем в перемменную results\n",
    "results = st.ttest_ind(action, sports, equal_var=False) \n",
    "\n",
    "# Зададим уровень статистической значимости = 0.05\n",
    "alpha = .05 \n",
    "\n",
    "print('p-значение:', results.pvalue)\n",
    "\n",
    "# Сравним p-value с alpha\n",
    "if results.pvalue < alpha:\n",
    "    print('Отвергаем нулевую гипотезу')\n",
    "else:\n",
    "    print('Не получилось отвергнуть нулевую гипотезу') \n"
   ]
  },
  {
   "cell_type": "markdown",
   "metadata": {},
   "source": [
    "Нулевая гипотеза отвергнута — средние пользовательские оценки для жанров Action и Sports статистически значимо отличаются."
   ]
  },
  {
   "cell_type": "markdown",
   "metadata": {},
   "source": [
    "Теперь проверим, различаются ли средние оценки для платформ XOne и PC. Сформулируем гипотезы:\n",
    "\n",
    "* H0: средние пользовательские оценки для платфорт XOne и PC не отличаются \n",
    "* H0: средние пользовательские оценки для платфорт XOne и PC отличаются \n"
   ]
  },
  {
   "cell_type": "code",
   "execution_count": 28,
   "metadata": {},
   "outputs": [
    {
     "name": "stdout",
     "output_type": "stream",
     "text": [
      "p-значение: 0.14759594013430463\n",
      "Не получилось отвергнуть нулевую гипотезу\n"
     ]
    }
   ],
   "source": [
    "# Создадим объекты Series с пользовательскими оценами для жанров\n",
    "xone = data.loc[(actual_data['platform'] == 'XOne')&(data['user_score'] > 0)]['user_score']\n",
    "pc = data.loc[(actual_data['platform'] == 'PC')&(data['user_score'] > 0)]['user_score']\n",
    "\n",
    "# Проведем t-test, результаты запишем в перемменную results\n",
    "results = st.ttest_ind(xone, pc, equal_var=False) \n",
    "\n",
    "# Зададим уровень статистической значимости = 0.05\n",
    "alpha = .05 \n",
    "\n",
    "print('p-значение:', results.pvalue)\n",
    "\n",
    "# Сравним p-value с alpha\n",
    "if results.pvalue < alpha:\n",
    "    print('Отвергаем нулевую гипотезу')\n",
    "else:\n",
    "    print('Не получилось отвергнуть нулевую гипотезу') \n"
   ]
  },
  {
   "cell_type": "markdown",
   "metadata": {},
   "source": [
    "Не получилось отвергнуть нулевую гипотезу — средние пользовательские оценки для платформ XOne и PC статистически значимо не отличаются."
   ]
  },
  {
   "cell_type": "markdown",
   "metadata": {},
   "source": [
    "### Выводы"
   ]
  },
  {
   "cell_type": "markdown",
   "metadata": {},
   "source": [
    "В ходе анализа были выполнены следующие работы:\n",
    "\n",
    "* Предобработка данных: обработка пропущенных значений, проверка на наличие дубликатов, изменение типов данных.\n",
    "* Исследовательский анализ данных: анализ динамики выпускаемых игр и продаж по годам, анализ корреляции между оценками и продажами, анализ наиболее популярных жанрорв по продажам и количеству выпускаемых игр.\n",
    "* Составление портера пользователя в каждом регионе — анализ наиболее популярных жанров и платформ, анализ рейтингов\n",
    "* Статистическая проверка гипотез\n",
    "\n",
    "**Основные выводы**:\n",
    "\n",
    "* Больше всего игр было выпущено в 2008 и 2009 годах — более 1,4 тысячи. Заметный рост индустрии видеоигр начался с начала 1990-х годов.\n",
    "* Срок жизни платформы в среднем составляет от 7 до 10 лет.\n",
    "* Только у PS4 и XOne наблюдается рост продаж на 2015 год. Эти платформы являются наиболее перспективными.\n",
    "* Корреляция между оценкой пользователя и количеством проданных копий очень низкая — можно сказать, что оценка пользователей не влияет на продажи видеоигр. Корреляция между оценкой критиков и продажами уже больше —  мнение критиков на продажи влияют больше. По всей видимости, большая часть пользователей покупают игры в рамках предзаказа, не дожидаясь появление оценок.\n",
    "* Наиболее распространенные жанры среди игр: Action, Role-Playing, Adventure и Sports. Самый продаваемый (с большим отрывом от остальных) жанр — Shooter, на втором месте жанр Platform.\n",
    "* В Японии распределение платформ по продаж существенно отличается от Северной Америки и Европы. В Японии игры на платформе 3DS самые продаваемые — почти в 3 раза больше, чем в PS3, которая в Японии занимает второе место по продажа. В Северной Америке и Европе 3DS занимает последнее место — там наиболее продаваемой платформой является PS4.\n",
    "* В Европе и Северной Америке среди жанров по продажам лидируют Action, в Японии этот жанр занимает второе место, уступая первое место ролевых играм. Топ-5 у Северной Америке и Европы почти одинаковые, отличаются только последние места — в Северной Америке это ролевые игры, в Европе — гонки. Интересно, что популярный в западных странах жанр Shooter, в Японии занимает последнее пятое место.\n",
    "* Рейтинг влияет на продажи в разных регионах по-разному. В Северной Америке и Европе распределение мест почти одинаковое, а топ-3 полностью одинаковый. Игры с рейтингом АО (игры 18+) продаются лучше всего. В Японии наиболее популярны игры с рейтингом E (для всех возрастов). Есть предположение, что в Японии чаще всего играют дети — это может объяснить популярность рейтингов \"для всех\" и непопулярность шутеров.\n",
    "\n"
   ]
  }
 ],
 "metadata": {
  "ExecuteTimeLog": [
   {
    "duration": 51,
    "start_time": "2023-08-01T18:53:03.868Z"
   },
   {
    "duration": 23,
    "start_time": "2023-08-01T18:53:08.343Z"
   },
   {
    "duration": 25,
    "start_time": "2023-08-01T18:53:13.823Z"
   },
   {
    "duration": 4,
    "start_time": "2023-08-01T18:54:30.854Z"
   },
   {
    "duration": 32,
    "start_time": "2023-08-01T18:54:32.402Z"
   },
   {
    "duration": 42,
    "start_time": "2023-08-01T18:55:32.688Z"
   },
   {
    "duration": 9,
    "start_time": "2023-08-01T18:55:49.605Z"
   },
   {
    "duration": 5,
    "start_time": "2023-08-01T18:55:53.572Z"
   },
   {
    "duration": 111,
    "start_time": "2023-08-01T18:55:59.844Z"
   },
   {
    "duration": 39,
    "start_time": "2023-08-01T18:56:01.890Z"
   },
   {
    "duration": 4,
    "start_time": "2023-08-01T18:56:05.481Z"
   },
   {
    "duration": 1766,
    "start_time": "2023-08-01T18:56:58.392Z"
   },
   {
    "duration": 1743,
    "start_time": "2023-08-01T18:57:05.612Z"
   },
   {
    "duration": 36,
    "start_time": "2023-08-01T18:57:15.333Z"
   },
   {
    "duration": 53,
    "start_time": "2023-08-01T18:57:23.246Z"
   },
   {
    "duration": 14,
    "start_time": "2023-08-01T19:00:16.856Z"
   },
   {
    "duration": 16,
    "start_time": "2023-08-01T19:00:27.279Z"
   },
   {
    "duration": 7,
    "start_time": "2023-08-01T19:00:34.650Z"
   },
   {
    "duration": 54,
    "start_time": "2023-08-05T11:10:33.332Z"
   },
   {
    "duration": 423,
    "start_time": "2023-08-05T11:10:38.084Z"
   },
   {
    "duration": 97,
    "start_time": "2023-08-05T11:10:38.509Z"
   },
   {
    "duration": 24,
    "start_time": "2023-08-05T11:10:38.609Z"
   },
   {
    "duration": 17,
    "start_time": "2023-08-05T11:10:38.635Z"
   },
   {
    "duration": 4,
    "start_time": "2023-08-05T11:10:38.654Z"
   },
   {
    "duration": 19,
    "start_time": "2023-08-05T11:10:38.660Z"
   },
   {
    "duration": 1344,
    "start_time": "2023-08-05T11:12:35.462Z"
   },
   {
    "duration": 4,
    "start_time": "2023-08-05T11:12:48.883Z"
   },
   {
    "duration": 7,
    "start_time": "2023-08-05T11:14:40.862Z"
   },
   {
    "duration": 6,
    "start_time": "2023-08-05T11:14:48.496Z"
   },
   {
    "duration": 12,
    "start_time": "2023-08-05T11:15:15.037Z"
   },
   {
    "duration": 13,
    "start_time": "2023-08-05T11:18:01.614Z"
   },
   {
    "duration": 3,
    "start_time": "2023-08-05T11:21:51.104Z"
   },
   {
    "duration": 7,
    "start_time": "2023-08-05T11:21:57.312Z"
   },
   {
    "duration": 4,
    "start_time": "2023-08-05T11:22:02.020Z"
   },
   {
    "duration": 21,
    "start_time": "2023-08-05T11:22:08.722Z"
   },
   {
    "duration": 20,
    "start_time": "2023-08-05T11:22:24.412Z"
   },
   {
    "duration": 22,
    "start_time": "2023-08-05T11:22:30.092Z"
   },
   {
    "duration": 25,
    "start_time": "2023-08-05T11:22:47.429Z"
   },
   {
    "duration": 507,
    "start_time": "2023-08-05T11:22:56.816Z"
   },
   {
    "duration": 54,
    "start_time": "2023-08-05T11:22:57.325Z"
   },
   {
    "duration": 22,
    "start_time": "2023-08-05T11:22:57.381Z"
   },
   {
    "duration": 15,
    "start_time": "2023-08-05T11:22:57.404Z"
   },
   {
    "duration": 3,
    "start_time": "2023-08-05T11:22:57.421Z"
   },
   {
    "duration": 13,
    "start_time": "2023-08-05T11:22:57.425Z"
   },
   {
    "duration": 24,
    "start_time": "2023-08-05T11:22:57.439Z"
   },
   {
    "duration": 4,
    "start_time": "2023-08-05T11:23:07.683Z"
   },
   {
    "duration": 374,
    "start_time": "2023-08-05T11:23:13.810Z"
   },
   {
    "duration": 50,
    "start_time": "2023-08-05T11:23:14.186Z"
   },
   {
    "duration": 19,
    "start_time": "2023-08-05T11:23:14.238Z"
   },
   {
    "duration": 30,
    "start_time": "2023-08-05T11:23:14.259Z"
   },
   {
    "duration": 20,
    "start_time": "2023-08-05T11:23:14.291Z"
   },
   {
    "duration": 23,
    "start_time": "2023-08-05T11:23:14.312Z"
   },
   {
    "duration": 18,
    "start_time": "2023-08-05T11:23:14.337Z"
   },
   {
    "duration": 21,
    "start_time": "2023-08-05T11:23:17.248Z"
   },
   {
    "duration": 63,
    "start_time": "2023-08-05T11:23:24.902Z"
   },
   {
    "duration": 1771,
    "start_time": "2023-08-05T11:23:32.806Z"
   },
   {
    "duration": 18,
    "start_time": "2023-08-05T11:23:41.714Z"
   },
   {
    "duration": 6,
    "start_time": "2023-08-05T11:24:37.488Z"
   },
   {
    "duration": 7,
    "start_time": "2023-08-05T11:25:03.843Z"
   },
   {
    "duration": 7,
    "start_time": "2023-08-05T11:25:09.817Z"
   },
   {
    "duration": 12,
    "start_time": "2023-08-05T11:25:24.913Z"
   },
   {
    "duration": 16,
    "start_time": "2023-08-05T11:25:39.852Z"
   },
   {
    "duration": 4,
    "start_time": "2023-08-05T11:25:42.758Z"
   },
   {
    "duration": 21,
    "start_time": "2023-08-05T11:25:49.737Z"
   },
   {
    "duration": 19,
    "start_time": "2023-08-05T11:35:05.035Z"
   },
   {
    "duration": 11,
    "start_time": "2023-08-05T11:35:09.050Z"
   },
   {
    "duration": 26,
    "start_time": "2023-08-05T11:35:17.187Z"
   },
   {
    "duration": 10,
    "start_time": "2023-08-05T11:36:46.925Z"
   },
   {
    "duration": 27,
    "start_time": "2023-08-05T11:43:12.264Z"
   },
   {
    "duration": 413,
    "start_time": "2023-08-05T11:45:51.701Z"
   },
   {
    "duration": 54,
    "start_time": "2023-08-05T11:45:52.116Z"
   },
   {
    "duration": 19,
    "start_time": "2023-08-05T11:45:52.172Z"
   },
   {
    "duration": 35,
    "start_time": "2023-08-05T11:45:52.193Z"
   },
   {
    "duration": 5,
    "start_time": "2023-08-05T11:45:52.230Z"
   },
   {
    "duration": 50,
    "start_time": "2023-08-05T11:45:52.236Z"
   },
   {
    "duration": 27,
    "start_time": "2023-08-05T11:45:52.288Z"
   },
   {
    "duration": 25,
    "start_time": "2023-08-05T11:45:52.316Z"
   },
   {
    "duration": 4,
    "start_time": "2023-08-05T11:48:51.603Z"
   },
   {
    "duration": 4,
    "start_time": "2023-08-05T11:49:03.487Z"
   },
   {
    "duration": 5,
    "start_time": "2023-08-05T11:49:06.706Z"
   },
   {
    "duration": 26,
    "start_time": "2023-08-05T11:52:15.876Z"
   },
   {
    "duration": 7,
    "start_time": "2023-08-05T11:53:00.659Z"
   },
   {
    "duration": 6,
    "start_time": "2023-08-05T11:53:05.673Z"
   },
   {
    "duration": 21,
    "start_time": "2023-08-05T11:53:12.171Z"
   },
   {
    "duration": 16,
    "start_time": "2023-08-05T11:54:40.635Z"
   },
   {
    "duration": 110,
    "start_time": "2023-08-05T11:57:43.710Z"
   },
   {
    "duration": 418,
    "start_time": "2023-08-05T11:57:49.102Z"
   },
   {
    "duration": 59,
    "start_time": "2023-08-05T11:57:49.523Z"
   },
   {
    "duration": 20,
    "start_time": "2023-08-05T11:57:49.584Z"
   },
   {
    "duration": 18,
    "start_time": "2023-08-05T11:57:49.607Z"
   },
   {
    "duration": 3,
    "start_time": "2023-08-05T11:57:49.627Z"
   },
   {
    "duration": 6,
    "start_time": "2023-08-05T11:57:49.632Z"
   },
   {
    "duration": 15,
    "start_time": "2023-08-05T11:57:49.640Z"
   },
   {
    "duration": 39,
    "start_time": "2023-08-05T11:57:49.657Z"
   },
   {
    "duration": 23,
    "start_time": "2023-08-05T11:57:49.699Z"
   },
   {
    "duration": 12,
    "start_time": "2023-08-05T11:57:49.724Z"
   },
   {
    "duration": 22,
    "start_time": "2023-08-05T11:59:20.639Z"
   },
   {
    "duration": 18,
    "start_time": "2023-08-05T12:01:06.597Z"
   },
   {
    "duration": 80,
    "start_time": "2023-08-05T12:01:55.851Z"
   },
   {
    "duration": 7,
    "start_time": "2023-08-05T12:02:44.865Z"
   },
   {
    "duration": 10,
    "start_time": "2023-08-05T12:03:37.242Z"
   },
   {
    "duration": 13,
    "start_time": "2023-08-05T12:03:49.816Z"
   },
   {
    "duration": 13,
    "start_time": "2023-08-05T12:04:04.746Z"
   },
   {
    "duration": 833,
    "start_time": "2023-08-05T12:06:20.096Z"
   },
   {
    "duration": 709,
    "start_time": "2023-08-05T12:06:46.463Z"
   },
   {
    "duration": 56,
    "start_time": "2023-08-05T12:06:47.174Z"
   },
   {
    "duration": 24,
    "start_time": "2023-08-05T12:06:47.233Z"
   },
   {
    "duration": 19,
    "start_time": "2023-08-05T12:06:47.260Z"
   },
   {
    "duration": 16,
    "start_time": "2023-08-05T12:06:47.280Z"
   },
   {
    "duration": 6,
    "start_time": "2023-08-05T12:06:47.298Z"
   },
   {
    "duration": 11,
    "start_time": "2023-08-05T12:06:47.306Z"
   },
   {
    "duration": 14,
    "start_time": "2023-08-05T12:06:47.319Z"
   },
   {
    "duration": 20,
    "start_time": "2023-08-05T12:06:47.335Z"
   },
   {
    "duration": 45,
    "start_time": "2023-08-05T12:06:47.357Z"
   },
   {
    "duration": 1354,
    "start_time": "2023-08-05T12:06:47.404Z"
   },
   {
    "duration": 9,
    "start_time": "2023-08-05T12:06:48.760Z"
   },
   {
    "duration": 1452,
    "start_time": "2023-08-05T12:07:19.422Z"
   },
   {
    "duration": 258,
    "start_time": "2023-08-05T12:10:15.808Z"
   },
   {
    "duration": 655,
    "start_time": "2023-08-05T12:10:26.564Z"
   },
   {
    "duration": 53,
    "start_time": "2023-08-05T12:10:27.221Z"
   },
   {
    "duration": 17,
    "start_time": "2023-08-05T12:10:27.276Z"
   },
   {
    "duration": 24,
    "start_time": "2023-08-05T12:10:27.294Z"
   },
   {
    "duration": 2,
    "start_time": "2023-08-05T12:10:27.320Z"
   },
   {
    "duration": 6,
    "start_time": "2023-08-05T12:10:27.323Z"
   },
   {
    "duration": 18,
    "start_time": "2023-08-05T12:10:27.330Z"
   },
   {
    "duration": 15,
    "start_time": "2023-08-05T12:10:27.350Z"
   },
   {
    "duration": 23,
    "start_time": "2023-08-05T12:10:27.366Z"
   },
   {
    "duration": 17,
    "start_time": "2023-08-05T12:10:27.396Z"
   },
   {
    "duration": 193,
    "start_time": "2023-08-05T12:10:27.415Z"
   },
   {
    "duration": 0,
    "start_time": "2023-08-05T12:10:27.610Z"
   },
   {
    "duration": 675,
    "start_time": "2023-08-05T12:10:46.918Z"
   },
   {
    "duration": 56,
    "start_time": "2023-08-05T12:10:47.595Z"
   },
   {
    "duration": 19,
    "start_time": "2023-08-05T12:10:47.653Z"
   },
   {
    "duration": 15,
    "start_time": "2023-08-05T12:10:47.675Z"
   },
   {
    "duration": 3,
    "start_time": "2023-08-05T12:10:47.692Z"
   },
   {
    "duration": 34,
    "start_time": "2023-08-05T12:10:47.697Z"
   },
   {
    "duration": 22,
    "start_time": "2023-08-05T12:10:47.732Z"
   },
   {
    "duration": 63,
    "start_time": "2023-08-05T12:10:47.756Z"
   },
   {
    "duration": 41,
    "start_time": "2023-08-05T12:10:47.821Z"
   },
   {
    "duration": 44,
    "start_time": "2023-08-05T12:10:47.864Z"
   },
   {
    "duration": 215,
    "start_time": "2023-08-05T12:10:47.910Z"
   },
   {
    "duration": 0,
    "start_time": "2023-08-05T12:10:48.127Z"
   },
   {
    "duration": 1110,
    "start_time": "2023-08-05T14:02:10.912Z"
   },
   {
    "duration": 222,
    "start_time": "2023-08-05T14:02:12.025Z"
   },
   {
    "duration": 44,
    "start_time": "2023-08-05T14:02:12.252Z"
   },
   {
    "duration": 24,
    "start_time": "2023-08-05T14:02:12.303Z"
   },
   {
    "duration": 4,
    "start_time": "2023-08-05T14:02:12.331Z"
   },
   {
    "duration": 4,
    "start_time": "2023-08-05T14:02:12.337Z"
   },
   {
    "duration": 23,
    "start_time": "2023-08-05T14:02:12.345Z"
   },
   {
    "duration": 32,
    "start_time": "2023-08-05T14:02:12.372Z"
   },
   {
    "duration": 30,
    "start_time": "2023-08-05T14:02:12.406Z"
   },
   {
    "duration": 36,
    "start_time": "2023-08-05T14:02:12.438Z"
   },
   {
    "duration": 287,
    "start_time": "2023-08-05T14:02:12.477Z"
   },
   {
    "duration": 0,
    "start_time": "2023-08-05T14:02:12.766Z"
   },
   {
    "duration": 2011,
    "start_time": "2023-08-05T14:02:24.355Z"
   },
   {
    "duration": 164,
    "start_time": "2023-08-05T14:08:00.531Z"
   },
   {
    "duration": 31,
    "start_time": "2023-08-05T14:09:09.506Z"
   },
   {
    "duration": 228,
    "start_time": "2023-08-05T14:09:21.523Z"
   },
   {
    "duration": 718,
    "start_time": "2023-08-05T14:14:37.290Z"
   },
   {
    "duration": 54,
    "start_time": "2023-08-05T14:14:38.010Z"
   },
   {
    "duration": 24,
    "start_time": "2023-08-05T14:14:38.066Z"
   },
   {
    "duration": 21,
    "start_time": "2023-08-05T14:14:38.093Z"
   },
   {
    "duration": 2,
    "start_time": "2023-08-05T14:14:38.117Z"
   },
   {
    "duration": 5,
    "start_time": "2023-08-05T14:14:38.122Z"
   },
   {
    "duration": 45,
    "start_time": "2023-08-05T14:14:38.129Z"
   },
   {
    "duration": 19,
    "start_time": "2023-08-05T14:14:38.176Z"
   },
   {
    "duration": 28,
    "start_time": "2023-08-05T14:14:38.197Z"
   },
   {
    "duration": 14,
    "start_time": "2023-08-05T14:14:38.228Z"
   },
   {
    "duration": 32,
    "start_time": "2023-08-05T14:14:38.244Z"
   },
   {
    "duration": 17,
    "start_time": "2023-08-05T14:14:55.301Z"
   },
   {
    "duration": 17,
    "start_time": "2023-08-05T14:14:59.673Z"
   },
   {
    "duration": 97,
    "start_time": "2023-08-05T14:15:18.282Z"
   },
   {
    "duration": 17,
    "start_time": "2023-08-05T14:15:36.670Z"
   },
   {
    "duration": 705,
    "start_time": "2023-08-05T14:15:57.390Z"
   },
   {
    "duration": 57,
    "start_time": "2023-08-05T14:15:58.098Z"
   },
   {
    "duration": 21,
    "start_time": "2023-08-05T14:15:58.157Z"
   },
   {
    "duration": 24,
    "start_time": "2023-08-05T14:15:58.181Z"
   },
   {
    "duration": 8,
    "start_time": "2023-08-05T14:15:58.207Z"
   },
   {
    "duration": 21,
    "start_time": "2023-08-05T14:15:58.217Z"
   },
   {
    "duration": 12,
    "start_time": "2023-08-05T14:15:58.240Z"
   },
   {
    "duration": 17,
    "start_time": "2023-08-05T14:15:58.253Z"
   },
   {
    "duration": 66,
    "start_time": "2023-08-05T14:15:58.272Z"
   },
   {
    "duration": 38,
    "start_time": "2023-08-05T14:15:58.342Z"
   },
   {
    "duration": 17,
    "start_time": "2023-08-05T14:15:58.382Z"
   },
   {
    "duration": 33,
    "start_time": "2023-08-05T14:18:23.554Z"
   },
   {
    "duration": 4,
    "start_time": "2023-08-05T14:18:59.197Z"
   },
   {
    "duration": 4,
    "start_time": "2023-08-05T14:19:02.471Z"
   },
   {
    "duration": 19,
    "start_time": "2023-08-05T14:19:06.891Z"
   },
   {
    "duration": 35,
    "start_time": "2023-08-05T14:19:38.360Z"
   },
   {
    "duration": 88,
    "start_time": "2023-08-05T14:21:38.615Z"
   },
   {
    "duration": 142,
    "start_time": "2023-08-05T14:26:42.160Z"
   },
   {
    "duration": 48,
    "start_time": "2023-08-05T14:26:51.292Z"
   },
   {
    "duration": 79,
    "start_time": "2023-08-05T14:27:03.142Z"
   },
   {
    "duration": 54,
    "start_time": "2023-08-05T14:27:22.146Z"
   },
   {
    "duration": 45,
    "start_time": "2023-08-05T14:27:33.421Z"
   },
   {
    "duration": 9,
    "start_time": "2023-08-05T14:31:15.259Z"
   },
   {
    "duration": 26,
    "start_time": "2023-08-05T14:31:18.937Z"
   },
   {
    "duration": 11,
    "start_time": "2023-08-05T14:31:33.703Z"
   },
   {
    "duration": 7,
    "start_time": "2023-08-05T14:31:38.052Z"
   },
   {
    "duration": 18,
    "start_time": "2023-08-05T14:31:39.601Z"
   },
   {
    "duration": 62,
    "start_time": "2023-08-05T14:31:42.800Z"
   },
   {
    "duration": 59,
    "start_time": "2023-08-05T14:32:02.430Z"
   },
   {
    "duration": 70,
    "start_time": "2023-08-05T14:32:06.549Z"
   },
   {
    "duration": 10,
    "start_time": "2023-08-05T14:33:33.118Z"
   },
   {
    "duration": 889,
    "start_time": "2023-08-05T14:36:39.099Z"
   },
   {
    "duration": 25,
    "start_time": "2023-08-05T14:38:09.983Z"
   },
   {
    "duration": 26,
    "start_time": "2023-08-05T14:51:29.569Z"
   },
   {
    "duration": 25,
    "start_time": "2023-08-05T14:51:41.893Z"
   },
   {
    "duration": 13,
    "start_time": "2023-08-05T14:53:33.625Z"
   },
   {
    "duration": 26,
    "start_time": "2023-08-05T14:53:53.040Z"
   },
   {
    "duration": 58,
    "start_time": "2023-08-05T14:54:24.004Z"
   },
   {
    "duration": 47,
    "start_time": "2023-08-05T14:54:43.106Z"
   },
   {
    "duration": 44,
    "start_time": "2023-08-05T14:54:54.525Z"
   },
   {
    "duration": 13,
    "start_time": "2023-08-05T14:55:03.194Z"
   },
   {
    "duration": 19,
    "start_time": "2023-08-05T15:09:45.620Z"
   },
   {
    "duration": 687,
    "start_time": "2023-08-05T15:09:50.779Z"
   },
   {
    "duration": 70,
    "start_time": "2023-08-05T15:09:51.471Z"
   },
   {
    "duration": 21,
    "start_time": "2023-08-05T15:09:51.543Z"
   },
   {
    "duration": 23,
    "start_time": "2023-08-05T15:09:51.566Z"
   },
   {
    "duration": 4,
    "start_time": "2023-08-05T15:09:51.591Z"
   },
   {
    "duration": 11,
    "start_time": "2023-08-05T15:09:51.597Z"
   },
   {
    "duration": 41,
    "start_time": "2023-08-05T15:09:51.610Z"
   },
   {
    "duration": 21,
    "start_time": "2023-08-05T15:09:51.653Z"
   },
   {
    "duration": 12,
    "start_time": "2023-08-05T15:09:51.676Z"
   },
   {
    "duration": 33,
    "start_time": "2023-08-05T15:09:51.691Z"
   },
   {
    "duration": 58,
    "start_time": "2023-08-05T15:09:51.726Z"
   },
   {
    "duration": 24,
    "start_time": "2023-08-05T15:09:51.786Z"
   },
   {
    "duration": 81,
    "start_time": "2023-08-05T15:09:51.813Z"
   },
   {
    "duration": 11,
    "start_time": "2023-08-05T15:09:51.898Z"
   },
   {
    "duration": 15,
    "start_time": "2023-08-05T15:12:39.336Z"
   },
   {
    "duration": 697,
    "start_time": "2023-08-05T15:12:44.944Z"
   },
   {
    "duration": 56,
    "start_time": "2023-08-05T15:12:45.643Z"
   },
   {
    "duration": 44,
    "start_time": "2023-08-05T15:12:45.701Z"
   },
   {
    "duration": 134,
    "start_time": "2023-08-05T15:12:45.747Z"
   },
   {
    "duration": 6,
    "start_time": "2023-08-05T15:12:45.883Z"
   },
   {
    "duration": 20,
    "start_time": "2023-08-05T15:12:45.891Z"
   },
   {
    "duration": 25,
    "start_time": "2023-08-05T15:12:45.913Z"
   },
   {
    "duration": 32,
    "start_time": "2023-08-05T15:12:45.940Z"
   },
   {
    "duration": 31,
    "start_time": "2023-08-05T15:12:45.974Z"
   },
   {
    "duration": 48,
    "start_time": "2023-08-05T15:12:46.008Z"
   },
   {
    "duration": 78,
    "start_time": "2023-08-05T15:12:46.058Z"
   },
   {
    "duration": 23,
    "start_time": "2023-08-05T15:12:46.137Z"
   },
   {
    "duration": 53,
    "start_time": "2023-08-05T15:12:46.162Z"
   },
   {
    "duration": 10,
    "start_time": "2023-08-05T15:12:46.217Z"
   },
   {
    "duration": 16,
    "start_time": "2023-08-05T15:18:04.144Z"
   },
   {
    "duration": 734,
    "start_time": "2023-08-05T15:19:50.141Z"
   },
   {
    "duration": 64,
    "start_time": "2023-08-05T15:19:50.879Z"
   },
   {
    "duration": 19,
    "start_time": "2023-08-05T15:19:50.946Z"
   },
   {
    "duration": 37,
    "start_time": "2023-08-05T15:19:50.966Z"
   },
   {
    "duration": 7,
    "start_time": "2023-08-05T15:19:51.005Z"
   },
   {
    "duration": 19,
    "start_time": "2023-08-05T15:19:51.014Z"
   },
   {
    "duration": 16,
    "start_time": "2023-08-05T15:19:51.036Z"
   },
   {
    "duration": 29,
    "start_time": "2023-08-05T15:19:51.055Z"
   },
   {
    "duration": 28,
    "start_time": "2023-08-05T15:19:51.086Z"
   },
   {
    "duration": 23,
    "start_time": "2023-08-05T15:19:51.116Z"
   },
   {
    "duration": 72,
    "start_time": "2023-08-05T15:19:51.141Z"
   },
   {
    "duration": 26,
    "start_time": "2023-08-05T15:19:51.215Z"
   },
   {
    "duration": 70,
    "start_time": "2023-08-05T15:19:51.243Z"
   },
   {
    "duration": 12,
    "start_time": "2023-08-05T15:19:51.316Z"
   },
   {
    "duration": 37,
    "start_time": "2023-08-05T15:19:51.330Z"
   },
   {
    "duration": 34,
    "start_time": "2023-08-05T15:19:57.271Z"
   },
   {
    "duration": 757,
    "start_time": "2023-08-05T15:20:13.891Z"
   },
   {
    "duration": 65,
    "start_time": "2023-08-05T15:20:14.651Z"
   },
   {
    "duration": 20,
    "start_time": "2023-08-05T15:20:14.718Z"
   },
   {
    "duration": 15,
    "start_time": "2023-08-05T15:20:14.740Z"
   },
   {
    "duration": 12,
    "start_time": "2023-08-05T15:20:14.756Z"
   },
   {
    "duration": 33,
    "start_time": "2023-08-05T15:20:14.770Z"
   },
   {
    "duration": 18,
    "start_time": "2023-08-05T15:20:14.805Z"
   },
   {
    "duration": 20,
    "start_time": "2023-08-05T15:20:14.826Z"
   },
   {
    "duration": 12,
    "start_time": "2023-08-05T15:20:14.849Z"
   },
   {
    "duration": 30,
    "start_time": "2023-08-05T15:20:14.864Z"
   },
   {
    "duration": 54,
    "start_time": "2023-08-05T15:20:14.895Z"
   },
   {
    "duration": 39,
    "start_time": "2023-08-05T15:20:14.950Z"
   },
   {
    "duration": 59,
    "start_time": "2023-08-05T15:20:14.991Z"
   },
   {
    "duration": 12,
    "start_time": "2023-08-05T15:20:15.067Z"
   },
   {
    "duration": 93,
    "start_time": "2023-08-05T15:20:15.081Z"
   },
   {
    "duration": 42,
    "start_time": "2023-08-05T15:20:15.176Z"
   },
   {
    "duration": 8,
    "start_time": "2023-08-05T15:24:14.744Z"
   },
   {
    "duration": 6,
    "start_time": "2023-08-05T15:24:18.081Z"
   },
   {
    "duration": 5,
    "start_time": "2023-08-05T15:24:21.332Z"
   },
   {
    "duration": 6,
    "start_time": "2023-08-05T15:24:28.214Z"
   },
   {
    "duration": 32,
    "start_time": "2023-08-05T15:24:34.030Z"
   },
   {
    "duration": 3,
    "start_time": "2023-08-05T15:25:45.865Z"
   },
   {
    "duration": 4,
    "start_time": "2023-08-05T15:25:53.012Z"
   },
   {
    "duration": 4,
    "start_time": "2023-08-05T15:25:58.822Z"
   },
   {
    "duration": 664,
    "start_time": "2023-08-05T15:26:11.580Z"
   },
   {
    "duration": 56,
    "start_time": "2023-08-05T15:26:12.246Z"
   },
   {
    "duration": 19,
    "start_time": "2023-08-05T15:26:12.304Z"
   },
   {
    "duration": 18,
    "start_time": "2023-08-05T15:26:12.325Z"
   },
   {
    "duration": 13,
    "start_time": "2023-08-05T15:26:12.346Z"
   },
   {
    "duration": 7,
    "start_time": "2023-08-05T15:26:12.367Z"
   },
   {
    "duration": 23,
    "start_time": "2023-08-05T15:26:12.376Z"
   },
   {
    "duration": 14,
    "start_time": "2023-08-05T15:26:12.401Z"
   },
   {
    "duration": 8,
    "start_time": "2023-08-05T15:26:12.417Z"
   },
   {
    "duration": 18,
    "start_time": "2023-08-05T15:26:12.427Z"
   },
   {
    "duration": 59,
    "start_time": "2023-08-05T15:26:12.446Z"
   },
   {
    "duration": 24,
    "start_time": "2023-08-05T15:26:12.507Z"
   },
   {
    "duration": 76,
    "start_time": "2023-08-05T15:26:12.533Z"
   },
   {
    "duration": 10,
    "start_time": "2023-08-05T15:26:12.612Z"
   },
   {
    "duration": 13,
    "start_time": "2023-08-05T15:26:12.623Z"
   },
   {
    "duration": 49,
    "start_time": "2023-08-05T15:26:12.638Z"
   },
   {
    "duration": 9,
    "start_time": "2023-08-05T15:26:12.689Z"
   },
   {
    "duration": 6,
    "start_time": "2023-08-05T15:26:12.700Z"
   },
   {
    "duration": 4,
    "start_time": "2023-08-05T15:28:56.216Z"
   },
   {
    "duration": 4,
    "start_time": "2023-08-05T15:36:42.211Z"
   },
   {
    "duration": 5,
    "start_time": "2023-08-05T15:36:44.865Z"
   },
   {
    "duration": 6,
    "start_time": "2023-08-05T15:40:19.752Z"
   },
   {
    "duration": 28,
    "start_time": "2023-08-05T15:48:01.794Z"
   },
   {
    "duration": 22,
    "start_time": "2023-08-05T15:52:32.323Z"
   },
   {
    "duration": 9,
    "start_time": "2023-08-05T15:57:51.086Z"
   },
   {
    "duration": 718,
    "start_time": "2023-08-05T15:57:57.834Z"
   },
   {
    "duration": 57,
    "start_time": "2023-08-05T15:57:58.555Z"
   },
   {
    "duration": 27,
    "start_time": "2023-08-05T15:57:58.614Z"
   },
   {
    "duration": 21,
    "start_time": "2023-08-05T15:57:58.643Z"
   },
   {
    "duration": 42,
    "start_time": "2023-08-05T15:57:58.668Z"
   },
   {
    "duration": 11,
    "start_time": "2023-08-05T15:57:58.713Z"
   },
   {
    "duration": 16,
    "start_time": "2023-08-05T15:57:58.725Z"
   },
   {
    "duration": 43,
    "start_time": "2023-08-05T15:57:58.744Z"
   },
   {
    "duration": 11,
    "start_time": "2023-08-05T15:57:58.789Z"
   },
   {
    "duration": 31,
    "start_time": "2023-08-05T15:57:58.803Z"
   },
   {
    "duration": 95,
    "start_time": "2023-08-05T15:57:58.836Z"
   },
   {
    "duration": 37,
    "start_time": "2023-08-05T15:57:58.933Z"
   },
   {
    "duration": 95,
    "start_time": "2023-08-05T15:57:58.972Z"
   },
   {
    "duration": 12,
    "start_time": "2023-08-05T15:57:59.072Z"
   },
   {
    "duration": 16,
    "start_time": "2023-08-05T15:57:59.086Z"
   },
   {
    "duration": 23,
    "start_time": "2023-08-05T15:57:59.104Z"
   },
   {
    "duration": 14,
    "start_time": "2023-08-05T16:00:24.238Z"
   },
   {
    "duration": 29,
    "start_time": "2023-08-05T16:00:30.107Z"
   },
   {
    "duration": 17,
    "start_time": "2023-08-05T16:00:43.962Z"
   },
   {
    "duration": 20,
    "start_time": "2023-08-05T16:00:49.268Z"
   },
   {
    "duration": 667,
    "start_time": "2023-08-05T16:00:54.716Z"
   },
   {
    "duration": 55,
    "start_time": "2023-08-05T16:00:55.385Z"
   },
   {
    "duration": 19,
    "start_time": "2023-08-05T16:00:55.442Z"
   },
   {
    "duration": 16,
    "start_time": "2023-08-05T16:00:55.463Z"
   },
   {
    "duration": 4,
    "start_time": "2023-08-05T16:00:55.481Z"
   },
   {
    "duration": 12,
    "start_time": "2023-08-05T16:00:55.487Z"
   },
   {
    "duration": 17,
    "start_time": "2023-08-05T16:00:55.501Z"
   },
   {
    "duration": 26,
    "start_time": "2023-08-05T16:00:55.520Z"
   },
   {
    "duration": 43,
    "start_time": "2023-08-05T16:00:55.548Z"
   },
   {
    "duration": 24,
    "start_time": "2023-08-05T16:00:55.594Z"
   },
   {
    "duration": 112,
    "start_time": "2023-08-05T16:00:55.619Z"
   },
   {
    "duration": 72,
    "start_time": "2023-08-05T16:00:55.733Z"
   },
   {
    "duration": 76,
    "start_time": "2023-08-05T16:00:55.807Z"
   },
   {
    "duration": 29,
    "start_time": "2023-08-05T16:00:55.885Z"
   },
   {
    "duration": 3,
    "start_time": "2023-08-05T16:02:03.808Z"
   },
   {
    "duration": 4,
    "start_time": "2023-08-05T16:03:10.715Z"
   },
   {
    "duration": 651,
    "start_time": "2023-08-05T16:03:15.123Z"
   },
   {
    "duration": 62,
    "start_time": "2023-08-05T16:03:15.776Z"
   },
   {
    "duration": 22,
    "start_time": "2023-08-05T16:03:15.840Z"
   },
   {
    "duration": 27,
    "start_time": "2023-08-05T16:03:15.864Z"
   },
   {
    "duration": 3,
    "start_time": "2023-08-05T16:03:15.893Z"
   },
   {
    "duration": 15,
    "start_time": "2023-08-05T16:03:15.898Z"
   },
   {
    "duration": 21,
    "start_time": "2023-08-05T16:03:15.916Z"
   },
   {
    "duration": 14,
    "start_time": "2023-08-05T16:03:15.939Z"
   },
   {
    "duration": 48,
    "start_time": "2023-08-05T16:03:15.968Z"
   },
   {
    "duration": 55,
    "start_time": "2023-08-05T16:03:16.020Z"
   },
   {
    "duration": 59,
    "start_time": "2023-08-05T16:03:16.078Z"
   },
   {
    "duration": 28,
    "start_time": "2023-08-05T16:03:16.140Z"
   },
   {
    "duration": 15,
    "start_time": "2023-08-05T16:03:16.170Z"
   },
   {
    "duration": 23,
    "start_time": "2023-08-05T16:03:16.186Z"
   },
   {
    "duration": 13,
    "start_time": "2023-08-05T16:03:57.089Z"
   },
   {
    "duration": 85,
    "start_time": "2023-08-05T16:08:10.482Z"
   },
   {
    "duration": 12,
    "start_time": "2023-08-05T16:08:56.444Z"
   },
   {
    "duration": 695,
    "start_time": "2023-08-05T16:09:54.604Z"
   },
   {
    "duration": 56,
    "start_time": "2023-08-05T16:09:55.302Z"
   },
   {
    "duration": 22,
    "start_time": "2023-08-05T16:09:55.360Z"
   },
   {
    "duration": 25,
    "start_time": "2023-08-05T16:09:55.385Z"
   },
   {
    "duration": 14,
    "start_time": "2023-08-05T16:09:55.413Z"
   },
   {
    "duration": 21,
    "start_time": "2023-08-05T16:09:55.429Z"
   },
   {
    "duration": 25,
    "start_time": "2023-08-05T16:09:55.452Z"
   },
   {
    "duration": 137,
    "start_time": "2023-08-05T16:09:55.479Z"
   },
   {
    "duration": 0,
    "start_time": "2023-08-05T16:09:55.618Z"
   },
   {
    "duration": 0,
    "start_time": "2023-08-05T16:09:55.619Z"
   },
   {
    "duration": 0,
    "start_time": "2023-08-05T16:09:55.621Z"
   },
   {
    "duration": 0,
    "start_time": "2023-08-05T16:09:55.622Z"
   },
   {
    "duration": 0,
    "start_time": "2023-08-05T16:09:55.624Z"
   },
   {
    "duration": 51,
    "start_time": "2023-08-05T16:10:42.758Z"
   },
   {
    "duration": 715,
    "start_time": "2023-08-05T16:10:47.265Z"
   },
   {
    "duration": 60,
    "start_time": "2023-08-05T16:10:47.983Z"
   },
   {
    "duration": 20,
    "start_time": "2023-08-05T16:10:48.045Z"
   },
   {
    "duration": 18,
    "start_time": "2023-08-05T16:10:48.066Z"
   },
   {
    "duration": 6,
    "start_time": "2023-08-05T16:10:48.087Z"
   },
   {
    "duration": 12,
    "start_time": "2023-08-05T16:10:48.096Z"
   },
   {
    "duration": 20,
    "start_time": "2023-08-05T16:10:48.110Z"
   },
   {
    "duration": 92,
    "start_time": "2023-08-05T16:10:48.132Z"
   },
   {
    "duration": 25,
    "start_time": "2023-08-05T16:10:48.226Z"
   },
   {
    "duration": 48,
    "start_time": "2023-08-05T16:10:48.267Z"
   },
   {
    "duration": 10,
    "start_time": "2023-08-05T16:10:48.317Z"
   },
   {
    "duration": 42,
    "start_time": "2023-08-05T16:10:48.328Z"
   },
   {
    "duration": 23,
    "start_time": "2023-08-05T16:10:48.372Z"
   },
   {
    "duration": 52,
    "start_time": "2023-08-05T16:11:06.260Z"
   },
   {
    "duration": 49,
    "start_time": "2023-08-05T16:11:11.036Z"
   },
   {
    "duration": 43,
    "start_time": "2023-08-05T16:11:29.438Z"
   },
   {
    "duration": 71,
    "start_time": "2023-08-05T16:28:42.066Z"
   },
   {
    "duration": 854,
    "start_time": "2023-08-05T16:28:52.647Z"
   },
   {
    "duration": 57,
    "start_time": "2023-08-05T16:28:53.504Z"
   },
   {
    "duration": 20,
    "start_time": "2023-08-05T16:28:53.563Z"
   },
   {
    "duration": 16,
    "start_time": "2023-08-05T16:28:53.585Z"
   },
   {
    "duration": 4,
    "start_time": "2023-08-05T16:28:53.604Z"
   },
   {
    "duration": 15,
    "start_time": "2023-08-05T16:28:53.610Z"
   },
   {
    "duration": 40,
    "start_time": "2023-08-05T16:28:53.627Z"
   },
   {
    "duration": 20,
    "start_time": "2023-08-05T16:28:53.668Z"
   },
   {
    "duration": 58,
    "start_time": "2023-08-05T16:28:53.690Z"
   },
   {
    "duration": 62,
    "start_time": "2023-08-05T16:28:53.751Z"
   },
   {
    "duration": 14,
    "start_time": "2023-08-05T16:28:53.815Z"
   },
   {
    "duration": 37,
    "start_time": "2023-08-05T16:28:53.831Z"
   },
   {
    "duration": 36,
    "start_time": "2023-08-05T16:28:53.870Z"
   },
   {
    "duration": 9,
    "start_time": "2023-08-05T16:34:03.404Z"
   },
   {
    "duration": 48,
    "start_time": "2023-08-05T16:34:31.660Z"
   },
   {
    "duration": 9,
    "start_time": "2023-08-05T16:34:33.491Z"
   },
   {
    "duration": 18,
    "start_time": "2023-08-05T16:36:48.327Z"
   },
   {
    "duration": 5,
    "start_time": "2023-08-05T16:38:57.581Z"
   },
   {
    "duration": 6,
    "start_time": "2023-08-05T16:39:05.780Z"
   },
   {
    "duration": 15,
    "start_time": "2023-08-05T16:39:14.233Z"
   },
   {
    "duration": 4,
    "start_time": "2023-08-05T16:40:06.013Z"
   },
   {
    "duration": 14,
    "start_time": "2023-08-05T16:41:11.812Z"
   },
   {
    "duration": 15,
    "start_time": "2023-08-05T16:41:36.982Z"
   },
   {
    "duration": 19,
    "start_time": "2023-08-05T16:41:41.058Z"
   },
   {
    "duration": 15,
    "start_time": "2023-08-05T16:41:45.205Z"
   },
   {
    "duration": 10,
    "start_time": "2023-08-05T16:42:11.610Z"
   },
   {
    "duration": 10,
    "start_time": "2023-08-05T16:42:29.262Z"
   },
   {
    "duration": 17,
    "start_time": "2023-08-05T16:42:40.099Z"
   },
   {
    "duration": 9,
    "start_time": "2023-08-05T16:43:08.471Z"
   },
   {
    "duration": 21,
    "start_time": "2023-08-05T16:43:58.589Z"
   },
   {
    "duration": 19,
    "start_time": "2023-08-05T16:44:01.670Z"
   },
   {
    "duration": 9,
    "start_time": "2023-08-05T16:45:57.206Z"
   },
   {
    "duration": 19,
    "start_time": "2023-08-05T16:46:35.121Z"
   },
   {
    "duration": 18,
    "start_time": "2023-08-05T16:47:11.451Z"
   },
   {
    "duration": 702,
    "start_time": "2023-08-05T16:47:39.052Z"
   },
   {
    "duration": 56,
    "start_time": "2023-08-05T16:47:39.756Z"
   },
   {
    "duration": 21,
    "start_time": "2023-08-05T16:47:39.814Z"
   },
   {
    "duration": 19,
    "start_time": "2023-08-05T16:47:39.837Z"
   },
   {
    "duration": 9,
    "start_time": "2023-08-05T16:47:39.859Z"
   },
   {
    "duration": 24,
    "start_time": "2023-08-05T16:47:39.870Z"
   },
   {
    "duration": 54,
    "start_time": "2023-08-05T16:47:39.897Z"
   },
   {
    "duration": 19,
    "start_time": "2023-08-05T16:47:39.953Z"
   },
   {
    "duration": 64,
    "start_time": "2023-08-05T16:47:39.974Z"
   },
   {
    "duration": 49,
    "start_time": "2023-08-05T16:47:40.041Z"
   },
   {
    "duration": 7,
    "start_time": "2023-08-05T16:47:40.092Z"
   },
   {
    "duration": 29,
    "start_time": "2023-08-05T16:47:40.101Z"
   },
   {
    "duration": 28,
    "start_time": "2023-08-05T16:47:40.132Z"
   },
   {
    "duration": 45,
    "start_time": "2023-08-05T16:47:40.162Z"
   },
   {
    "duration": 15,
    "start_time": "2023-08-05T16:47:40.209Z"
   },
   {
    "duration": 32,
    "start_time": "2023-08-05T16:47:40.226Z"
   },
   {
    "duration": 109,
    "start_time": "2023-08-05T16:50:59.661Z"
   },
   {
    "duration": 25,
    "start_time": "2023-08-05T16:51:07.098Z"
   },
   {
    "duration": 30,
    "start_time": "2023-08-05T16:51:30.795Z"
   },
   {
    "duration": 11,
    "start_time": "2023-08-05T16:53:22.953Z"
   },
   {
    "duration": 93,
    "start_time": "2023-08-05T16:54:09.373Z"
   },
   {
    "duration": 27,
    "start_time": "2023-08-05T16:55:10.649Z"
   },
   {
    "duration": 15,
    "start_time": "2023-08-05T16:55:24.533Z"
   },
   {
    "duration": 4,
    "start_time": "2023-08-05T16:59:13.320Z"
   },
   {
    "duration": 6,
    "start_time": "2023-08-05T16:59:27.512Z"
   },
   {
    "duration": 727,
    "start_time": "2023-08-05T16:59:34.023Z"
   },
   {
    "duration": 58,
    "start_time": "2023-08-05T16:59:34.752Z"
   },
   {
    "duration": 22,
    "start_time": "2023-08-05T16:59:34.812Z"
   },
   {
    "duration": 29,
    "start_time": "2023-08-05T16:59:34.835Z"
   },
   {
    "duration": 3,
    "start_time": "2023-08-05T16:59:34.867Z"
   },
   {
    "duration": 14,
    "start_time": "2023-08-05T16:59:34.873Z"
   },
   {
    "duration": 14,
    "start_time": "2023-08-05T16:59:34.890Z"
   },
   {
    "duration": 18,
    "start_time": "2023-08-05T16:59:34.907Z"
   },
   {
    "duration": 84,
    "start_time": "2023-08-05T16:59:34.927Z"
   },
   {
    "duration": 70,
    "start_time": "2023-08-05T16:59:35.014Z"
   },
   {
    "duration": 6,
    "start_time": "2023-08-05T16:59:35.087Z"
   },
   {
    "duration": 22,
    "start_time": "2023-08-05T16:59:35.095Z"
   },
   {
    "duration": 26,
    "start_time": "2023-08-05T16:59:35.119Z"
   },
   {
    "duration": 22,
    "start_time": "2023-08-05T16:59:35.149Z"
   },
   {
    "duration": 16,
    "start_time": "2023-08-05T16:59:35.173Z"
   },
   {
    "duration": 6,
    "start_time": "2023-08-05T16:59:35.191Z"
   },
   {
    "duration": 759,
    "start_time": "2023-08-05T17:01:29.834Z"
   },
   {
    "duration": 58,
    "start_time": "2023-08-05T17:01:30.596Z"
   },
   {
    "duration": 21,
    "start_time": "2023-08-05T17:01:30.656Z"
   },
   {
    "duration": 54,
    "start_time": "2023-08-05T17:01:30.681Z"
   },
   {
    "duration": 56,
    "start_time": "2023-08-05T17:01:30.737Z"
   },
   {
    "duration": 32,
    "start_time": "2023-08-05T17:01:30.795Z"
   },
   {
    "duration": 46,
    "start_time": "2023-08-05T17:01:30.829Z"
   },
   {
    "duration": 54,
    "start_time": "2023-08-05T17:01:30.878Z"
   },
   {
    "duration": 73,
    "start_time": "2023-08-05T17:01:30.934Z"
   },
   {
    "duration": 57,
    "start_time": "2023-08-05T17:01:31.010Z"
   },
   {
    "duration": 6,
    "start_time": "2023-08-05T17:01:31.069Z"
   },
   {
    "duration": 65,
    "start_time": "2023-08-05T17:01:31.078Z"
   },
   {
    "duration": 58,
    "start_time": "2023-08-05T17:01:31.145Z"
   },
   {
    "duration": 54,
    "start_time": "2023-08-05T17:01:31.206Z"
   },
   {
    "duration": 47,
    "start_time": "2023-08-05T17:01:31.263Z"
   },
   {
    "duration": 34,
    "start_time": "2023-08-05T17:02:26.581Z"
   },
   {
    "duration": 685,
    "start_time": "2023-08-05T17:03:40.598Z"
   },
   {
    "duration": 56,
    "start_time": "2023-08-05T17:03:41.285Z"
   },
   {
    "duration": 26,
    "start_time": "2023-08-05T17:03:41.343Z"
   },
   {
    "duration": 15,
    "start_time": "2023-08-05T17:03:41.371Z"
   },
   {
    "duration": 3,
    "start_time": "2023-08-05T17:03:41.388Z"
   },
   {
    "duration": 22,
    "start_time": "2023-08-05T17:03:41.393Z"
   },
   {
    "duration": 20,
    "start_time": "2023-08-05T17:03:41.416Z"
   },
   {
    "duration": 73,
    "start_time": "2023-08-05T17:03:41.438Z"
   },
   {
    "duration": 59,
    "start_time": "2023-08-05T17:03:41.513Z"
   },
   {
    "duration": 7,
    "start_time": "2023-08-05T17:03:41.575Z"
   },
   {
    "duration": 52,
    "start_time": "2023-08-05T17:03:41.584Z"
   },
   {
    "duration": 9,
    "start_time": "2023-08-05T17:03:41.638Z"
   },
   {
    "duration": 12,
    "start_time": "2023-08-05T17:03:41.649Z"
   },
   {
    "duration": 23,
    "start_time": "2023-08-05T17:03:41.663Z"
   },
   {
    "duration": 5,
    "start_time": "2023-08-05T17:04:25.554Z"
   },
   {
    "duration": 4,
    "start_time": "2023-08-05T17:04:39.014Z"
   },
   {
    "duration": 4,
    "start_time": "2023-08-05T17:04:48.874Z"
   },
   {
    "duration": 4,
    "start_time": "2023-08-05T17:04:54.778Z"
   },
   {
    "duration": 5,
    "start_time": "2023-08-05T17:05:00.767Z"
   },
   {
    "duration": 4,
    "start_time": "2023-08-05T17:05:05.527Z"
   },
   {
    "duration": 6,
    "start_time": "2023-08-05T17:05:19.762Z"
   },
   {
    "duration": 108,
    "start_time": "2023-08-05T17:07:43.782Z"
   },
   {
    "duration": 4,
    "start_time": "2023-08-05T17:07:50.503Z"
   },
   {
    "duration": 5,
    "start_time": "2023-08-05T17:07:54.021Z"
   },
   {
    "duration": 5,
    "start_time": "2023-08-05T17:10:10.657Z"
   },
   {
    "duration": 6,
    "start_time": "2023-08-05T17:10:48.479Z"
   },
   {
    "duration": 32,
    "start_time": "2023-08-05T17:10:52.562Z"
   },
   {
    "duration": 5,
    "start_time": "2023-08-05T17:11:21.205Z"
   },
   {
    "duration": 5,
    "start_time": "2023-08-05T17:11:32.819Z"
   },
   {
    "duration": 9,
    "start_time": "2023-08-05T17:16:24.752Z"
   },
   {
    "duration": 155,
    "start_time": "2023-08-05T17:16:59.173Z"
   },
   {
    "duration": 318,
    "start_time": "2023-08-05T17:17:07.002Z"
   },
   {
    "duration": 365,
    "start_time": "2023-08-05T17:17:10.602Z"
   },
   {
    "duration": 329,
    "start_time": "2023-08-05T17:17:35.180Z"
   },
   {
    "duration": 319,
    "start_time": "2023-08-05T17:17:40.422Z"
   },
   {
    "duration": 343,
    "start_time": "2023-08-05T17:17:48.146Z"
   },
   {
    "duration": 317,
    "start_time": "2023-08-05T17:19:29.601Z"
   },
   {
    "duration": 311,
    "start_time": "2023-08-05T17:19:51.320Z"
   },
   {
    "duration": 388,
    "start_time": "2023-08-05T17:19:55.389Z"
   },
   {
    "duration": 332,
    "start_time": "2023-08-05T17:20:08.357Z"
   },
   {
    "duration": 9,
    "start_time": "2023-08-05T17:26:36.610Z"
   },
   {
    "duration": 14,
    "start_time": "2023-08-05T17:26:59.252Z"
   },
   {
    "duration": 16,
    "start_time": "2023-08-05T17:27:28.789Z"
   },
   {
    "duration": 18,
    "start_time": "2023-08-05T17:27:44.293Z"
   },
   {
    "duration": 14,
    "start_time": "2023-08-05T17:27:48.561Z"
   },
   {
    "duration": 13,
    "start_time": "2023-08-05T17:28:28.157Z"
   },
   {
    "duration": 8,
    "start_time": "2023-08-05T17:30:03.889Z"
   },
   {
    "duration": 12,
    "start_time": "2023-08-05T17:30:07.658Z"
   },
   {
    "duration": 12,
    "start_time": "2023-08-05T17:30:24.164Z"
   },
   {
    "duration": 15,
    "start_time": "2023-08-05T17:31:31.666Z"
   },
   {
    "duration": 13,
    "start_time": "2023-08-05T17:31:50.366Z"
   },
   {
    "duration": 14,
    "start_time": "2023-08-05T17:36:04.291Z"
   },
   {
    "duration": 516,
    "start_time": "2023-08-05T17:36:43.242Z"
   },
   {
    "duration": 14,
    "start_time": "2023-08-05T17:37:26.975Z"
   },
   {
    "duration": 7,
    "start_time": "2023-08-05T17:38:00.790Z"
   },
   {
    "duration": 312,
    "start_time": "2023-08-05T17:39:14.259Z"
   },
   {
    "duration": 304,
    "start_time": "2023-08-05T17:39:26.138Z"
   },
   {
    "duration": 316,
    "start_time": "2023-08-05T17:39:53.527Z"
   },
   {
    "duration": 526,
    "start_time": "2023-08-05T17:40:01.577Z"
   },
   {
    "duration": 346,
    "start_time": "2023-08-05T17:40:10.303Z"
   },
   {
    "duration": 304,
    "start_time": "2023-08-05T17:40:18.323Z"
   },
   {
    "duration": 16,
    "start_time": "2023-08-05T17:44:10.709Z"
   },
   {
    "duration": 13,
    "start_time": "2023-08-05T17:44:25.040Z"
   },
   {
    "duration": 34,
    "start_time": "2023-08-05T17:44:35.157Z"
   },
   {
    "duration": 212,
    "start_time": "2023-08-05T17:44:47.212Z"
   },
   {
    "duration": 30,
    "start_time": "2023-08-05T17:45:07.146Z"
   },
   {
    "duration": 20,
    "start_time": "2023-08-05T17:45:29.876Z"
   },
   {
    "duration": 138,
    "start_time": "2023-08-05T17:45:37.445Z"
   },
   {
    "duration": 18,
    "start_time": "2023-08-05T17:45:54.778Z"
   },
   {
    "duration": 23,
    "start_time": "2023-08-05T17:46:07.296Z"
   },
   {
    "duration": 29,
    "start_time": "2023-08-05T17:47:19.951Z"
   },
   {
    "duration": 37,
    "start_time": "2023-08-05T17:47:30.190Z"
   },
   {
    "duration": 29,
    "start_time": "2023-08-05T17:47:43.262Z"
   },
   {
    "duration": 15,
    "start_time": "2023-08-05T17:48:27.037Z"
   },
   {
    "duration": 112,
    "start_time": "2023-08-05T17:48:55.679Z"
   },
   {
    "duration": 29,
    "start_time": "2023-08-05T17:49:01.095Z"
   },
   {
    "duration": 22965,
    "start_time": "2023-08-05T17:50:43.886Z"
   },
   {
    "duration": 122,
    "start_time": "2023-08-05T17:52:20.953Z"
   },
   {
    "duration": 109,
    "start_time": "2023-08-05T17:52:29.375Z"
   },
   {
    "duration": 4,
    "start_time": "2023-08-05T17:52:35.684Z"
   },
   {
    "duration": 103,
    "start_time": "2023-08-05T17:53:07.774Z"
   },
   {
    "duration": 112,
    "start_time": "2023-08-05T17:53:15.538Z"
   },
   {
    "duration": 116,
    "start_time": "2023-08-05T17:53:31.123Z"
   },
   {
    "duration": 110,
    "start_time": "2023-08-05T17:53:35.133Z"
   },
   {
    "duration": 114,
    "start_time": "2023-08-05T17:54:45.890Z"
   },
   {
    "duration": 106,
    "start_time": "2023-08-05T17:55:08.429Z"
   },
   {
    "duration": 104,
    "start_time": "2023-08-05T17:55:10.581Z"
   },
   {
    "duration": 102,
    "start_time": "2023-08-05T17:55:17.400Z"
   },
   {
    "duration": 138,
    "start_time": "2023-08-05T17:55:25.203Z"
   },
   {
    "duration": 106,
    "start_time": "2023-08-05T17:55:28.995Z"
   },
   {
    "duration": 115,
    "start_time": "2023-08-05T17:55:50.096Z"
   },
   {
    "duration": 19,
    "start_time": "2023-08-05T17:55:55.394Z"
   },
   {
    "duration": 20,
    "start_time": "2023-08-05T17:56:01.830Z"
   },
   {
    "duration": 17,
    "start_time": "2023-08-05T17:56:23.642Z"
   },
   {
    "duration": 18,
    "start_time": "2023-08-05T17:56:30.565Z"
   },
   {
    "duration": 133,
    "start_time": "2023-08-05T17:56:46.451Z"
   },
   {
    "duration": 165,
    "start_time": "2023-08-05T17:57:02.194Z"
   },
   {
    "duration": 19,
    "start_time": "2023-08-05T17:57:22.666Z"
   },
   {
    "duration": 128,
    "start_time": "2023-08-05T17:58:05.843Z"
   },
   {
    "duration": 17,
    "start_time": "2023-08-05T18:02:11.432Z"
   },
   {
    "duration": 74,
    "start_time": "2023-08-05T18:02:16.696Z"
   },
   {
    "duration": 20,
    "start_time": "2023-08-05T18:02:39.817Z"
   },
   {
    "duration": 47,
    "start_time": "2023-08-05T18:02:42.639Z"
   },
   {
    "duration": 256,
    "start_time": "2023-08-05T18:03:10.108Z"
   },
   {
    "duration": 27,
    "start_time": "2023-08-05T18:03:32.542Z"
   },
   {
    "duration": 280,
    "start_time": "2023-08-05T18:04:24.281Z"
   },
   {
    "duration": 266,
    "start_time": "2023-08-05T18:04:45.309Z"
   },
   {
    "duration": 598,
    "start_time": "2023-08-05T18:05:16.366Z"
   },
   {
    "duration": 111,
    "start_time": "2023-08-05T18:06:31.193Z"
   },
   {
    "duration": 272,
    "start_time": "2023-08-05T18:06:45.406Z"
   },
   {
    "duration": 302,
    "start_time": "2023-08-05T18:06:57.815Z"
   },
   {
    "duration": 334,
    "start_time": "2023-08-05T18:07:03.110Z"
   },
   {
    "duration": 280,
    "start_time": "2023-08-05T18:07:06.465Z"
   },
   {
    "duration": 358,
    "start_time": "2023-08-05T18:07:22.835Z"
   },
   {
    "duration": 292,
    "start_time": "2023-08-05T18:07:25.779Z"
   },
   {
    "duration": 165,
    "start_time": "2023-08-05T18:07:39.972Z"
   },
   {
    "duration": 264,
    "start_time": "2023-08-05T18:07:47.723Z"
   },
   {
    "duration": 301,
    "start_time": "2023-08-05T18:07:50.588Z"
   },
   {
    "duration": 300,
    "start_time": "2023-08-05T18:07:56.086Z"
   },
   {
    "duration": 312,
    "start_time": "2023-08-05T18:08:00.530Z"
   },
   {
    "duration": 206,
    "start_time": "2023-08-05T18:08:04.778Z"
   },
   {
    "duration": 310,
    "start_time": "2023-08-05T18:08:07.369Z"
   },
   {
    "duration": 157,
    "start_time": "2023-08-05T18:10:53.174Z"
   },
   {
    "duration": 291,
    "start_time": "2023-08-05T18:11:39.459Z"
   },
   {
    "duration": 365,
    "start_time": "2023-08-05T18:11:44.613Z"
   },
   {
    "duration": 249,
    "start_time": "2023-08-05T18:11:50.242Z"
   },
   {
    "duration": 228,
    "start_time": "2023-08-05T18:11:54.678Z"
   },
   {
    "duration": 272,
    "start_time": "2023-08-05T18:12:39.351Z"
   },
   {
    "duration": 274,
    "start_time": "2023-08-05T18:12:45.184Z"
   },
   {
    "duration": 243,
    "start_time": "2023-08-05T18:14:02.521Z"
   },
   {
    "duration": 249,
    "start_time": "2023-08-05T18:14:38.766Z"
   },
   {
    "duration": 395,
    "start_time": "2023-08-05T18:19:16.903Z"
   },
   {
    "duration": 283,
    "start_time": "2023-08-05T18:19:34.148Z"
   },
   {
    "duration": 546,
    "start_time": "2023-08-05T18:20:24.701Z"
   },
   {
    "duration": 717,
    "start_time": "2023-08-05T18:20:50.773Z"
   },
   {
    "duration": 47,
    "start_time": "2023-08-06T07:19:30.389Z"
   },
   {
    "duration": 794,
    "start_time": "2023-08-06T07:19:34.984Z"
   },
   {
    "duration": 185,
    "start_time": "2023-08-06T07:19:35.780Z"
   },
   {
    "duration": 19,
    "start_time": "2023-08-06T07:19:35.967Z"
   },
   {
    "duration": 16,
    "start_time": "2023-08-06T07:19:35.988Z"
   },
   {
    "duration": 3,
    "start_time": "2023-08-06T07:19:36.006Z"
   },
   {
    "duration": 32,
    "start_time": "2023-08-06T07:19:36.010Z"
   },
   {
    "duration": 28,
    "start_time": "2023-08-06T07:19:36.044Z"
   },
   {
    "duration": 63,
    "start_time": "2023-08-06T07:19:36.074Z"
   },
   {
    "duration": 50,
    "start_time": "2023-08-06T07:19:36.139Z"
   },
   {
    "duration": 5,
    "start_time": "2023-08-06T07:19:36.192Z"
   },
   {
    "duration": 26,
    "start_time": "2023-08-06T07:19:36.199Z"
   },
   {
    "duration": 15,
    "start_time": "2023-08-06T07:19:36.227Z"
   },
   {
    "duration": 18,
    "start_time": "2023-08-06T07:19:36.244Z"
   },
   {
    "duration": 16,
    "start_time": "2023-08-06T07:19:36.264Z"
   },
   {
    "duration": 4,
    "start_time": "2023-08-06T07:19:36.282Z"
   },
   {
    "duration": 7,
    "start_time": "2023-08-06T07:19:36.288Z"
   },
   {
    "duration": 353,
    "start_time": "2023-08-06T07:19:36.296Z"
   },
   {
    "duration": 306,
    "start_time": "2023-08-06T07:19:36.651Z"
   },
   {
    "duration": 76,
    "start_time": "2023-08-06T07:19:36.958Z"
   },
   {
    "duration": 4,
    "start_time": "2023-08-06T07:19:47.635Z"
   },
   {
    "duration": 5,
    "start_time": "2023-08-06T07:38:34.878Z"
   },
   {
    "duration": 8,
    "start_time": "2023-08-06T07:39:05.273Z"
   },
   {
    "duration": 8,
    "start_time": "2023-08-06T07:39:25.310Z"
   },
   {
    "duration": 6,
    "start_time": "2023-08-06T07:39:36.221Z"
   },
   {
    "duration": 6,
    "start_time": "2023-08-06T07:42:08.599Z"
   },
   {
    "duration": 8,
    "start_time": "2023-08-06T07:44:24.343Z"
   },
   {
    "duration": 196,
    "start_time": "2023-08-06T07:44:30.530Z"
   },
   {
    "duration": 155,
    "start_time": "2023-08-06T07:44:40.881Z"
   },
   {
    "duration": 8,
    "start_time": "2023-08-06T07:44:58.636Z"
   },
   {
    "duration": 11,
    "start_time": "2023-08-06T07:45:07.096Z"
   },
   {
    "duration": 11,
    "start_time": "2023-08-06T07:45:15.568Z"
   },
   {
    "duration": 12,
    "start_time": "2023-08-06T07:45:26.579Z"
   },
   {
    "duration": 211,
    "start_time": "2023-08-06T07:46:24.051Z"
   },
   {
    "duration": 12,
    "start_time": "2023-08-06T07:46:57.097Z"
   },
   {
    "duration": 132,
    "start_time": "2023-08-06T07:47:28.147Z"
   },
   {
    "duration": 176,
    "start_time": "2023-08-06T07:47:37.841Z"
   },
   {
    "duration": 198,
    "start_time": "2023-08-06T07:48:04.800Z"
   },
   {
    "duration": 204,
    "start_time": "2023-08-06T07:49:00.073Z"
   },
   {
    "duration": 248,
    "start_time": "2023-08-06T07:49:03.996Z"
   },
   {
    "duration": 6,
    "start_time": "2023-08-06T07:53:45.823Z"
   },
   {
    "duration": 326,
    "start_time": "2023-08-06T07:53:46.298Z"
   },
   {
    "duration": 16,
    "start_time": "2023-08-06T08:09:36.452Z"
   },
   {
    "duration": 182,
    "start_time": "2023-08-06T08:09:53.885Z"
   },
   {
    "duration": 20,
    "start_time": "2023-08-06T08:10:15.332Z"
   },
   {
    "duration": 271,
    "start_time": "2023-08-06T08:10:53.847Z"
   },
   {
    "duration": 161,
    "start_time": "2023-08-06T08:11:02.495Z"
   },
   {
    "duration": 184,
    "start_time": "2023-08-06T08:11:14.658Z"
   },
   {
    "duration": 317,
    "start_time": "2023-08-06T08:13:15.095Z"
   },
   {
    "duration": 25,
    "start_time": "2023-08-06T08:25:31.000Z"
   },
   {
    "duration": 67,
    "start_time": "2023-08-06T10:45:12.796Z"
   },
   {
    "duration": 939,
    "start_time": "2023-08-06T10:45:17.896Z"
   },
   {
    "duration": 265,
    "start_time": "2023-08-06T10:45:18.838Z"
   },
   {
    "duration": 27,
    "start_time": "2023-08-06T10:45:19.105Z"
   },
   {
    "duration": 19,
    "start_time": "2023-08-06T10:45:19.135Z"
   },
   {
    "duration": 4,
    "start_time": "2023-08-06T10:45:19.156Z"
   },
   {
    "duration": 44,
    "start_time": "2023-08-06T10:45:19.161Z"
   },
   {
    "duration": 12,
    "start_time": "2023-08-06T10:45:19.207Z"
   },
   {
    "duration": 44,
    "start_time": "2023-08-06T10:45:19.221Z"
   },
   {
    "duration": 60,
    "start_time": "2023-08-06T10:45:19.274Z"
   },
   {
    "duration": 5,
    "start_time": "2023-08-06T10:45:19.336Z"
   },
   {
    "duration": 37,
    "start_time": "2023-08-06T10:45:19.342Z"
   },
   {
    "duration": 17,
    "start_time": "2023-08-06T10:45:19.381Z"
   },
   {
    "duration": 11,
    "start_time": "2023-08-06T10:45:19.400Z"
   },
   {
    "duration": 13,
    "start_time": "2023-08-06T10:45:19.413Z"
   },
   {
    "duration": 12,
    "start_time": "2023-08-06T10:45:19.428Z"
   },
   {
    "duration": 33,
    "start_time": "2023-08-06T10:45:19.441Z"
   },
   {
    "duration": 415,
    "start_time": "2023-08-06T10:45:19.477Z"
   },
   {
    "duration": 93,
    "start_time": "2023-08-06T10:45:19.893Z"
   },
   {
    "duration": 0,
    "start_time": "2023-08-06T10:45:19.989Z"
   },
   {
    "duration": 0,
    "start_time": "2023-08-06T10:45:19.990Z"
   },
   {
    "duration": 0,
    "start_time": "2023-08-06T10:45:19.991Z"
   },
   {
    "duration": 708,
    "start_time": "2023-08-06T10:46:34.921Z"
   },
   {
    "duration": 65,
    "start_time": "2023-08-06T10:46:35.631Z"
   },
   {
    "duration": 19,
    "start_time": "2023-08-06T10:46:35.698Z"
   },
   {
    "duration": 14,
    "start_time": "2023-08-06T10:46:35.718Z"
   },
   {
    "duration": 3,
    "start_time": "2023-08-06T10:46:35.735Z"
   },
   {
    "duration": 34,
    "start_time": "2023-08-06T10:46:35.739Z"
   },
   {
    "duration": 23,
    "start_time": "2023-08-06T10:46:35.775Z"
   },
   {
    "duration": 66,
    "start_time": "2023-08-06T10:46:35.800Z"
   },
   {
    "duration": 61,
    "start_time": "2023-08-06T10:46:35.870Z"
   },
   {
    "duration": 4,
    "start_time": "2023-08-06T10:46:35.933Z"
   },
   {
    "duration": 36,
    "start_time": "2023-08-06T10:46:35.939Z"
   },
   {
    "duration": 19,
    "start_time": "2023-08-06T10:46:35.982Z"
   },
   {
    "duration": 11,
    "start_time": "2023-08-06T10:46:36.004Z"
   },
   {
    "duration": 31,
    "start_time": "2023-08-06T10:46:36.018Z"
   },
   {
    "duration": 4,
    "start_time": "2023-08-06T10:46:36.051Z"
   },
   {
    "duration": 8,
    "start_time": "2023-08-06T10:46:36.057Z"
   },
   {
    "duration": 426,
    "start_time": "2023-08-06T10:46:36.067Z"
   },
   {
    "duration": 106,
    "start_time": "2023-08-06T10:46:36.495Z"
   },
   {
    "duration": 0,
    "start_time": "2023-08-06T10:46:36.603Z"
   },
   {
    "duration": 1,
    "start_time": "2023-08-06T10:46:36.604Z"
   },
   {
    "duration": 1,
    "start_time": "2023-08-06T10:46:36.606Z"
   },
   {
    "duration": 369,
    "start_time": "2023-08-06T10:46:56.028Z"
   },
   {
    "duration": 843,
    "start_time": "2023-08-06T10:47:02.486Z"
   },
   {
    "duration": 73,
    "start_time": "2023-08-06T10:47:03.331Z"
   },
   {
    "duration": 21,
    "start_time": "2023-08-06T10:47:03.406Z"
   },
   {
    "duration": 18,
    "start_time": "2023-08-06T10:47:03.429Z"
   },
   {
    "duration": 22,
    "start_time": "2023-08-06T10:47:03.449Z"
   },
   {
    "duration": 31,
    "start_time": "2023-08-06T10:47:03.473Z"
   },
   {
    "duration": 17,
    "start_time": "2023-08-06T10:47:03.505Z"
   },
   {
    "duration": 73,
    "start_time": "2023-08-06T10:47:03.524Z"
   },
   {
    "duration": 52,
    "start_time": "2023-08-06T10:47:03.599Z"
   },
   {
    "duration": 5,
    "start_time": "2023-08-06T10:47:03.654Z"
   },
   {
    "duration": 43,
    "start_time": "2023-08-06T10:47:03.660Z"
   },
   {
    "duration": 14,
    "start_time": "2023-08-06T10:47:03.705Z"
   },
   {
    "duration": 18,
    "start_time": "2023-08-06T10:47:03.721Z"
   },
   {
    "duration": 42,
    "start_time": "2023-08-06T10:47:03.741Z"
   },
   {
    "duration": 12,
    "start_time": "2023-08-06T10:47:03.787Z"
   },
   {
    "duration": 5,
    "start_time": "2023-08-06T10:47:03.812Z"
   },
   {
    "duration": 442,
    "start_time": "2023-08-06T10:47:03.819Z"
   },
   {
    "duration": 461,
    "start_time": "2023-08-06T10:47:04.264Z"
   },
   {
    "duration": 6,
    "start_time": "2023-08-06T10:47:04.728Z"
   },
   {
    "duration": 521,
    "start_time": "2023-08-06T10:47:04.736Z"
   },
   {
    "duration": 252,
    "start_time": "2023-08-06T10:47:05.259Z"
   },
   {
    "duration": 1327,
    "start_time": "2023-08-06T10:50:18.784Z"
   },
   {
    "duration": 56,
    "start_time": "2023-08-06T10:50:20.114Z"
   },
   {
    "duration": 24,
    "start_time": "2023-08-06T10:50:20.172Z"
   },
   {
    "duration": 17,
    "start_time": "2023-08-06T10:50:20.199Z"
   },
   {
    "duration": 9,
    "start_time": "2023-08-06T10:50:20.218Z"
   },
   {
    "duration": 30,
    "start_time": "2023-08-06T10:50:20.229Z"
   },
   {
    "duration": 18,
    "start_time": "2023-08-06T10:50:20.261Z"
   },
   {
    "duration": 50,
    "start_time": "2023-08-06T10:50:20.285Z"
   },
   {
    "duration": 68,
    "start_time": "2023-08-06T10:50:20.337Z"
   },
   {
    "duration": 5,
    "start_time": "2023-08-06T10:50:20.409Z"
   },
   {
    "duration": 24,
    "start_time": "2023-08-06T10:50:20.416Z"
   },
   {
    "duration": 9,
    "start_time": "2023-08-06T10:50:20.442Z"
   },
   {
    "duration": 27,
    "start_time": "2023-08-06T10:50:20.452Z"
   },
   {
    "duration": 20,
    "start_time": "2023-08-06T10:50:20.481Z"
   },
   {
    "duration": 17,
    "start_time": "2023-08-06T10:50:20.503Z"
   },
   {
    "duration": 23,
    "start_time": "2023-08-06T10:50:20.522Z"
   },
   {
    "duration": 385,
    "start_time": "2023-08-06T10:50:20.547Z"
   },
   {
    "duration": 356,
    "start_time": "2023-08-06T10:50:20.934Z"
   },
   {
    "duration": 7,
    "start_time": "2023-08-06T10:50:21.292Z"
   },
   {
    "duration": 376,
    "start_time": "2023-08-06T10:50:21.301Z"
   },
   {
    "duration": 121,
    "start_time": "2023-08-06T10:50:21.688Z"
   },
   {
    "duration": 695,
    "start_time": "2023-08-06T10:50:28.562Z"
   },
   {
    "duration": 338,
    "start_time": "2023-08-06T10:50:50.504Z"
   },
   {
    "duration": 355,
    "start_time": "2023-08-06T10:51:16.223Z"
   },
   {
    "duration": 376,
    "start_time": "2023-08-06T10:51:22.099Z"
   },
   {
    "duration": 395,
    "start_time": "2023-08-06T10:51:48.996Z"
   },
   {
    "duration": 368,
    "start_time": "2023-08-06T10:53:04.638Z"
   },
   {
    "duration": 1345,
    "start_time": "2023-08-06T10:53:16.744Z"
   },
   {
    "duration": 55,
    "start_time": "2023-08-06T10:53:18.091Z"
   },
   {
    "duration": 21,
    "start_time": "2023-08-06T10:53:18.148Z"
   },
   {
    "duration": 31,
    "start_time": "2023-08-06T10:53:18.171Z"
   },
   {
    "duration": 3,
    "start_time": "2023-08-06T10:53:18.205Z"
   },
   {
    "duration": 12,
    "start_time": "2023-08-06T10:53:18.209Z"
   },
   {
    "duration": 13,
    "start_time": "2023-08-06T10:53:18.222Z"
   },
   {
    "duration": 77,
    "start_time": "2023-08-06T10:53:18.237Z"
   },
   {
    "duration": 57,
    "start_time": "2023-08-06T10:53:18.316Z"
   },
   {
    "duration": 9,
    "start_time": "2023-08-06T10:53:18.378Z"
   },
   {
    "duration": 25,
    "start_time": "2023-08-06T10:53:18.392Z"
   },
   {
    "duration": 10,
    "start_time": "2023-08-06T10:53:18.419Z"
   },
   {
    "duration": 15,
    "start_time": "2023-08-06T10:53:18.431Z"
   },
   {
    "duration": 34,
    "start_time": "2023-08-06T10:53:18.448Z"
   },
   {
    "duration": 5,
    "start_time": "2023-08-06T10:53:18.494Z"
   },
   {
    "duration": 8,
    "start_time": "2023-08-06T10:53:18.501Z"
   },
   {
    "duration": 410,
    "start_time": "2023-08-06T10:53:18.511Z"
   },
   {
    "duration": 386,
    "start_time": "2023-08-06T10:53:18.923Z"
   },
   {
    "duration": 7,
    "start_time": "2023-08-06T10:53:19.311Z"
   },
   {
    "duration": 378,
    "start_time": "2023-08-06T10:53:19.319Z"
   },
   {
    "duration": 424,
    "start_time": "2023-08-06T10:53:19.699Z"
   },
   {
    "duration": 536,
    "start_time": "2023-08-06T10:53:33.550Z"
   },
   {
    "duration": 383,
    "start_time": "2023-08-06T10:53:39.763Z"
   },
   {
    "duration": 429,
    "start_time": "2023-08-06T10:53:45.201Z"
   },
   {
    "duration": 56,
    "start_time": "2023-08-09T18:55:11.450Z"
   },
   {
    "duration": 1491,
    "start_time": "2023-08-09T18:55:19.777Z"
   },
   {
    "duration": 272,
    "start_time": "2023-08-09T18:55:21.270Z"
   },
   {
    "duration": 19,
    "start_time": "2023-08-09T18:55:21.543Z"
   },
   {
    "duration": 17,
    "start_time": "2023-08-09T18:55:21.564Z"
   },
   {
    "duration": 3,
    "start_time": "2023-08-09T18:55:21.583Z"
   },
   {
    "duration": 10,
    "start_time": "2023-08-09T18:55:21.589Z"
   },
   {
    "duration": 13,
    "start_time": "2023-08-09T18:55:21.601Z"
   },
   {
    "duration": 71,
    "start_time": "2023-08-09T18:55:21.616Z"
   },
   {
    "duration": 45,
    "start_time": "2023-08-09T18:55:21.689Z"
   },
   {
    "duration": 5,
    "start_time": "2023-08-09T18:55:21.737Z"
   },
   {
    "duration": 36,
    "start_time": "2023-08-09T18:55:21.743Z"
   },
   {
    "duration": 12,
    "start_time": "2023-08-09T18:55:21.782Z"
   },
   {
    "duration": 15,
    "start_time": "2023-08-09T18:55:21.795Z"
   },
   {
    "duration": 14,
    "start_time": "2023-08-09T18:55:21.812Z"
   },
   {
    "duration": 13,
    "start_time": "2023-08-09T18:55:21.828Z"
   },
   {
    "duration": 27,
    "start_time": "2023-08-09T18:55:21.843Z"
   },
   {
    "duration": 366,
    "start_time": "2023-08-09T18:55:21.873Z"
   },
   {
    "duration": 348,
    "start_time": "2023-08-09T18:55:22.241Z"
   },
   {
    "duration": 6,
    "start_time": "2023-08-09T18:55:22.592Z"
   },
   {
    "duration": 378,
    "start_time": "2023-08-09T18:55:22.600Z"
   },
   {
    "duration": 418,
    "start_time": "2023-08-09T18:55:22.980Z"
   },
   {
    "duration": 479,
    "start_time": "2023-08-09T18:55:53.533Z"
   },
   {
    "duration": 389,
    "start_time": "2023-08-09T18:56:25.348Z"
   },
   {
    "duration": 375,
    "start_time": "2023-08-09T18:56:33.079Z"
   },
   {
    "duration": 382,
    "start_time": "2023-08-09T19:00:13.423Z"
   },
   {
    "duration": 400,
    "start_time": "2023-08-09T19:00:30.786Z"
   },
   {
    "duration": 506,
    "start_time": "2023-08-09T19:01:52.997Z"
   },
   {
    "duration": 408,
    "start_time": "2023-08-09T19:02:09.624Z"
   },
   {
    "duration": 446,
    "start_time": "2023-08-09T19:03:00.498Z"
   },
   {
    "duration": 399,
    "start_time": "2023-08-09T19:07:08.003Z"
   },
   {
    "duration": 421,
    "start_time": "2023-08-09T19:07:15.575Z"
   },
   {
    "duration": 382,
    "start_time": "2023-08-09T19:07:25.841Z"
   },
   {
    "duration": 524,
    "start_time": "2023-08-09T19:07:34.502Z"
   },
   {
    "duration": 368,
    "start_time": "2023-08-09T19:10:04.491Z"
   },
   {
    "duration": 406,
    "start_time": "2023-08-09T19:10:12.489Z"
   },
   {
    "duration": 28,
    "start_time": "2023-08-09T19:13:00.606Z"
   },
   {
    "duration": 4,
    "start_time": "2023-08-09T19:15:35.800Z"
   },
   {
    "duration": 12,
    "start_time": "2023-08-09T19:15:54.166Z"
   },
   {
    "duration": 8,
    "start_time": "2023-08-09T19:16:20.509Z"
   },
   {
    "duration": 211,
    "start_time": "2023-08-09T19:18:35.597Z"
   },
   {
    "duration": 184,
    "start_time": "2023-08-09T19:18:52.892Z"
   },
   {
    "duration": 181,
    "start_time": "2023-08-09T19:19:13.429Z"
   },
   {
    "duration": 200,
    "start_time": "2023-08-09T19:19:22.959Z"
   },
   {
    "duration": 192,
    "start_time": "2023-08-09T19:19:44.885Z"
   },
   {
    "duration": 386,
    "start_time": "2023-08-09T19:20:52.640Z"
   },
   {
    "duration": 285,
    "start_time": "2023-08-09T19:21:13.718Z"
   },
   {
    "duration": 227,
    "start_time": "2023-08-09T19:21:17.755Z"
   },
   {
    "duration": 473,
    "start_time": "2023-08-09T19:27:17.835Z"
   },
   {
    "duration": 502,
    "start_time": "2023-08-09T19:28:37.343Z"
   },
   {
    "duration": 502,
    "start_time": "2023-08-09T19:28:52.901Z"
   },
   {
    "duration": 114,
    "start_time": "2023-08-09T19:29:39.629Z"
   },
   {
    "duration": 446,
    "start_time": "2023-08-09T19:30:09.395Z"
   },
   {
    "duration": 178,
    "start_time": "2023-08-09T19:31:01.965Z"
   },
   {
    "duration": 614,
    "start_time": "2023-08-09T19:31:27.799Z"
   },
   {
    "duration": 432,
    "start_time": "2023-08-09T19:32:09.342Z"
   },
   {
    "duration": 576,
    "start_time": "2023-08-09T19:33:14.650Z"
   },
   {
    "duration": 424,
    "start_time": "2023-08-09T20:33:46.222Z"
   },
   {
    "duration": 43,
    "start_time": "2023-08-09T20:36:50.453Z"
   },
   {
    "duration": 36,
    "start_time": "2023-08-09T20:40:52.341Z"
   },
   {
    "duration": 138,
    "start_time": "2023-08-09T20:41:05.182Z"
   },
   {
    "duration": 24,
    "start_time": "2023-08-09T20:41:11.649Z"
   },
   {
    "duration": 23,
    "start_time": "2023-08-09T20:41:23.533Z"
   },
   {
    "duration": 25,
    "start_time": "2023-08-09T20:41:38.990Z"
   },
   {
    "duration": 410,
    "start_time": "2023-08-09T20:41:43.495Z"
   },
   {
    "duration": 22,
    "start_time": "2023-08-09T20:41:46.236Z"
   },
   {
    "duration": 22,
    "start_time": "2023-08-09T20:41:49.618Z"
   },
   {
    "duration": 22,
    "start_time": "2023-08-09T20:42:14.492Z"
   },
   {
    "duration": 43,
    "start_time": "2023-08-09T20:43:05.949Z"
   },
   {
    "duration": 442,
    "start_time": "2023-08-09T20:43:08.830Z"
   },
   {
    "duration": 25,
    "start_time": "2023-08-09T20:43:10.114Z"
   },
   {
    "duration": 23,
    "start_time": "2023-08-09T20:43:22.133Z"
   },
   {
    "duration": 26,
    "start_time": "2023-08-09T20:43:44.550Z"
   },
   {
    "duration": 16,
    "start_time": "2023-08-09T20:46:28.613Z"
   },
   {
    "duration": 2016,
    "start_time": "2023-08-09T20:46:41.858Z"
   },
   {
    "duration": 598,
    "start_time": "2023-08-09T20:47:04.106Z"
   },
   {
    "duration": 389,
    "start_time": "2023-08-09T20:47:55.362Z"
   },
   {
    "duration": 418,
    "start_time": "2023-08-09T20:48:08.065Z"
   },
   {
    "duration": 2184,
    "start_time": "2023-08-09T20:50:53.244Z"
   },
   {
    "duration": 480,
    "start_time": "2023-08-09T20:51:21.690Z"
   },
   {
    "duration": 556,
    "start_time": "2023-08-09T20:54:13.846Z"
   },
   {
    "duration": 590,
    "start_time": "2023-08-09T20:54:23.222Z"
   },
   {
    "duration": 582,
    "start_time": "2023-08-09T20:54:32.155Z"
   },
   {
    "duration": 648,
    "start_time": "2023-08-09T20:54:40.143Z"
   },
   {
    "duration": 466,
    "start_time": "2023-08-09T20:56:34.502Z"
   },
   {
    "duration": 495,
    "start_time": "2023-08-09T20:56:41.547Z"
   },
   {
    "duration": 489,
    "start_time": "2023-08-09T20:57:20.660Z"
   },
   {
    "duration": 475,
    "start_time": "2023-08-09T20:57:26.770Z"
   },
   {
    "duration": 16,
    "start_time": "2023-08-09T20:59:38.898Z"
   },
   {
    "duration": 15,
    "start_time": "2023-08-09T20:59:49.622Z"
   },
   {
    "duration": 468,
    "start_time": "2023-08-09T21:00:04.435Z"
   },
   {
    "duration": 576,
    "start_time": "2023-08-09T21:00:10.277Z"
   },
   {
    "duration": 440,
    "start_time": "2023-08-09T21:00:36.621Z"
   },
   {
    "duration": 448,
    "start_time": "2023-08-09T21:00:47.913Z"
   },
   {
    "duration": 489,
    "start_time": "2023-08-09T21:01:02.768Z"
   },
   {
    "duration": 457,
    "start_time": "2023-08-09T21:01:14.613Z"
   },
   {
    "duration": 475,
    "start_time": "2023-08-09T21:01:51.448Z"
   },
   {
    "duration": 603,
    "start_time": "2023-08-09T21:01:59.743Z"
   },
   {
    "duration": 82,
    "start_time": "2023-08-10T17:48:44.020Z"
   },
   {
    "duration": 1541,
    "start_time": "2023-08-10T17:48:49.475Z"
   },
   {
    "duration": 506,
    "start_time": "2023-08-10T17:48:51.018Z"
   },
   {
    "duration": 20,
    "start_time": "2023-08-10T17:48:51.526Z"
   },
   {
    "duration": 47,
    "start_time": "2023-08-10T17:48:51.548Z"
   },
   {
    "duration": 5,
    "start_time": "2023-08-10T17:48:51.599Z"
   },
   {
    "duration": 32,
    "start_time": "2023-08-10T17:48:51.606Z"
   },
   {
    "duration": 16,
    "start_time": "2023-08-10T17:48:51.641Z"
   },
   {
    "duration": 58,
    "start_time": "2023-08-10T17:48:51.663Z"
   },
   {
    "duration": 107,
    "start_time": "2023-08-10T17:48:51.723Z"
   },
   {
    "duration": 7,
    "start_time": "2023-08-10T17:48:51.832Z"
   },
   {
    "duration": 48,
    "start_time": "2023-08-10T17:48:51.840Z"
   },
   {
    "duration": 16,
    "start_time": "2023-08-10T17:48:51.890Z"
   },
   {
    "duration": 14,
    "start_time": "2023-08-10T17:48:51.909Z"
   },
   {
    "duration": 41,
    "start_time": "2023-08-10T17:48:51.926Z"
   },
   {
    "duration": 7,
    "start_time": "2023-08-10T17:48:51.972Z"
   },
   {
    "duration": 5,
    "start_time": "2023-08-10T17:48:51.981Z"
   },
   {
    "duration": 365,
    "start_time": "2023-08-10T17:48:51.988Z"
   },
   {
    "duration": 352,
    "start_time": "2023-08-10T17:48:52.357Z"
   },
   {
    "duration": 8,
    "start_time": "2023-08-10T17:48:52.712Z"
   },
   {
    "duration": 368,
    "start_time": "2023-08-10T17:48:52.723Z"
   },
   {
    "duration": 406,
    "start_time": "2023-08-10T17:48:53.094Z"
   },
   {
    "duration": 538,
    "start_time": "2023-08-10T17:48:53.503Z"
   },
   {
    "duration": 426,
    "start_time": "2023-08-10T17:48:54.043Z"
   },
   {
    "duration": 28,
    "start_time": "2023-08-10T17:48:54.472Z"
   },
   {
    "duration": 556,
    "start_time": "2023-08-10T17:48:54.502Z"
   },
   {
    "duration": 21,
    "start_time": "2023-08-10T17:48:55.069Z"
   },
   {
    "duration": 25,
    "start_time": "2023-08-10T17:50:56.085Z"
   },
   {
    "duration": 140,
    "start_time": "2023-08-10T17:59:07.282Z"
   },
   {
    "duration": 23,
    "start_time": "2023-08-10T17:59:43.426Z"
   },
   {
    "duration": 19,
    "start_time": "2023-08-10T18:00:10.629Z"
   },
   {
    "duration": 15,
    "start_time": "2023-08-10T18:00:49.189Z"
   },
   {
    "duration": 32,
    "start_time": "2023-08-10T18:00:53.114Z"
   },
   {
    "duration": 37,
    "start_time": "2023-08-10T18:01:21.047Z"
   },
   {
    "duration": 28,
    "start_time": "2023-08-10T18:01:31.686Z"
   },
   {
    "duration": 142,
    "start_time": "2023-08-10T18:07:00.302Z"
   },
   {
    "duration": 134,
    "start_time": "2023-08-10T18:07:30.778Z"
   },
   {
    "duration": 129,
    "start_time": "2023-08-10T18:07:37.526Z"
   },
   {
    "duration": 127,
    "start_time": "2023-08-10T18:08:20.178Z"
   },
   {
    "duration": 16,
    "start_time": "2023-08-10T18:08:53.941Z"
   },
   {
    "duration": 27,
    "start_time": "2023-08-10T18:09:01.013Z"
   },
   {
    "duration": 17,
    "start_time": "2023-08-10T18:09:54.168Z"
   },
   {
    "duration": 26,
    "start_time": "2023-08-10T18:10:00.837Z"
   },
   {
    "duration": 126,
    "start_time": "2023-08-10T18:10:43.925Z"
   },
   {
    "duration": 17,
    "start_time": "2023-08-10T18:10:47.096Z"
   },
   {
    "duration": 40,
    "start_time": "2023-08-10T18:11:07.671Z"
   },
   {
    "duration": 46,
    "start_time": "2023-08-10T18:11:36.788Z"
   },
   {
    "duration": 17,
    "start_time": "2023-08-10T18:11:42.134Z"
   },
   {
    "duration": 50,
    "start_time": "2023-08-10T18:12:50.546Z"
   },
   {
    "duration": 28,
    "start_time": "2023-08-10T18:13:35.489Z"
   },
   {
    "duration": 2579,
    "start_time": "2023-08-10T18:14:48.422Z"
   },
   {
    "duration": 26,
    "start_time": "2023-08-10T18:15:11.615Z"
   },
   {
    "duration": 31,
    "start_time": "2023-08-10T18:15:40.742Z"
   },
   {
    "duration": 22,
    "start_time": "2023-08-10T18:16:14.096Z"
   },
   {
    "duration": 25,
    "start_time": "2023-08-10T18:16:53.600Z"
   },
   {
    "duration": 29,
    "start_time": "2023-08-10T18:18:18.701Z"
   },
   {
    "duration": 47,
    "start_time": "2023-08-10T18:20:30.704Z"
   },
   {
    "duration": 33,
    "start_time": "2023-08-10T18:20:34.510Z"
   },
   {
    "duration": 34,
    "start_time": "2023-08-10T18:21:31.972Z"
   },
   {
    "duration": 25,
    "start_time": "2023-08-10T18:22:13.335Z"
   },
   {
    "duration": 33,
    "start_time": "2023-08-10T18:22:24.122Z"
   },
   {
    "duration": 37,
    "start_time": "2023-08-10T18:24:01.010Z"
   },
   {
    "duration": 41,
    "start_time": "2023-08-10T18:24:10.376Z"
   },
   {
    "duration": 49,
    "start_time": "2023-08-10T18:25:40.083Z"
   },
   {
    "duration": 49,
    "start_time": "2023-08-10T18:27:16.181Z"
   },
   {
    "duration": 61,
    "start_time": "2023-08-10T18:27:31.992Z"
   },
   {
    "duration": 180,
    "start_time": "2023-08-10T18:29:15.199Z"
   },
   {
    "duration": 2485,
    "start_time": "2023-08-10T18:30:03.078Z"
   },
   {
    "duration": 2260,
    "start_time": "2023-08-10T18:30:14.438Z"
   },
   {
    "duration": 186,
    "start_time": "2023-08-10T18:30:27.722Z"
   },
   {
    "duration": 205,
    "start_time": "2023-08-10T18:30:39.630Z"
   },
   {
    "duration": 148,
    "start_time": "2023-08-10T18:30:46.534Z"
   },
   {
    "duration": 161,
    "start_time": "2023-08-10T18:30:59.780Z"
   },
   {
    "duration": 40,
    "start_time": "2023-08-10T18:31:19.691Z"
   },
   {
    "duration": 132,
    "start_time": "2023-08-10T18:32:26.576Z"
   },
   {
    "duration": 145,
    "start_time": "2023-08-10T18:32:40.774Z"
   },
   {
    "duration": 216,
    "start_time": "2023-08-10T18:34:16.706Z"
   },
   {
    "duration": 42,
    "start_time": "2023-08-10T18:34:35.298Z"
   },
   {
    "duration": 30,
    "start_time": "2023-08-10T18:35:45.895Z"
   },
   {
    "duration": 42,
    "start_time": "2023-08-10T18:35:53.209Z"
   },
   {
    "duration": 45,
    "start_time": "2023-08-10T18:36:03.478Z"
   },
   {
    "duration": 117,
    "start_time": "2023-08-10T18:36:26.682Z"
   },
   {
    "duration": 45,
    "start_time": "2023-08-10T18:36:32.624Z"
   },
   {
    "duration": 130,
    "start_time": "2023-08-10T18:37:09.512Z"
   },
   {
    "duration": 127,
    "start_time": "2023-08-10T18:37:15.772Z"
   },
   {
    "duration": 139,
    "start_time": "2023-08-10T18:37:24.208Z"
   },
   {
    "duration": 172,
    "start_time": "2023-08-10T18:39:30.094Z"
   },
   {
    "duration": 21,
    "start_time": "2023-08-10T18:39:55.816Z"
   },
   {
    "duration": 11,
    "start_time": "2023-08-10T18:40:41.730Z"
   },
   {
    "duration": 13,
    "start_time": "2023-08-10T18:40:50.604Z"
   },
   {
    "duration": 13,
    "start_time": "2023-08-10T18:43:35.974Z"
   },
   {
    "duration": 6,
    "start_time": "2023-08-10T18:43:47.503Z"
   },
   {
    "duration": 5,
    "start_time": "2023-08-10T18:44:10.802Z"
   },
   {
    "duration": 20,
    "start_time": "2023-08-10T18:44:15.018Z"
   },
   {
    "duration": 555,
    "start_time": "2023-08-10T18:48:08.330Z"
   },
   {
    "duration": 26,
    "start_time": "2023-08-10T18:50:04.413Z"
   },
   {
    "duration": 435,
    "start_time": "2023-08-10T18:50:35.075Z"
   },
   {
    "duration": 389,
    "start_time": "2023-08-10T18:51:21.827Z"
   },
   {
    "duration": 384,
    "start_time": "2023-08-10T18:51:41.734Z"
   },
   {
    "duration": 515,
    "start_time": "2023-08-10T18:51:53.593Z"
   },
   {
    "duration": 181,
    "start_time": "2023-08-10T18:53:49.041Z"
   },
   {
    "duration": 445,
    "start_time": "2023-08-10T18:54:02.295Z"
   },
   {
    "duration": 455,
    "start_time": "2023-08-10T18:54:56.862Z"
   },
   {
    "duration": 407,
    "start_time": "2023-08-10T18:55:05.782Z"
   },
   {
    "duration": 28,
    "start_time": "2023-08-10T18:56:21.401Z"
   },
   {
    "duration": 112,
    "start_time": "2023-08-10T18:56:55.609Z"
   },
   {
    "duration": 119,
    "start_time": "2023-08-10T18:57:01.624Z"
   },
   {
    "duration": 1966,
    "start_time": "2023-08-10T18:57:14.805Z"
   },
   {
    "duration": 494,
    "start_time": "2023-08-10T18:58:28.986Z"
   },
   {
    "duration": 597,
    "start_time": "2023-08-10T18:58:57.520Z"
   },
   {
    "duration": 439,
    "start_time": "2023-08-10T18:59:51.142Z"
   },
   {
    "duration": 445,
    "start_time": "2023-08-10T18:59:59.087Z"
   },
   {
    "duration": 450,
    "start_time": "2023-08-10T19:00:51.082Z"
   },
   {
    "duration": 2131,
    "start_time": "2023-08-10T19:02:45.104Z"
   },
   {
    "duration": 461,
    "start_time": "2023-08-10T19:03:12.162Z"
   },
   {
    "duration": 442,
    "start_time": "2023-08-10T19:08:40.303Z"
   },
   {
    "duration": 126,
    "start_time": "2023-08-10T19:52:47.716Z"
   },
   {
    "duration": 6,
    "start_time": "2023-08-10T19:53:11.598Z"
   },
   {
    "duration": 1999,
    "start_time": "2023-08-10T19:54:06.672Z"
   },
   {
    "duration": 1892,
    "start_time": "2023-08-10T19:54:25.697Z"
   },
   {
    "duration": 1864,
    "start_time": "2023-08-10T19:55:21.047Z"
   },
   {
    "duration": 7,
    "start_time": "2023-08-10T19:55:27.990Z"
   },
   {
    "duration": 1882,
    "start_time": "2023-08-10T19:55:33.117Z"
   },
   {
    "duration": 17,
    "start_time": "2023-08-10T19:57:02.551Z"
   },
   {
    "duration": 2039,
    "start_time": "2023-08-10T19:57:05.014Z"
   },
   {
    "duration": 11,
    "start_time": "2023-08-10T19:58:48.401Z"
   },
   {
    "duration": 408,
    "start_time": "2023-08-10T19:58:52.526Z"
   },
   {
    "duration": 7,
    "start_time": "2023-08-10T19:59:16.591Z"
   },
   {
    "duration": 639,
    "start_time": "2023-08-10T19:59:18.530Z"
   },
   {
    "duration": 542,
    "start_time": "2023-08-10T19:59:56.737Z"
   },
   {
    "duration": 403,
    "start_time": "2023-08-10T20:00:26.282Z"
   },
   {
    "duration": 7,
    "start_time": "2023-08-10T20:01:17.172Z"
   },
   {
    "duration": 6,
    "start_time": "2023-08-10T20:01:23.032Z"
   },
   {
    "duration": 427,
    "start_time": "2023-08-10T20:01:24.105Z"
   },
   {
    "duration": 7,
    "start_time": "2023-08-10T20:02:22.538Z"
   },
   {
    "duration": 6,
    "start_time": "2023-08-10T20:02:33.618Z"
   },
   {
    "duration": 6,
    "start_time": "2023-08-10T20:02:38.410Z"
   },
   {
    "duration": 455,
    "start_time": "2023-08-10T20:02:40.521Z"
   },
   {
    "duration": 133,
    "start_time": "2023-08-10T20:03:31.892Z"
   },
   {
    "duration": 433,
    "start_time": "2023-08-10T20:03:34.906Z"
   },
   {
    "duration": 524,
    "start_time": "2023-08-10T20:04:29.620Z"
   },
   {
    "duration": 401,
    "start_time": "2023-08-10T20:04:36.212Z"
   },
   {
    "duration": 541,
    "start_time": "2023-08-10T20:04:47.543Z"
   },
   {
    "duration": 504,
    "start_time": "2023-08-10T20:05:06.212Z"
   },
   {
    "duration": 430,
    "start_time": "2023-08-10T20:08:15.896Z"
   },
   {
    "duration": 407,
    "start_time": "2023-08-10T20:12:54.413Z"
   },
   {
    "duration": 13,
    "start_time": "2023-08-10T20:28:11.856Z"
   },
   {
    "duration": 5,
    "start_time": "2023-08-10T20:28:24.202Z"
   },
   {
    "duration": 13,
    "start_time": "2023-08-10T20:28:27.896Z"
   },
   {
    "duration": 20,
    "start_time": "2023-08-10T20:28:41.234Z"
   },
   {
    "duration": 16,
    "start_time": "2023-08-10T20:29:44.868Z"
   },
   {
    "duration": 16,
    "start_time": "2023-08-10T20:30:16.048Z"
   },
   {
    "duration": 159,
    "start_time": "2023-08-10T20:30:58.724Z"
   },
   {
    "duration": 101,
    "start_time": "2023-08-10T20:31:08.082Z"
   },
   {
    "duration": 16,
    "start_time": "2023-08-10T20:31:19.829Z"
   },
   {
    "duration": 17,
    "start_time": "2023-08-10T20:31:38.818Z"
   },
   {
    "duration": 16,
    "start_time": "2023-08-10T20:31:59.993Z"
   },
   {
    "duration": 315,
    "start_time": "2023-08-10T20:34:26.723Z"
   },
   {
    "duration": 129,
    "start_time": "2023-08-10T20:35:59.136Z"
   },
   {
    "duration": 108,
    "start_time": "2023-08-10T20:36:04.291Z"
   },
   {
    "duration": 120,
    "start_time": "2023-08-10T20:36:30.874Z"
   },
   {
    "duration": 17,
    "start_time": "2023-08-10T20:36:34.505Z"
   },
   {
    "duration": 18,
    "start_time": "2023-08-10T20:36:48.890Z"
   },
   {
    "duration": 20,
    "start_time": "2023-08-10T20:36:54.679Z"
   },
   {
    "duration": 10,
    "start_time": "2023-08-10T20:37:13.300Z"
   },
   {
    "duration": 1230,
    "start_time": "2023-08-10T20:37:24.091Z"
   },
   {
    "duration": 54,
    "start_time": "2023-08-10T20:37:25.323Z"
   },
   {
    "duration": 161,
    "start_time": "2023-08-10T20:37:25.379Z"
   },
   {
    "duration": 17,
    "start_time": "2023-08-10T20:37:25.543Z"
   },
   {
    "duration": 20,
    "start_time": "2023-08-10T20:37:25.563Z"
   },
   {
    "duration": 33,
    "start_time": "2023-08-10T20:37:25.585Z"
   },
   {
    "duration": 22,
    "start_time": "2023-08-10T20:37:25.620Z"
   },
   {
    "duration": 41,
    "start_time": "2023-08-10T20:37:25.644Z"
   },
   {
    "duration": 46,
    "start_time": "2023-08-10T20:37:25.686Z"
   },
   {
    "duration": 5,
    "start_time": "2023-08-10T20:37:25.734Z"
   },
   {
    "duration": 63,
    "start_time": "2023-08-10T20:37:25.741Z"
   },
   {
    "duration": 19,
    "start_time": "2023-08-10T20:37:25.806Z"
   },
   {
    "duration": 50,
    "start_time": "2023-08-10T20:37:25.827Z"
   },
   {
    "duration": 20,
    "start_time": "2023-08-10T20:37:25.883Z"
   },
   {
    "duration": 27,
    "start_time": "2023-08-10T20:37:25.906Z"
   },
   {
    "duration": 21,
    "start_time": "2023-08-10T20:37:25.935Z"
   },
   {
    "duration": 367,
    "start_time": "2023-08-10T20:37:25.959Z"
   },
   {
    "duration": 317,
    "start_time": "2023-08-10T20:37:26.328Z"
   },
   {
    "duration": 6,
    "start_time": "2023-08-10T20:37:26.647Z"
   },
   {
    "duration": 340,
    "start_time": "2023-08-10T20:37:26.655Z"
   },
   {
    "duration": 362,
    "start_time": "2023-08-10T20:37:26.997Z"
   },
   {
    "duration": 464,
    "start_time": "2023-08-10T20:37:27.361Z"
   },
   {
    "duration": 373,
    "start_time": "2023-08-10T20:37:27.827Z"
   },
   {
    "duration": 23,
    "start_time": "2023-08-10T20:37:28.202Z"
   },
   {
    "duration": 471,
    "start_time": "2023-08-10T20:37:28.227Z"
   },
   {
    "duration": 6,
    "start_time": "2023-08-10T20:37:28.700Z"
   },
   {
    "duration": 548,
    "start_time": "2023-08-10T20:37:28.708Z"
   },
   {
    "duration": 524,
    "start_time": "2023-08-10T20:37:29.258Z"
   },
   {
    "duration": 16,
    "start_time": "2023-08-10T20:37:29.784Z"
   },
   {
    "duration": 24,
    "start_time": "2023-08-10T20:37:29.802Z"
   },
   {
    "duration": 15,
    "start_time": "2023-08-10T20:37:40.060Z"
   },
   {
    "duration": 1195,
    "start_time": "2023-08-10T20:37:49.686Z"
   },
   {
    "duration": 55,
    "start_time": "2023-08-10T20:37:50.883Z"
   },
   {
    "duration": 20,
    "start_time": "2023-08-10T20:37:50.940Z"
   },
   {
    "duration": 17,
    "start_time": "2023-08-10T20:37:50.963Z"
   },
   {
    "duration": 3,
    "start_time": "2023-08-10T20:37:50.981Z"
   },
   {
    "duration": 18,
    "start_time": "2023-08-10T20:37:50.986Z"
   },
   {
    "duration": 15,
    "start_time": "2023-08-10T20:37:51.006Z"
   },
   {
    "duration": 69,
    "start_time": "2023-08-10T20:37:51.024Z"
   },
   {
    "duration": 44,
    "start_time": "2023-08-10T20:37:51.095Z"
   },
   {
    "duration": 16,
    "start_time": "2023-08-10T20:37:51.143Z"
   },
   {
    "duration": 16,
    "start_time": "2023-08-10T20:37:51.161Z"
   },
   {
    "duration": 30,
    "start_time": "2023-08-10T20:37:51.179Z"
   },
   {
    "duration": 12,
    "start_time": "2023-08-10T20:37:51.211Z"
   },
   {
    "duration": 25,
    "start_time": "2023-08-10T20:37:51.225Z"
   },
   {
    "duration": 5,
    "start_time": "2023-08-10T20:37:51.257Z"
   },
   {
    "duration": 7,
    "start_time": "2023-08-10T20:37:51.263Z"
   },
   {
    "duration": 332,
    "start_time": "2023-08-10T20:37:51.272Z"
   },
   {
    "duration": 318,
    "start_time": "2023-08-10T20:37:51.607Z"
   },
   {
    "duration": 6,
    "start_time": "2023-08-10T20:37:51.927Z"
   },
   {
    "duration": 346,
    "start_time": "2023-08-10T20:37:51.935Z"
   },
   {
    "duration": 363,
    "start_time": "2023-08-10T20:37:52.283Z"
   },
   {
    "duration": 475,
    "start_time": "2023-08-10T20:37:52.648Z"
   },
   {
    "duration": 416,
    "start_time": "2023-08-10T20:37:53.125Z"
   },
   {
    "duration": 33,
    "start_time": "2023-08-10T20:37:53.543Z"
   },
   {
    "duration": 450,
    "start_time": "2023-08-10T20:37:53.578Z"
   },
   {
    "duration": 8,
    "start_time": "2023-08-10T20:37:54.030Z"
   },
   {
    "duration": 442,
    "start_time": "2023-08-10T20:37:54.040Z"
   },
   {
    "duration": 552,
    "start_time": "2023-08-10T20:37:54.486Z"
   },
   {
    "duration": 26,
    "start_time": "2023-08-10T20:37:55.040Z"
   },
   {
    "duration": 16,
    "start_time": "2023-08-10T20:38:05.237Z"
   },
   {
    "duration": 12,
    "start_time": "2023-08-10T20:39:53.297Z"
   },
   {
    "duration": 1347,
    "start_time": "2023-08-10T20:40:00.389Z"
   },
   {
    "duration": 56,
    "start_time": "2023-08-10T20:40:01.739Z"
   },
   {
    "duration": 19,
    "start_time": "2023-08-10T20:40:01.797Z"
   },
   {
    "duration": 29,
    "start_time": "2023-08-10T20:40:01.819Z"
   },
   {
    "duration": 14,
    "start_time": "2023-08-10T20:40:01.850Z"
   },
   {
    "duration": 26,
    "start_time": "2023-08-10T20:40:01.867Z"
   },
   {
    "duration": 25,
    "start_time": "2023-08-10T20:40:01.895Z"
   },
   {
    "duration": 120,
    "start_time": "2023-08-10T20:40:01.922Z"
   },
   {
    "duration": 55,
    "start_time": "2023-08-10T20:40:02.045Z"
   },
   {
    "duration": 7,
    "start_time": "2023-08-10T20:40:02.104Z"
   },
   {
    "duration": 51,
    "start_time": "2023-08-10T20:40:02.113Z"
   },
   {
    "duration": 32,
    "start_time": "2023-08-10T20:40:02.166Z"
   },
   {
    "duration": 23,
    "start_time": "2023-08-10T20:40:02.201Z"
   },
   {
    "duration": 51,
    "start_time": "2023-08-10T20:40:02.227Z"
   },
   {
    "duration": 21,
    "start_time": "2023-08-10T20:40:02.280Z"
   },
   {
    "duration": 34,
    "start_time": "2023-08-10T20:40:02.303Z"
   },
   {
    "duration": 368,
    "start_time": "2023-08-10T20:40:02.340Z"
   },
   {
    "duration": 328,
    "start_time": "2023-08-10T20:40:02.710Z"
   },
   {
    "duration": 8,
    "start_time": "2023-08-10T20:40:03.040Z"
   },
   {
    "duration": 422,
    "start_time": "2023-08-10T20:40:03.050Z"
   },
   {
    "duration": 420,
    "start_time": "2023-08-10T20:40:03.474Z"
   },
   {
    "duration": 517,
    "start_time": "2023-08-10T20:40:03.895Z"
   },
   {
    "duration": 380,
    "start_time": "2023-08-10T20:40:04.414Z"
   },
   {
    "duration": 25,
    "start_time": "2023-08-10T20:40:04.796Z"
   },
   {
    "duration": 464,
    "start_time": "2023-08-10T20:40:04.822Z"
   },
   {
    "duration": 6,
    "start_time": "2023-08-10T20:40:05.288Z"
   },
   {
    "duration": 413,
    "start_time": "2023-08-10T20:40:05.297Z"
   },
   {
    "duration": 518,
    "start_time": "2023-08-10T20:40:05.715Z"
   },
   {
    "duration": 23,
    "start_time": "2023-08-10T20:40:06.235Z"
   },
   {
    "duration": 18,
    "start_time": "2023-08-10T20:40:06.260Z"
   },
   {
    "duration": 11,
    "start_time": "2023-08-10T20:40:50.881Z"
   },
   {
    "duration": 1351,
    "start_time": "2023-08-10T20:40:55.581Z"
   },
   {
    "duration": 66,
    "start_time": "2023-08-10T20:40:56.935Z"
   },
   {
    "duration": 19,
    "start_time": "2023-08-10T20:40:57.003Z"
   },
   {
    "duration": 14,
    "start_time": "2023-08-10T20:40:57.023Z"
   },
   {
    "duration": 4,
    "start_time": "2023-08-10T20:40:57.039Z"
   },
   {
    "duration": 21,
    "start_time": "2023-08-10T20:40:57.044Z"
   },
   {
    "duration": 11,
    "start_time": "2023-08-10T20:40:57.067Z"
   },
   {
    "duration": 42,
    "start_time": "2023-08-10T20:40:57.080Z"
   },
   {
    "duration": 84,
    "start_time": "2023-08-10T20:40:57.124Z"
   },
   {
    "duration": 6,
    "start_time": "2023-08-10T20:40:57.210Z"
   },
   {
    "duration": 17,
    "start_time": "2023-08-10T20:40:57.218Z"
   },
   {
    "duration": 22,
    "start_time": "2023-08-10T20:40:57.237Z"
   },
   {
    "duration": 16,
    "start_time": "2023-08-10T20:40:57.264Z"
   },
   {
    "duration": 14,
    "start_time": "2023-08-10T20:40:57.284Z"
   },
   {
    "duration": 5,
    "start_time": "2023-08-10T20:40:57.300Z"
   },
   {
    "duration": 7,
    "start_time": "2023-08-10T20:40:57.307Z"
   },
   {
    "duration": 363,
    "start_time": "2023-08-10T20:40:57.316Z"
   },
   {
    "duration": 340,
    "start_time": "2023-08-10T20:40:57.681Z"
   },
   {
    "duration": 14,
    "start_time": "2023-08-10T20:40:58.023Z"
   },
   {
    "duration": 331,
    "start_time": "2023-08-10T20:40:58.039Z"
   },
   {
    "duration": 368,
    "start_time": "2023-08-10T20:40:58.380Z"
   },
   {
    "duration": 589,
    "start_time": "2023-08-10T20:40:58.750Z"
   },
   {
    "duration": 379,
    "start_time": "2023-08-10T20:40:59.341Z"
   },
   {
    "duration": 49,
    "start_time": "2023-08-10T20:40:59.722Z"
   },
   {
    "duration": 461,
    "start_time": "2023-08-10T20:40:59.773Z"
   },
   {
    "duration": 6,
    "start_time": "2023-08-10T20:41:00.236Z"
   },
   {
    "duration": 461,
    "start_time": "2023-08-10T20:41:00.245Z"
   },
   {
    "duration": 516,
    "start_time": "2023-08-10T20:41:00.708Z"
   },
   {
    "duration": 17,
    "start_time": "2023-08-10T20:41:01.227Z"
   },
   {
    "duration": 33,
    "start_time": "2023-08-10T20:41:01.260Z"
   },
   {
    "duration": 12,
    "start_time": "2023-08-10T20:41:50.909Z"
   },
   {
    "duration": 6,
    "start_time": "2023-08-10T20:42:05.414Z"
   },
   {
    "duration": 11,
    "start_time": "2023-08-10T20:42:21.957Z"
   },
   {
    "duration": 17,
    "start_time": "2023-08-10T20:44:11.573Z"
   },
   {
    "duration": 20,
    "start_time": "2023-08-10T20:44:18.841Z"
   },
   {
    "duration": 1265,
    "start_time": "2023-08-10T20:44:32.114Z"
   },
   {
    "duration": 56,
    "start_time": "2023-08-10T20:44:33.381Z"
   },
   {
    "duration": 22,
    "start_time": "2023-08-10T20:44:33.440Z"
   },
   {
    "duration": 24,
    "start_time": "2023-08-10T20:44:33.469Z"
   },
   {
    "duration": 9,
    "start_time": "2023-08-10T20:44:33.495Z"
   },
   {
    "duration": 18,
    "start_time": "2023-08-10T20:44:33.507Z"
   },
   {
    "duration": 30,
    "start_time": "2023-08-10T20:44:33.527Z"
   },
   {
    "duration": 63,
    "start_time": "2023-08-10T20:44:33.560Z"
   },
   {
    "duration": 68,
    "start_time": "2023-08-10T20:44:33.625Z"
   },
   {
    "duration": 7,
    "start_time": "2023-08-10T20:44:33.698Z"
   },
   {
    "duration": 26,
    "start_time": "2023-08-10T20:44:33.708Z"
   },
   {
    "duration": 30,
    "start_time": "2023-08-10T20:44:33.737Z"
   },
   {
    "duration": 12,
    "start_time": "2023-08-10T20:44:33.770Z"
   },
   {
    "duration": 42,
    "start_time": "2023-08-10T20:44:33.784Z"
   },
   {
    "duration": 7,
    "start_time": "2023-08-10T20:44:33.829Z"
   },
   {
    "duration": 12,
    "start_time": "2023-08-10T20:44:33.838Z"
   },
   {
    "duration": 376,
    "start_time": "2023-08-10T20:44:33.852Z"
   },
   {
    "duration": 351,
    "start_time": "2023-08-10T20:44:34.231Z"
   },
   {
    "duration": 8,
    "start_time": "2023-08-10T20:44:34.584Z"
   },
   {
    "duration": 378,
    "start_time": "2023-08-10T20:44:34.594Z"
   },
   {
    "duration": 353,
    "start_time": "2023-08-10T20:44:34.973Z"
   },
   {
    "duration": 483,
    "start_time": "2023-08-10T20:44:35.328Z"
   },
   {
    "duration": 408,
    "start_time": "2023-08-10T20:44:35.813Z"
   },
   {
    "duration": 48,
    "start_time": "2023-08-10T20:44:36.223Z"
   },
   {
    "duration": 439,
    "start_time": "2023-08-10T20:44:36.274Z"
   },
   {
    "duration": 10,
    "start_time": "2023-08-10T20:44:36.715Z"
   },
   {
    "duration": 414,
    "start_time": "2023-08-10T20:44:36.728Z"
   },
   {
    "duration": 545,
    "start_time": "2023-08-10T20:44:37.146Z"
   },
   {
    "duration": 15,
    "start_time": "2023-08-10T20:44:37.693Z"
   },
   {
    "duration": 8,
    "start_time": "2023-08-10T20:44:37.709Z"
   },
   {
    "duration": 113,
    "start_time": "2023-08-10T20:45:05.678Z"
   },
   {
    "duration": 16,
    "start_time": "2023-08-10T20:45:31.510Z"
   },
   {
    "duration": 19,
    "start_time": "2023-08-10T20:48:37.905Z"
   },
   {
    "duration": 28,
    "start_time": "2023-08-10T20:56:29.826Z"
   },
   {
    "duration": 7,
    "start_time": "2023-08-10T20:56:49.191Z"
   },
   {
    "duration": 27,
    "start_time": "2023-08-10T20:58:15.817Z"
   },
   {
    "duration": 7,
    "start_time": "2023-08-10T20:58:37.673Z"
   },
   {
    "duration": 6,
    "start_time": "2023-08-10T20:59:00.773Z"
   },
   {
    "duration": 7,
    "start_time": "2023-08-10T20:59:09.845Z"
   },
   {
    "duration": 8,
    "start_time": "2023-08-10T20:59:14.836Z"
   },
   {
    "duration": 10,
    "start_time": "2023-08-10T21:00:58.246Z"
   },
   {
    "duration": 7,
    "start_time": "2023-08-10T21:01:24.711Z"
   },
   {
    "duration": 5,
    "start_time": "2023-08-10T21:06:30.022Z"
   },
   {
    "duration": 1224,
    "start_time": "2023-08-10T21:06:34.805Z"
   },
   {
    "duration": 92,
    "start_time": "2023-08-10T21:06:36.032Z"
   },
   {
    "duration": 21,
    "start_time": "2023-08-10T21:06:36.127Z"
   },
   {
    "duration": 42,
    "start_time": "2023-08-10T21:06:36.150Z"
   },
   {
    "duration": 4,
    "start_time": "2023-08-10T21:06:36.196Z"
   },
   {
    "duration": 14,
    "start_time": "2023-08-10T21:06:36.202Z"
   },
   {
    "duration": 14,
    "start_time": "2023-08-10T21:06:36.219Z"
   },
   {
    "duration": 73,
    "start_time": "2023-08-10T21:06:36.236Z"
   },
   {
    "duration": 76,
    "start_time": "2023-08-10T21:06:36.312Z"
   },
   {
    "duration": 6,
    "start_time": "2023-08-10T21:06:36.390Z"
   },
   {
    "duration": 26,
    "start_time": "2023-08-10T21:06:36.398Z"
   },
   {
    "duration": 33,
    "start_time": "2023-08-10T21:06:36.426Z"
   },
   {
    "duration": 40,
    "start_time": "2023-08-10T21:06:36.461Z"
   },
   {
    "duration": 29,
    "start_time": "2023-08-10T21:06:36.505Z"
   },
   {
    "duration": 6,
    "start_time": "2023-08-10T21:06:36.536Z"
   },
   {
    "duration": 10,
    "start_time": "2023-08-10T21:06:36.544Z"
   },
   {
    "duration": 512,
    "start_time": "2023-08-10T21:06:36.558Z"
   },
   {
    "duration": 503,
    "start_time": "2023-08-10T21:06:37.073Z"
   },
   {
    "duration": 11,
    "start_time": "2023-08-10T21:06:37.578Z"
   },
   {
    "duration": 364,
    "start_time": "2023-08-10T21:06:37.592Z"
   },
   {
    "duration": 393,
    "start_time": "2023-08-10T21:06:37.958Z"
   },
   {
    "duration": 689,
    "start_time": "2023-08-10T21:06:38.356Z"
   },
   {
    "duration": 447,
    "start_time": "2023-08-10T21:06:39.047Z"
   },
   {
    "duration": 25,
    "start_time": "2023-08-10T21:06:39.496Z"
   },
   {
    "duration": 495,
    "start_time": "2023-08-10T21:06:39.523Z"
   },
   {
    "duration": 9,
    "start_time": "2023-08-10T21:06:40.021Z"
   },
   {
    "duration": 443,
    "start_time": "2023-08-10T21:06:40.032Z"
   },
   {
    "duration": 505,
    "start_time": "2023-08-10T21:06:40.477Z"
   },
   {
    "duration": 21,
    "start_time": "2023-08-10T21:06:40.984Z"
   },
   {
    "duration": 8,
    "start_time": "2023-08-10T21:06:41.007Z"
   },
   {
    "duration": 17,
    "start_time": "2023-08-10T21:06:41.017Z"
   },
   {
    "duration": 29,
    "start_time": "2023-08-10T21:06:41.036Z"
   },
   {
    "duration": 20,
    "start_time": "2023-08-10T21:06:41.067Z"
   },
   {
    "duration": 12,
    "start_time": "2023-08-10T21:09:27.413Z"
   },
   {
    "duration": 13,
    "start_time": "2023-08-10T21:11:35.005Z"
   },
   {
    "duration": 12,
    "start_time": "2023-08-10T21:11:35.742Z"
   },
   {
    "duration": 14,
    "start_time": "2023-08-10T21:11:43.070Z"
   },
   {
    "duration": 10,
    "start_time": "2023-08-10T21:11:43.673Z"
   },
   {
    "duration": 14,
    "start_time": "2023-08-10T21:12:28.824Z"
   },
   {
    "duration": 10,
    "start_time": "2023-08-10T21:12:35.110Z"
   },
   {
    "duration": 1247,
    "start_time": "2023-08-10T21:12:39.542Z"
   },
   {
    "duration": 57,
    "start_time": "2023-08-10T21:12:40.792Z"
   },
   {
    "duration": 25,
    "start_time": "2023-08-10T21:12:40.851Z"
   },
   {
    "duration": 15,
    "start_time": "2023-08-10T21:12:40.878Z"
   },
   {
    "duration": 4,
    "start_time": "2023-08-10T21:12:40.896Z"
   },
   {
    "duration": 21,
    "start_time": "2023-08-10T21:12:40.902Z"
   },
   {
    "duration": 32,
    "start_time": "2023-08-10T21:12:40.925Z"
   },
   {
    "duration": 60,
    "start_time": "2023-08-10T21:12:40.962Z"
   },
   {
    "duration": 72,
    "start_time": "2023-08-10T21:12:41.024Z"
   },
   {
    "duration": 5,
    "start_time": "2023-08-10T21:12:41.098Z"
   },
   {
    "duration": 64,
    "start_time": "2023-08-10T21:12:41.105Z"
   },
   {
    "duration": 12,
    "start_time": "2023-08-10T21:12:41.171Z"
   },
   {
    "duration": 9,
    "start_time": "2023-08-10T21:12:41.185Z"
   },
   {
    "duration": 15,
    "start_time": "2023-08-10T21:12:41.197Z"
   },
   {
    "duration": 5,
    "start_time": "2023-08-10T21:12:41.214Z"
   },
   {
    "duration": 36,
    "start_time": "2023-08-10T21:12:41.222Z"
   },
   {
    "duration": 376,
    "start_time": "2023-08-10T21:12:41.260Z"
   },
   {
    "duration": 356,
    "start_time": "2023-08-10T21:12:41.638Z"
   },
   {
    "duration": 8,
    "start_time": "2023-08-10T21:12:41.996Z"
   },
   {
    "duration": 334,
    "start_time": "2023-08-10T21:12:42.007Z"
   },
   {
    "duration": 355,
    "start_time": "2023-08-10T21:12:42.343Z"
   },
   {
    "duration": 480,
    "start_time": "2023-08-10T21:12:42.701Z"
   },
   {
    "duration": 382,
    "start_time": "2023-08-10T21:12:43.183Z"
   },
   {
    "duration": 32,
    "start_time": "2023-08-10T21:12:43.567Z"
   },
   {
    "duration": 426,
    "start_time": "2023-08-10T21:12:43.600Z"
   },
   {
    "duration": 7,
    "start_time": "2023-08-10T21:12:44.028Z"
   },
   {
    "duration": 441,
    "start_time": "2023-08-10T21:12:44.037Z"
   },
   {
    "duration": 517,
    "start_time": "2023-08-10T21:12:44.480Z"
   },
   {
    "duration": 15,
    "start_time": "2023-08-10T21:12:44.999Z"
   },
   {
    "duration": 59,
    "start_time": "2023-08-10T21:12:45.016Z"
   },
   {
    "duration": 28,
    "start_time": "2023-08-10T21:12:45.077Z"
   },
   {
    "duration": 14,
    "start_time": "2023-08-10T21:12:45.108Z"
   },
   {
    "duration": 30,
    "start_time": "2023-08-10T21:12:45.125Z"
   },
   {
    "duration": 53,
    "start_time": "2023-08-11T16:07:35.031Z"
   },
   {
    "duration": 1324,
    "start_time": "2023-08-11T16:07:39.258Z"
   },
   {
    "duration": 122,
    "start_time": "2023-08-11T16:07:40.584Z"
   },
   {
    "duration": 17,
    "start_time": "2023-08-11T16:07:40.708Z"
   },
   {
    "duration": 51,
    "start_time": "2023-08-11T16:07:40.728Z"
   },
   {
    "duration": 22,
    "start_time": "2023-08-11T16:07:40.780Z"
   },
   {
    "duration": 46,
    "start_time": "2023-08-11T16:07:40.804Z"
   },
   {
    "duration": 33,
    "start_time": "2023-08-11T16:07:40.851Z"
   },
   {
    "duration": 76,
    "start_time": "2023-08-11T16:07:40.886Z"
   },
   {
    "duration": 50,
    "start_time": "2023-08-11T16:07:40.963Z"
   },
   {
    "duration": 4,
    "start_time": "2023-08-11T16:07:41.015Z"
   },
   {
    "duration": 57,
    "start_time": "2023-08-11T16:07:41.020Z"
   },
   {
    "duration": 28,
    "start_time": "2023-08-11T16:07:41.079Z"
   },
   {
    "duration": 36,
    "start_time": "2023-08-11T16:07:41.109Z"
   },
   {
    "duration": 24,
    "start_time": "2023-08-11T16:07:41.147Z"
   },
   {
    "duration": 33,
    "start_time": "2023-08-11T16:07:41.173Z"
   },
   {
    "duration": 36,
    "start_time": "2023-08-11T16:07:41.207Z"
   },
   {
    "duration": 361,
    "start_time": "2023-08-11T16:07:41.244Z"
   },
   {
    "duration": 319,
    "start_time": "2023-08-11T16:07:41.607Z"
   },
   {
    "duration": 5,
    "start_time": "2023-08-11T16:07:41.928Z"
   },
   {
    "duration": 337,
    "start_time": "2023-08-11T16:07:41.935Z"
   },
   {
    "duration": 347,
    "start_time": "2023-08-11T16:07:42.274Z"
   },
   {
    "duration": 420,
    "start_time": "2023-08-11T16:07:42.623Z"
   },
   {
    "duration": 330,
    "start_time": "2023-08-11T16:07:43.045Z"
   },
   {
    "duration": 36,
    "start_time": "2023-08-11T16:07:43.377Z"
   },
   {
    "duration": 450,
    "start_time": "2023-08-11T16:07:43.414Z"
   },
   {
    "duration": 7,
    "start_time": "2023-08-11T16:07:43.866Z"
   },
   {
    "duration": 426,
    "start_time": "2023-08-11T16:07:43.875Z"
   },
   {
    "duration": 511,
    "start_time": "2023-08-11T16:07:44.307Z"
   },
   {
    "duration": 29,
    "start_time": "2023-08-11T16:07:44.820Z"
   },
   {
    "duration": 20,
    "start_time": "2023-08-11T16:07:44.852Z"
   },
   {
    "duration": 21,
    "start_time": "2023-08-11T16:07:44.873Z"
   },
   {
    "duration": 32,
    "start_time": "2023-08-11T16:07:44.896Z"
   },
   {
    "duration": 21,
    "start_time": "2023-08-11T16:07:44.930Z"
   },
   {
    "duration": 16,
    "start_time": "2023-08-11T16:07:44.954Z"
   },
   {
    "duration": 10,
    "start_time": "2023-08-11T16:08:32.209Z"
   },
   {
    "duration": 16,
    "start_time": "2023-08-11T16:09:36.736Z"
   },
   {
    "duration": 18,
    "start_time": "2023-08-11T16:11:02.052Z"
   },
   {
    "duration": 27,
    "start_time": "2023-08-11T16:11:33.568Z"
   },
   {
    "duration": 34,
    "start_time": "2023-08-11T16:12:00.631Z"
   },
   {
    "duration": 29,
    "start_time": "2023-08-11T16:13:03.443Z"
   },
   {
    "duration": 304,
    "start_time": "2023-08-11T16:21:33.926Z"
   },
   {
    "duration": 320,
    "start_time": "2023-08-11T16:32:36.838Z"
   },
   {
    "duration": 336,
    "start_time": "2023-08-11T16:34:01.731Z"
   },
   {
    "duration": 346,
    "start_time": "2023-08-11T16:34:06.767Z"
   },
   {
    "duration": 333,
    "start_time": "2023-08-11T16:40:13.426Z"
   },
   {
    "duration": 5,
    "start_time": "2023-08-11T16:41:36.528Z"
   },
   {
    "duration": 447,
    "start_time": "2023-08-11T16:42:41.916Z"
   },
   {
    "duration": 360,
    "start_time": "2023-08-11T16:48:07.012Z"
   },
   {
    "duration": 398,
    "start_time": "2023-08-11T16:48:16.468Z"
   },
   {
    "duration": 576,
    "start_time": "2023-08-11T16:53:54.483Z"
   },
   {
    "duration": 50,
    "start_time": "2023-08-11T19:37:23.562Z"
   },
   {
    "duration": 1294,
    "start_time": "2023-08-11T19:37:28.688Z"
   },
   {
    "duration": 114,
    "start_time": "2023-08-11T19:37:29.984Z"
   },
   {
    "duration": 15,
    "start_time": "2023-08-11T19:37:30.100Z"
   },
   {
    "duration": 13,
    "start_time": "2023-08-11T19:37:30.117Z"
   },
   {
    "duration": 4,
    "start_time": "2023-08-11T19:37:30.132Z"
   },
   {
    "duration": 41,
    "start_time": "2023-08-11T19:37:30.140Z"
   },
   {
    "duration": 21,
    "start_time": "2023-08-11T19:37:30.183Z"
   },
   {
    "duration": 52,
    "start_time": "2023-08-11T19:37:30.205Z"
   },
   {
    "duration": 44,
    "start_time": "2023-08-11T19:37:30.259Z"
   },
   {
    "duration": 5,
    "start_time": "2023-08-11T19:37:30.304Z"
   },
   {
    "duration": 24,
    "start_time": "2023-08-11T19:37:30.310Z"
   },
   {
    "duration": 26,
    "start_time": "2023-08-11T19:37:30.336Z"
   },
   {
    "duration": 25,
    "start_time": "2023-08-11T19:37:30.363Z"
   },
   {
    "duration": 19,
    "start_time": "2023-08-11T19:37:30.391Z"
   },
   {
    "duration": 18,
    "start_time": "2023-08-11T19:37:30.411Z"
   },
   {
    "duration": 34,
    "start_time": "2023-08-11T19:37:30.431Z"
   },
   {
    "duration": 315,
    "start_time": "2023-08-11T19:37:30.467Z"
   },
   {
    "duration": 301,
    "start_time": "2023-08-11T19:37:30.784Z"
   },
   {
    "duration": 5,
    "start_time": "2023-08-11T19:37:31.086Z"
   },
   {
    "duration": 323,
    "start_time": "2023-08-11T19:37:31.093Z"
   },
   {
    "duration": 321,
    "start_time": "2023-08-11T19:37:31.417Z"
   },
   {
    "duration": 423,
    "start_time": "2023-08-11T19:37:31.740Z"
   },
   {
    "duration": 461,
    "start_time": "2023-08-11T19:37:32.165Z"
   },
   {
    "duration": 5,
    "start_time": "2023-08-11T19:37:32.628Z"
   },
   {
    "duration": 388,
    "start_time": "2023-08-11T19:37:32.637Z"
   },
   {
    "duration": 407,
    "start_time": "2023-08-11T19:37:33.037Z"
   },
   {
    "duration": 32,
    "start_time": "2023-08-11T19:37:33.445Z"
   },
   {
    "duration": 6,
    "start_time": "2023-08-11T19:37:33.478Z"
   },
   {
    "duration": 11,
    "start_time": "2023-08-11T19:37:33.485Z"
   },
   {
    "duration": 11,
    "start_time": "2023-08-11T19:37:33.497Z"
   },
   {
    "duration": 20,
    "start_time": "2023-08-11T19:37:33.509Z"
   },
   {
    "duration": 414,
    "start_time": "2023-08-11T19:39:04.690Z"
   },
   {
    "duration": 464,
    "start_time": "2023-08-11T19:40:47.607Z"
   },
   {
    "duration": 390,
    "start_time": "2023-08-11T19:41:05.327Z"
   },
   {
    "duration": 370,
    "start_time": "2023-08-11T19:41:27.920Z"
   },
   {
    "duration": 6,
    "start_time": "2023-08-11T19:52:11.957Z"
   },
   {
    "duration": 335,
    "start_time": "2023-08-11T19:57:07.119Z"
   },
   {
    "duration": 38,
    "start_time": "2023-08-11T20:02:27.885Z"
   },
   {
    "duration": 9,
    "start_time": "2023-08-11T20:18:00.885Z"
   },
   {
    "duration": 1606,
    "start_time": "2023-08-14T16:42:31.058Z"
   },
   {
    "duration": 133,
    "start_time": "2023-08-14T16:42:42.993Z"
   },
   {
    "duration": 4,
    "start_time": "2023-08-14T16:42:54.663Z"
   },
   {
    "duration": 10,
    "start_time": "2023-08-14T16:47:33.566Z"
   },
   {
    "duration": 1211,
    "start_time": "2023-08-14T16:47:38.900Z"
   },
   {
    "duration": 206,
    "start_time": "2023-08-14T16:47:40.113Z"
   },
   {
    "duration": 22,
    "start_time": "2023-08-14T16:47:40.323Z"
   },
   {
    "duration": 17,
    "start_time": "2023-08-14T16:47:40.347Z"
   },
   {
    "duration": 20,
    "start_time": "2023-08-14T16:47:40.366Z"
   },
   {
    "duration": 22,
    "start_time": "2023-08-14T16:47:40.388Z"
   },
   {
    "duration": 19,
    "start_time": "2023-08-14T16:47:40.412Z"
   },
   {
    "duration": 49,
    "start_time": "2023-08-14T16:47:40.433Z"
   },
   {
    "duration": 9,
    "start_time": "2023-08-14T16:47:40.484Z"
   },
   {
    "duration": 14,
    "start_time": "2023-08-14T16:47:40.496Z"
   },
   {
    "duration": 20,
    "start_time": "2023-08-14T16:47:40.513Z"
   },
   {
    "duration": 12,
    "start_time": "2023-08-14T16:47:40.534Z"
   },
   {
    "duration": 26,
    "start_time": "2023-08-14T16:47:40.548Z"
   },
   {
    "duration": 15,
    "start_time": "2023-08-14T16:47:40.576Z"
   },
   {
    "duration": 11,
    "start_time": "2023-08-14T16:47:40.593Z"
   },
   {
    "duration": 28,
    "start_time": "2023-08-14T16:47:40.606Z"
   },
   {
    "duration": 362,
    "start_time": "2023-08-14T16:47:40.636Z"
   },
   {
    "duration": 368,
    "start_time": "2023-08-14T16:47:41.001Z"
   },
   {
    "duration": 7,
    "start_time": "2023-08-14T16:47:41.372Z"
   },
   {
    "duration": 383,
    "start_time": "2023-08-14T16:47:41.381Z"
   },
   {
    "duration": 392,
    "start_time": "2023-08-14T16:47:41.766Z"
   },
   {
    "duration": 519,
    "start_time": "2023-08-14T16:47:42.161Z"
   },
   {
    "duration": 467,
    "start_time": "2023-08-14T16:47:42.683Z"
   },
   {
    "duration": 15,
    "start_time": "2023-08-14T16:47:43.152Z"
   },
   {
    "duration": 524,
    "start_time": "2023-08-14T16:47:43.170Z"
   },
   {
    "duration": 517,
    "start_time": "2023-08-14T16:47:43.696Z"
   },
   {
    "duration": 62,
    "start_time": "2023-08-14T16:47:44.215Z"
   },
   {
    "duration": 13,
    "start_time": "2023-08-14T16:47:44.282Z"
   },
   {
    "duration": 12,
    "start_time": "2023-08-14T16:47:44.299Z"
   },
   {
    "duration": 1331,
    "start_time": "2023-08-14T16:50:58.573Z"
   },
   {
    "duration": 55,
    "start_time": "2023-08-14T16:50:59.909Z"
   },
   {
    "duration": 21,
    "start_time": "2023-08-14T16:50:59.966Z"
   },
   {
    "duration": 17,
    "start_time": "2023-08-14T16:50:59.990Z"
   },
   {
    "duration": 54,
    "start_time": "2023-08-14T16:51:00.009Z"
   },
   {
    "duration": 110,
    "start_time": "2023-08-14T16:51:00.067Z"
   },
   {
    "duration": 68,
    "start_time": "2023-08-14T16:51:00.179Z"
   },
   {
    "duration": 148,
    "start_time": "2023-08-14T16:51:00.250Z"
   },
   {
    "duration": 23,
    "start_time": "2023-08-14T16:51:00.400Z"
   },
   {
    "duration": 74,
    "start_time": "2023-08-14T16:51:00.426Z"
   },
   {
    "duration": 44,
    "start_time": "2023-08-14T16:51:00.502Z"
   },
   {
    "duration": 30,
    "start_time": "2023-08-14T16:51:00.548Z"
   },
   {
    "duration": 34,
    "start_time": "2023-08-14T16:51:00.581Z"
   },
   {
    "duration": 68,
    "start_time": "2023-08-14T16:51:00.617Z"
   },
   {
    "duration": 44,
    "start_time": "2023-08-14T16:51:00.687Z"
   },
   {
    "duration": 34,
    "start_time": "2023-08-14T16:51:00.733Z"
   },
   {
    "duration": 426,
    "start_time": "2023-08-14T16:51:00.770Z"
   },
   {
    "duration": 343,
    "start_time": "2023-08-14T16:51:01.198Z"
   },
   {
    "duration": 6,
    "start_time": "2023-08-14T16:51:01.543Z"
   },
   {
    "duration": 403,
    "start_time": "2023-08-14T16:51:01.551Z"
   },
   {
    "duration": 389,
    "start_time": "2023-08-14T16:51:01.955Z"
   },
   {
    "duration": 609,
    "start_time": "2023-08-14T16:51:02.346Z"
   },
   {
    "duration": 493,
    "start_time": "2023-08-14T16:51:02.957Z"
   },
   {
    "duration": 15,
    "start_time": "2023-08-14T16:51:03.452Z"
   },
   {
    "duration": 426,
    "start_time": "2023-08-14T16:51:03.469Z"
   },
   {
    "duration": 495,
    "start_time": "2023-08-14T16:51:03.898Z"
   },
   {
    "duration": 49,
    "start_time": "2023-08-14T16:51:04.395Z"
   },
   {
    "duration": 24,
    "start_time": "2023-08-14T16:51:04.447Z"
   },
   {
    "duration": 14,
    "start_time": "2023-08-14T16:51:04.473Z"
   },
   {
    "duration": 5,
    "start_time": "2023-08-14T16:59:12.068Z"
   },
   {
    "duration": 1230,
    "start_time": "2023-08-14T16:59:18.093Z"
   },
   {
    "duration": 60,
    "start_time": "2023-08-14T16:59:19.325Z"
   },
   {
    "duration": 25,
    "start_time": "2023-08-14T16:59:19.387Z"
   },
   {
    "duration": 34,
    "start_time": "2023-08-14T16:59:19.415Z"
   },
   {
    "duration": 23,
    "start_time": "2023-08-14T16:59:19.451Z"
   },
   {
    "duration": 20,
    "start_time": "2023-08-14T16:59:19.477Z"
   },
   {
    "duration": 24,
    "start_time": "2023-08-14T16:59:19.499Z"
   },
   {
    "duration": 30,
    "start_time": "2023-08-14T16:59:19.525Z"
   },
   {
    "duration": 126,
    "start_time": "2023-08-14T16:59:19.557Z"
   },
   {
    "duration": 0,
    "start_time": "2023-08-14T16:59:19.686Z"
   },
   {
    "duration": 0,
    "start_time": "2023-08-14T16:59:19.687Z"
   },
   {
    "duration": 0,
    "start_time": "2023-08-14T16:59:19.689Z"
   },
   {
    "duration": 0,
    "start_time": "2023-08-14T16:59:19.690Z"
   },
   {
    "duration": 0,
    "start_time": "2023-08-14T16:59:19.691Z"
   },
   {
    "duration": 0,
    "start_time": "2023-08-14T16:59:19.693Z"
   },
   {
    "duration": 0,
    "start_time": "2023-08-14T16:59:19.694Z"
   },
   {
    "duration": 0,
    "start_time": "2023-08-14T16:59:19.695Z"
   },
   {
    "duration": 0,
    "start_time": "2023-08-14T16:59:19.696Z"
   },
   {
    "duration": 0,
    "start_time": "2023-08-14T16:59:19.697Z"
   },
   {
    "duration": 0,
    "start_time": "2023-08-14T16:59:19.698Z"
   },
   {
    "duration": 0,
    "start_time": "2023-08-14T16:59:19.699Z"
   },
   {
    "duration": 0,
    "start_time": "2023-08-14T16:59:19.700Z"
   },
   {
    "duration": 0,
    "start_time": "2023-08-14T16:59:19.701Z"
   },
   {
    "duration": 0,
    "start_time": "2023-08-14T16:59:19.702Z"
   },
   {
    "duration": 0,
    "start_time": "2023-08-14T16:59:19.704Z"
   },
   {
    "duration": 0,
    "start_time": "2023-08-14T16:59:19.705Z"
   },
   {
    "duration": 0,
    "start_time": "2023-08-14T16:59:19.706Z"
   },
   {
    "duration": 0,
    "start_time": "2023-08-14T16:59:19.707Z"
   },
   {
    "duration": 4,
    "start_time": "2023-08-14T17:04:10.596Z"
   },
   {
    "duration": 8,
    "start_time": "2023-08-14T17:04:28.534Z"
   },
   {
    "duration": 1211,
    "start_time": "2023-08-14T17:06:09.886Z"
   },
   {
    "duration": 53,
    "start_time": "2023-08-14T17:06:11.101Z"
   },
   {
    "duration": 19,
    "start_time": "2023-08-14T17:06:11.156Z"
   },
   {
    "duration": 17,
    "start_time": "2023-08-14T17:06:11.178Z"
   },
   {
    "duration": 4,
    "start_time": "2023-08-14T17:06:11.197Z"
   },
   {
    "duration": 19,
    "start_time": "2023-08-14T17:06:11.203Z"
   },
   {
    "duration": 13,
    "start_time": "2023-08-14T17:06:11.224Z"
   },
   {
    "duration": 36,
    "start_time": "2023-08-14T17:06:11.239Z"
   },
   {
    "duration": 6,
    "start_time": "2023-08-14T17:06:11.277Z"
   },
   {
    "duration": 18,
    "start_time": "2023-08-14T17:06:11.286Z"
   },
   {
    "duration": 13,
    "start_time": "2023-08-14T17:06:11.306Z"
   },
   {
    "duration": 36,
    "start_time": "2023-08-14T17:06:11.321Z"
   },
   {
    "duration": 17,
    "start_time": "2023-08-14T17:06:11.359Z"
   },
   {
    "duration": 4,
    "start_time": "2023-08-14T17:06:11.378Z"
   },
   {
    "duration": 5,
    "start_time": "2023-08-14T17:06:11.384Z"
   },
   {
    "duration": 354,
    "start_time": "2023-08-14T17:06:11.391Z"
   },
   {
    "duration": 314,
    "start_time": "2023-08-14T17:06:11.747Z"
   },
   {
    "duration": 6,
    "start_time": "2023-08-14T17:06:12.063Z"
   },
   {
    "duration": 348,
    "start_time": "2023-08-14T17:06:12.071Z"
   },
   {
    "duration": 356,
    "start_time": "2023-08-14T17:06:12.421Z"
   },
   {
    "duration": 478,
    "start_time": "2023-08-14T17:06:12.778Z"
   },
   {
    "duration": 466,
    "start_time": "2023-08-14T17:06:13.258Z"
   },
   {
    "duration": 8,
    "start_time": "2023-08-14T17:06:13.726Z"
   },
   {
    "duration": 474,
    "start_time": "2023-08-14T17:06:13.735Z"
   },
   {
    "duration": 434,
    "start_time": "2023-08-14T17:06:14.211Z"
   },
   {
    "duration": 45,
    "start_time": "2023-08-14T17:06:14.647Z"
   },
   {
    "duration": 9,
    "start_time": "2023-08-14T17:06:14.694Z"
   },
   {
    "duration": 9,
    "start_time": "2023-08-14T17:06:14.707Z"
   },
   {
    "duration": 4,
    "start_time": "2023-08-14T17:16:38.326Z"
   },
   {
    "duration": 4,
    "start_time": "2023-08-14T17:17:24.455Z"
   },
   {
    "duration": 1309,
    "start_time": "2023-08-14T17:17:33.042Z"
   },
   {
    "duration": 52,
    "start_time": "2023-08-14T17:17:34.352Z"
   },
   {
    "duration": 20,
    "start_time": "2023-08-14T17:17:34.406Z"
   },
   {
    "duration": 27,
    "start_time": "2023-08-14T17:17:34.428Z"
   },
   {
    "duration": 8,
    "start_time": "2023-08-14T17:17:34.457Z"
   },
   {
    "duration": 23,
    "start_time": "2023-08-14T17:17:34.466Z"
   },
   {
    "duration": 17,
    "start_time": "2023-08-14T17:17:34.491Z"
   },
   {
    "duration": 31,
    "start_time": "2023-08-14T17:17:34.510Z"
   },
   {
    "duration": 35,
    "start_time": "2023-08-14T17:17:34.542Z"
   },
   {
    "duration": 37,
    "start_time": "2023-08-14T17:17:34.580Z"
   },
   {
    "duration": 11,
    "start_time": "2023-08-14T17:17:34.619Z"
   },
   {
    "duration": 11,
    "start_time": "2023-08-14T17:17:34.632Z"
   },
   {
    "duration": 13,
    "start_time": "2023-08-14T17:17:34.645Z"
   },
   {
    "duration": 6,
    "start_time": "2023-08-14T17:17:34.661Z"
   },
   {
    "duration": 23,
    "start_time": "2023-08-14T17:17:34.669Z"
   },
   {
    "duration": 353,
    "start_time": "2023-08-14T17:17:34.694Z"
   },
   {
    "duration": 332,
    "start_time": "2023-08-14T17:17:35.049Z"
   },
   {
    "duration": 6,
    "start_time": "2023-08-14T17:17:35.383Z"
   },
   {
    "duration": 339,
    "start_time": "2023-08-14T17:17:35.390Z"
   },
   {
    "duration": 361,
    "start_time": "2023-08-14T17:17:35.730Z"
   },
   {
    "duration": 434,
    "start_time": "2023-08-14T17:17:36.093Z"
   },
   {
    "duration": 452,
    "start_time": "2023-08-14T17:17:36.529Z"
   },
   {
    "duration": 6,
    "start_time": "2023-08-14T17:17:36.983Z"
   },
   {
    "duration": 407,
    "start_time": "2023-08-14T17:17:36.991Z"
   },
   {
    "duration": 435,
    "start_time": "2023-08-14T17:17:37.400Z"
   },
   {
    "duration": 51,
    "start_time": "2023-08-14T17:17:37.837Z"
   },
   {
    "duration": 10,
    "start_time": "2023-08-14T17:17:37.889Z"
   },
   {
    "duration": 12,
    "start_time": "2023-08-14T17:17:37.903Z"
   },
   {
    "duration": 147,
    "start_time": "2023-08-14T17:22:07.849Z"
   },
   {
    "duration": 6,
    "start_time": "2023-08-14T17:22:24.170Z"
   },
   {
    "duration": 302,
    "start_time": "2023-08-14T17:25:05.745Z"
   },
   {
    "duration": 1269,
    "start_time": "2023-08-14T17:32:27.240Z"
   },
   {
    "duration": 55,
    "start_time": "2023-08-14T17:32:28.510Z"
   },
   {
    "duration": 19,
    "start_time": "2023-08-14T17:32:28.570Z"
   },
   {
    "duration": 15,
    "start_time": "2023-08-14T17:32:28.592Z"
   },
   {
    "duration": 19,
    "start_time": "2023-08-14T17:32:28.609Z"
   },
   {
    "duration": 14,
    "start_time": "2023-08-14T17:32:28.629Z"
   },
   {
    "duration": 37,
    "start_time": "2023-08-14T17:32:28.645Z"
   },
   {
    "duration": 8,
    "start_time": "2023-08-14T17:32:28.684Z"
   },
   {
    "duration": 13,
    "start_time": "2023-08-14T17:32:28.694Z"
   },
   {
    "duration": 21,
    "start_time": "2023-08-14T17:32:28.709Z"
   },
   {
    "duration": 10,
    "start_time": "2023-08-14T17:32:28.732Z"
   },
   {
    "duration": 10,
    "start_time": "2023-08-14T17:32:28.744Z"
   },
   {
    "duration": 23,
    "start_time": "2023-08-14T17:32:28.756Z"
   },
   {
    "duration": 4,
    "start_time": "2023-08-14T17:32:28.783Z"
   },
   {
    "duration": 20,
    "start_time": "2023-08-14T17:32:28.788Z"
   },
   {
    "duration": 379,
    "start_time": "2023-08-14T17:32:28.809Z"
   },
   {
    "duration": 323,
    "start_time": "2023-08-14T17:32:29.190Z"
   },
   {
    "duration": 5,
    "start_time": "2023-08-14T17:32:29.515Z"
   },
   {
    "duration": 319,
    "start_time": "2023-08-14T17:32:29.522Z"
   },
   {
    "duration": 343,
    "start_time": "2023-08-14T17:32:29.842Z"
   },
   {
    "duration": 463,
    "start_time": "2023-08-14T17:32:30.187Z"
   },
   {
    "duration": 517,
    "start_time": "2023-08-14T17:32:30.652Z"
   },
   {
    "duration": 10,
    "start_time": "2023-08-14T17:32:31.172Z"
   },
   {
    "duration": 530,
    "start_time": "2023-08-14T17:32:31.184Z"
   },
   {
    "duration": 450,
    "start_time": "2023-08-14T17:32:31.717Z"
   },
   {
    "duration": 32,
    "start_time": "2023-08-14T17:32:32.169Z"
   },
   {
    "duration": 10,
    "start_time": "2023-08-14T17:32:32.203Z"
   },
   {
    "duration": 48,
    "start_time": "2023-08-14T17:32:32.215Z"
   },
   {
    "duration": 191,
    "start_time": "2023-08-14T17:35:31.579Z"
   },
   {
    "duration": 363,
    "start_time": "2023-08-14T17:35:43.008Z"
   },
   {
    "duration": 9,
    "start_time": "2023-08-14T17:35:53.214Z"
   },
   {
    "duration": 9,
    "start_time": "2023-08-14T17:35:57.755Z"
   },
   {
    "duration": 106,
    "start_time": "2023-08-14T17:36:12.084Z"
   },
   {
    "duration": 11,
    "start_time": "2023-08-14T17:36:23.722Z"
   },
   {
    "duration": 11,
    "start_time": "2023-08-14T17:36:33.333Z"
   },
   {
    "duration": 11,
    "start_time": "2023-08-14T17:36:42.972Z"
   },
   {
    "duration": 229,
    "start_time": "2023-08-14T17:36:52.968Z"
   },
   {
    "duration": 190,
    "start_time": "2023-08-14T17:37:07.191Z"
   },
   {
    "duration": 226,
    "start_time": "2023-08-14T17:37:12.404Z"
   },
   {
    "duration": 200,
    "start_time": "2023-08-14T17:37:15.948Z"
   },
   {
    "duration": 254,
    "start_time": "2023-08-14T17:37:53.893Z"
   },
   {
    "duration": 7,
    "start_time": "2023-08-14T17:40:44.060Z"
   },
   {
    "duration": 5,
    "start_time": "2023-08-14T17:40:52.929Z"
   },
   {
    "duration": 5,
    "start_time": "2023-08-14T17:41:14.264Z"
   },
   {
    "duration": 288,
    "start_time": "2023-08-14T17:41:33.213Z"
   },
   {
    "duration": 180,
    "start_time": "2023-08-14T17:41:43.166Z"
   },
   {
    "duration": 216,
    "start_time": "2023-08-14T17:41:59.522Z"
   },
   {
    "duration": 320,
    "start_time": "2023-08-14T17:42:11.647Z"
   },
   {
    "duration": 274,
    "start_time": "2023-08-14T17:42:18.113Z"
   },
   {
    "duration": 481,
    "start_time": "2023-08-14T17:48:01.032Z"
   },
   {
    "duration": 410,
    "start_time": "2023-08-14T17:48:37.436Z"
   },
   {
    "duration": 429,
    "start_time": "2023-08-14T17:49:23.012Z"
   },
   {
    "duration": 833,
    "start_time": "2023-08-14T17:53:37.199Z"
   },
   {
    "duration": 786,
    "start_time": "2023-08-14T17:54:02.989Z"
   },
   {
    "duration": 876,
    "start_time": "2023-08-14T17:54:16.765Z"
   },
   {
    "duration": 878,
    "start_time": "2023-08-14T17:54:25.397Z"
   },
   {
    "duration": 830,
    "start_time": "2023-08-14T17:54:36.508Z"
   },
   {
    "duration": 844,
    "start_time": "2023-08-14T17:56:22.765Z"
   },
   {
    "duration": 577,
    "start_time": "2023-08-14T17:57:20.367Z"
   },
   {
    "duration": 597,
    "start_time": "2023-08-14T17:57:40.863Z"
   },
   {
    "duration": 483,
    "start_time": "2023-08-14T17:57:47.818Z"
   },
   {
    "duration": 477,
    "start_time": "2023-08-14T18:01:22.898Z"
   },
   {
    "duration": 487,
    "start_time": "2023-08-14T18:01:51.967Z"
   },
   {
    "duration": 488,
    "start_time": "2023-08-14T18:02:01.739Z"
   },
   {
    "duration": 483,
    "start_time": "2023-08-14T18:02:12.949Z"
   },
   {
    "duration": 566,
    "start_time": "2023-08-14T18:03:56.688Z"
   },
   {
    "duration": 493,
    "start_time": "2023-08-14T18:04:13.150Z"
   },
   {
    "duration": 439,
    "start_time": "2023-08-14T18:04:27.997Z"
   },
   {
    "duration": 471,
    "start_time": "2023-08-14T18:04:38.299Z"
   },
   {
    "duration": 441,
    "start_time": "2023-08-14T18:04:49.928Z"
   },
   {
    "duration": 567,
    "start_time": "2023-08-14T18:05:05.753Z"
   },
   {
    "duration": 459,
    "start_time": "2023-08-14T18:05:27.855Z"
   },
   {
    "duration": 474,
    "start_time": "2023-08-14T18:15:31.109Z"
   },
   {
    "duration": 193,
    "start_time": "2023-08-14T18:16:09.824Z"
   },
   {
    "duration": 399,
    "start_time": "2023-08-14T18:16:29.533Z"
   },
   {
    "duration": 404,
    "start_time": "2023-08-14T18:16:48.309Z"
   },
   {
    "duration": 29,
    "start_time": "2023-08-14T18:17:44.184Z"
   },
   {
    "duration": 29,
    "start_time": "2023-08-14T18:18:04.615Z"
   },
   {
    "duration": 33,
    "start_time": "2023-08-14T18:18:16.233Z"
   },
   {
    "duration": 15,
    "start_time": "2023-08-14T18:18:37.878Z"
   },
   {
    "duration": 375,
    "start_time": "2023-08-14T18:19:12.677Z"
   },
   {
    "duration": 391,
    "start_time": "2023-08-14T18:19:25.171Z"
   },
   {
    "duration": 407,
    "start_time": "2023-08-14T18:19:41.114Z"
   },
   {
    "duration": 330,
    "start_time": "2023-08-14T18:21:26.061Z"
   },
   {
    "duration": 292,
    "start_time": "2023-08-14T18:21:37.618Z"
   },
   {
    "duration": 328,
    "start_time": "2023-08-14T18:22:07.193Z"
   },
   {
    "duration": 1284,
    "start_time": "2023-08-14T18:22:14.214Z"
   },
   {
    "duration": 57,
    "start_time": "2023-08-14T18:22:15.501Z"
   },
   {
    "duration": 19,
    "start_time": "2023-08-14T18:22:15.560Z"
   },
   {
    "duration": 19,
    "start_time": "2023-08-14T18:22:15.581Z"
   },
   {
    "duration": 8,
    "start_time": "2023-08-14T18:22:15.603Z"
   },
   {
    "duration": 12,
    "start_time": "2023-08-14T18:22:15.613Z"
   },
   {
    "duration": 38,
    "start_time": "2023-08-14T18:22:15.627Z"
   },
   {
    "duration": 22,
    "start_time": "2023-08-14T18:22:15.667Z"
   },
   {
    "duration": 8,
    "start_time": "2023-08-14T18:22:15.692Z"
   },
   {
    "duration": 25,
    "start_time": "2023-08-14T18:22:15.704Z"
   },
   {
    "duration": 11,
    "start_time": "2023-08-14T18:22:15.732Z"
   },
   {
    "duration": 13,
    "start_time": "2023-08-14T18:22:15.766Z"
   },
   {
    "duration": 14,
    "start_time": "2023-08-14T18:22:15.781Z"
   },
   {
    "duration": 5,
    "start_time": "2023-08-14T18:22:15.797Z"
   },
   {
    "duration": 6,
    "start_time": "2023-08-14T18:22:15.804Z"
   },
   {
    "duration": 408,
    "start_time": "2023-08-14T18:22:15.812Z"
   },
   {
    "duration": 322,
    "start_time": "2023-08-14T18:22:16.223Z"
   },
   {
    "duration": 7,
    "start_time": "2023-08-14T18:22:16.548Z"
   },
   {
    "duration": 305,
    "start_time": "2023-08-14T18:22:16.557Z"
   },
   {
    "duration": 342,
    "start_time": "2023-08-14T18:22:16.864Z"
   },
   {
    "duration": 315,
    "start_time": "2023-08-14T18:22:17.208Z"
   },
   {
    "duration": 849,
    "start_time": "2023-08-14T18:22:17.526Z"
   },
   {
    "duration": 493,
    "start_time": "2023-08-14T18:22:18.378Z"
   },
   {
    "duration": 7,
    "start_time": "2023-08-14T18:22:18.874Z"
   },
   {
    "duration": 474,
    "start_time": "2023-08-14T18:22:18.884Z"
   },
   {
    "duration": 681,
    "start_time": "2023-08-14T18:22:19.368Z"
   },
   {
    "duration": 46,
    "start_time": "2023-08-14T18:22:20.052Z"
   },
   {
    "duration": 10,
    "start_time": "2023-08-14T18:22:20.101Z"
   },
   {
    "duration": 16,
    "start_time": "2023-08-14T18:22:20.113Z"
   },
   {
    "duration": 395,
    "start_time": "2023-08-14T18:23:32.167Z"
   },
   {
    "duration": 283,
    "start_time": "2023-08-14T18:23:46.291Z"
   },
   {
    "duration": 275,
    "start_time": "2023-08-14T18:23:52.061Z"
   },
   {
    "duration": 276,
    "start_time": "2023-08-14T18:24:54.580Z"
   },
   {
    "duration": 289,
    "start_time": "2023-08-14T18:25:32.929Z"
   },
   {
    "duration": 277,
    "start_time": "2023-08-14T18:26:01.367Z"
   },
   {
    "duration": 268,
    "start_time": "2023-08-14T18:26:15.300Z"
   },
   {
    "duration": 1259,
    "start_time": "2023-08-14T18:26:21.668Z"
   },
   {
    "duration": 61,
    "start_time": "2023-08-14T18:26:22.930Z"
   },
   {
    "duration": 22,
    "start_time": "2023-08-14T18:26:22.992Z"
   },
   {
    "duration": 16,
    "start_time": "2023-08-14T18:26:23.017Z"
   },
   {
    "duration": 8,
    "start_time": "2023-08-14T18:26:23.035Z"
   },
   {
    "duration": 29,
    "start_time": "2023-08-14T18:26:23.045Z"
   },
   {
    "duration": 11,
    "start_time": "2023-08-14T18:26:23.076Z"
   },
   {
    "duration": 9,
    "start_time": "2023-08-14T18:26:23.089Z"
   },
   {
    "duration": 12,
    "start_time": "2023-08-14T18:26:23.100Z"
   },
   {
    "duration": 29,
    "start_time": "2023-08-14T18:26:23.115Z"
   },
   {
    "duration": 34,
    "start_time": "2023-08-14T18:26:23.146Z"
   },
   {
    "duration": 12,
    "start_time": "2023-08-14T18:26:23.182Z"
   },
   {
    "duration": 14,
    "start_time": "2023-08-14T18:26:23.197Z"
   },
   {
    "duration": 7,
    "start_time": "2023-08-14T18:26:23.213Z"
   },
   {
    "duration": 10,
    "start_time": "2023-08-14T18:26:23.222Z"
   },
   {
    "duration": 376,
    "start_time": "2023-08-14T18:26:23.267Z"
   },
   {
    "duration": 333,
    "start_time": "2023-08-14T18:26:23.645Z"
   },
   {
    "duration": 7,
    "start_time": "2023-08-14T18:26:23.981Z"
   },
   {
    "duration": 324,
    "start_time": "2023-08-14T18:26:23.990Z"
   },
   {
    "duration": 311,
    "start_time": "2023-08-14T18:26:24.316Z"
   },
   {
    "duration": 311,
    "start_time": "2023-08-14T18:26:24.629Z"
   },
   {
    "duration": 733,
    "start_time": "2023-08-14T18:26:24.943Z"
   },
   {
    "duration": 461,
    "start_time": "2023-08-14T18:26:25.678Z"
   },
   {
    "duration": 7,
    "start_time": "2023-08-14T18:26:26.141Z"
   },
   {
    "duration": 435,
    "start_time": "2023-08-14T18:26:26.149Z"
   },
   {
    "duration": 556,
    "start_time": "2023-08-14T18:26:26.586Z"
   },
   {
    "duration": 55,
    "start_time": "2023-08-14T18:26:27.144Z"
   },
   {
    "duration": 10,
    "start_time": "2023-08-14T18:26:27.204Z"
   },
   {
    "duration": 12,
    "start_time": "2023-08-14T18:26:27.216Z"
   },
   {
    "duration": 1447,
    "start_time": "2023-08-15T06:58:11.479Z"
   },
   {
    "duration": 113,
    "start_time": "2023-08-15T06:58:12.928Z"
   },
   {
    "duration": 20,
    "start_time": "2023-08-15T06:58:13.043Z"
   },
   {
    "duration": 23,
    "start_time": "2023-08-15T06:58:13.066Z"
   },
   {
    "duration": 15,
    "start_time": "2023-08-15T06:58:13.091Z"
   },
   {
    "duration": 23,
    "start_time": "2023-08-15T06:58:13.107Z"
   },
   {
    "duration": 21,
    "start_time": "2023-08-15T06:58:13.132Z"
   },
   {
    "duration": 19,
    "start_time": "2023-08-15T06:58:13.155Z"
   },
   {
    "duration": 15,
    "start_time": "2023-08-15T06:58:13.176Z"
   },
   {
    "duration": 29,
    "start_time": "2023-08-15T06:58:13.194Z"
   },
   {
    "duration": 12,
    "start_time": "2023-08-15T06:58:13.225Z"
   },
   {
    "duration": 16,
    "start_time": "2023-08-15T06:58:13.239Z"
   },
   {
    "duration": 38,
    "start_time": "2023-08-15T06:58:13.257Z"
   },
   {
    "duration": 5,
    "start_time": "2023-08-15T06:58:13.297Z"
   },
   {
    "duration": 22,
    "start_time": "2023-08-15T06:58:13.303Z"
   },
   {
    "duration": 343,
    "start_time": "2023-08-15T06:58:13.326Z"
   },
   {
    "duration": 308,
    "start_time": "2023-08-15T06:58:13.671Z"
   },
   {
    "duration": 7,
    "start_time": "2023-08-15T06:58:13.981Z"
   },
   {
    "duration": 295,
    "start_time": "2023-08-15T06:58:13.989Z"
   },
   {
    "duration": 202,
    "start_time": "2023-08-15T06:58:14.285Z"
   },
   {
    "duration": 800,
    "start_time": "2023-08-15T06:58:14.489Z"
   },
   {
    "duration": 521,
    "start_time": "2023-08-15T06:58:15.291Z"
   },
   {
    "duration": 9,
    "start_time": "2023-08-15T06:58:15.814Z"
   },
   {
    "duration": 510,
    "start_time": "2023-08-15T06:58:15.824Z"
   },
   {
    "duration": 423,
    "start_time": "2023-08-15T06:58:16.336Z"
   },
   {
    "duration": 52,
    "start_time": "2023-08-15T06:58:16.761Z"
   },
   {
    "duration": 8,
    "start_time": "2023-08-15T06:58:16.815Z"
   },
   {
    "duration": 29,
    "start_time": "2023-08-15T06:58:16.826Z"
   },
   {
    "duration": 1280,
    "start_time": "2023-08-15T07:01:26.964Z"
   },
   {
    "duration": 54,
    "start_time": "2023-08-15T07:01:28.247Z"
   },
   {
    "duration": 19,
    "start_time": "2023-08-15T07:01:28.303Z"
   },
   {
    "duration": 16,
    "start_time": "2023-08-15T07:01:28.324Z"
   },
   {
    "duration": 4,
    "start_time": "2023-08-15T07:01:28.342Z"
   },
   {
    "duration": 21,
    "start_time": "2023-08-15T07:01:28.347Z"
   },
   {
    "duration": 10,
    "start_time": "2023-08-15T07:01:28.370Z"
   },
   {
    "duration": 32,
    "start_time": "2023-08-15T07:01:28.381Z"
   },
   {
    "duration": 15,
    "start_time": "2023-08-15T07:01:28.415Z"
   },
   {
    "duration": 25,
    "start_time": "2023-08-15T07:01:28.432Z"
   },
   {
    "duration": 16,
    "start_time": "2023-08-15T07:01:28.459Z"
   },
   {
    "duration": 16,
    "start_time": "2023-08-15T07:01:28.477Z"
   },
   {
    "duration": 20,
    "start_time": "2023-08-15T07:01:28.494Z"
   },
   {
    "duration": 5,
    "start_time": "2023-08-15T07:01:28.517Z"
   },
   {
    "duration": 10,
    "start_time": "2023-08-15T07:01:28.523Z"
   },
   {
    "duration": 357,
    "start_time": "2023-08-15T07:01:28.535Z"
   },
   {
    "duration": 320,
    "start_time": "2023-08-15T07:01:28.894Z"
   },
   {
    "duration": 7,
    "start_time": "2023-08-15T07:01:29.216Z"
   },
   {
    "duration": 340,
    "start_time": "2023-08-15T07:01:29.225Z"
   },
   {
    "duration": 204,
    "start_time": "2023-08-15T07:01:29.567Z"
   },
   {
    "duration": 818,
    "start_time": "2023-08-15T07:01:29.773Z"
   },
   {
    "duration": 466,
    "start_time": "2023-08-15T07:01:30.593Z"
   },
   {
    "duration": 7,
    "start_time": "2023-08-15T07:01:31.061Z"
   },
   {
    "duration": 493,
    "start_time": "2023-08-15T07:01:31.070Z"
   },
   {
    "duration": 447,
    "start_time": "2023-08-15T07:01:31.565Z"
   },
   {
    "duration": 35,
    "start_time": "2023-08-15T07:01:32.015Z"
   },
   {
    "duration": 9,
    "start_time": "2023-08-15T07:01:32.052Z"
   },
   {
    "duration": 48,
    "start_time": "2023-08-15T07:01:32.064Z"
   },
   {
    "duration": 272,
    "start_time": "2023-08-15T07:04:43.219Z"
   },
   {
    "duration": 375,
    "start_time": "2023-08-15T07:05:02.635Z"
   },
   {
    "duration": 314,
    "start_time": "2023-08-15T07:05:09.258Z"
   },
   {
    "duration": 289,
    "start_time": "2023-08-15T07:06:10.003Z"
   },
   {
    "duration": 290,
    "start_time": "2023-08-15T07:06:16.964Z"
   },
   {
    "duration": 276,
    "start_time": "2023-08-15T07:06:28.116Z"
   },
   {
    "duration": 272,
    "start_time": "2023-08-15T07:06:37.366Z"
   },
   {
    "duration": 813,
    "start_time": "2023-08-15T07:13:32.974Z"
   },
   {
    "duration": 478,
    "start_time": "2023-08-15T07:15:51.611Z"
   },
   {
    "duration": 1179,
    "start_time": "2023-08-15T07:27:27.255Z"
   },
   {
    "duration": 53,
    "start_time": "2023-08-15T07:27:28.437Z"
   },
   {
    "duration": 20,
    "start_time": "2023-08-15T07:27:28.492Z"
   },
   {
    "duration": 15,
    "start_time": "2023-08-15T07:27:28.514Z"
   },
   {
    "duration": 5,
    "start_time": "2023-08-15T07:27:28.532Z"
   },
   {
    "duration": 51,
    "start_time": "2023-08-15T07:27:28.539Z"
   },
   {
    "duration": 14,
    "start_time": "2023-08-15T07:27:28.591Z"
   },
   {
    "duration": 12,
    "start_time": "2023-08-15T07:27:28.607Z"
   },
   {
    "duration": 17,
    "start_time": "2023-08-15T07:27:28.621Z"
   },
   {
    "duration": 42,
    "start_time": "2023-08-15T07:27:28.640Z"
   },
   {
    "duration": 13,
    "start_time": "2023-08-15T07:27:28.684Z"
   },
   {
    "duration": 12,
    "start_time": "2023-08-15T07:27:28.699Z"
   },
   {
    "duration": 22,
    "start_time": "2023-08-15T07:27:28.713Z"
   },
   {
    "duration": 6,
    "start_time": "2023-08-15T07:27:28.738Z"
   },
   {
    "duration": 18,
    "start_time": "2023-08-15T07:27:28.746Z"
   },
   {
    "duration": 374,
    "start_time": "2023-08-15T07:27:28.767Z"
   },
   {
    "duration": 336,
    "start_time": "2023-08-15T07:27:29.143Z"
   },
   {
    "duration": 6,
    "start_time": "2023-08-15T07:27:29.481Z"
   },
   {
    "duration": 277,
    "start_time": "2023-08-15T07:27:29.489Z"
   },
   {
    "duration": 215,
    "start_time": "2023-08-15T07:27:29.768Z"
   },
   {
    "duration": 816,
    "start_time": "2023-08-15T07:27:29.985Z"
   },
   {
    "duration": 475,
    "start_time": "2023-08-15T07:27:30.803Z"
   },
   {
    "duration": 8,
    "start_time": "2023-08-15T07:27:31.280Z"
   },
   {
    "duration": 635,
    "start_time": "2023-08-15T07:27:31.290Z"
   },
   {
    "duration": 436,
    "start_time": "2023-08-15T07:27:31.927Z"
   },
   {
    "duration": 54,
    "start_time": "2023-08-15T07:27:32.365Z"
   },
   {
    "duration": 10,
    "start_time": "2023-08-15T07:27:32.421Z"
   },
   {
    "duration": 42,
    "start_time": "2023-08-15T07:27:32.433Z"
   },
   {
    "duration": 9,
    "start_time": "2023-08-15T07:28:47.620Z"
   },
   {
    "duration": 4,
    "start_time": "2023-08-15T07:30:23.774Z"
   },
   {
    "duration": 11,
    "start_time": "2023-08-15T07:30:44.923Z"
   },
   {
    "duration": 10,
    "start_time": "2023-08-15T07:32:03.705Z"
   },
   {
    "duration": 9,
    "start_time": "2023-08-15T07:32:10.320Z"
   },
   {
    "duration": 32,
    "start_time": "2023-08-15T07:32:58.759Z"
   },
   {
    "duration": 29,
    "start_time": "2023-08-15T07:33:04.072Z"
   },
   {
    "duration": 30,
    "start_time": "2023-08-15T07:33:20.079Z"
   },
   {
    "duration": 32,
    "start_time": "2023-08-15T07:33:24.002Z"
   },
   {
    "duration": 31,
    "start_time": "2023-08-15T07:33:44.135Z"
   },
   {
    "duration": 1188,
    "start_time": "2023-08-15T07:34:11.054Z"
   },
   {
    "duration": 57,
    "start_time": "2023-08-15T07:34:12.244Z"
   },
   {
    "duration": 24,
    "start_time": "2023-08-15T07:34:12.303Z"
   },
   {
    "duration": 22,
    "start_time": "2023-08-15T07:34:12.330Z"
   },
   {
    "duration": 12,
    "start_time": "2023-08-15T07:34:12.354Z"
   },
   {
    "duration": 24,
    "start_time": "2023-08-15T07:34:12.368Z"
   },
   {
    "duration": 22,
    "start_time": "2023-08-15T07:34:12.394Z"
   },
   {
    "duration": 27,
    "start_time": "2023-08-15T07:34:12.418Z"
   },
   {
    "duration": 30,
    "start_time": "2023-08-15T07:34:12.447Z"
   },
   {
    "duration": 20,
    "start_time": "2023-08-15T07:34:12.480Z"
   },
   {
    "duration": 12,
    "start_time": "2023-08-15T07:34:12.502Z"
   },
   {
    "duration": 15,
    "start_time": "2023-08-15T07:34:12.516Z"
   },
   {
    "duration": 19,
    "start_time": "2023-08-15T07:34:12.534Z"
   },
   {
    "duration": 5,
    "start_time": "2023-08-15T07:34:12.555Z"
   },
   {
    "duration": 20,
    "start_time": "2023-08-15T07:34:12.562Z"
   },
   {
    "duration": 344,
    "start_time": "2023-08-15T07:34:12.584Z"
   },
   {
    "duration": 313,
    "start_time": "2023-08-15T07:34:12.930Z"
   },
   {
    "duration": 6,
    "start_time": "2023-08-15T07:34:13.245Z"
   },
   {
    "duration": 280,
    "start_time": "2023-08-15T07:34:13.252Z"
   },
   {
    "duration": 201,
    "start_time": "2023-08-15T07:34:13.534Z"
   },
   {
    "duration": 787,
    "start_time": "2023-08-15T07:34:13.737Z"
   },
   {
    "duration": 442,
    "start_time": "2023-08-15T07:34:14.525Z"
   },
   {
    "duration": 7,
    "start_time": "2023-08-15T07:34:14.968Z"
   },
   {
    "duration": 475,
    "start_time": "2023-08-15T07:34:14.977Z"
   },
   {
    "duration": 526,
    "start_time": "2023-08-15T07:34:15.454Z"
   },
   {
    "duration": 54,
    "start_time": "2023-08-15T07:34:15.983Z"
   },
   {
    "duration": 43,
    "start_time": "2023-08-15T07:34:16.039Z"
   },
   {
    "duration": 49,
    "start_time": "2023-08-15T07:34:16.085Z"
   }
  ],
  "kernelspec": {
   "display_name": "Python 3 (ipykernel)",
   "language": "python",
   "name": "python3"
  },
  "language_info": {
   "codemirror_mode": {
    "name": "ipython",
    "version": 3
   },
   "file_extension": ".py",
   "mimetype": "text/x-python",
   "name": "python",
   "nbconvert_exporter": "python",
   "pygments_lexer": "ipython3",
   "version": "3.9.12"
  },
  "toc": {
   "base_numbering": 1,
   "nav_menu": {},
   "number_sections": true,
   "sideBar": true,
   "skip_h1_title": true,
   "title_cell": "Table of Contents",
   "title_sidebar": "Contents",
   "toc_cell": false,
   "toc_position": {
    "height": "calc(100% - 180px)",
    "left": "10px",
    "top": "150px",
    "width": "368px"
   },
   "toc_section_display": true,
   "toc_window_display": false
  }
 },
 "nbformat": 4,
 "nbformat_minor": 2
}
