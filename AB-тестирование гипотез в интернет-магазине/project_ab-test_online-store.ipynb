{
 "cells": [
  {
   "cell_type": "markdown",
   "metadata": {},
   "source": [
    "## A/B-тестирование гипотез в онлайн-магазине"
   ]
  },
  {
   "cell_type": "markdown",
   "metadata": {},
   "source": [
    "### Постановка задачи\n",
    "\n",
    "Заказчиком исследования является интернет-магазин.\n",
    "\n",
    "**Цель исследования** — приоритезировать маркетинговые гипотезы для увеличения выручки, запустить A/B-тест и проанализировать результаты."
   ]
  },
  {
   "cell_type": "markdown",
   "metadata": {},
   "source": [
    "### План исследования\n",
    "\n",
    "* Импортировать библиотеки\n",
    "* Загрузить данные\n",
    "* Провести предобработку данных\n",
    "* Применить фреймворк `ICE` для приоритизации гипотез;\n",
    "* Применить фреймворк `RICE` для приоритизации гипотез.\n",
    "* Построить графики кумулятивных значений выручки, среднего чека, среднего количества заказов по группам;\n",
    "* Построить графики относительного изменения кумулятивных значений;\n",
    "* Проанализировать аномальные значения: построить точечные графики количества заказов и их стоимостей, посчитать перцентили;\n",
    "* Провести статистическую проверку гипотез о различиях в показателях между группами по сырым и очищенным данным, сделать выводы\n",
    "* Сделать выводы по результатам теста"
   ]
  },
  {
   "cell_type": "markdown",
   "metadata": {},
   "source": [
    "### Импортирование библиотек "
   ]
  },
  {
   "cell_type": "code",
   "execution_count": 1,
   "metadata": {},
   "outputs": [],
   "source": [
    "# Импортирование библиотек\n",
    "import pandas as pd\n",
    "import seaborn as sns\n",
    "import datetime as dt\n",
    "import numpy as np\n",
    "import matplotlib.pyplot as plt\n",
    "import scipy.stats as stats\n",
    "import warnings\n",
    "\n",
    "# Игнорировать все предупреждения\n",
    "warnings.filterwarnings(\"ignore\")\n",
    "\n",
    "# Зададим стиль для всех графиков\n",
    "sns.set_style('darkgrid')"
   ]
  },
  {
   "cell_type": "markdown",
   "metadata": {},
   "source": [
    "### Загрузка данных"
   ]
  },
  {
   "cell_type": "markdown",
   "metadata": {},
   "source": [
    "Прочитаем данные с помощью функции `read_csv`."
   ]
  },
  {
   "cell_type": "code",
   "execution_count": 2,
   "metadata": {},
   "outputs": [],
   "source": [
    "# Загрузка данных\n",
    "hypothesis = pd.read_csv('/Users/aaleksakhin/Library/CloudStorage/GoogleDrive-aaalexahin@gmail.com/My Drive/Data/Datasets/project_ab_test/hypothesis.csv')\n",
    "orders = pd.read_csv('/Users/aaleksakhin/Library/CloudStorage/GoogleDrive-aaalexahin@gmail.com/My Drive/Data/Datasets/project_ab_test/orders.csv')\n",
    "visitors = pd.read_csv('/Users/aaleksakhin/Library/CloudStorage/GoogleDrive-aaalexahin@gmail.com/My Drive/Data/Datasets/project_ab_test/visitors.csv')\n",
    "\n",
    "# Зададим ширину колонок для корректного отображения\n",
    "pd.options.display.max_colwidth = 130"
   ]
  },
  {
   "cell_type": "markdown",
   "metadata": {},
   "source": [
    "Для каждого датасета выведем первые пять строк методом `head` и основую информацию методом `info`, для этого:\n",
    "\n",
    "* Создадим словарь, в котором название датасета будет являться ключем, а датасет — значением.\n",
    "* Напишем функцию, которая будет выводить первые пять строк датасета и основную информацию.\n",
    "* Применим функцию к каждому элементу словаря с помощью цикла."
   ]
  },
  {
   "cell_type": "code",
   "execution_count": 3,
   "metadata": {},
   "outputs": [
    {
     "data": {
      "text/plain": [
       "'Датасет hypothesis:'"
      ]
     },
     "metadata": {},
     "output_type": "display_data"
    },
    {
     "data": {
      "text/html": [
       "<div>\n",
       "<style scoped>\n",
       "    .dataframe tbody tr th:only-of-type {\n",
       "        vertical-align: middle;\n",
       "    }\n",
       "\n",
       "    .dataframe tbody tr th {\n",
       "        vertical-align: top;\n",
       "    }\n",
       "\n",
       "    .dataframe thead th {\n",
       "        text-align: right;\n",
       "    }\n",
       "</style>\n",
       "<table border=\"1\" class=\"dataframe\">\n",
       "  <thead>\n",
       "    <tr style=\"text-align: right;\">\n",
       "      <th></th>\n",
       "      <th>Hypothesis</th>\n",
       "      <th>Reach</th>\n",
       "      <th>Impact</th>\n",
       "      <th>Confidence</th>\n",
       "      <th>Efforts</th>\n",
       "    </tr>\n",
       "  </thead>\n",
       "  <tbody>\n",
       "    <tr>\n",
       "      <th>0</th>\n",
       "      <td>Добавить два новых канала привлечения трафика, что позволит привлекать на 30% больше пользователей</td>\n",
       "      <td>3</td>\n",
       "      <td>10</td>\n",
       "      <td>8</td>\n",
       "      <td>6</td>\n",
       "    </tr>\n",
       "    <tr>\n",
       "      <th>1</th>\n",
       "      <td>Запустить собственную службу доставки, что сократит срок доставки заказов</td>\n",
       "      <td>2</td>\n",
       "      <td>5</td>\n",
       "      <td>4</td>\n",
       "      <td>10</td>\n",
       "    </tr>\n",
       "    <tr>\n",
       "      <th>2</th>\n",
       "      <td>Добавить блоки рекомендаций товаров на сайт интернет магазина, чтобы повысить конверсию и средний чек заказа</td>\n",
       "      <td>8</td>\n",
       "      <td>3</td>\n",
       "      <td>7</td>\n",
       "      <td>3</td>\n",
       "    </tr>\n",
       "    <tr>\n",
       "      <th>3</th>\n",
       "      <td>Изменить структура категорий, что увеличит конверсию, т.к. пользователи быстрее найдут нужный товар</td>\n",
       "      <td>8</td>\n",
       "      <td>3</td>\n",
       "      <td>3</td>\n",
       "      <td>8</td>\n",
       "    </tr>\n",
       "    <tr>\n",
       "      <th>4</th>\n",
       "      <td>Изменить цвет фона главной страницы, чтобы увеличить вовлеченность пользователей</td>\n",
       "      <td>3</td>\n",
       "      <td>1</td>\n",
       "      <td>1</td>\n",
       "      <td>1</td>\n",
       "    </tr>\n",
       "  </tbody>\n",
       "</table>\n",
       "</div>"
      ],
      "text/plain": [
       "                                                                                                     Hypothesis  \\\n",
       "0            Добавить два новых канала привлечения трафика, что позволит привлекать на 30% больше пользователей   \n",
       "1                                     Запустить собственную службу доставки, что сократит срок доставки заказов   \n",
       "2  Добавить блоки рекомендаций товаров на сайт интернет магазина, чтобы повысить конверсию и средний чек заказа   \n",
       "3           Изменить структура категорий, что увеличит конверсию, т.к. пользователи быстрее найдут нужный товар   \n",
       "4                              Изменить цвет фона главной страницы, чтобы увеличить вовлеченность пользователей   \n",
       "\n",
       "   Reach  Impact  Confidence  Efforts  \n",
       "0      3      10           8        6  \n",
       "1      2       5           4       10  \n",
       "2      8       3           7        3  \n",
       "3      8       3           3        8  \n",
       "4      3       1           1        1  "
      ]
     },
     "metadata": {},
     "output_type": "display_data"
    },
    {
     "name": "stdout",
     "output_type": "stream",
     "text": [
      "<class 'pandas.core.frame.DataFrame'>\n",
      "RangeIndex: 9 entries, 0 to 8\n",
      "Data columns (total 5 columns):\n",
      " #   Column      Non-Null Count  Dtype \n",
      "---  ------      --------------  ----- \n",
      " 0   Hypothesis  9 non-null      object\n",
      " 1   Reach       9 non-null      int64 \n",
      " 2   Impact      9 non-null      int64 \n",
      " 3   Confidence  9 non-null      int64 \n",
      " 4   Efforts     9 non-null      int64 \n",
      "dtypes: int64(4), object(1)\n",
      "memory usage: 488.0+ bytes\n"
     ]
    },
    {
     "data": {
      "text/plain": [
       "None"
      ]
     },
     "metadata": {},
     "output_type": "display_data"
    },
    {
     "data": {
      "text/plain": [
       "'Датасет orders:'"
      ]
     },
     "metadata": {},
     "output_type": "display_data"
    },
    {
     "data": {
      "text/html": [
       "<div>\n",
       "<style scoped>\n",
       "    .dataframe tbody tr th:only-of-type {\n",
       "        vertical-align: middle;\n",
       "    }\n",
       "\n",
       "    .dataframe tbody tr th {\n",
       "        vertical-align: top;\n",
       "    }\n",
       "\n",
       "    .dataframe thead th {\n",
       "        text-align: right;\n",
       "    }\n",
       "</style>\n",
       "<table border=\"1\" class=\"dataframe\">\n",
       "  <thead>\n",
       "    <tr style=\"text-align: right;\">\n",
       "      <th></th>\n",
       "      <th>transactionId</th>\n",
       "      <th>visitorId</th>\n",
       "      <th>date</th>\n",
       "      <th>revenue</th>\n",
       "      <th>group</th>\n",
       "    </tr>\n",
       "  </thead>\n",
       "  <tbody>\n",
       "    <tr>\n",
       "      <th>0</th>\n",
       "      <td>3667963787</td>\n",
       "      <td>3312258926</td>\n",
       "      <td>2019-08-15</td>\n",
       "      <td>1650</td>\n",
       "      <td>B</td>\n",
       "    </tr>\n",
       "    <tr>\n",
       "      <th>1</th>\n",
       "      <td>2804400009</td>\n",
       "      <td>3642806036</td>\n",
       "      <td>2019-08-15</td>\n",
       "      <td>730</td>\n",
       "      <td>B</td>\n",
       "    </tr>\n",
       "    <tr>\n",
       "      <th>2</th>\n",
       "      <td>2961555356</td>\n",
       "      <td>4069496402</td>\n",
       "      <td>2019-08-15</td>\n",
       "      <td>400</td>\n",
       "      <td>A</td>\n",
       "    </tr>\n",
       "    <tr>\n",
       "      <th>3</th>\n",
       "      <td>3797467345</td>\n",
       "      <td>1196621759</td>\n",
       "      <td>2019-08-15</td>\n",
       "      <td>9759</td>\n",
       "      <td>B</td>\n",
       "    </tr>\n",
       "    <tr>\n",
       "      <th>4</th>\n",
       "      <td>2282983706</td>\n",
       "      <td>2322279887</td>\n",
       "      <td>2019-08-15</td>\n",
       "      <td>2308</td>\n",
       "      <td>B</td>\n",
       "    </tr>\n",
       "  </tbody>\n",
       "</table>\n",
       "</div>"
      ],
      "text/plain": [
       "   transactionId   visitorId        date  revenue group\n",
       "0     3667963787  3312258926  2019-08-15     1650     B\n",
       "1     2804400009  3642806036  2019-08-15      730     B\n",
       "2     2961555356  4069496402  2019-08-15      400     A\n",
       "3     3797467345  1196621759  2019-08-15     9759     B\n",
       "4     2282983706  2322279887  2019-08-15     2308     B"
      ]
     },
     "metadata": {},
     "output_type": "display_data"
    },
    {
     "name": "stdout",
     "output_type": "stream",
     "text": [
      "<class 'pandas.core.frame.DataFrame'>\n",
      "RangeIndex: 1197 entries, 0 to 1196\n",
      "Data columns (total 5 columns):\n",
      " #   Column         Non-Null Count  Dtype \n",
      "---  ------         --------------  ----- \n",
      " 0   transactionId  1197 non-null   int64 \n",
      " 1   visitorId      1197 non-null   int64 \n",
      " 2   date           1197 non-null   object\n",
      " 3   revenue        1197 non-null   int64 \n",
      " 4   group          1197 non-null   object\n",
      "dtypes: int64(3), object(2)\n",
      "memory usage: 46.9+ KB\n"
     ]
    },
    {
     "data": {
      "text/plain": [
       "None"
      ]
     },
     "metadata": {},
     "output_type": "display_data"
    },
    {
     "data": {
      "text/plain": [
       "'Датасет visitors:'"
      ]
     },
     "metadata": {},
     "output_type": "display_data"
    },
    {
     "data": {
      "text/html": [
       "<div>\n",
       "<style scoped>\n",
       "    .dataframe tbody tr th:only-of-type {\n",
       "        vertical-align: middle;\n",
       "    }\n",
       "\n",
       "    .dataframe tbody tr th {\n",
       "        vertical-align: top;\n",
       "    }\n",
       "\n",
       "    .dataframe thead th {\n",
       "        text-align: right;\n",
       "    }\n",
       "</style>\n",
       "<table border=\"1\" class=\"dataframe\">\n",
       "  <thead>\n",
       "    <tr style=\"text-align: right;\">\n",
       "      <th></th>\n",
       "      <th>date</th>\n",
       "      <th>group</th>\n",
       "      <th>visitors</th>\n",
       "    </tr>\n",
       "  </thead>\n",
       "  <tbody>\n",
       "    <tr>\n",
       "      <th>0</th>\n",
       "      <td>2019-08-01</td>\n",
       "      <td>A</td>\n",
       "      <td>719</td>\n",
       "    </tr>\n",
       "    <tr>\n",
       "      <th>1</th>\n",
       "      <td>2019-08-02</td>\n",
       "      <td>A</td>\n",
       "      <td>619</td>\n",
       "    </tr>\n",
       "    <tr>\n",
       "      <th>2</th>\n",
       "      <td>2019-08-03</td>\n",
       "      <td>A</td>\n",
       "      <td>507</td>\n",
       "    </tr>\n",
       "    <tr>\n",
       "      <th>3</th>\n",
       "      <td>2019-08-04</td>\n",
       "      <td>A</td>\n",
       "      <td>717</td>\n",
       "    </tr>\n",
       "    <tr>\n",
       "      <th>4</th>\n",
       "      <td>2019-08-05</td>\n",
       "      <td>A</td>\n",
       "      <td>756</td>\n",
       "    </tr>\n",
       "  </tbody>\n",
       "</table>\n",
       "</div>"
      ],
      "text/plain": [
       "         date group  visitors\n",
       "0  2019-08-01     A       719\n",
       "1  2019-08-02     A       619\n",
       "2  2019-08-03     A       507\n",
       "3  2019-08-04     A       717\n",
       "4  2019-08-05     A       756"
      ]
     },
     "metadata": {},
     "output_type": "display_data"
    },
    {
     "name": "stdout",
     "output_type": "stream",
     "text": [
      "<class 'pandas.core.frame.DataFrame'>\n",
      "RangeIndex: 62 entries, 0 to 61\n",
      "Data columns (total 3 columns):\n",
      " #   Column    Non-Null Count  Dtype \n",
      "---  ------    --------------  ----- \n",
      " 0   date      62 non-null     object\n",
      " 1   group     62 non-null     object\n",
      " 2   visitors  62 non-null     int64 \n",
      "dtypes: int64(1), object(2)\n",
      "memory usage: 1.6+ KB\n"
     ]
    },
    {
     "data": {
      "text/plain": [
       "None"
      ]
     },
     "metadata": {},
     "output_type": "display_data"
    }
   ],
   "source": [
    "# Создание словаря с датасетами\n",
    "datasets = {'hypothesis': hypothesis,\n",
    "            'orders': orders,\n",
    "            'visitors': visitors}\n",
    "\n",
    "# Написание функции для выведения основной информации о датасете\n",
    "def display_dataset_info(dataset_name, df, rows_num=5):\n",
    "    display(f'Датасет {dataset_name}:')\n",
    "    display(df.head(rows_num))\n",
    "    display(df.info())\n",
    "\n",
    "# Вызов функции для каждой пары элементов словаря\n",
    "for dataset_name, dataset in datasets.items():\n",
    "    display_dataset_info(dataset_name, dataset)\n"
   ]
  },
  {
   "cell_type": "markdown",
   "metadata": {},
   "source": [
    "Данные успешно загружены.\n",
    "\n",
    "По результатам метода `info` можно сделать следующие выводы:\n",
    "\n",
    "* Во всех датасетах отсутствуют пропущенные значения;\n",
    "* Названия столбцов нужно переписать в \"змеином\" стиле для удобства.\n",
    "* Столбцы с датами в датасетах `visitors` и `orders` имеют неверный формат `object` — тип данных в этих столбцах нужно скорректировать на `datetime`;"
   ]
  },
  {
   "cell_type": "markdown",
   "metadata": {},
   "source": [
    "### Предобработка данных"
   ]
  },
  {
   "cell_type": "markdown",
   "metadata": {},
   "source": [
    "Переименуем названия столбцов в датасете `orders`."
   ]
  },
  {
   "cell_type": "code",
   "execution_count": 4,
   "metadata": {},
   "outputs": [],
   "source": [
    "# Переименование столбцов\n",
    "orders = orders.rename(columns={'transactionId': 'order_id',\n",
    "                                'visitorId': 'user_id'})"
   ]
  },
  {
   "cell_type": "markdown",
   "metadata": {},
   "source": [
    "Скорректируем тип данных для столбцов с датами в датафреймах `orders` и `visitors`."
   ]
  },
  {
   "cell_type": "code",
   "execution_count": 5,
   "metadata": {},
   "outputs": [],
   "source": [
    "# Корректировка формата даты\n",
    "orders['date'] = orders['date'].map(lambda x: dt.datetime.strptime(x, '%Y-%m-%d'))\n",
    "visitors['date'] = visitors['date'].map(lambda x: dt.datetime.strptime(x, '%Y-%m-%d'))"
   ]
  },
  {
   "cell_type": "markdown",
   "metadata": {},
   "source": [
    "Проверим датасеты на наличие дубликатов."
   ]
  },
  {
   "cell_type": "code",
   "execution_count": 6,
   "metadata": {},
   "outputs": [
    {
     "data": {
      "text/plain": [
       "'Количество дубликатов в датасете hypothesis'"
      ]
     },
     "metadata": {},
     "output_type": "display_data"
    },
    {
     "data": {
      "text/plain": [
       "0"
      ]
     },
     "metadata": {},
     "output_type": "display_data"
    },
    {
     "data": {
      "text/plain": [
       "'Количество дубликатов в датасете orders'"
      ]
     },
     "metadata": {},
     "output_type": "display_data"
    },
    {
     "data": {
      "text/plain": [
       "0"
      ]
     },
     "metadata": {},
     "output_type": "display_data"
    },
    {
     "data": {
      "text/plain": [
       "'Количество дубликатов в датасете visitors'"
      ]
     },
     "metadata": {},
     "output_type": "display_data"
    },
    {
     "data": {
      "text/plain": [
       "0"
      ]
     },
     "metadata": {},
     "output_type": "display_data"
    }
   ],
   "source": [
    "# Проверка датасетов на наличие дубликатов\n",
    "\n",
    "for dataset_name, dataset in datasets.items():\n",
    "    display (f'Количество дубликатов в датасете {dataset_name}')\n",
    "    display (dataset.duplicated().sum())\n"
   ]
  },
  {
   "cell_type": "markdown",
   "metadata": {},
   "source": [
    "Во всех датасетах дубликаты отсутствуют."
   ]
  },
  {
   "cell_type": "markdown",
   "metadata": {},
   "source": [
    "Проверим изменения, снова вызовем функцию `display_dataset_info`."
   ]
  },
  {
   "cell_type": "code",
   "execution_count": 7,
   "metadata": {},
   "outputs": [
    {
     "data": {
      "text/plain": [
       "'Датасет hypothesis:'"
      ]
     },
     "metadata": {},
     "output_type": "display_data"
    },
    {
     "data": {
      "text/html": [
       "<div>\n",
       "<style scoped>\n",
       "    .dataframe tbody tr th:only-of-type {\n",
       "        vertical-align: middle;\n",
       "    }\n",
       "\n",
       "    .dataframe tbody tr th {\n",
       "        vertical-align: top;\n",
       "    }\n",
       "\n",
       "    .dataframe thead th {\n",
       "        text-align: right;\n",
       "    }\n",
       "</style>\n",
       "<table border=\"1\" class=\"dataframe\">\n",
       "  <thead>\n",
       "    <tr style=\"text-align: right;\">\n",
       "      <th></th>\n",
       "      <th>Hypothesis</th>\n",
       "      <th>Reach</th>\n",
       "      <th>Impact</th>\n",
       "      <th>Confidence</th>\n",
       "      <th>Efforts</th>\n",
       "    </tr>\n",
       "  </thead>\n",
       "  <tbody>\n",
       "    <tr>\n",
       "      <th>0</th>\n",
       "      <td>Добавить два новых канала привлечения трафика, что позволит привлекать на 30% больше пользователей</td>\n",
       "      <td>3</td>\n",
       "      <td>10</td>\n",
       "      <td>8</td>\n",
       "      <td>6</td>\n",
       "    </tr>\n",
       "    <tr>\n",
       "      <th>1</th>\n",
       "      <td>Запустить собственную службу доставки, что сократит срок доставки заказов</td>\n",
       "      <td>2</td>\n",
       "      <td>5</td>\n",
       "      <td>4</td>\n",
       "      <td>10</td>\n",
       "    </tr>\n",
       "    <tr>\n",
       "      <th>2</th>\n",
       "      <td>Добавить блоки рекомендаций товаров на сайт интернет магазина, чтобы повысить конверсию и средний чек заказа</td>\n",
       "      <td>8</td>\n",
       "      <td>3</td>\n",
       "      <td>7</td>\n",
       "      <td>3</td>\n",
       "    </tr>\n",
       "    <tr>\n",
       "      <th>3</th>\n",
       "      <td>Изменить структура категорий, что увеличит конверсию, т.к. пользователи быстрее найдут нужный товар</td>\n",
       "      <td>8</td>\n",
       "      <td>3</td>\n",
       "      <td>3</td>\n",
       "      <td>8</td>\n",
       "    </tr>\n",
       "    <tr>\n",
       "      <th>4</th>\n",
       "      <td>Изменить цвет фона главной страницы, чтобы увеличить вовлеченность пользователей</td>\n",
       "      <td>3</td>\n",
       "      <td>1</td>\n",
       "      <td>1</td>\n",
       "      <td>1</td>\n",
       "    </tr>\n",
       "  </tbody>\n",
       "</table>\n",
       "</div>"
      ],
      "text/plain": [
       "                                                                                                     Hypothesis  \\\n",
       "0            Добавить два новых канала привлечения трафика, что позволит привлекать на 30% больше пользователей   \n",
       "1                                     Запустить собственную службу доставки, что сократит срок доставки заказов   \n",
       "2  Добавить блоки рекомендаций товаров на сайт интернет магазина, чтобы повысить конверсию и средний чек заказа   \n",
       "3           Изменить структура категорий, что увеличит конверсию, т.к. пользователи быстрее найдут нужный товар   \n",
       "4                              Изменить цвет фона главной страницы, чтобы увеличить вовлеченность пользователей   \n",
       "\n",
       "   Reach  Impact  Confidence  Efforts  \n",
       "0      3      10           8        6  \n",
       "1      2       5           4       10  \n",
       "2      8       3           7        3  \n",
       "3      8       3           3        8  \n",
       "4      3       1           1        1  "
      ]
     },
     "metadata": {},
     "output_type": "display_data"
    },
    {
     "name": "stdout",
     "output_type": "stream",
     "text": [
      "<class 'pandas.core.frame.DataFrame'>\n",
      "RangeIndex: 9 entries, 0 to 8\n",
      "Data columns (total 5 columns):\n",
      " #   Column      Non-Null Count  Dtype \n",
      "---  ------      --------------  ----- \n",
      " 0   Hypothesis  9 non-null      object\n",
      " 1   Reach       9 non-null      int64 \n",
      " 2   Impact      9 non-null      int64 \n",
      " 3   Confidence  9 non-null      int64 \n",
      " 4   Efforts     9 non-null      int64 \n",
      "dtypes: int64(4), object(1)\n",
      "memory usage: 488.0+ bytes\n"
     ]
    },
    {
     "data": {
      "text/plain": [
       "None"
      ]
     },
     "metadata": {},
     "output_type": "display_data"
    },
    {
     "data": {
      "text/plain": [
       "'Датасет orders:'"
      ]
     },
     "metadata": {},
     "output_type": "display_data"
    },
    {
     "data": {
      "text/html": [
       "<div>\n",
       "<style scoped>\n",
       "    .dataframe tbody tr th:only-of-type {\n",
       "        vertical-align: middle;\n",
       "    }\n",
       "\n",
       "    .dataframe tbody tr th {\n",
       "        vertical-align: top;\n",
       "    }\n",
       "\n",
       "    .dataframe thead th {\n",
       "        text-align: right;\n",
       "    }\n",
       "</style>\n",
       "<table border=\"1\" class=\"dataframe\">\n",
       "  <thead>\n",
       "    <tr style=\"text-align: right;\">\n",
       "      <th></th>\n",
       "      <th>order_id</th>\n",
       "      <th>user_id</th>\n",
       "      <th>date</th>\n",
       "      <th>revenue</th>\n",
       "      <th>group</th>\n",
       "    </tr>\n",
       "  </thead>\n",
       "  <tbody>\n",
       "    <tr>\n",
       "      <th>0</th>\n",
       "      <td>3667963787</td>\n",
       "      <td>3312258926</td>\n",
       "      <td>2019-08-15</td>\n",
       "      <td>1650</td>\n",
       "      <td>B</td>\n",
       "    </tr>\n",
       "    <tr>\n",
       "      <th>1</th>\n",
       "      <td>2804400009</td>\n",
       "      <td>3642806036</td>\n",
       "      <td>2019-08-15</td>\n",
       "      <td>730</td>\n",
       "      <td>B</td>\n",
       "    </tr>\n",
       "    <tr>\n",
       "      <th>2</th>\n",
       "      <td>2961555356</td>\n",
       "      <td>4069496402</td>\n",
       "      <td>2019-08-15</td>\n",
       "      <td>400</td>\n",
       "      <td>A</td>\n",
       "    </tr>\n",
       "    <tr>\n",
       "      <th>3</th>\n",
       "      <td>3797467345</td>\n",
       "      <td>1196621759</td>\n",
       "      <td>2019-08-15</td>\n",
       "      <td>9759</td>\n",
       "      <td>B</td>\n",
       "    </tr>\n",
       "    <tr>\n",
       "      <th>4</th>\n",
       "      <td>2282983706</td>\n",
       "      <td>2322279887</td>\n",
       "      <td>2019-08-15</td>\n",
       "      <td>2308</td>\n",
       "      <td>B</td>\n",
       "    </tr>\n",
       "  </tbody>\n",
       "</table>\n",
       "</div>"
      ],
      "text/plain": [
       "     order_id     user_id       date  revenue group\n",
       "0  3667963787  3312258926 2019-08-15     1650     B\n",
       "1  2804400009  3642806036 2019-08-15      730     B\n",
       "2  2961555356  4069496402 2019-08-15      400     A\n",
       "3  3797467345  1196621759 2019-08-15     9759     B\n",
       "4  2282983706  2322279887 2019-08-15     2308     B"
      ]
     },
     "metadata": {},
     "output_type": "display_data"
    },
    {
     "name": "stdout",
     "output_type": "stream",
     "text": [
      "<class 'pandas.core.frame.DataFrame'>\n",
      "RangeIndex: 1197 entries, 0 to 1196\n",
      "Data columns (total 5 columns):\n",
      " #   Column    Non-Null Count  Dtype         \n",
      "---  ------    --------------  -----         \n",
      " 0   order_id  1197 non-null   int64         \n",
      " 1   user_id   1197 non-null   int64         \n",
      " 2   date      1197 non-null   datetime64[ns]\n",
      " 3   revenue   1197 non-null   int64         \n",
      " 4   group     1197 non-null   object        \n",
      "dtypes: datetime64[ns](1), int64(3), object(1)\n",
      "memory usage: 46.9+ KB\n"
     ]
    },
    {
     "data": {
      "text/plain": [
       "None"
      ]
     },
     "metadata": {},
     "output_type": "display_data"
    },
    {
     "data": {
      "text/plain": [
       "'Датасет visitors:'"
      ]
     },
     "metadata": {},
     "output_type": "display_data"
    },
    {
     "data": {
      "text/html": [
       "<div>\n",
       "<style scoped>\n",
       "    .dataframe tbody tr th:only-of-type {\n",
       "        vertical-align: middle;\n",
       "    }\n",
       "\n",
       "    .dataframe tbody tr th {\n",
       "        vertical-align: top;\n",
       "    }\n",
       "\n",
       "    .dataframe thead th {\n",
       "        text-align: right;\n",
       "    }\n",
       "</style>\n",
       "<table border=\"1\" class=\"dataframe\">\n",
       "  <thead>\n",
       "    <tr style=\"text-align: right;\">\n",
       "      <th></th>\n",
       "      <th>date</th>\n",
       "      <th>group</th>\n",
       "      <th>visitors</th>\n",
       "    </tr>\n",
       "  </thead>\n",
       "  <tbody>\n",
       "    <tr>\n",
       "      <th>0</th>\n",
       "      <td>2019-08-01</td>\n",
       "      <td>A</td>\n",
       "      <td>719</td>\n",
       "    </tr>\n",
       "    <tr>\n",
       "      <th>1</th>\n",
       "      <td>2019-08-02</td>\n",
       "      <td>A</td>\n",
       "      <td>619</td>\n",
       "    </tr>\n",
       "    <tr>\n",
       "      <th>2</th>\n",
       "      <td>2019-08-03</td>\n",
       "      <td>A</td>\n",
       "      <td>507</td>\n",
       "    </tr>\n",
       "    <tr>\n",
       "      <th>3</th>\n",
       "      <td>2019-08-04</td>\n",
       "      <td>A</td>\n",
       "      <td>717</td>\n",
       "    </tr>\n",
       "    <tr>\n",
       "      <th>4</th>\n",
       "      <td>2019-08-05</td>\n",
       "      <td>A</td>\n",
       "      <td>756</td>\n",
       "    </tr>\n",
       "  </tbody>\n",
       "</table>\n",
       "</div>"
      ],
      "text/plain": [
       "        date group  visitors\n",
       "0 2019-08-01     A       719\n",
       "1 2019-08-02     A       619\n",
       "2 2019-08-03     A       507\n",
       "3 2019-08-04     A       717\n",
       "4 2019-08-05     A       756"
      ]
     },
     "metadata": {},
     "output_type": "display_data"
    },
    {
     "name": "stdout",
     "output_type": "stream",
     "text": [
      "<class 'pandas.core.frame.DataFrame'>\n",
      "RangeIndex: 62 entries, 0 to 61\n",
      "Data columns (total 3 columns):\n",
      " #   Column    Non-Null Count  Dtype         \n",
      "---  ------    --------------  -----         \n",
      " 0   date      62 non-null     datetime64[ns]\n",
      " 1   group     62 non-null     object        \n",
      " 2   visitors  62 non-null     int64         \n",
      "dtypes: datetime64[ns](1), int64(1), object(1)\n",
      "memory usage: 1.6+ KB\n"
     ]
    },
    {
     "data": {
      "text/plain": [
       "None"
      ]
     },
     "metadata": {},
     "output_type": "display_data"
    }
   ],
   "source": [
    "# \"Обновим\" значения словаря\n",
    "datasets = {'hypothesis': hypothesis,\n",
    "            'orders': orders,\n",
    "            'visitors': visitors}\n",
    "\n",
    "# Вызовем функцию для каждого датасета\n",
    "for dataset_name, dataset in datasets.items():\n",
    "    display_dataset_info(dataset_name, dataset)"
   ]
  },
  {
   "cell_type": "markdown",
   "metadata": {},
   "source": [
    "Изменения успешно внесены – типы данных скорректированы, стобцы переименованы. Данные готовы для анализа."
   ]
  },
  {
   "cell_type": "markdown",
   "metadata": {},
   "source": [
    "### Приоритизация гипотез"
   ]
  },
  {
   "cell_type": "markdown",
   "metadata": {},
   "source": [
    "Проведем приоритезацию гипотез методом ICE, для этого:\n",
    "\n",
    "* Добавим в датасет с гипотезами значение ICE, рассчитанный по формуле: `(Impact * Confidence) / Efforts`\n",
    "* Отсортируем гипотезы по убыванию значения ICE для выявления наиболее приоритетных гипотез"
   ]
  },
  {
   "cell_type": "code",
   "execution_count": 8,
   "metadata": {},
   "outputs": [
    {
     "data": {
      "text/html": [
       "<div>\n",
       "<style scoped>\n",
       "    .dataframe tbody tr th:only-of-type {\n",
       "        vertical-align: middle;\n",
       "    }\n",
       "\n",
       "    .dataframe tbody tr th {\n",
       "        vertical-align: top;\n",
       "    }\n",
       "\n",
       "    .dataframe thead th {\n",
       "        text-align: right;\n",
       "    }\n",
       "</style>\n",
       "<table border=\"1\" class=\"dataframe\">\n",
       "  <thead>\n",
       "    <tr style=\"text-align: right;\">\n",
       "      <th></th>\n",
       "      <th>Hypothesis</th>\n",
       "      <th>ICE</th>\n",
       "    </tr>\n",
       "  </thead>\n",
       "  <tbody>\n",
       "    <tr>\n",
       "      <th>8</th>\n",
       "      <td>Запустить акцию, дающую скидку на товар в день рождения</td>\n",
       "      <td>16.20</td>\n",
       "    </tr>\n",
       "    <tr>\n",
       "      <th>0</th>\n",
       "      <td>Добавить два новых канала привлечения трафика, что позволит привлекать на 30% больше пользователей</td>\n",
       "      <td>13.33</td>\n",
       "    </tr>\n",
       "    <tr>\n",
       "      <th>7</th>\n",
       "      <td>Добавить форму подписки на все основные страницы, чтобы собрать базу клиентов для email-рассылок</td>\n",
       "      <td>11.20</td>\n",
       "    </tr>\n",
       "    <tr>\n",
       "      <th>6</th>\n",
       "      <td>Показать на главной странице баннеры с актуальными акциями и распродажами, чтобы увеличить конверсию</td>\n",
       "      <td>8.00</td>\n",
       "    </tr>\n",
       "    <tr>\n",
       "      <th>2</th>\n",
       "      <td>Добавить блоки рекомендаций товаров на сайт интернет магазина, чтобы повысить конверсию и средний чек заказа</td>\n",
       "      <td>7.00</td>\n",
       "    </tr>\n",
       "    <tr>\n",
       "      <th>1</th>\n",
       "      <td>Запустить собственную службу доставки, что сократит срок доставки заказов</td>\n",
       "      <td>2.00</td>\n",
       "    </tr>\n",
       "    <tr>\n",
       "      <th>5</th>\n",
       "      <td>Добавить страницу отзывов клиентов о магазине, что позволит увеличить количество заказов</td>\n",
       "      <td>1.33</td>\n",
       "    </tr>\n",
       "    <tr>\n",
       "      <th>3</th>\n",
       "      <td>Изменить структура категорий, что увеличит конверсию, т.к. пользователи быстрее найдут нужный товар</td>\n",
       "      <td>1.12</td>\n",
       "    </tr>\n",
       "    <tr>\n",
       "      <th>4</th>\n",
       "      <td>Изменить цвет фона главной страницы, чтобы увеличить вовлеченность пользователей</td>\n",
       "      <td>1.00</td>\n",
       "    </tr>\n",
       "  </tbody>\n",
       "</table>\n",
       "</div>"
      ],
      "text/plain": [
       "                                                                                                     Hypothesis  \\\n",
       "8                                                       Запустить акцию, дающую скидку на товар в день рождения   \n",
       "0            Добавить два новых канала привлечения трафика, что позволит привлекать на 30% больше пользователей   \n",
       "7              Добавить форму подписки на все основные страницы, чтобы собрать базу клиентов для email-рассылок   \n",
       "6          Показать на главной странице баннеры с актуальными акциями и распродажами, чтобы увеличить конверсию   \n",
       "2  Добавить блоки рекомендаций товаров на сайт интернет магазина, чтобы повысить конверсию и средний чек заказа   \n",
       "1                                     Запустить собственную службу доставки, что сократит срок доставки заказов   \n",
       "5                      Добавить страницу отзывов клиентов о магазине, что позволит увеличить количество заказов   \n",
       "3           Изменить структура категорий, что увеличит конверсию, т.к. пользователи быстрее найдут нужный товар   \n",
       "4                              Изменить цвет фона главной страницы, чтобы увеличить вовлеченность пользователей   \n",
       "\n",
       "     ICE  \n",
       "8  16.20  \n",
       "0  13.33  \n",
       "7  11.20  \n",
       "6   8.00  \n",
       "2   7.00  \n",
       "1   2.00  \n",
       "5   1.33  \n",
       "3   1.12  \n",
       "4   1.00  "
      ]
     },
     "metadata": {},
     "output_type": "display_data"
    }
   ],
   "source": [
    "# Добавим столбец ICE и округлим значения до двух знаков после запятой\n",
    "hypothesis['ICE'] = round((hypothesis['Impact'] * hypothesis['Confidence']) / \n",
    "                          hypothesis['Efforts'], 2)\n",
    "\n",
    "# Отсортируем гипотезы по убыванию значения ICE\n",
    "display (hypothesis[['Hypothesis','ICE']].sort_values(by='ICE', ascending=False))"
   ]
  },
  {
   "cell_type": "markdown",
   "metadata": {},
   "source": [
    "Согласно фреймворку ICE, наиболее приоритеными являются следующие гипотезы:\n",
    "\n",
    "* Запустить акцию, дающую скидку на товар в день рождения\n",
    "* Добавить два новых канала привлечения трафика, что позволит привлекать на 30% больше пользователей\n",
    "* Добавить форму подписки на все основные страницы, чтобы собрать базу клиентов для email-рассылок\n",
    "\n",
    "\n"
   ]
  },
  {
   "cell_type": "markdown",
   "metadata": {},
   "source": [
    "Теперь применим фреймворк `RICE`, который включает параметр `Reach` — оценку количества пользователей, на которых повлияет изменение, для этого:\n",
    "\n",
    "* Добавим значение RICE, рассчитанный по формуле: `(Reach * Impact * Confidence) / Efforts`\n",
    "* Отсортируем гипотезы по убыванию значения RICE"
   ]
  },
  {
   "cell_type": "code",
   "execution_count": 9,
   "metadata": {},
   "outputs": [
    {
     "data": {
      "text/html": [
       "<div>\n",
       "<style scoped>\n",
       "    .dataframe tbody tr th:only-of-type {\n",
       "        vertical-align: middle;\n",
       "    }\n",
       "\n",
       "    .dataframe tbody tr th {\n",
       "        vertical-align: top;\n",
       "    }\n",
       "\n",
       "    .dataframe thead th {\n",
       "        text-align: right;\n",
       "    }\n",
       "</style>\n",
       "<table border=\"1\" class=\"dataframe\">\n",
       "  <thead>\n",
       "    <tr style=\"text-align: right;\">\n",
       "      <th></th>\n",
       "      <th>Hypothesis</th>\n",
       "      <th>RICE</th>\n",
       "    </tr>\n",
       "  </thead>\n",
       "  <tbody>\n",
       "    <tr>\n",
       "      <th>7</th>\n",
       "      <td>Добавить форму подписки на все основные страницы, чтобы собрать базу клиентов для email-рассылок</td>\n",
       "      <td>112.0</td>\n",
       "    </tr>\n",
       "    <tr>\n",
       "      <th>2</th>\n",
       "      <td>Добавить блоки рекомендаций товаров на сайт интернет магазина, чтобы повысить конверсию и средний чек заказа</td>\n",
       "      <td>56.0</td>\n",
       "    </tr>\n",
       "    <tr>\n",
       "      <th>0</th>\n",
       "      <td>Добавить два новых канала привлечения трафика, что позволит привлекать на 30% больше пользователей</td>\n",
       "      <td>40.0</td>\n",
       "    </tr>\n",
       "    <tr>\n",
       "      <th>6</th>\n",
       "      <td>Показать на главной странице баннеры с актуальными акциями и распродажами, чтобы увеличить конверсию</td>\n",
       "      <td>40.0</td>\n",
       "    </tr>\n",
       "    <tr>\n",
       "      <th>8</th>\n",
       "      <td>Запустить акцию, дающую скидку на товар в день рождения</td>\n",
       "      <td>16.2</td>\n",
       "    </tr>\n",
       "    <tr>\n",
       "      <th>3</th>\n",
       "      <td>Изменить структура категорий, что увеличит конверсию, т.к. пользователи быстрее найдут нужный товар</td>\n",
       "      <td>9.0</td>\n",
       "    </tr>\n",
       "    <tr>\n",
       "      <th>1</th>\n",
       "      <td>Запустить собственную службу доставки, что сократит срок доставки заказов</td>\n",
       "      <td>4.0</td>\n",
       "    </tr>\n",
       "    <tr>\n",
       "      <th>5</th>\n",
       "      <td>Добавить страницу отзывов клиентов о магазине, что позволит увеличить количество заказов</td>\n",
       "      <td>4.0</td>\n",
       "    </tr>\n",
       "    <tr>\n",
       "      <th>4</th>\n",
       "      <td>Изменить цвет фона главной страницы, чтобы увеличить вовлеченность пользователей</td>\n",
       "      <td>3.0</td>\n",
       "    </tr>\n",
       "  </tbody>\n",
       "</table>\n",
       "</div>"
      ],
      "text/plain": [
       "                                                                                                     Hypothesis  \\\n",
       "7              Добавить форму подписки на все основные страницы, чтобы собрать базу клиентов для email-рассылок   \n",
       "2  Добавить блоки рекомендаций товаров на сайт интернет магазина, чтобы повысить конверсию и средний чек заказа   \n",
       "0            Добавить два новых канала привлечения трафика, что позволит привлекать на 30% больше пользователей   \n",
       "6          Показать на главной странице баннеры с актуальными акциями и распродажами, чтобы увеличить конверсию   \n",
       "8                                                       Запустить акцию, дающую скидку на товар в день рождения   \n",
       "3           Изменить структура категорий, что увеличит конверсию, т.к. пользователи быстрее найдут нужный товар   \n",
       "1                                     Запустить собственную службу доставки, что сократит срок доставки заказов   \n",
       "5                      Добавить страницу отзывов клиентов о магазине, что позволит увеличить количество заказов   \n",
       "4                              Изменить цвет фона главной страницы, чтобы увеличить вовлеченность пользователей   \n",
       "\n",
       "    RICE  \n",
       "7  112.0  \n",
       "2   56.0  \n",
       "0   40.0  \n",
       "6   40.0  \n",
       "8   16.2  \n",
       "3    9.0  \n",
       "1    4.0  \n",
       "5    4.0  \n",
       "4    3.0  "
      ]
     },
     "metadata": {},
     "output_type": "display_data"
    }
   ],
   "source": [
    "# Добавим столбец RICE\n",
    "hypothesis['RICE'] = ((hypothesis['Reach'] * hypothesis['Impact'] * hypothesis['Confidence']) \n",
    "                      / hypothesis['Efforts'])\n",
    "\n",
    "# Отсортируем гипотезы по убыванию значения RICE\n",
    "display (hypothesis[['Hypothesis','RICE']].sort_values(by='RICE', ascending=False))"
   ]
  },
  {
   "cell_type": "markdown",
   "metadata": {},
   "source": [
    "Тройка наиболее приоритетных гипотез после применения фреймворка RICE изменилась, на этот раз самыми приоритетными являются следующие гипотезы:\n",
    "\n",
    "* Добавить форму подписки на все основные страницы, чтобы собрать базу клиентов для email-рассылок\t\n",
    "* Добавить блоки рекомендаций товаров на сайт интернет магазина, чтобы повысить конверсию и средний чек заказа\n",
    "* Добавить два новых канала привлечения трафика, что позволит привлекать на 30% больше пользователей\n",
    "\n",
    "**Вывод:** проведем A/B-тестирование добавления формы подписки на основные страницы — эта гипотеза с большим отрывом имеет самый высокий приоритет по значению RICE в сравнении с остальными гипотезами.\n"
   ]
  },
  {
   "cell_type": "markdown",
   "metadata": {},
   "source": [
    "### Проведение A/B-теста"
   ]
  },
  {
   "cell_type": "markdown",
   "metadata": {},
   "source": [
    "Проведем A/B-тест по данным о заказах и посетителях интернет-магазина. \n",
    "\n",
    "Для начала проанализируем основные показатели по группам, простроим следующие графики:\n",
    "\n",
    "* График кумулятивной выручки по группам;\n",
    "* График кумулятивного среднего чека по группам;\n",
    "* График относительного изменения кумулятивного среднего чека группы B к группе A;\n",
    "* График кумулятивного среднего количества заказов на посетителя по группам;\n",
    "* График относительного изменения кумулятивного среднего количества заказов на посетителя группы B к группе A;"
   ]
  },
  {
   "cell_type": "markdown",
   "metadata": {},
   "source": [
    "#### Анализ кумулятивных данных"
   ]
  },
  {
   "cell_type": "markdown",
   "metadata": {},
   "source": [
    "Подготовим данные для построения графиков — создадим агрегированный датасет с накопленными данными по количеству заказов, количеству покупателей, выручке и количеству пользователей."
   ]
  },
  {
   "cell_type": "code",
   "execution_count": 10,
   "metadata": {},
   "outputs": [
    {
     "data": {
      "text/html": [
       "<div>\n",
       "<style scoped>\n",
       "    .dataframe tbody tr th:only-of-type {\n",
       "        vertical-align: middle;\n",
       "    }\n",
       "\n",
       "    .dataframe tbody tr th {\n",
       "        vertical-align: top;\n",
       "    }\n",
       "\n",
       "    .dataframe thead th {\n",
       "        text-align: right;\n",
       "    }\n",
       "</style>\n",
       "<table border=\"1\" class=\"dataframe\">\n",
       "  <thead>\n",
       "    <tr style=\"text-align: right;\">\n",
       "      <th></th>\n",
       "      <th>date</th>\n",
       "      <th>group</th>\n",
       "      <th>orders</th>\n",
       "      <th>buyers</th>\n",
       "      <th>revenue</th>\n",
       "      <th>visitors</th>\n",
       "    </tr>\n",
       "  </thead>\n",
       "  <tbody>\n",
       "    <tr>\n",
       "      <th>0</th>\n",
       "      <td>2019-08-01</td>\n",
       "      <td>A</td>\n",
       "      <td>24</td>\n",
       "      <td>20</td>\n",
       "      <td>148579</td>\n",
       "      <td>719</td>\n",
       "    </tr>\n",
       "    <tr>\n",
       "      <th>1</th>\n",
       "      <td>2019-08-01</td>\n",
       "      <td>B</td>\n",
       "      <td>21</td>\n",
       "      <td>20</td>\n",
       "      <td>101217</td>\n",
       "      <td>713</td>\n",
       "    </tr>\n",
       "    <tr>\n",
       "      <th>2</th>\n",
       "      <td>2019-08-02</td>\n",
       "      <td>A</td>\n",
       "      <td>44</td>\n",
       "      <td>38</td>\n",
       "      <td>242401</td>\n",
       "      <td>1338</td>\n",
       "    </tr>\n",
       "    <tr>\n",
       "      <th>3</th>\n",
       "      <td>2019-08-02</td>\n",
       "      <td>B</td>\n",
       "      <td>45</td>\n",
       "      <td>43</td>\n",
       "      <td>266748</td>\n",
       "      <td>1294</td>\n",
       "    </tr>\n",
       "    <tr>\n",
       "      <th>4</th>\n",
       "      <td>2019-08-03</td>\n",
       "      <td>A</td>\n",
       "      <td>68</td>\n",
       "      <td>62</td>\n",
       "      <td>354874</td>\n",
       "      <td>1845</td>\n",
       "    </tr>\n",
       "  </tbody>\n",
       "</table>\n",
       "</div>"
      ],
      "text/plain": [
       "        date group  orders  buyers  revenue  visitors\n",
       "0 2019-08-01     A      24      20   148579       719\n",
       "1 2019-08-01     B      21      20   101217       713\n",
       "2 2019-08-02     A      44      38   242401      1338\n",
       "3 2019-08-02     B      45      43   266748      1294\n",
       "4 2019-08-03     A      68      62   354874      1845"
      ]
     },
     "execution_count": 10,
     "metadata": {},
     "output_type": "execute_result"
    }
   ],
   "source": [
    "# Создадим массив уникальных пар значений дат и групп теста\n",
    "dates_groups = orders[['date','group']].drop_duplicates()\n",
    "\n",
    "# Получим агрегированные кумулятивные данные о заказах по дням\n",
    "orders_aggregated = (dates_groups.apply(lambda x:\n",
    "                                        orders[np.logical_and(orders['date'] <= x['date'],\n",
    "                                               orders['group'] == x['group'])]\n",
    "                                 .agg({'date' : 'max',\n",
    "                                       'group' : 'max',\n",
    "                                       'order_id' : 'nunique',\n",
    "                                       'user_id' : 'nunique',\n",
    "                                       'revenue' : 'sum'}), axis=1)\n",
    "                                 .sort_values(by=['date','group']))\n",
    "\n",
    "# Получим агрегированные кумулятивные данные по дням о посетителях интернет-магазина \n",
    "visitors_aggregated = (dates_groups.apply(lambda x:\n",
    "                                          visitors[np.logical_and(visitors['date'] <= x['date'],\n",
    "                                          visitors['group'] == x['group'])]\n",
    "                            .agg({'date' : 'max', 'group' : 'max', 'visitors' : 'sum'}), axis=1)\n",
    "                            .sort_values(by=['date','group']))\n",
    "\n",
    "# Объединяем кумулятивные данные в одной таблице\n",
    "cumulative_data = orders_aggregated.merge(visitors_aggregated,\n",
    "                                          left_on=['date', 'group'],\n",
    "                                          right_on=['date', 'group'])\n",
    "\n",
    "# Просвоим столбцам датасета понятные названия\n",
    "cumulative_data.columns = ['date', 'group', 'orders', 'buyers', 'revenue', 'visitors']\n",
    "\n",
    "# Выведем результат\n",
    "cumulative_data.head()"
   ]
  },
  {
   "cell_type": "markdown",
   "metadata": {},
   "source": [
    "Датасет собран, теперь построим график кумулятивной выручки по группам."
   ]
  },
  {
   "cell_type": "code",
   "execution_count": 11,
   "metadata": {},
   "outputs": [
    {
     "data": {
      "image/png": "[encoded data removed]",
      "text/plain": [
       "<Figure size 1008x360 with 1 Axes>"
      ]
     },
     "metadata": {
      "needs_background": "light"
     },
     "output_type": "display_data"
    }
   ],
   "source": [
    "# Датафрейм с кумулятивным количеством заказов и кумулятивной выручкой по дням в группе А\n",
    "cumulative_revenue_a = cumulative_data[cumulative_data['group']=='A'][['date','revenue', 'orders']]\n",
    "\n",
    "# Датафрейм с кумулятивным количеством заказов и кумулятивной выручкой по дням в группе B\n",
    "cumulative_revenue_b = cumulative_data[cumulative_data['group']=='B'][['date','revenue', 'orders']]\n",
    "\n",
    "# Зададим размер графика\n",
    "plt.figure(figsize=(14, 5))\n",
    "\n",
    "# Строим график выручки группы А\n",
    "plt.plot(cumulative_revenue_a['date'], cumulative_revenue_a['revenue'], label='A')\n",
    "\n",
    "# Строим график выручки группы B\n",
    "plt.plot(cumulative_revenue_b['date'], cumulative_revenue_b['revenue'], label='B')\n",
    "\n",
    "# Добавление подписей и легенды\n",
    "plt.legend()\n",
    "plt.xlabel('Дата')\n",
    "plt.ylabel('Выручка, млн.')\n",
    "plt.title('Динамика кумулятивной выручки по группам')\n",
    "\n",
    "# Выведение графика\n",
    "plt.show()\n"
   ]
  },
  {
   "cell_type": "markdown",
   "metadata": {},
   "source": [
    "Кумулятивная выручка группы B резко выросла после 17 августа. Всплеск, вероятно, связан с резким увеличением среднего чека или конверсии в покупку, которые в свою очередь могли вырасти по разным причинам — например, кто-то в группе B мог купить очень дорогой товар или пользователи купили много товаров.\n"
   ]
  },
  {
   "cell_type": "markdown",
   "metadata": {},
   "source": [
    "Рассмотрим динамику кумулятивного среднего чека по группам — построим линейный график."
   ]
  },
  {
   "cell_type": "code",
   "execution_count": 12,
   "metadata": {},
   "outputs": [
    {
     "data": {
      "image/png": "[encoded data removed]",
      "text/plain": [
       "<Figure size 1008x360 with 1 Axes>"
      ]
     },
     "metadata": {
      "needs_background": "light"
     },
     "output_type": "display_data"
    }
   ],
   "source": [
    "# Зададим размер графика\n",
    "plt.figure(figsize=(14, 5))\n",
    "\n",
    "# Строим график среднего чека группы А\n",
    "# Средний чек посчитаем через отношение выручки к количеству заказов\n",
    "plt.plot(cumulative_revenue_a['date'],\n",
    "         cumulative_revenue_a['revenue']/cumulative_revenue_a['orders'], label='A')\n",
    "\n",
    "# Строим график среднего чека группы B\n",
    "plt.plot(cumulative_revenue_b['date'],\n",
    "         cumulative_revenue_b['revenue']/cumulative_revenue_b['orders'], label='B')\n",
    "\n",
    "# Добавление подписей и легенды\n",
    "plt.legend()\n",
    "plt.xlabel('Дата')\n",
    "plt.ylabel('Средний чек')\n",
    "plt.title('Динамика кумулятивного среднего чека по группам')\n",
    "\n",
    "# Выведение графика\n",
    "plt.show()"
   ]
  },
  {
   "cell_type": "markdown",
   "metadata": {},
   "source": [
    "По среднему чеку также заметен всплеск после 17 августа. В целом группа B также превосходит группу А по среднему чеку, однако, это опережение не такое стабильное, как в выручке: например, 13 августа средний чек группы A вырвался вперед относительно среднего чека группы B. Также видно, что с 25 августа средний чек группы B медленно падает, а средний чек группы A, наоборот, медленно растет."
   ]
  },
  {
   "cell_type": "markdown",
   "metadata": {},
   "source": [
    "Рассмотрим изменение кумулятивного среднего чека в группе B относительного группы A."
   ]
  },
  {
   "cell_type": "code",
   "execution_count": 13,
   "metadata": {},
   "outputs": [
    {
     "data": {
      "image/png": "[encoded data removed]",
      "text/plain": [
       "<Figure size 1008x360 with 1 Axes>"
      ]
     },
     "metadata": {
      "needs_background": "light"
     },
     "output_type": "display_data"
    }
   ],
   "source": [
    "# Собираем данные по группам в одном датафрейме\n",
    "merged_cumulative_revenue = (cumulative_revenue_a.merge(cumulative_revenue_b,\n",
    "                                                        left_on='date',\n",
    "                                                        right_on='date',\n",
    "                                                        how='left',\n",
    "                                                        suffixes=['A', 'B']))\n",
    "# Зададим размер графика\n",
    "plt.figure(figsize=(14, 5))\n",
    "\n",
    "# Строим отношение средних чеков\n",
    "plt.plot(merged_cumulative_revenue['date'],\n",
    "        (merged_cumulative_revenue['revenueB']/merged_cumulative_revenue['ordersB'])\n",
    "         /(merged_cumulative_revenue['revenueA']/merged_cumulative_revenue['ordersA'])-1)\n",
    "\n",
    "# Добавляем ось X с нулевым изменением (для удобства в сравнении)\n",
    "plt.axhline(y=0, color='black', linestyle='--');\n",
    "\n",
    "# Добавление подписей и легенды\n",
    "plt.xlabel('Дата')\n",
    "plt.ylabel('% изменения среднего чека')\n",
    "plt.title('Относительное изменение кумулятивного среднего чека группы B к группе A');\n",
    "\n",
    "# Выведение графика\n",
    "plt.show()"
   ]
  },
  {
   "cell_type": "markdown",
   "metadata": {},
   "source": [
    "График относительного изменения кумулятивного среднего чека подтверждает выводы предыдущего графика — нельзя однозначно сказать о лидерстве одной из групп. На протяжении всего анализируемого периода происходят резкие всплески и падения изменения среднего чека в группе B относительно группы A."
   ]
  },
  {
   "cell_type": "markdown",
   "metadata": {},
   "source": [
    "Изучим среднее количество заказов на пользователя — также построим кумулятивный график."
   ]
  },
  {
   "cell_type": "code",
   "execution_count": 14,
   "metadata": {},
   "outputs": [
    {
     "data": {
      "image/png": "[encoded data removed]",
      "text/plain": [
       "<Figure size 1008x360 with 1 Axes>"
      ]
     },
     "metadata": {
      "needs_background": "light"
     },
     "output_type": "display_data"
    }
   ],
   "source": [
    "# Считаем кумулятивную конверсию — количество заказов на пользователя\n",
    "cumulative_data['conversion'] = cumulative_data['orders']/cumulative_data['visitors']\n",
    "\n",
    "# Отделяем данные по группе A\n",
    "cumulative_data_a = cumulative_data[cumulative_data['group']=='A']\n",
    "\n",
    "# Отделяем данные по группе B\n",
    "cumulative_data_b = cumulative_data[cumulative_data['group']=='B']\n",
    "\n",
    "# Зададим размер графика\n",
    "plt.figure(figsize=(14, 5))\n",
    "\n",
    "# Строим графики\n",
    "plt.plot(cumulative_data_a['date'], cumulative_data_a['conversion'], label='A')\n",
    "plt.plot(cumulative_data_b['date'], cumulative_data_b['conversion'], label='B')\n",
    "\n",
    "# Добавление подписей и легенды\n",
    "plt.legend()\n",
    "plt.xlabel('Дата')\n",
    "plt.ylabel('Среднее кол-во заказов на посетителя')\n",
    "plt.title('Динамика среднего количества заказов на посетителя');\n",
    "\n",
    "# Выведение графика\n",
    "plt.show()"
   ]
  },
  {
   "cell_type": "markdown",
   "metadata": {},
   "source": [
    "На неделе с 5 августа среднее количество заказов на пользователя в группе B превысило среднее количество заказов на пользователя в групппе А, после чего лидерство группы B остается относительно стабильным. Посмотрим на график относительного изменения этого показателя в группе B к группе A."
   ]
  },
  {
   "cell_type": "code",
   "execution_count": 15,
   "metadata": {},
   "outputs": [
    {
     "data": {
      "image/png": "[encoded data removed]",
      "text/plain": [
       "<Figure size 1008x360 with 1 Axes>"
      ]
     },
     "metadata": {
      "needs_background": "light"
     },
     "output_type": "display_data"
    }
   ],
   "source": [
    "# Объединение датафреймов с конверсиями\n",
    "merged_cumulative_conversions = (cumulative_data_a[['date','conversion']]\n",
    "                                 .merge(cumulative_data_b[['date','conversion']],\n",
    "                                        left_on='date',\n",
    "                                        right_on='date',\n",
    "                                        how='left',\n",
    "                                        suffixes=['A', 'B']))\n",
    "\n",
    "# Зададим размер графика\n",
    "plt.figure(figsize=(14, 5))\n",
    "\n",
    "# Строим графики\n",
    "plt.plot(merged_cumulative_conversions['date'],\n",
    "         merged_cumulative_conversions['conversionB']/merged_cumulative_conversions['conversionA']-1)\n",
    "\n",
    "\n",
    "# Добавляем ось X с нулевым изменением (для удобства в сравнении)\n",
    "plt.axhline(y=0, color='black', linestyle='--')\n",
    "\n",
    "plt.xlabel('Дата')\n",
    "plt.ylabel('% изменения среднего кол-ва заказов')\n",
    "plt.title('Относительное изменение кумулятивного среднего кол-ва заказов в группе B к группе A');\n"
   ]
  },
  {
   "cell_type": "markdown",
   "metadata": {},
   "source": [
    "График относительного изменения метрики подтверждает выводы выше — среднее количество заказов на пользователя в группе B стабильно выше, чем в группе А."
   ]
  },
  {
   "cell_type": "markdown",
   "metadata": {},
   "source": [
    "#### Обработка аномальных значений"
   ]
  },
  {
   "cell_type": "markdown",
   "metadata": {},
   "source": [
    "Для улучшения качества результатов A/B-теста изучим выбросы и аномальные значения в выборке — посмотрим, сколько заказов приходится на пользователя и построим точечный график."
   ]
  },
  {
   "cell_type": "code",
   "execution_count": 16,
   "metadata": {},
   "outputs": [
    {
     "data": {
      "text/html": [
       "<div>\n",
       "<style scoped>\n",
       "    .dataframe tbody tr th:only-of-type {\n",
       "        vertical-align: middle;\n",
       "    }\n",
       "\n",
       "    .dataframe tbody tr th {\n",
       "        vertical-align: top;\n",
       "    }\n",
       "\n",
       "    .dataframe thead th {\n",
       "        text-align: right;\n",
       "    }\n",
       "</style>\n",
       "<table border=\"1\" class=\"dataframe\">\n",
       "  <thead>\n",
       "    <tr style=\"text-align: right;\">\n",
       "      <th></th>\n",
       "      <th>user_id</th>\n",
       "      <th>orders</th>\n",
       "    </tr>\n",
       "  </thead>\n",
       "  <tbody>\n",
       "    <tr>\n",
       "      <th>1023</th>\n",
       "      <td>4256040402</td>\n",
       "      <td>11</td>\n",
       "    </tr>\n",
       "    <tr>\n",
       "      <th>591</th>\n",
       "      <td>2458001652</td>\n",
       "      <td>11</td>\n",
       "    </tr>\n",
       "    <tr>\n",
       "      <th>569</th>\n",
       "      <td>2378935119</td>\n",
       "      <td>9</td>\n",
       "    </tr>\n",
       "    <tr>\n",
       "      <th>487</th>\n",
       "      <td>2038680547</td>\n",
       "      <td>8</td>\n",
       "    </tr>\n",
       "    <tr>\n",
       "      <th>44</th>\n",
       "      <td>199603092</td>\n",
       "      <td>5</td>\n",
       "    </tr>\n",
       "  </tbody>\n",
       "</table>\n",
       "</div>"
      ],
      "text/plain": [
       "         user_id  orders\n",
       "1023  4256040402      11\n",
       "591   2458001652      11\n",
       "569   2378935119       9\n",
       "487   2038680547       8\n",
       "44     199603092       5"
      ]
     },
     "execution_count": 16,
     "metadata": {},
     "output_type": "execute_result"
    }
   ],
   "source": [
    "# Сгруппируем датасет с заказами по пользователям, агрегируем данные по количеству заказов\n",
    "orders_by_users = orders.groupby('user_id', as_index=False).agg({'order_id': 'nunique'})\n",
    "\n",
    "# Переименуем названия столбцов\n",
    "orders_by_users.columns = ['user_id', 'orders']\n",
    "\n",
    "# Отсортируем таблицу по убыванию и выведем первые строки\n",
    "orders_by_users.sort_values(by='orders', ascending=False).head()"
   ]
  },
  {
   "cell_type": "markdown",
   "metadata": {},
   "source": [
    "Теперь построим точечный график с распределением количества заказов на пользователя."
   ]
  },
  {
   "cell_type": "code",
   "execution_count": 17,
   "metadata": {},
   "outputs": [
    {
     "data": {
      "image/png": "[encoded data removed]",
      "text/plain": [
       "<Figure size 1008x360 with 1 Axes>"
      ]
     },
     "metadata": {
      "needs_background": "light"
     },
     "output_type": "display_data"
    }
   ],
   "source": [
    "# Зададим ось Х\n",
    "x_values = pd.Series(range(0,len(orders_by_users)))\n",
    "\n",
    "# Зададим размер графика\n",
    "plt.figure(figsize=(14, 5))\n",
    "\n",
    "# Построим график\n",
    "plt.scatter(x_values, orders_by_users['orders'])\n",
    "\n",
    "# Зададим подписи\n",
    "plt.xlabel('Посетители')\n",
    "plt.ylabel('Количество заказов')\n",
    "plt.title('Распределение количества заказов на посетителя');\n"
   ]
  },
  {
   "cell_type": "markdown",
   "metadata": {},
   "source": [
    "Большинство пользователей совершает до двух заказов, реже — до четырех. Есть пользователи, которые совершают аномально большое количество заказов — от восьми и выше. "
   ]
  },
  {
   "cell_type": "markdown",
   "metadata": {},
   "source": [
    "Посчитаем 95-й и 99-й перцентили для определения границы очистки выборки."
   ]
  },
  {
   "cell_type": "code",
   "execution_count": 18,
   "metadata": {},
   "outputs": [
    {
     "data": {
      "text/plain": [
       "array([2., 4.])"
      ]
     },
     "execution_count": 18,
     "metadata": {},
     "output_type": "execute_result"
    }
   ],
   "source": [
    "# Расчет перцентилей\n",
    "np.percentile(orders_by_users['orders'], [95, 99])"
   ]
  },
  {
   "cell_type": "markdown",
   "metadata": {},
   "source": [
    "Не более 5% пользователей совершают два и более заказа , в будущем примем это значение в качестве верхней границы для удаления аномальных данных. "
   ]
  },
  {
   "cell_type": "markdown",
   "metadata": {},
   "source": [
    "Теперь рассмотрим распределение стоимостей заказов на точечном графике."
   ]
  },
  {
   "cell_type": "code",
   "execution_count": 19,
   "metadata": {},
   "outputs": [
    {
     "data": {
      "image/png": "[encoded data removed]",
      "text/plain": [
       "<Figure size 1008x360 with 1 Axes>"
      ]
     },
     "metadata": {
      "needs_background": "light"
     },
     "output_type": "display_data"
    }
   ],
   "source": [
    "# Зададим ось Х\n",
    "x_values = pd.Series(range(0,len(orders['revenue'])))\n",
    "\n",
    "# Зададим размер графика\n",
    "plt.figure(figsize=(14, 5))\n",
    "\n",
    "# Построим график\n",
    "plt.scatter(x_values, orders['revenue'])\n",
    "\n",
    "# Зададим подписи\n",
    "plt.xlabel('')\n",
    "plt.ylabel('Стоимость заказа, млн.')\n",
    "plt.title('Распределение стоимостей заказов');\n"
   ]
  },
  {
   "cell_type": "markdown",
   "metadata": {},
   "source": [
    "На графики четко определяются два аномально дорогих заказа — кто-то совершил заказ на сумму более 1 млн. рублей. Вероятно, эти аномально дорогие заказы повлияли на всплески кумулятивной выручки и кумулятивного среднего чека в группе B — для улучшения качества результатов теста эти выбросы следует удалить."
   ]
  },
  {
   "cell_type": "markdown",
   "metadata": {},
   "source": [
    "Для большей наглядности рассмотрим график без аномально высоких значений — ограничим значения по оси Y до 120 тыс. рублей."
   ]
  },
  {
   "cell_type": "code",
   "execution_count": 20,
   "metadata": {},
   "outputs": [
    {
     "data": {
      "image/png": "[encoded data removed]",
      "text/plain": [
       "<Figure size 1008x360 with 1 Axes>"
      ]
     },
     "metadata": {
      "needs_background": "light"
     },
     "output_type": "display_data"
    }
   ],
   "source": [
    "# Зададим ось Х\n",
    "x_values = pd.Series(range(0,len(orders['revenue'])))\n",
    "\n",
    "# Зададим размер графика\n",
    "plt.figure(figsize=(14, 5))\n",
    "\n",
    "# Построим график\n",
    "plt.scatter(x_values, orders['revenue'])\n",
    "\n",
    "# Зададим подписи\n",
    "plt.xlabel('')\n",
    "plt.ylim(0, 120000)\n",
    "plt.ylabel('Стоимость заказа, млн.')\n",
    "plt.title('Распределение стоимостей заказов');\n"
   ]
  },
  {
   "cell_type": "markdown",
   "metadata": {},
   "source": [
    "По исправленному графику видно, что стоимость большинства заказов редко превышает 40 тыс. рублей."
   ]
  },
  {
   "cell_type": "markdown",
   "metadata": {},
   "source": [
    "Посчитаем перцентили выручки для определения границы очистки данных."
   ]
  },
  {
   "cell_type": "code",
   "execution_count": 21,
   "metadata": {},
   "outputs": [
    {
     "data": {
      "text/plain": [
       "array([28000. , 58233.2])"
      ]
     },
     "execution_count": 21,
     "metadata": {},
     "output_type": "execute_result"
    }
   ],
   "source": [
    "np.percentile(orders['revenue'], [95, 99])"
   ]
  },
  {
   "cell_type": "markdown",
   "metadata": {},
   "source": [
    "Только в 5% случаев стоимость заказа превышает 28 000 рублей, в будущем примем эту сумму в качестве верхней границы нормальных значений. \n"
   ]
  },
  {
   "cell_type": "markdown",
   "metadata": {},
   "source": [
    "#### Подготовка данных"
   ]
  },
  {
   "cell_type": "markdown",
   "metadata": {},
   "source": [
    "Подготовим данные для A/B-теста — в отдельный датасет для каждой группы соберем количество заказов, суммарную выручку и число посетителей магазина по дням. Каждую метрику рассмотрим как за один день, так и с накоплением."
   ]
  },
  {
   "cell_type": "code",
   "execution_count": 22,
   "metadata": {},
   "outputs": [
    {
     "data": {
      "text/html": [
       "<div>\n",
       "<style scoped>\n",
       "    .dataframe tbody tr th:only-of-type {\n",
       "        vertical-align: middle;\n",
       "    }\n",
       "\n",
       "    .dataframe tbody tr th {\n",
       "        vertical-align: top;\n",
       "    }\n",
       "\n",
       "    .dataframe thead th {\n",
       "        text-align: right;\n",
       "    }\n",
       "</style>\n",
       "<table border=\"1\" class=\"dataframe\">\n",
       "  <thead>\n",
       "    <tr style=\"text-align: right;\">\n",
       "      <th></th>\n",
       "      <th>date</th>\n",
       "      <th>orders_per_date_a</th>\n",
       "      <th>revenue_per_date_a</th>\n",
       "      <th>orders_per_date_b</th>\n",
       "      <th>revenue_per_date_b</th>\n",
       "      <th>orders_сummulative_a</th>\n",
       "      <th>revenue_cummulative_a</th>\n",
       "      <th>orders_сummulative_b</th>\n",
       "      <th>revenueCummulativeB</th>\n",
       "      <th>visitors_per_date_a</th>\n",
       "      <th>visitors_per_date_b</th>\n",
       "      <th>visitors_cummulative_a</th>\n",
       "      <th>visitors_cummulative_b</th>\n",
       "    </tr>\n",
       "  </thead>\n",
       "  <tbody>\n",
       "    <tr>\n",
       "      <th>0</th>\n",
       "      <td>2019-08-01</td>\n",
       "      <td>24</td>\n",
       "      <td>148579</td>\n",
       "      <td>21</td>\n",
       "      <td>101217</td>\n",
       "      <td>24</td>\n",
       "      <td>148579</td>\n",
       "      <td>21</td>\n",
       "      <td>101217</td>\n",
       "      <td>719</td>\n",
       "      <td>713</td>\n",
       "      <td>719</td>\n",
       "      <td>713</td>\n",
       "    </tr>\n",
       "    <tr>\n",
       "      <th>1</th>\n",
       "      <td>2019-08-02</td>\n",
       "      <td>20</td>\n",
       "      <td>93822</td>\n",
       "      <td>24</td>\n",
       "      <td>165531</td>\n",
       "      <td>44</td>\n",
       "      <td>242401</td>\n",
       "      <td>45</td>\n",
       "      <td>266748</td>\n",
       "      <td>619</td>\n",
       "      <td>581</td>\n",
       "      <td>1338</td>\n",
       "      <td>1294</td>\n",
       "    </tr>\n",
       "    <tr>\n",
       "      <th>2</th>\n",
       "      <td>2019-08-03</td>\n",
       "      <td>24</td>\n",
       "      <td>112473</td>\n",
       "      <td>16</td>\n",
       "      <td>114248</td>\n",
       "      <td>68</td>\n",
       "      <td>354874</td>\n",
       "      <td>61</td>\n",
       "      <td>380996</td>\n",
       "      <td>507</td>\n",
       "      <td>509</td>\n",
       "      <td>1845</td>\n",
       "      <td>1803</td>\n",
       "    </tr>\n",
       "    <tr>\n",
       "      <th>3</th>\n",
       "      <td>2019-08-04</td>\n",
       "      <td>16</td>\n",
       "      <td>70825</td>\n",
       "      <td>17</td>\n",
       "      <td>108571</td>\n",
       "      <td>84</td>\n",
       "      <td>425699</td>\n",
       "      <td>78</td>\n",
       "      <td>489567</td>\n",
       "      <td>717</td>\n",
       "      <td>770</td>\n",
       "      <td>2562</td>\n",
       "      <td>2573</td>\n",
       "    </tr>\n",
       "    <tr>\n",
       "      <th>4</th>\n",
       "      <td>2019-08-05</td>\n",
       "      <td>25</td>\n",
       "      <td>124218</td>\n",
       "      <td>23</td>\n",
       "      <td>92428</td>\n",
       "      <td>109</td>\n",
       "      <td>549917</td>\n",
       "      <td>101</td>\n",
       "      <td>581995</td>\n",
       "      <td>756</td>\n",
       "      <td>707</td>\n",
       "      <td>3318</td>\n",
       "      <td>3280</td>\n",
       "    </tr>\n",
       "  </tbody>\n",
       "</table>\n",
       "</div>"
      ],
      "text/plain": [
       "        date  orders_per_date_a  revenue_per_date_a  orders_per_date_b  \\\n",
       "0 2019-08-01                 24              148579                 21   \n",
       "1 2019-08-02                 20               93822                 24   \n",
       "2 2019-08-03                 24              112473                 16   \n",
       "3 2019-08-04                 16               70825                 17   \n",
       "4 2019-08-05                 25              124218                 23   \n",
       "\n",
       "   revenue_per_date_b  orders_сummulative_a  revenue_cummulative_a  \\\n",
       "0              101217                    24                 148579   \n",
       "1              165531                    44                 242401   \n",
       "2              114248                    68                 354874   \n",
       "3              108571                    84                 425699   \n",
       "4               92428                   109                 549917   \n",
       "\n",
       "   orders_сummulative_b  revenueCummulativeB  visitors_per_date_a  \\\n",
       "0                    21               101217                  719   \n",
       "1                    45               266748                  619   \n",
       "2                    61               380996                  507   \n",
       "3                    78               489567                  717   \n",
       "4                   101               581995                  756   \n",
       "\n",
       "   visitors_per_date_b  visitors_cummulative_a  visitors_cummulative_b  \n",
       "0                  713                     719                     713  \n",
       "1                  581                    1338                    1294  \n",
       "2                  509                    1845                    1803  \n",
       "3                  770                    2562                    2573  \n",
       "4                  707                    3318                    3280  "
      ]
     },
     "execution_count": 22,
     "metadata": {},
     "output_type": "execute_result"
    }
   ],
   "source": [
    "# Выделим пользователей из группы А в отдельный датафрейм\n",
    "visitors_a_daily = visitors[visitors['group'] == 'A'][['date', 'visitors']]\n",
    "\n",
    "# Переименуем столбцы\n",
    "visitors_a_daily.columns = ['date', 'visitors_per_date_a']\n",
    "\n",
    "# Соберем кумулятивное число пользователей в группе А по дням\n",
    "visitors_a_cummulative = visitors_a_daily.apply(\n",
    "    lambda x: visitors_a_daily[visitors_a_daily['date'] <= x['date']].agg(\n",
    "        {'date': 'max', 'visitors_per_date_a': 'sum'}),axis=1)\n",
    "\n",
    "# Переименуем столбцы\n",
    "visitors_a_cummulative.columns = ['date', 'visitors_cummulative_a']\n",
    "\n",
    "# То же самое сделаем для группы B\n",
    "# Соберем кумулятивное число пользователей в группе B по дням\n",
    "visitors_b_daily = visitors[visitors['group'] == 'B'][['date', 'visitors']]\n",
    "visitors_b_daily.columns = ['date', 'visitors_per_date_b']\n",
    "\n",
    "# Соберем кумулятивное число пользователей в группе B по дням\n",
    "visitors_b_cummulative = visitors_b_daily.apply(\n",
    "    lambda x: visitors_b_daily[visitors_b_daily['date'] <= x['date']].agg(\n",
    "        {'date': 'max', 'visitors_per_date_b': 'sum'}),axis=1)\n",
    "\n",
    "# Переименуем столбцы\n",
    "visitors_b_cummulative.columns = ['date', 'visitors_cummulative_b']\n",
    "\n",
    "# Соберем данные по заказам для группы А\n",
    "orders_a_daily = (\n",
    "    orders[orders['group'] == 'A'][['date', 'order_id', 'user_id', 'revenue']]\n",
    "    .groupby('date', as_index=False)\n",
    "    .agg({'order_id': 'nunique', 'revenue': 'sum'}))\n",
    "\n",
    "# Переименуем столбцы\n",
    "orders_a_daily.columns = ['date', 'orders_per_date_a', 'revenue_per_date_a']\n",
    "\n",
    "# Соберем накопленные данные по заказкам для группы А\n",
    "orders_a_cummulative = (orders_a_daily.apply(\n",
    "         lambda x: orders_a_daily[orders_a_daily['date'] <= x['date']].agg(\n",
    "        {'date': 'max', 'orders_per_date_a': 'sum', 'revenue_per_date_a': 'sum'}),axis=1)\n",
    "        .sort_values(by=['date']))\n",
    "\n",
    "# Переименуем столбцы\n",
    "orders_a_cummulative.columns = ['date',\n",
    "                                'orders_сummulative_a',\n",
    "                                'revenue_cummulative_a']\n",
    "\n",
    "# Соберем данные по заказам для группы B\n",
    "orders_b_daily = (\n",
    "    orders[orders['group'] == 'B'][['date', 'order_id', 'user_id', 'revenue']]\n",
    "    .groupby('date', as_index=False)\n",
    "    .agg({'order_id': 'nunique', 'revenue': 'sum'}))\n",
    "\n",
    "# Переименуем столбцы\n",
    "orders_b_daily.columns = ['date', 'orders_per_date_b', 'revenue_per_date_b']\n",
    "\n",
    "# Соберем накопленные данные по заказкам для группы B\n",
    "orders_b_cummulative = (orders_b_daily.apply(\n",
    "    lambda x: orders_b_daily[orders_b_daily['date'] <= x['date']].agg(\n",
    "        {'date': 'max', 'orders_per_date_b': 'sum', 'revenue_per_date_b': 'sum'}),axis=1)\n",
    "        .sort_values(by=['date']))\n",
    "                        \n",
    "# Переименуем столбцы\n",
    "orders_b_cummulative.columns = [\n",
    "    'date',\n",
    "    'orders_сummulative_b',\n",
    "    'revenueCummulativeB']\n",
    "\n",
    "# Соберем все данные в один датасет\n",
    "data = (orders_a_daily.merge(\n",
    "    orders_b_daily, left_on='date', right_on='date', how='left')\n",
    "    .merge(orders_a_cummulative, left_on='date', right_on='date', how='left')\n",
    "    .merge(orders_b_cummulative, left_on='date', right_on='date', how='left')\n",
    "    .merge(visitors_a_daily, left_on='date', right_on='date', how='left')\n",
    "    .merge(visitors_b_daily, left_on='date', right_on='date', how='left')\n",
    "    .merge(visitors_a_cummulative, left_on='date', right_on='date', how='left')\n",
    "    .merge(visitors_b_cummulative, left_on='date', right_on='date', how='left'))\n",
    "\n",
    "# Выведем результат\n",
    "data.head()"
   ]
  },
  {
   "cell_type": "markdown",
   "metadata": {},
   "source": [
    "Данные собраны корректно."
   ]
  },
  {
   "cell_type": "markdown",
   "metadata": {},
   "source": [
    "Создадим переменные `orders_by_users_a` и `orders_by_users_b`. В них для пользователей, которые заказывали хотя бы один раз, укажем число совершённых заказов. "
   ]
  },
  {
   "cell_type": "code",
   "execution_count": 23,
   "metadata": {},
   "outputs": [],
   "source": [
    "# Соберем датасет с количеством заказов на каждого пользователя в группе А\n",
    "orders_by_users_a = (\n",
    "    orders[orders['group'] == 'A']\n",
    "    .groupby('user_id', as_index=False)\n",
    "    .agg({'order_id': 'nunique'}))\n",
    "\n",
    "# Переименуем столбцы\n",
    "orders_by_users_a.columns = ['user_id', 'orders']\n",
    "\n",
    "# Соберем датасет с количеством заказов на каждого пользователя в группе В\n",
    "orders_by_users_b = (\n",
    "    orders[orders['group'] == 'B']\n",
    "    .groupby('user_id', as_index=False)\n",
    "    .agg({'order_id': 'nunique'}))\n",
    "\n",
    "# Переименуем столбцы\n",
    "orders_by_users_b.columns = ['user_id', 'orders']"
   ]
  },
  {
   "cell_type": "markdown",
   "metadata": {},
   "source": [
    "Объявим переменные `sample_a` и `sample_b`, в которых пользователям из разных групп будет соответствовать количество заказов. Тем, кто ничего не заказал, будут соответствовать нули. Это нужно, чтобы потом сравнить доли."
   ]
  },
  {
   "cell_type": "code",
   "execution_count": 24,
   "metadata": {},
   "outputs": [],
   "source": [
    "sample_a = (pd.concat([orders_by_users_a['orders'],\n",
    "                       pd.Series(0,index=np.arange(data['visitors_per_date_a'].sum() \n",
    "                       - len(orders_by_users_a['orders'])), name='orders')],axis=0))\n",
    "           \n",
    "           \n",
    "sample_b = (pd.concat([orders_by_users_b['orders']\n",
    "                       ,pd.Series(0, index=np.arange(data['visitors_per_date_b'].sum()\n",
    "                       - len(orders_by_users_b['orders'])), name='orders')],axis=0))\n",
    "           \n",
    "           "
   ]
  },
  {
   "cell_type": "markdown",
   "metadata": {},
   "source": [
    "#### Проведение статистических тестов"
   ]
  },
  {
   "cell_type": "markdown",
   "metadata": {},
   "source": [
    "Напишем функцию для расчета статистической значимости критерием Манна-Уитни."
   ]
  },
  {
   "cell_type": "code",
   "execution_count": 25,
   "metadata": {},
   "outputs": [],
   "source": [
    "def stat_significance(a, b):\n",
    "    \n",
    "    alpha = 0.05 # Зададим значение alpha\n",
    "    p_value = stats.mannwhitneyu(a, b)[1] # Расчет p-value\n",
    "    print(\"P-value: {0:.3f}\".format(p_value)) # Выведем p-value\n",
    "    \n",
    "    # Выведем результат проверки гипотезы\n",
    "    if (p_value < alpha):\n",
    "        print(\"Отвергаем нулевую гипотезу\")\n",
    "    else:\n",
    "        print(\"Не получилось отвергнуть нулевую гипотезу\")\n",
    "    \n",
    "    # Выведем прирост в группе B относительно группы А\n",
    "    print(\"Относительный прирост В к А: {0:.3%}\".format(b.mean() / a.mean()-1))"
   ]
  },
  {
   "cell_type": "markdown",
   "metadata": {},
   "source": [
    "Проведем статистический тест по исходным данным — сравним отличия среднего количества заказов на посетителя в группах А и В. Сформулируем нулевую и альтернативную гипотезы:\n",
    "\n",
    "* H0: В среднем количестве заказов на посетителя в группах А и В нет статистически значимых отличий\n",
    "* H1: Среднее количество заказов на посетителя в группах А и В отличается\n"
   ]
  },
  {
   "cell_type": "code",
   "execution_count": 26,
   "metadata": {},
   "outputs": [
    {
     "name": "stdout",
     "output_type": "stream",
     "text": [
      "P-value: 0.017\n",
      "Отвергаем нулевую гипотезу\n",
      "Относительный прирост В к А: 13.808%\n"
     ]
    }
   ],
   "source": [
    "# Статистическая проверка отличий в среднем количестве заказов \n",
    "stat_significance(sample_a, sample_b)"
   ]
  },
  {
   "cell_type": "markdown",
   "metadata": {},
   "source": [
    "Относительный прирост количества заказов на пользователя в группе B равен 13,8%. Различия в среднем количестве заказов на посетителя между группами статистически значимы. Вероятность случайно получить такое или большее различие (`p-value`) менее 0,05. "
   ]
  },
  {
   "cell_type": "markdown",
   "metadata": {},
   "source": [
    "Теперь проверим различия между группами в среднем чеке, также по исходным данным. Сформулироем гипотезы:\n",
    "\n",
    "* H0: Между средними чеками в группах А и В нет отличий\n",
    "* H1: Средние чеки в группах А и В отличаются"
   ]
  },
  {
   "cell_type": "code",
   "execution_count": 27,
   "metadata": {},
   "outputs": [
    {
     "name": "stdout",
     "output_type": "stream",
     "text": [
      "P-value: 0.729\n",
      "Не получилось отвергнуть нулевую гипотезу\n",
      "Относительный прирост В к А: 25.871%\n"
     ]
    }
   ],
   "source": [
    "# Статистическая проверка отличий в средних чеках\n",
    "stat_significance(orders[orders['group']=='A']['revenue'], orders[orders['group']=='B']['revenue'])"
   ]
  },
  {
   "cell_type": "markdown",
   "metadata": {},
   "source": [
    "Нулевую гипотезу не получилось отвернуть — нет оснований считать различия в средних чеках статистически значимыми. Относительный прирост среднего чека в группе B составляет более 25% — вероятность получить такое значение более 0,05"
   ]
  },
  {
   "cell_type": "markdown",
   "metadata": {},
   "source": [
    "Теперь проведем статистические тесты по очищенным данным. В качестве верхней границы количества заказов примим число 2, которое мы определили выше на этапе обработки аномальных значений, в качестве верхней границы стоимости заказа — 28 000 рублей. Сделаем сответствующий срез по аномальным значениям."
   ]
  },
  {
   "cell_type": "code",
   "execution_count": 28,
   "metadata": {},
   "outputs": [
    {
     "data": {
      "text/plain": [
       "1099    148427295\n",
       "18      199603092\n",
       "928     204675465\n",
       "23      237748145\n",
       "37      249864742\n",
       "Name: user_id, dtype: int64"
      ]
     },
     "metadata": {},
     "output_type": "display_data"
    },
    {
     "name": "stdout",
     "output_type": "stream",
     "text": [
      "74\n"
     ]
    }
   ],
   "source": [
    "# Запишем границы очистки данных в отдельные переменные \n",
    "abnormal_order_number = 2\n",
    "abnormal_revenue = 28000\n",
    "\n",
    "# Выделим пользователей с аномально высоким числом заказов \n",
    "users_with_many_orders = pd.concat(\n",
    "    [\n",
    "        orders_by_users_a[orders_by_users_a['orders'] > abnormal_order_number]['user_id'],\n",
    "        orders_by_users_b[orders_by_users_b['orders'] > abnormal_order_number]['user_id'],\n",
    "    ],axis=0)\n",
    "\n",
    "# Выделим пользователей с аномально дорогими заказами\n",
    "users_with_expensive_orders = orders[orders['revenue'] > abnormal_revenue]['user_id']\n",
    "\n",
    "# Выделим всех аномальных пользователей в отдельную переменную\n",
    "abnormal_users = (\n",
    "    pd.concat([users_with_many_orders, users_with_expensive_orders], axis=0)\n",
    "    .drop_duplicates()\n",
    "    .sort_values()\n",
    ")\n",
    "\n",
    "display(abnormal_users.head())\n",
    "print(abnormal_users.shape[0])"
   ]
  },
  {
   "cell_type": "markdown",
   "metadata": {},
   "source": [
    "В данных 74 аномальных пользователя — соберем датасеты с выборками по очищенным данным, без аномальных пользователей."
   ]
  },
  {
   "cell_type": "code",
   "execution_count": 29,
   "metadata": {},
   "outputs": [],
   "source": [
    "# Подготовим выборку для группы А по очищенным данным\n",
    "sample_a_filtered = pd.concat(\n",
    "    [\n",
    "        orders_by_users_a[\n",
    "            # исключение аномальных пользователей\n",
    "            np.logical_not(orders_by_users_a['user_id'].isin(abnormal_users)) \n",
    "        ]['orders'],\n",
    "        pd.Series(\n",
    "            0,\n",
    "            index=np.arange(\n",
    "                data['visitors_per_date_a'].sum() - len(orders_by_users_a['orders'])\n",
    "            ),\n",
    "            name='orders',\n",
    "        ),\n",
    "    ],\n",
    "    axis=0,\n",
    ")\n",
    "\n",
    "# Подготовим выборку для группы B по очищенным данным\n",
    "sample_b_filtered = pd.concat(\n",
    "    [\n",
    "        orders_by_users_b[\n",
    "            # исключение аномальных пользователей\n",
    "            np.logical_not(orders_by_users_b['user_id'].isin(abnormal_users)) \n",
    "        ]['orders'],\n",
    "        pd.Series(\n",
    "            0,\n",
    "            index=np.arange(\n",
    "                data['visitors_per_date_b'].sum() - len(orders_by_users_b['orders'])\n",
    "            ),\n",
    "            name='orders',\n",
    "        ),\n",
    "    ],\n",
    "    axis=0,\n",
    ")\n"
   ]
  },
  {
   "cell_type": "markdown",
   "metadata": {},
   "source": [
    "Посчитаем статистическую значимость различий в среднем количестве заказов на посетителя между группами по очищенным данным."
   ]
  },
  {
   "cell_type": "code",
   "execution_count": 30,
   "metadata": {},
   "outputs": [
    {
     "name": "stdout",
     "output_type": "stream",
     "text": [
      "P-value: 0.013\n",
      "Отвергаем нулевую гипотезу\n",
      "Относительный прирост В к А: 17.270%\n"
     ]
    }
   ],
   "source": [
    "# Статистическая проверка отличий в количестве заказов на пользователя \n",
    "stat_significance(sample_a_filtered, sample_b_filtered)"
   ]
  },
  {
   "cell_type": "markdown",
   "metadata": {},
   "source": [
    "По сравнению с сырыми данными результаты почти не изменились: `p-value` немного снизилась, относительная разница в группе B выросла с 13,8% до 17,3%. Выводы остались прежними — отличия в группах по среднему количеству заказов статистически значимо.\n",
    "\n",
    "Теперь по очищенным данным изучим статистическую значимость различий в средних чеках."
   ]
  },
  {
   "cell_type": "code",
   "execution_count": 31,
   "metadata": {},
   "outputs": [
    {
     "name": "stdout",
     "output_type": "stream",
     "text": [
      "P-value: 0.738\n",
      "Не получилось отвергнуть нулевую гипотезу\n",
      "Относительный прирост В к А: -1.962%\n"
     ]
    }
   ],
   "source": [
    "# Запишем срез по очищенным данным для группы А\n",
    "filtered_revenue_a = (orders[np.logical_and(orders['group'] == 'A',\n",
    "                            np.logical_not(orders['user_id'].isin(abnormal_users)))]['revenue'])\n",
    "\n",
    "# Запишем срез по очищенным данным для группы В\n",
    "filtered_revenue_b = (orders[np.logical_and(orders['group'] == 'B',\n",
    "                            np.logical_not(orders['user_id'].isin(abnormal_users)))]['revenue'])\n",
    "\n",
    "# Статистическая проверка отличий в средних чеках\n",
    "stat_significance(filtered_revenue_a, filtered_revenue_b)"
   ]
  },
  {
   "cell_type": "markdown",
   "metadata": {},
   "source": [
    "Уровень статистической значимости почти не изменился: `p-value` по-прежнему выше 0,05. Следовательно, у нас нет оснований, чтобы отвергнуть нулевую гипотезу. Различия в средних чеках между группами по-прежнему не значимо."
   ]
  },
  {
   "cell_type": "markdown",
   "metadata": {},
   "source": [
    "### Выводы"
   ]
  },
  {
   "cell_type": "markdown",
   "metadata": {},
   "source": [
    "В ходе исследования был проведен анализ на основании трех источников данных: датасета с гипотезами, датасета с информацией о заказах и датасета с инфорамацией о посетителях онлайн-магазина.\n",
    "\n",
    "**Основные выводы по приоритезации гипотез:**\n",
    "\n",
    "Согласно фреймворку ICE, наиболее приоритетными следующие гипотезы:\n",
    "\n",
    "* Запустить акцию, дающую скидку на товар в день рождения\n",
    "* Добавить два новых канала привлечения трафика, что позволит привлекать на 30% больше пользователей\n",
    "* Добавить форму подписки на все основные страницы, чтобы собрать базу клиентов для email-рассылок\n",
    "\n",
    "По фреймворку RICE, наиболее приоритеные гипотезы:\n",
    "\n",
    "* Добавить форму подписки на все основные страницы, чтобы собрать базу клиентов для email-рассылок\t\n",
    "* Добавить блоки рекомендаций товаров на сайт интернет магазина, чтобы повысить конверсию и средний чек заказа\n",
    "* Добавить два новых канала привлечения трафика, что позволит привлекать на 30% больше пользователей\n",
    "\n",
    "**Основные выводы по A/B-тесты:**\n",
    "\n",
    "* Кумулятивная выручка группы B резко выросла после 17 августа. Всплеск связан с резким увеличением среднего чека и конверсии в покупку, которые в свою очередь могли вырасти по разным причинам — например, кто-то в группе B мог купить очень дорогой товар или пользователи купили аномально большое количество товаров.\n",
    "* По среднему чеку также заметен всплеск после 17 августа. Группа B превосходит группу А по среднему чеку, однако, это опережение не такое стабильное, как в выручке: например, 13 августа средний чек группы A вырвался вперед относительно среднего чека группы B. Также видно, что с 25 августа средний чек группы B медленно падает, а средний чек группы A, наоборот, медленно растет.\n",
    "* На неделе с 5 августа среднее количество заказов на пользователя в группе B превысило среднее количество заказов на пользователя в групппе А, после чего лидерство группы B остается относительно стабильным. \n",
    "* Среднее количество заказов в группе В статистически значимо выше, чем в группе А — как по данным без фильтрации, так и по данным с исключением аномальных значений. По очищенным данным относительный прирост в группе B составляет 17.27%\n",
    "* По графику относительного изменения кумулятивного среднего чека группа B лидирует, но это лидерство статистически не значимо. К тому же, разрыв между группами сокращается."
   ]
  }
 ],
 "metadata": {
  "ExecuteTimeLog": [
   {
    "duration": 458,
    "start_time": "2023-06-21T18:08:40.090Z"
   },
   {
    "duration": 72,
    "start_time": "2023-06-21T18:08:48.215Z"
   },
   {
    "duration": 105,
    "start_time": "2023-06-21T18:09:22.986Z"
   },
   {
    "duration": 67,
    "start_time": "2023-06-21T18:09:27.591Z"
   },
   {
    "duration": 67,
    "start_time": "2023-06-21T18:09:42.020Z"
   },
   {
    "duration": 74,
    "start_time": "2023-06-21T18:10:05.028Z"
   },
   {
    "duration": 117,
    "start_time": "2023-06-21T18:12:40.938Z"
   },
   {
    "duration": 703,
    "start_time": "2023-06-21T20:20:30.082Z"
   },
   {
    "duration": 7,
    "start_time": "2023-06-21T20:21:40.086Z"
   },
   {
    "duration": 13,
    "start_time": "2023-06-21T20:21:45.592Z"
   },
   {
    "duration": 11,
    "start_time": "2023-06-21T20:23:22.800Z"
   },
   {
    "duration": 1611,
    "start_time": "2023-06-21T20:24:39.728Z"
   },
   {
    "duration": 9,
    "start_time": "2023-06-21T20:25:08.788Z"
   },
   {
    "duration": 5,
    "start_time": "2023-06-21T20:25:16.690Z"
   },
   {
    "duration": 13,
    "start_time": "2023-06-21T20:25:29.931Z"
   },
   {
    "duration": 79,
    "start_time": "2023-06-22T16:21:30.973Z"
   },
   {
    "duration": 605,
    "start_time": "2023-06-22T16:21:37.968Z"
   },
   {
    "duration": 16,
    "start_time": "2023-06-22T16:21:38.575Z"
   },
   {
    "duration": 25,
    "start_time": "2023-06-22T16:21:38.592Z"
   },
   {
    "duration": 24,
    "start_time": "2023-06-22T16:21:38.619Z"
   },
   {
    "duration": 8,
    "start_time": "2023-06-22T16:29:16.749Z"
   },
   {
    "duration": 10,
    "start_time": "2023-06-22T16:29:24.758Z"
   },
   {
    "duration": 194,
    "start_time": "2023-06-22T16:29:48.353Z"
   },
   {
    "duration": 516,
    "start_time": "2023-06-22T16:29:56.130Z"
   },
   {
    "duration": 477,
    "start_time": "2023-06-22T16:30:05.677Z"
   },
   {
    "duration": 18,
    "start_time": "2023-06-22T16:30:06.155Z"
   },
   {
    "duration": 56,
    "start_time": "2023-06-22T16:30:06.174Z"
   },
   {
    "duration": 69,
    "start_time": "2023-06-22T16:30:06.232Z"
   },
   {
    "duration": 94,
    "start_time": "2023-06-22T16:30:06.308Z"
   },
   {
    "duration": 620,
    "start_time": "2023-06-22T16:30:20.839Z"
   },
   {
    "duration": 469,
    "start_time": "2023-06-22T16:30:28.627Z"
   },
   {
    "duration": 43,
    "start_time": "2023-06-22T16:30:29.098Z"
   },
   {
    "duration": 25,
    "start_time": "2023-06-22T16:30:29.142Z"
   },
   {
    "duration": 23,
    "start_time": "2023-06-22T16:30:29.169Z"
   },
   {
    "duration": 67,
    "start_time": "2023-06-22T16:30:29.194Z"
   },
   {
    "duration": 553,
    "start_time": "2023-06-22T16:31:34.652Z"
   },
   {
    "duration": 503,
    "start_time": "2023-06-22T16:31:44.862Z"
   },
   {
    "duration": 24,
    "start_time": "2023-06-22T16:31:45.368Z"
   },
   {
    "duration": 13,
    "start_time": "2023-06-22T16:31:45.394Z"
   },
   {
    "duration": 36,
    "start_time": "2023-06-22T16:31:45.418Z"
   },
   {
    "duration": 25,
    "start_time": "2023-06-22T16:31:45.455Z"
   },
   {
    "duration": 683,
    "start_time": "2023-06-22T16:31:57.458Z"
   },
   {
    "duration": 10,
    "start_time": "2023-06-22T16:32:01.688Z"
   },
   {
    "duration": 602,
    "start_time": "2023-06-22T16:32:03.946Z"
   },
   {
    "duration": 437,
    "start_time": "2023-06-22T16:32:08.047Z"
   },
   {
    "duration": 520,
    "start_time": "2023-06-22T16:32:11.354Z"
   },
   {
    "duration": 538,
    "start_time": "2023-06-22T16:32:15.629Z"
   },
   {
    "duration": 17,
    "start_time": "2023-06-22T16:32:16.169Z"
   },
   {
    "duration": 60,
    "start_time": "2023-06-22T16:32:16.188Z"
   },
   {
    "duration": 25,
    "start_time": "2023-06-22T16:32:16.250Z"
   },
   {
    "duration": 80,
    "start_time": "2023-06-22T16:32:16.277Z"
   },
   {
    "duration": 644,
    "start_time": "2023-06-22T16:34:15.628Z"
   },
   {
    "duration": 580,
    "start_time": "2023-06-22T16:34:21.348Z"
   },
   {
    "duration": 19,
    "start_time": "2023-06-22T16:34:21.931Z"
   },
   {
    "duration": 64,
    "start_time": "2023-06-22T16:34:21.953Z"
   },
   {
    "duration": 39,
    "start_time": "2023-06-22T16:34:22.023Z"
   },
   {
    "duration": 80,
    "start_time": "2023-06-22T16:34:22.063Z"
   },
   {
    "duration": 497,
    "start_time": "2023-06-22T16:34:50.450Z"
   },
   {
    "duration": 15,
    "start_time": "2023-06-22T16:34:50.949Z"
   },
   {
    "duration": 28,
    "start_time": "2023-06-22T16:34:50.965Z"
   },
   {
    "duration": 58,
    "start_time": "2023-06-22T16:34:50.994Z"
   },
   {
    "duration": 40,
    "start_time": "2023-06-22T16:34:51.053Z"
   },
   {
    "duration": 756,
    "start_time": "2023-06-22T16:36:19.467Z"
   },
   {
    "duration": 465,
    "start_time": "2023-06-22T16:36:24.324Z"
   },
   {
    "duration": 25,
    "start_time": "2023-06-22T16:36:24.791Z"
   },
   {
    "duration": 27,
    "start_time": "2023-06-22T16:36:24.823Z"
   },
   {
    "duration": 9,
    "start_time": "2023-06-22T16:36:24.852Z"
   },
   {
    "duration": 20,
    "start_time": "2023-06-22T16:36:24.863Z"
   },
   {
    "duration": 4,
    "start_time": "2023-06-22T16:36:24.885Z"
   },
   {
    "duration": 10,
    "start_time": "2023-06-22T16:36:55.847Z"
   },
   {
    "duration": 25,
    "start_time": "2023-06-22T16:37:11.292Z"
   },
   {
    "duration": 12,
    "start_time": "2023-06-22T16:37:16.485Z"
   },
   {
    "duration": 83,
    "start_time": "2023-06-22T17:02:43.233Z"
   },
   {
    "duration": 1393,
    "start_time": "2023-06-22T17:03:17.485Z"
   },
   {
    "duration": 483,
    "start_time": "2023-06-22T17:03:23.550Z"
   },
   {
    "duration": 14,
    "start_time": "2023-06-22T17:03:24.034Z"
   },
   {
    "duration": 15,
    "start_time": "2023-06-22T17:03:24.049Z"
   },
   {
    "duration": 11,
    "start_time": "2023-06-22T17:03:24.066Z"
   },
   {
    "duration": 38,
    "start_time": "2023-06-22T17:03:24.080Z"
   },
   {
    "duration": 1298,
    "start_time": "2023-06-22T17:03:24.119Z"
   },
   {
    "duration": 11,
    "start_time": "2023-06-22T17:04:34.166Z"
   },
   {
    "duration": 1268,
    "start_time": "2023-06-22T17:04:42.864Z"
   },
   {
    "duration": 460,
    "start_time": "2023-06-22T17:04:49.060Z"
   },
   {
    "duration": 19,
    "start_time": "2023-06-22T17:04:49.523Z"
   },
   {
    "duration": 17,
    "start_time": "2023-06-22T17:04:49.544Z"
   },
   {
    "duration": 19,
    "start_time": "2023-06-22T17:04:49.563Z"
   },
   {
    "duration": 56,
    "start_time": "2023-06-22T17:04:49.586Z"
   },
   {
    "duration": 1204,
    "start_time": "2023-06-22T17:04:49.645Z"
   },
   {
    "duration": 22,
    "start_time": "2023-06-22T17:05:44.748Z"
   },
   {
    "duration": 493,
    "start_time": "2023-06-22T17:05:49.350Z"
   },
   {
    "duration": 14,
    "start_time": "2023-06-22T17:05:49.845Z"
   },
   {
    "duration": 11,
    "start_time": "2023-06-22T17:05:49.861Z"
   },
   {
    "duration": 10,
    "start_time": "2023-06-22T17:05:49.874Z"
   },
   {
    "duration": 45,
    "start_time": "2023-06-22T17:05:49.886Z"
   },
   {
    "duration": 115,
    "start_time": "2023-06-22T17:05:49.933Z"
   },
   {
    "duration": 427,
    "start_time": "2023-06-22T17:05:59.878Z"
   },
   {
    "duration": 15,
    "start_time": "2023-06-22T17:06:00.306Z"
   },
   {
    "duration": 39,
    "start_time": "2023-06-22T17:06:00.322Z"
   },
   {
    "duration": 37,
    "start_time": "2023-06-22T17:06:00.362Z"
   },
   {
    "duration": 41,
    "start_time": "2023-06-22T17:06:00.401Z"
   },
   {
    "duration": 100,
    "start_time": "2023-06-22T17:06:00.444Z"
   },
   {
    "duration": 369,
    "start_time": "2023-06-22T17:06:31.784Z"
   },
   {
    "duration": 437,
    "start_time": "2023-06-22T17:06:36.830Z"
   },
   {
    "duration": 23,
    "start_time": "2023-06-22T17:06:37.269Z"
   },
   {
    "duration": 34,
    "start_time": "2023-06-22T17:06:37.294Z"
   },
   {
    "duration": 11,
    "start_time": "2023-06-22T17:06:37.329Z"
   },
   {
    "duration": 36,
    "start_time": "2023-06-22T17:06:37.342Z"
   },
   {
    "duration": 119,
    "start_time": "2023-06-22T17:06:37.379Z"
   },
   {
    "duration": 163,
    "start_time": "2023-06-22T17:07:08.191Z"
   },
   {
    "duration": 180,
    "start_time": "2023-06-22T17:07:19.317Z"
   },
   {
    "duration": 467,
    "start_time": "2023-06-22T17:10:00.628Z"
   },
   {
    "duration": 34,
    "start_time": "2023-06-22T17:10:01.098Z"
   },
   {
    "duration": 28,
    "start_time": "2023-06-22T17:10:01.134Z"
   },
   {
    "duration": 74,
    "start_time": "2023-06-22T17:10:01.165Z"
   },
   {
    "duration": 81,
    "start_time": "2023-06-22T17:10:01.242Z"
   },
   {
    "duration": 331,
    "start_time": "2023-06-22T17:10:01.326Z"
   },
   {
    "duration": 301,
    "start_time": "2023-06-22T17:10:16.058Z"
   },
   {
    "duration": 500,
    "start_time": "2023-06-22T17:12:35.949Z"
   },
   {
    "duration": 613,
    "start_time": "2023-06-22T17:12:49.780Z"
   },
   {
    "duration": 290,
    "start_time": "2023-06-22T17:19:19.933Z"
   },
   {
    "duration": 160,
    "start_time": "2023-06-22T17:19:24.350Z"
   },
   {
    "duration": 190,
    "start_time": "2023-06-22T17:20:35.065Z"
   },
   {
    "duration": 181,
    "start_time": "2023-06-22T17:20:44.633Z"
   },
   {
    "duration": 152,
    "start_time": "2023-06-22T17:20:57.370Z"
   },
   {
    "duration": 173,
    "start_time": "2023-06-22T17:21:05.821Z"
   },
   {
    "duration": 176,
    "start_time": "2023-06-22T17:21:11.644Z"
   },
   {
    "duration": 183,
    "start_time": "2023-06-22T17:21:19.084Z"
   },
   {
    "duration": 259,
    "start_time": "2023-06-22T17:21:25.959Z"
   },
   {
    "duration": 175,
    "start_time": "2023-06-22T17:21:35.015Z"
   },
   {
    "duration": 169,
    "start_time": "2023-06-22T17:21:42.206Z"
   },
   {
    "duration": 176,
    "start_time": "2023-06-22T17:21:49.752Z"
   },
   {
    "duration": 200,
    "start_time": "2023-06-22T17:21:53.119Z"
   },
   {
    "duration": 224,
    "start_time": "2023-06-22T17:21:57.087Z"
   },
   {
    "duration": 184,
    "start_time": "2023-06-22T17:22:03.383Z"
   },
   {
    "duration": 160,
    "start_time": "2023-06-22T17:22:17.214Z"
   },
   {
    "duration": 166,
    "start_time": "2023-06-22T17:22:25.551Z"
   },
   {
    "duration": 174,
    "start_time": "2023-06-22T17:22:32.643Z"
   },
   {
    "duration": 4435,
    "start_time": "2023-06-22T17:29:20.755Z"
   },
   {
    "duration": 192,
    "start_time": "2023-06-22T17:29:38.125Z"
   },
   {
    "duration": 173,
    "start_time": "2023-06-22T17:29:43.822Z"
   },
   {
    "duration": 250,
    "start_time": "2023-06-22T17:29:48.287Z"
   },
   {
    "duration": 264,
    "start_time": "2023-06-22T17:30:00.929Z"
   },
   {
    "duration": 204,
    "start_time": "2023-06-22T17:30:08.930Z"
   },
   {
    "duration": 237,
    "start_time": "2023-06-22T17:31:00.100Z"
   },
   {
    "duration": 254,
    "start_time": "2023-06-22T17:31:12.302Z"
   },
   {
    "duration": 808,
    "start_time": "2023-06-22T17:31:27.178Z"
   },
   {
    "duration": 11,
    "start_time": "2023-06-22T17:31:27.988Z"
   },
   {
    "duration": 32,
    "start_time": "2023-06-22T17:31:28.009Z"
   },
   {
    "duration": 19,
    "start_time": "2023-06-22T17:31:28.043Z"
   },
   {
    "duration": 26,
    "start_time": "2023-06-22T17:31:28.064Z"
   },
   {
    "duration": 270,
    "start_time": "2023-06-22T17:31:28.092Z"
   },
   {
    "duration": 269,
    "start_time": "2023-06-22T17:31:28.364Z"
   },
   {
    "duration": 251,
    "start_time": "2023-06-22T17:31:28.635Z"
   },
   {
    "duration": 131,
    "start_time": "2023-06-22T17:31:50.525Z"
   },
   {
    "duration": 202,
    "start_time": "2023-06-22T17:31:57.111Z"
   },
   {
    "duration": 174,
    "start_time": "2023-06-22T17:32:19.068Z"
   },
   {
    "duration": 19,
    "start_time": "2023-06-22T17:35:20.215Z"
   },
   {
    "duration": 85,
    "start_time": "2023-06-22T17:36:57.590Z"
   },
   {
    "duration": 249,
    "start_time": "2023-06-22T17:37:05.660Z"
   },
   {
    "duration": 259,
    "start_time": "2023-06-22T17:37:10.372Z"
   },
   {
    "duration": 247,
    "start_time": "2023-06-22T17:37:21.443Z"
   },
   {
    "duration": 188,
    "start_time": "2023-06-22T17:37:54.035Z"
   },
   {
    "duration": 188,
    "start_time": "2023-06-22T17:37:59.446Z"
   },
   {
    "duration": 696,
    "start_time": "2023-06-22T17:38:15.370Z"
   },
   {
    "duration": 15,
    "start_time": "2023-06-22T17:38:16.068Z"
   },
   {
    "duration": 22,
    "start_time": "2023-06-22T17:38:16.085Z"
   },
   {
    "duration": 33,
    "start_time": "2023-06-22T17:38:16.110Z"
   },
   {
    "duration": 32,
    "start_time": "2023-06-22T17:38:16.145Z"
   },
   {
    "duration": 314,
    "start_time": "2023-06-22T17:38:16.180Z"
   },
   {
    "duration": 265,
    "start_time": "2023-06-22T17:38:16.496Z"
   },
   {
    "duration": 184,
    "start_time": "2023-06-22T17:38:16.762Z"
   },
   {
    "duration": 279,
    "start_time": "2023-06-22T17:38:16.947Z"
   },
   {
    "duration": 54,
    "start_time": "2023-06-24T11:29:17.388Z"
   },
   {
    "duration": 1197,
    "start_time": "2023-06-24T11:29:26.454Z"
   },
   {
    "duration": 13,
    "start_time": "2023-06-24T11:29:27.653Z"
   },
   {
    "duration": 179,
    "start_time": "2023-06-24T11:29:27.668Z"
   },
   {
    "duration": 11,
    "start_time": "2023-06-24T11:29:27.849Z"
   },
   {
    "duration": 59,
    "start_time": "2023-06-24T11:29:27.862Z"
   },
   {
    "duration": 311,
    "start_time": "2023-06-24T11:29:27.923Z"
   },
   {
    "duration": 345,
    "start_time": "2023-06-24T11:29:28.235Z"
   },
   {
    "duration": 230,
    "start_time": "2023-06-24T11:29:28.582Z"
   },
   {
    "duration": 413,
    "start_time": "2023-06-24T11:29:28.815Z"
   },
   {
    "duration": 10,
    "start_time": "2023-06-24T11:29:29.231Z"
   },
   {
    "duration": 262,
    "start_time": "2023-06-24T11:49:44.361Z"
   },
   {
    "duration": 236,
    "start_time": "2023-06-24T11:49:56.089Z"
   },
   {
    "duration": 333,
    "start_time": "2023-06-24T12:04:23.829Z"
   },
   {
    "duration": 843,
    "start_time": "2023-06-24T12:04:29.609Z"
   },
   {
    "duration": 11,
    "start_time": "2023-06-24T12:04:30.454Z"
   },
   {
    "duration": 89,
    "start_time": "2023-06-24T12:04:30.467Z"
   },
   {
    "duration": 52,
    "start_time": "2023-06-24T12:04:30.558Z"
   },
   {
    "duration": 44,
    "start_time": "2023-06-24T12:04:30.612Z"
   },
   {
    "duration": 326,
    "start_time": "2023-06-24T12:04:30.658Z"
   },
   {
    "duration": 332,
    "start_time": "2023-06-24T12:04:30.994Z"
   },
   {
    "duration": 209,
    "start_time": "2023-06-24T12:04:31.327Z"
   },
   {
    "duration": 299,
    "start_time": "2023-06-24T12:04:31.538Z"
   },
   {
    "duration": 522,
    "start_time": "2023-06-24T12:04:31.841Z"
   },
   {
    "duration": 220,
    "start_time": "2023-06-24T12:04:45.154Z"
   },
   {
    "duration": 215,
    "start_time": "2023-06-24T12:04:50.629Z"
   },
   {
    "duration": 330,
    "start_time": "2023-06-24T12:13:24.254Z"
   },
   {
    "duration": 351,
    "start_time": "2023-06-24T12:13:37.901Z"
   },
   {
    "duration": 18,
    "start_time": "2023-06-24T12:21:23.569Z"
   },
   {
    "duration": 12,
    "start_time": "2023-06-24T12:21:51.578Z"
   },
   {
    "duration": 13,
    "start_time": "2023-06-24T12:23:08.954Z"
   },
   {
    "duration": 12,
    "start_time": "2023-06-24T12:23:18.028Z"
   },
   {
    "duration": 12,
    "start_time": "2023-06-24T12:23:36.315Z"
   },
   {
    "duration": 23,
    "start_time": "2023-06-24T12:23:41.770Z"
   },
   {
    "duration": 21,
    "start_time": "2023-06-24T12:24:05.673Z"
   },
   {
    "duration": 12,
    "start_time": "2023-06-24T12:24:11.044Z"
   },
   {
    "duration": 14,
    "start_time": "2023-06-24T12:28:04.699Z"
   },
   {
    "duration": 121,
    "start_time": "2023-06-24T12:29:21.421Z"
   },
   {
    "duration": 164,
    "start_time": "2023-06-24T12:32:11.172Z"
   },
   {
    "duration": 7,
    "start_time": "2023-06-24T12:39:43.597Z"
   },
   {
    "duration": 13,
    "start_time": "2023-06-24T12:44:29.342Z"
   },
   {
    "duration": 143,
    "start_time": "2023-06-24T12:45:29.226Z"
   },
   {
    "duration": 188,
    "start_time": "2023-06-24T12:45:40.061Z"
   },
   {
    "duration": 152,
    "start_time": "2023-06-24T12:45:48.095Z"
   },
   {
    "duration": 177,
    "start_time": "2023-06-24T12:45:52.726Z"
   },
   {
    "duration": 6,
    "start_time": "2023-06-24T12:46:22.414Z"
   },
   {
    "duration": 26,
    "start_time": "2023-06-24T14:13:26.573Z"
   },
   {
    "duration": 15,
    "start_time": "2023-06-24T14:14:02.055Z"
   },
   {
    "duration": 153,
    "start_time": "2023-06-24T14:15:06.121Z"
   },
   {
    "duration": 112,
    "start_time": "2023-06-24T14:15:15.040Z"
   },
   {
    "duration": 149,
    "start_time": "2023-06-24T14:15:46.812Z"
   },
   {
    "duration": 332,
    "start_time": "2023-06-24T14:41:07.927Z"
   },
   {
    "duration": 233,
    "start_time": "2023-06-24T14:41:45.241Z"
   },
   {
    "duration": 38,
    "start_time": "2023-06-24T14:43:40.791Z"
   },
   {
    "duration": 1237,
    "start_time": "2023-06-24T14:43:53.077Z"
   },
   {
    "duration": 14,
    "start_time": "2023-06-24T14:43:54.316Z"
   },
   {
    "duration": 16,
    "start_time": "2023-06-24T14:43:54.332Z"
   },
   {
    "duration": 11,
    "start_time": "2023-06-24T14:43:54.350Z"
   },
   {
    "duration": 53,
    "start_time": "2023-06-24T14:43:54.363Z"
   },
   {
    "duration": 306,
    "start_time": "2023-06-24T14:43:54.419Z"
   },
   {
    "duration": 312,
    "start_time": "2023-06-24T14:43:54.726Z"
   },
   {
    "duration": 194,
    "start_time": "2023-06-24T14:43:55.040Z"
   },
   {
    "duration": 277,
    "start_time": "2023-06-24T14:43:55.235Z"
   },
   {
    "duration": 216,
    "start_time": "2023-06-24T14:43:55.514Z"
   },
   {
    "duration": 328,
    "start_time": "2023-06-24T14:43:55.733Z"
   },
   {
    "duration": 16,
    "start_time": "2023-06-24T14:43:56.064Z"
   },
   {
    "duration": 23,
    "start_time": "2023-06-24T14:43:56.083Z"
   },
   {
    "duration": 141,
    "start_time": "2023-06-24T14:43:56.108Z"
   },
   {
    "duration": 5,
    "start_time": "2023-06-24T14:43:56.251Z"
   },
   {
    "duration": 150,
    "start_time": "2023-06-24T14:43:56.258Z"
   },
   {
    "duration": 5,
    "start_time": "2023-06-24T14:43:56.410Z"
   },
   {
    "duration": 208,
    "start_time": "2023-06-24T14:43:56.417Z"
   },
   {
    "duration": 52,
    "start_time": "2023-06-24T14:43:56.627Z"
   },
   {
    "duration": 44,
    "start_time": "2023-06-24T14:49:37.907Z"
   },
   {
    "duration": 45,
    "start_time": "2023-06-24T14:49:41.255Z"
   },
   {
    "duration": 8,
    "start_time": "2023-06-24T14:50:20.352Z"
   },
   {
    "duration": 6,
    "start_time": "2023-06-24T14:50:29.254Z"
   },
   {
    "duration": 61,
    "start_time": "2023-06-24T14:52:10.811Z"
   },
   {
    "duration": 1222,
    "start_time": "2023-06-24T14:53:40.198Z"
   },
   {
    "duration": 13,
    "start_time": "2023-06-24T14:53:41.422Z"
   },
   {
    "duration": 22,
    "start_time": "2023-06-24T14:53:41.437Z"
   },
   {
    "duration": 11,
    "start_time": "2023-06-24T14:53:41.461Z"
   },
   {
    "duration": 45,
    "start_time": "2023-06-24T14:53:41.474Z"
   },
   {
    "duration": 303,
    "start_time": "2023-06-24T14:53:41.520Z"
   },
   {
    "duration": 287,
    "start_time": "2023-06-24T14:53:41.825Z"
   },
   {
    "duration": 189,
    "start_time": "2023-06-24T14:53:42.114Z"
   },
   {
    "duration": 288,
    "start_time": "2023-06-24T14:53:42.305Z"
   },
   {
    "duration": 209,
    "start_time": "2023-06-24T14:53:42.596Z"
   },
   {
    "duration": 312,
    "start_time": "2023-06-24T14:53:42.807Z"
   },
   {
    "duration": 8,
    "start_time": "2023-06-24T14:53:43.121Z"
   },
   {
    "duration": 25,
    "start_time": "2023-06-24T14:53:43.130Z"
   },
   {
    "duration": 149,
    "start_time": "2023-06-24T14:53:43.157Z"
   },
   {
    "duration": 5,
    "start_time": "2023-06-24T14:53:43.307Z"
   },
   {
    "duration": 154,
    "start_time": "2023-06-24T14:53:43.314Z"
   },
   {
    "duration": 8,
    "start_time": "2023-06-24T14:53:43.469Z"
   },
   {
    "duration": 205,
    "start_time": "2023-06-24T14:53:43.479Z"
   },
   {
    "duration": 0,
    "start_time": "2023-06-24T14:53:43.685Z"
   },
   {
    "duration": 0,
    "start_time": "2023-06-24T14:53:43.686Z"
   },
   {
    "duration": 0,
    "start_time": "2023-06-24T14:53:43.687Z"
   },
   {
    "duration": 6,
    "start_time": "2023-06-24T14:56:15.236Z"
   },
   {
    "duration": 48,
    "start_time": "2023-06-24T14:56:29.134Z"
   },
   {
    "duration": 47,
    "start_time": "2023-06-24T14:56:39.892Z"
   },
   {
    "duration": 92,
    "start_time": "2023-06-24T14:56:51.300Z"
   },
   {
    "duration": 91,
    "start_time": "2023-06-24T14:56:54.561Z"
   },
   {
    "duration": 93,
    "start_time": "2023-06-24T14:57:07.444Z"
   },
   {
    "duration": 114,
    "start_time": "2023-06-24T15:01:23.337Z"
   },
   {
    "duration": 104,
    "start_time": "2023-06-24T15:01:35.945Z"
   },
   {
    "duration": 140,
    "start_time": "2023-06-24T15:01:59.213Z"
   },
   {
    "duration": 254,
    "start_time": "2023-06-24T15:02:47.793Z"
   },
   {
    "duration": 202,
    "start_time": "2023-06-24T15:03:02.101Z"
   },
   {
    "duration": 221,
    "start_time": "2023-06-24T15:03:09.011Z"
   },
   {
    "duration": 135,
    "start_time": "2023-06-24T15:04:44.576Z"
   },
   {
    "duration": 7,
    "start_time": "2023-06-24T15:05:00.931Z"
   },
   {
    "duration": 17,
    "start_time": "2023-06-24T15:05:14.502Z"
   },
   {
    "duration": 191,
    "start_time": "2023-06-24T15:05:59.012Z"
   },
   {
    "duration": 48,
    "start_time": "2023-06-25T09:41:49.029Z"
   },
   {
    "duration": 1489,
    "start_time": "2023-06-25T09:41:54.654Z"
   },
   {
    "duration": 12,
    "start_time": "2023-06-25T09:41:56.145Z"
   },
   {
    "duration": 11,
    "start_time": "2023-06-25T09:41:56.158Z"
   },
   {
    "duration": 9,
    "start_time": "2023-06-25T09:41:56.171Z"
   },
   {
    "duration": 18,
    "start_time": "2023-06-25T09:41:56.181Z"
   },
   {
    "duration": 259,
    "start_time": "2023-06-25T09:41:56.200Z"
   },
   {
    "duration": 251,
    "start_time": "2023-06-25T09:41:56.461Z"
   },
   {
    "duration": 175,
    "start_time": "2023-06-25T09:41:56.713Z"
   },
   {
    "duration": 313,
    "start_time": "2023-06-25T09:41:56.889Z"
   },
   {
    "duration": 200,
    "start_time": "2023-06-25T09:41:57.205Z"
   },
   {
    "duration": 282,
    "start_time": "2023-06-25T09:41:57.406Z"
   },
   {
    "duration": 8,
    "start_time": "2023-06-25T09:41:57.690Z"
   },
   {
    "duration": 11,
    "start_time": "2023-06-25T09:41:57.700Z"
   },
   {
    "duration": 140,
    "start_time": "2023-06-25T09:41:57.713Z"
   },
   {
    "duration": 4,
    "start_time": "2023-06-25T09:41:57.855Z"
   },
   {
    "duration": 131,
    "start_time": "2023-06-25T09:41:57.868Z"
   },
   {
    "duration": 5,
    "start_time": "2023-06-25T09:41:58.001Z"
   },
   {
    "duration": 278,
    "start_time": "2023-06-25T09:41:58.007Z"
   },
   {
    "duration": 125,
    "start_time": "2023-06-25T09:41:58.287Z"
   },
   {
    "duration": 5,
    "start_time": "2023-06-25T09:41:58.414Z"
   },
   {
    "duration": 143,
    "start_time": "2023-06-25T09:41:58.420Z"
   },
   {
    "duration": 10,
    "start_time": "2023-06-25T09:41:58.565Z"
   },
   {
    "duration": 1084,
    "start_time": "2023-06-25T09:57:25.404Z"
   },
   {
    "duration": 9,
    "start_time": "2023-06-25T09:57:50.021Z"
   },
   {
    "duration": 325,
    "start_time": "2023-06-25T09:58:33.980Z"
   },
   {
    "duration": 276,
    "start_time": "2023-06-25T09:59:05.289Z"
   },
   {
    "duration": 1130,
    "start_time": "2023-06-25T09:59:13.079Z"
   },
   {
    "duration": 11,
    "start_time": "2023-06-25T09:59:14.211Z"
   },
   {
    "duration": 28,
    "start_time": "2023-06-25T09:59:14.223Z"
   },
   {
    "duration": 11,
    "start_time": "2023-06-25T09:59:14.253Z"
   },
   {
    "duration": 35,
    "start_time": "2023-06-25T09:59:14.265Z"
   },
   {
    "duration": 267,
    "start_time": "2023-06-25T09:59:14.302Z"
   },
   {
    "duration": 261,
    "start_time": "2023-06-25T09:59:14.571Z"
   },
   {
    "duration": 184,
    "start_time": "2023-06-25T09:59:14.833Z"
   },
   {
    "duration": 272,
    "start_time": "2023-06-25T09:59:15.019Z"
   },
   {
    "duration": 231,
    "start_time": "2023-06-25T09:59:15.294Z"
   },
   {
    "duration": 326,
    "start_time": "2023-06-25T09:59:15.527Z"
   },
   {
    "duration": 16,
    "start_time": "2023-06-25T09:59:15.856Z"
   },
   {
    "duration": 13,
    "start_time": "2023-06-25T09:59:15.874Z"
   },
   {
    "duration": 140,
    "start_time": "2023-06-25T09:59:15.888Z"
   },
   {
    "duration": 4,
    "start_time": "2023-06-25T09:59:16.030Z"
   },
   {
    "duration": 138,
    "start_time": "2023-06-25T09:59:16.035Z"
   },
   {
    "duration": 4,
    "start_time": "2023-06-25T09:59:16.175Z"
   },
   {
    "duration": 214,
    "start_time": "2023-06-25T09:59:16.180Z"
   },
   {
    "duration": 146,
    "start_time": "2023-06-25T09:59:16.396Z"
   },
   {
    "duration": 5,
    "start_time": "2023-06-25T09:59:16.543Z"
   },
   {
    "duration": 177,
    "start_time": "2023-06-25T09:59:16.550Z"
   },
   {
    "duration": 9,
    "start_time": "2023-06-25T09:59:16.728Z"
   },
   {
    "duration": 8,
    "start_time": "2023-06-25T09:59:16.738Z"
   },
   {
    "duration": 326,
    "start_time": "2023-06-25T10:02:54.959Z"
   },
   {
    "duration": 1221,
    "start_time": "2023-06-25T10:03:02.967Z"
   },
   {
    "duration": 12,
    "start_time": "2023-06-25T10:03:04.190Z"
   },
   {
    "duration": 11,
    "start_time": "2023-06-25T10:03:04.203Z"
   },
   {
    "duration": 10,
    "start_time": "2023-06-25T10:03:04.215Z"
   },
   {
    "duration": 19,
    "start_time": "2023-06-25T10:03:04.226Z"
   },
   {
    "duration": 273,
    "start_time": "2023-06-25T10:03:04.247Z"
   },
   {
    "duration": 270,
    "start_time": "2023-06-25T10:03:04.522Z"
   },
   {
    "duration": 186,
    "start_time": "2023-06-25T10:03:04.793Z"
   },
   {
    "duration": 282,
    "start_time": "2023-06-25T10:03:04.981Z"
   },
   {
    "duration": 206,
    "start_time": "2023-06-25T10:03:05.270Z"
   },
   {
    "duration": 311,
    "start_time": "2023-06-25T10:03:05.479Z"
   },
   {
    "duration": 12,
    "start_time": "2023-06-25T10:03:05.792Z"
   },
   {
    "duration": 17,
    "start_time": "2023-06-25T10:03:05.806Z"
   },
   {
    "duration": 164,
    "start_time": "2023-06-25T10:03:05.825Z"
   },
   {
    "duration": 5,
    "start_time": "2023-06-25T10:03:05.991Z"
   },
   {
    "duration": 151,
    "start_time": "2023-06-25T10:03:05.997Z"
   },
   {
    "duration": 4,
    "start_time": "2023-06-25T10:03:06.150Z"
   },
   {
    "duration": 219,
    "start_time": "2023-06-25T10:03:06.156Z"
   },
   {
    "duration": 135,
    "start_time": "2023-06-25T10:03:06.377Z"
   },
   {
    "duration": 6,
    "start_time": "2023-06-25T10:03:06.514Z"
   },
   {
    "duration": 155,
    "start_time": "2023-06-25T10:03:06.522Z"
   },
   {
    "duration": 10,
    "start_time": "2023-06-25T10:03:06.679Z"
   },
   {
    "duration": 9,
    "start_time": "2023-06-25T10:03:06.690Z"
   },
   {
    "duration": 8,
    "start_time": "2023-06-25T10:05:12.943Z"
   },
   {
    "duration": 9,
    "start_time": "2023-06-25T10:09:30.515Z"
   },
   {
    "duration": 25,
    "start_time": "2023-06-25T10:10:20.559Z"
   },
   {
    "duration": 1336,
    "start_time": "2023-06-25T10:11:02.270Z"
   },
   {
    "duration": 14,
    "start_time": "2023-06-25T10:11:20.992Z"
   },
   {
    "duration": 75,
    "start_time": "2023-06-25T10:13:11.760Z"
   },
   {
    "duration": 4,
    "start_time": "2023-06-25T10:13:13.223Z"
   },
   {
    "duration": 73,
    "start_time": "2023-06-25T10:13:13.782Z"
   },
   {
    "duration": 18,
    "start_time": "2023-06-25T10:27:18.792Z"
   },
   {
    "duration": 20,
    "start_time": "2023-06-25T10:29:48.445Z"
   },
   {
    "duration": 10,
    "start_time": "2023-06-25T10:29:58.625Z"
   },
   {
    "duration": 15,
    "start_time": "2023-06-25T10:45:24.378Z"
   },
   {
    "duration": 10,
    "start_time": "2023-06-25T10:50:21.441Z"
   },
   {
    "duration": 11,
    "start_time": "2023-06-25T10:54:38.088Z"
   },
   {
    "duration": 24,
    "start_time": "2023-06-25T11:09:22.754Z"
   },
   {
    "duration": 12,
    "start_time": "2023-06-25T11:10:59.755Z"
   },
   {
    "duration": 34,
    "start_time": "2023-06-25T11:11:07.520Z"
   },
   {
    "duration": 30,
    "start_time": "2023-06-25T11:11:11.154Z"
   },
   {
    "duration": 1142,
    "start_time": "2023-06-25T11:11:17.581Z"
   },
   {
    "duration": 73,
    "start_time": "2023-06-25T11:11:18.725Z"
   },
   {
    "duration": 31,
    "start_time": "2023-06-25T11:11:18.799Z"
   },
   {
    "duration": 9,
    "start_time": "2023-06-25T11:11:18.832Z"
   },
   {
    "duration": 27,
    "start_time": "2023-06-25T11:11:18.842Z"
   },
   {
    "duration": 13,
    "start_time": "2023-06-25T11:11:18.870Z"
   },
   {
    "duration": 26,
    "start_time": "2023-06-25T11:11:18.885Z"
   },
   {
    "duration": 293,
    "start_time": "2023-06-25T11:11:18.912Z"
   },
   {
    "duration": 301,
    "start_time": "2023-06-25T11:11:19.207Z"
   },
   {
    "duration": 220,
    "start_time": "2023-06-25T11:11:19.511Z"
   },
   {
    "duration": 336,
    "start_time": "2023-06-25T11:11:19.732Z"
   },
   {
    "duration": 238,
    "start_time": "2023-06-25T11:11:20.070Z"
   },
   {
    "duration": 361,
    "start_time": "2023-06-25T11:11:20.311Z"
   },
   {
    "duration": 9,
    "start_time": "2023-06-25T11:11:20.674Z"
   },
   {
    "duration": 24,
    "start_time": "2023-06-25T11:11:20.685Z"
   },
   {
    "duration": 188,
    "start_time": "2023-06-25T11:11:20.711Z"
   },
   {
    "duration": 7,
    "start_time": "2023-06-25T11:11:20.901Z"
   },
   {
    "duration": 185,
    "start_time": "2023-06-25T11:11:20.910Z"
   },
   {
    "duration": 6,
    "start_time": "2023-06-25T11:11:21.097Z"
   },
   {
    "duration": 287,
    "start_time": "2023-06-25T11:11:21.105Z"
   },
   {
    "duration": 183,
    "start_time": "2023-06-25T11:11:21.394Z"
   },
   {
    "duration": 6,
    "start_time": "2023-06-25T11:11:21.579Z"
   },
   {
    "duration": 179,
    "start_time": "2023-06-25T11:11:21.586Z"
   },
   {
    "duration": 12,
    "start_time": "2023-06-25T11:11:21.769Z"
   },
   {
    "duration": 34,
    "start_time": "2023-06-25T11:11:21.782Z"
   },
   {
    "duration": 17,
    "start_time": "2023-06-25T11:11:21.818Z"
   },
   {
    "duration": 47,
    "start_time": "2023-06-25T11:11:21.837Z"
   },
   {
    "duration": 14,
    "start_time": "2023-06-25T11:11:21.887Z"
   },
   {
    "duration": 379,
    "start_time": "2023-06-25T11:16:17.597Z"
   },
   {
    "duration": 344,
    "start_time": "2023-06-25T11:16:28.235Z"
   },
   {
    "duration": 1067,
    "start_time": "2023-06-25T11:16:32.963Z"
   },
   {
    "duration": 83,
    "start_time": "2023-06-25T11:16:34.032Z"
   },
   {
    "duration": 34,
    "start_time": "2023-06-25T11:16:34.118Z"
   },
   {
    "duration": 12,
    "start_time": "2023-06-25T11:16:34.155Z"
   },
   {
    "duration": 15,
    "start_time": "2023-06-25T11:16:34.170Z"
   },
   {
    "duration": 14,
    "start_time": "2023-06-25T11:16:34.188Z"
   },
   {
    "duration": 70,
    "start_time": "2023-06-25T11:16:34.204Z"
   },
   {
    "duration": 292,
    "start_time": "2023-06-25T11:16:34.276Z"
   },
   {
    "duration": 270,
    "start_time": "2023-06-25T11:16:34.570Z"
   },
   {
    "duration": 215,
    "start_time": "2023-06-25T11:16:34.843Z"
   },
   {
    "duration": 320,
    "start_time": "2023-06-25T11:16:35.060Z"
   },
   {
    "duration": 240,
    "start_time": "2023-06-25T11:16:35.381Z"
   },
   {
    "duration": 381,
    "start_time": "2023-06-25T11:16:35.622Z"
   },
   {
    "duration": 9,
    "start_time": "2023-06-25T11:16:36.005Z"
   },
   {
    "duration": 12,
    "start_time": "2023-06-25T11:16:36.016Z"
   },
   {
    "duration": 168,
    "start_time": "2023-06-25T11:16:36.030Z"
   },
   {
    "duration": 5,
    "start_time": "2023-06-25T11:16:36.199Z"
   },
   {
    "duration": 175,
    "start_time": "2023-06-25T11:16:36.206Z"
   },
   {
    "duration": 7,
    "start_time": "2023-06-25T11:16:36.383Z"
   },
   {
    "duration": 261,
    "start_time": "2023-06-25T11:16:36.392Z"
   },
   {
    "duration": 166,
    "start_time": "2023-06-25T11:16:36.654Z"
   },
   {
    "duration": 7,
    "start_time": "2023-06-25T11:16:36.821Z"
   },
   {
    "duration": 245,
    "start_time": "2023-06-25T11:16:36.829Z"
   },
   {
    "duration": 14,
    "start_time": "2023-06-25T11:16:37.076Z"
   },
   {
    "duration": 14,
    "start_time": "2023-06-25T11:16:37.091Z"
   },
   {
    "duration": 14,
    "start_time": "2023-06-25T11:16:37.107Z"
   },
   {
    "duration": 56,
    "start_time": "2023-06-25T11:16:37.122Z"
   },
   {
    "duration": 15,
    "start_time": "2023-06-25T11:16:37.181Z"
   },
   {
    "duration": 270,
    "start_time": "2023-06-25T11:26:05.422Z"
   },
   {
    "duration": 194,
    "start_time": "2023-06-25T11:37:31.022Z"
   },
   {
    "duration": 194,
    "start_time": "2023-06-25T13:30:53.220Z"
   },
   {
    "duration": 1132,
    "start_time": "2023-06-25T13:30:58.369Z"
   },
   {
    "duration": 74,
    "start_time": "2023-06-25T13:30:59.504Z"
   },
   {
    "duration": 28,
    "start_time": "2023-06-25T13:30:59.580Z"
   },
   {
    "duration": 9,
    "start_time": "2023-06-25T13:30:59.609Z"
   },
   {
    "duration": 26,
    "start_time": "2023-06-25T13:30:59.620Z"
   },
   {
    "duration": 22,
    "start_time": "2023-06-25T13:30:59.647Z"
   },
   {
    "duration": 22,
    "start_time": "2023-06-25T13:30:59.671Z"
   },
   {
    "duration": 326,
    "start_time": "2023-06-25T13:30:59.695Z"
   },
   {
    "duration": 320,
    "start_time": "2023-06-25T13:31:00.023Z"
   },
   {
    "duration": 220,
    "start_time": "2023-06-25T13:31:00.345Z"
   },
   {
    "duration": 340,
    "start_time": "2023-06-25T13:31:00.567Z"
   },
   {
    "duration": 268,
    "start_time": "2023-06-25T13:31:00.908Z"
   },
   {
    "duration": 380,
    "start_time": "2023-06-25T13:31:01.178Z"
   },
   {
    "duration": 11,
    "start_time": "2023-06-25T13:31:01.567Z"
   },
   {
    "duration": 117,
    "start_time": "2023-06-25T13:31:01.581Z"
   },
   {
    "duration": 209,
    "start_time": "2023-06-25T13:31:01.701Z"
   },
   {
    "duration": 6,
    "start_time": "2023-06-25T13:31:01.912Z"
   },
   {
    "duration": 243,
    "start_time": "2023-06-25T13:31:01.920Z"
   },
   {
    "duration": 7,
    "start_time": "2023-06-25T13:31:02.165Z"
   },
   {
    "duration": 237,
    "start_time": "2023-06-25T13:31:02.174Z"
   },
   {
    "duration": 184,
    "start_time": "2023-06-25T13:31:02.413Z"
   },
   {
    "duration": 7,
    "start_time": "2023-06-25T13:31:02.599Z"
   },
   {
    "duration": 210,
    "start_time": "2023-06-25T13:31:02.608Z"
   },
   {
    "duration": 12,
    "start_time": "2023-06-25T13:31:02.819Z"
   },
   {
    "duration": 8,
    "start_time": "2023-06-25T13:31:02.833Z"
   },
   {
    "duration": 27,
    "start_time": "2023-06-25T13:31:02.843Z"
   },
   {
    "duration": 42,
    "start_time": "2023-06-25T13:31:02.872Z"
   },
   {
    "duration": 17,
    "start_time": "2023-06-25T13:31:02.916Z"
   },
   {
    "duration": 347,
    "start_time": "2023-06-25T16:50:57.426Z"
   },
   {
    "duration": 322,
    "start_time": "2023-06-25T16:51:34.812Z"
   },
   {
    "duration": 302,
    "start_time": "2023-06-25T16:51:47.436Z"
   },
   {
    "duration": 10,
    "start_time": "2023-06-25T16:57:59.735Z"
   },
   {
    "duration": 152,
    "start_time": "2023-06-25T17:01:13.945Z"
   },
   {
    "duration": 203,
    "start_time": "2023-06-25T17:15:05.402Z"
   },
   {
    "duration": 227,
    "start_time": "2023-06-25T17:15:22.804Z"
   },
   {
    "duration": 206,
    "start_time": "2023-06-25T17:15:26.618Z"
   },
   {
    "duration": 133,
    "start_time": "2023-06-25T17:15:33.513Z"
   },
   {
    "duration": 8,
    "start_time": "2023-06-25T17:16:12.175Z"
   },
   {
    "duration": 78,
    "start_time": "2023-06-25T17:29:46.609Z"
   },
   {
    "duration": 26,
    "start_time": "2023-06-25T17:39:33.624Z"
   },
   {
    "duration": 215,
    "start_time": "2023-06-25T17:51:22.418Z"
   },
   {
    "duration": 1082,
    "start_time": "2023-06-25T18:03:37.233Z"
   },
   {
    "duration": 73,
    "start_time": "2023-06-25T18:03:38.317Z"
   },
   {
    "duration": 27,
    "start_time": "2023-06-25T18:03:38.392Z"
   },
   {
    "duration": 9,
    "start_time": "2023-06-25T18:03:38.420Z"
   },
   {
    "duration": 10,
    "start_time": "2023-06-25T18:03:38.431Z"
   },
   {
    "duration": 28,
    "start_time": "2023-06-25T18:03:38.442Z"
   },
   {
    "duration": 21,
    "start_time": "2023-06-25T18:03:38.471Z"
   },
   {
    "duration": 296,
    "start_time": "2023-06-25T18:03:38.494Z"
   },
   {
    "duration": 270,
    "start_time": "2023-06-25T18:03:38.792Z"
   },
   {
    "duration": 185,
    "start_time": "2023-06-25T18:03:39.064Z"
   },
   {
    "duration": 295,
    "start_time": "2023-06-25T18:03:39.251Z"
   },
   {
    "duration": 209,
    "start_time": "2023-06-25T18:03:39.548Z"
   },
   {
    "duration": 298,
    "start_time": "2023-06-25T18:03:39.758Z"
   },
   {
    "duration": 11,
    "start_time": "2023-06-25T18:03:40.067Z"
   },
   {
    "duration": 131,
    "start_time": "2023-06-25T18:03:40.079Z"
   },
   {
    "duration": 5,
    "start_time": "2023-06-25T18:03:40.212Z"
   },
   {
    "duration": 169,
    "start_time": "2023-06-25T18:03:40.218Z"
   },
   {
    "duration": 4,
    "start_time": "2023-06-25T18:03:40.389Z"
   },
   {
    "duration": 228,
    "start_time": "2023-06-25T18:03:40.395Z"
   },
   {
    "duration": 158,
    "start_time": "2023-06-25T18:03:40.624Z"
   },
   {
    "duration": 6,
    "start_time": "2023-06-25T18:03:40.784Z"
   },
   {
    "duration": 171,
    "start_time": "2023-06-25T18:03:40.792Z"
   },
   {
    "duration": 13,
    "start_time": "2023-06-25T18:03:40.969Z"
   },
   {
    "duration": 13,
    "start_time": "2023-06-25T18:03:40.984Z"
   },
   {
    "duration": 41,
    "start_time": "2023-06-25T18:03:41.000Z"
   },
   {
    "duration": 37,
    "start_time": "2023-06-25T18:03:41.043Z"
   },
   {
    "duration": 1160,
    "start_time": "2023-06-25T19:23:40.793Z"
   },
   {
    "duration": 86,
    "start_time": "2023-06-25T19:23:41.956Z"
   },
   {
    "duration": 49,
    "start_time": "2023-06-25T19:23:42.044Z"
   },
   {
    "duration": 13,
    "start_time": "2023-06-25T19:23:42.096Z"
   },
   {
    "duration": 23,
    "start_time": "2023-06-25T19:23:42.111Z"
   },
   {
    "duration": 11,
    "start_time": "2023-06-25T19:23:42.136Z"
   },
   {
    "duration": 53,
    "start_time": "2023-06-25T19:23:42.149Z"
   },
   {
    "duration": 309,
    "start_time": "2023-06-25T19:23:42.204Z"
   },
   {
    "duration": 303,
    "start_time": "2023-06-25T19:23:42.515Z"
   },
   {
    "duration": 216,
    "start_time": "2023-06-25T19:23:42.820Z"
   },
   {
    "duration": 363,
    "start_time": "2023-06-25T19:23:43.038Z"
   },
   {
    "duration": 222,
    "start_time": "2023-06-25T19:23:43.403Z"
   },
   {
    "duration": 305,
    "start_time": "2023-06-25T19:23:43.627Z"
   },
   {
    "duration": 11,
    "start_time": "2023-06-25T19:23:43.935Z"
   },
   {
    "duration": 152,
    "start_time": "2023-06-25T19:23:43.948Z"
   },
   {
    "duration": 6,
    "start_time": "2023-06-25T19:23:44.102Z"
   },
   {
    "duration": 197,
    "start_time": "2023-06-25T19:23:44.110Z"
   },
   {
    "duration": 5,
    "start_time": "2023-06-25T19:23:44.309Z"
   },
   {
    "duration": 257,
    "start_time": "2023-06-25T19:23:44.315Z"
   },
   {
    "duration": 150,
    "start_time": "2023-06-25T19:23:44.575Z"
   },
   {
    "duration": 8,
    "start_time": "2023-06-25T19:23:44.727Z"
   },
   {
    "duration": 201,
    "start_time": "2023-06-25T19:23:44.737Z"
   },
   {
    "duration": 9,
    "start_time": "2023-06-25T19:23:44.940Z"
   },
   {
    "duration": 35,
    "start_time": "2023-06-25T19:23:44.953Z"
   },
   {
    "duration": 32,
    "start_time": "2023-06-25T19:23:44.992Z"
   },
   {
    "duration": 15,
    "start_time": "2023-06-25T19:23:45.432Z"
   },
   {
    "duration": 1144,
    "start_time": "2023-06-25T19:25:39.859Z"
   },
   {
    "duration": 75,
    "start_time": "2023-06-25T19:25:41.005Z"
   },
   {
    "duration": 27,
    "start_time": "2023-06-25T19:25:41.082Z"
   },
   {
    "duration": 10,
    "start_time": "2023-06-25T19:25:41.111Z"
   },
   {
    "duration": 13,
    "start_time": "2023-06-25T19:25:41.125Z"
   },
   {
    "duration": 37,
    "start_time": "2023-06-25T19:25:41.139Z"
   },
   {
    "duration": 23,
    "start_time": "2023-06-25T19:25:41.178Z"
   },
   {
    "duration": 395,
    "start_time": "2023-06-25T19:25:41.203Z"
   },
   {
    "duration": 402,
    "start_time": "2023-06-25T19:25:41.600Z"
   },
   {
    "duration": 375,
    "start_time": "2023-06-25T19:25:42.005Z"
   },
   {
    "duration": 304,
    "start_time": "2023-06-25T19:25:42.382Z"
   },
   {
    "duration": 264,
    "start_time": "2023-06-25T19:25:42.688Z"
   },
   {
    "duration": 305,
    "start_time": "2023-06-25T19:25:42.953Z"
   },
   {
    "duration": 18,
    "start_time": "2023-06-25T19:25:43.260Z"
   },
   {
    "duration": 115,
    "start_time": "2023-06-25T19:25:43.279Z"
   },
   {
    "duration": 4,
    "start_time": "2023-06-25T19:25:43.396Z"
   },
   {
    "duration": 146,
    "start_time": "2023-06-25T19:25:43.402Z"
   },
   {
    "duration": 5,
    "start_time": "2023-06-25T19:25:43.549Z"
   },
   {
    "duration": 209,
    "start_time": "2023-06-25T19:25:43.555Z"
   },
   {
    "duration": 142,
    "start_time": "2023-06-25T19:25:43.765Z"
   },
   {
    "duration": 5,
    "start_time": "2023-06-25T19:25:43.909Z"
   },
   {
    "duration": 145,
    "start_time": "2023-06-25T19:25:43.916Z"
   },
   {
    "duration": 18,
    "start_time": "2023-06-25T19:25:44.062Z"
   },
   {
    "duration": 8,
    "start_time": "2023-06-25T19:25:44.081Z"
   },
   {
    "duration": 26,
    "start_time": "2023-06-25T19:25:44.090Z"
   },
   {
    "duration": 11,
    "start_time": "2023-06-25T19:25:44.118Z"
   },
   {
    "duration": 1565,
    "start_time": "2023-06-28T10:16:07.288Z"
   },
   {
    "duration": 262,
    "start_time": "2023-06-28T10:16:08.855Z"
   },
   {
    "duration": 36,
    "start_time": "2023-06-28T10:16:09.126Z"
   },
   {
    "duration": 10,
    "start_time": "2023-06-28T10:16:09.164Z"
   },
   {
    "duration": 13,
    "start_time": "2023-06-28T10:16:09.177Z"
   },
   {
    "duration": 27,
    "start_time": "2023-06-28T10:16:09.206Z"
   },
   {
    "duration": 43,
    "start_time": "2023-06-28T10:16:09.237Z"
   },
   {
    "duration": 338,
    "start_time": "2023-06-28T10:16:09.282Z"
   },
   {
    "duration": 340,
    "start_time": "2023-06-28T10:16:09.622Z"
   },
   {
    "duration": 229,
    "start_time": "2023-06-28T10:16:09.964Z"
   },
   {
    "duration": 419,
    "start_time": "2023-06-28T10:16:10.201Z"
   },
   {
    "duration": 319,
    "start_time": "2023-06-28T10:16:10.625Z"
   },
   {
    "duration": 335,
    "start_time": "2023-06-28T10:16:10.952Z"
   },
   {
    "duration": 20,
    "start_time": "2023-06-28T10:16:11.290Z"
   },
   {
    "duration": 182,
    "start_time": "2023-06-28T10:16:11.312Z"
   },
   {
    "duration": 22,
    "start_time": "2023-06-28T10:16:11.496Z"
   },
   {
    "duration": 225,
    "start_time": "2023-06-28T10:16:11.520Z"
   },
   {
    "duration": 12,
    "start_time": "2023-06-28T10:16:11.750Z"
   },
   {
    "duration": 282,
    "start_time": "2023-06-28T10:16:11.764Z"
   },
   {
    "duration": 161,
    "start_time": "2023-06-28T10:16:12.050Z"
   },
   {
    "duration": 9,
    "start_time": "2023-06-28T10:16:12.219Z"
   },
   {
    "duration": 284,
    "start_time": "2023-06-28T10:16:12.231Z"
   },
   {
    "duration": 15,
    "start_time": "2023-06-28T10:16:12.520Z"
   },
   {
    "duration": 22,
    "start_time": "2023-06-28T10:16:12.542Z"
   },
   {
    "duration": 26,
    "start_time": "2023-06-28T10:16:12.566Z"
   },
   {
    "duration": 29,
    "start_time": "2023-06-28T10:16:12.594Z"
   },
   {
    "duration": 6,
    "start_time": "2023-06-28T10:16:56.734Z"
   },
   {
    "duration": 118,
    "start_time": "2023-06-28T10:17:01.147Z"
   },
   {
    "duration": 1310,
    "start_time": "2023-06-28T10:17:05.927Z"
   },
   {
    "duration": 129,
    "start_time": "2023-06-28T10:17:07.243Z"
   },
   {
    "duration": 43,
    "start_time": "2023-06-28T10:17:07.374Z"
   },
   {
    "duration": 47,
    "start_time": "2023-06-28T10:17:07.422Z"
   },
   {
    "duration": 25,
    "start_time": "2023-06-28T10:17:07.473Z"
   },
   {
    "duration": 32,
    "start_time": "2023-06-28T10:17:07.500Z"
   },
   {
    "duration": 61,
    "start_time": "2023-06-28T10:17:07.537Z"
   },
   {
    "duration": 378,
    "start_time": "2023-06-28T10:17:07.600Z"
   },
   {
    "duration": 367,
    "start_time": "2023-06-28T10:17:07.980Z"
   },
   {
    "duration": 264,
    "start_time": "2023-06-28T10:17:08.349Z"
   },
   {
    "duration": 349,
    "start_time": "2023-06-28T10:17:08.615Z"
   },
   {
    "duration": 277,
    "start_time": "2023-06-28T10:17:08.967Z"
   },
   {
    "duration": 310,
    "start_time": "2023-06-28T10:17:09.251Z"
   },
   {
    "duration": 16,
    "start_time": "2023-06-28T10:17:09.569Z"
   },
   {
    "duration": 254,
    "start_time": "2023-06-28T10:17:09.588Z"
   },
   {
    "duration": 9,
    "start_time": "2023-06-28T10:17:09.844Z"
   },
   {
    "duration": 198,
    "start_time": "2023-06-28T10:17:09.855Z"
   },
   {
    "duration": 8,
    "start_time": "2023-06-28T10:17:10.055Z"
   },
   {
    "duration": 310,
    "start_time": "2023-06-28T10:17:10.065Z"
   },
   {
    "duration": 193,
    "start_time": "2023-06-28T10:17:10.377Z"
   },
   {
    "duration": 11,
    "start_time": "2023-06-28T10:17:10.572Z"
   },
   {
    "duration": 435,
    "start_time": "2023-06-28T10:17:10.586Z"
   },
   {
    "duration": 17,
    "start_time": "2023-06-28T10:17:11.025Z"
   },
   {
    "duration": 49,
    "start_time": "2023-06-28T10:17:11.046Z"
   },
   {
    "duration": 168,
    "start_time": "2023-06-28T10:17:11.097Z"
   },
   {
    "duration": 79,
    "start_time": "2023-06-28T10:17:11.281Z"
   },
   {
    "duration": 111,
    "start_time": "2023-06-28T10:17:42.988Z"
   },
   {
    "duration": 44,
    "start_time": "2023-06-28T10:20:22.127Z"
   },
   {
    "duration": 1556,
    "start_time": "2023-06-28T10:20:45.149Z"
   },
   {
    "duration": 147,
    "start_time": "2023-06-28T10:20:46.726Z"
   },
   {
    "duration": 51,
    "start_time": "2023-06-28T10:20:46.875Z"
   },
   {
    "duration": 16,
    "start_time": "2023-06-28T10:20:46.929Z"
   },
   {
    "duration": 56,
    "start_time": "2023-06-28T10:20:46.948Z"
   },
   {
    "duration": 17,
    "start_time": "2023-06-28T10:20:47.007Z"
   },
   {
    "duration": 87,
    "start_time": "2023-06-28T10:20:47.026Z"
   },
   {
    "duration": 426,
    "start_time": "2023-06-28T10:20:47.115Z"
   },
   {
    "duration": 402,
    "start_time": "2023-06-28T10:20:47.553Z"
   },
   {
    "duration": 267,
    "start_time": "2023-06-28T10:20:47.958Z"
   },
   {
    "duration": 333,
    "start_time": "2023-06-28T10:20:48.234Z"
   },
   {
    "duration": 299,
    "start_time": "2023-06-28T10:20:48.575Z"
   },
   {
    "duration": 381,
    "start_time": "2023-06-28T10:20:48.876Z"
   },
   {
    "duration": 27,
    "start_time": "2023-06-28T10:20:49.260Z"
   },
   {
    "duration": 179,
    "start_time": "2023-06-28T10:20:49.289Z"
   },
   {
    "duration": 6,
    "start_time": "2023-06-28T10:20:49.470Z"
   },
   {
    "duration": 212,
    "start_time": "2023-06-28T10:20:49.478Z"
   },
   {
    "duration": 14,
    "start_time": "2023-06-28T10:20:49.693Z"
   },
   {
    "duration": 367,
    "start_time": "2023-06-28T10:20:49.714Z"
   },
   {
    "duration": 202,
    "start_time": "2023-06-28T10:20:50.086Z"
   },
   {
    "duration": 23,
    "start_time": "2023-06-28T10:20:50.290Z"
   },
   {
    "duration": 253,
    "start_time": "2023-06-28T10:20:50.320Z"
   },
   {
    "duration": 18,
    "start_time": "2023-06-28T10:20:50.579Z"
   },
   {
    "duration": 118,
    "start_time": "2023-06-28T10:20:50.599Z"
   },
   {
    "duration": 113,
    "start_time": "2023-06-28T10:20:50.723Z"
   },
   {
    "duration": 149,
    "start_time": "2023-06-28T10:20:50.843Z"
   },
   {
    "duration": 9,
    "start_time": "2023-06-28T10:24:53.088Z"
   },
   {
    "duration": 12,
    "start_time": "2023-06-28T10:24:56.806Z"
   },
   {
    "duration": 9,
    "start_time": "2023-06-28T10:25:07.391Z"
   },
   {
    "duration": 280,
    "start_time": "2023-06-28T10:25:16.819Z"
   },
   {
    "duration": 129,
    "start_time": "2023-06-28T10:25:29.050Z"
   },
   {
    "duration": 1476,
    "start_time": "2023-06-28T10:25:38.602Z"
   },
   {
    "duration": 117,
    "start_time": "2023-06-28T10:25:40.085Z"
   },
   {
    "duration": 67,
    "start_time": "2023-06-28T10:25:40.205Z"
   },
   {
    "duration": 12,
    "start_time": "2023-06-28T10:25:40.280Z"
   },
   {
    "duration": 72,
    "start_time": "2023-06-28T10:25:40.294Z"
   },
   {
    "duration": 81,
    "start_time": "2023-06-28T10:25:40.368Z"
   },
   {
    "duration": 104,
    "start_time": "2023-06-28T10:25:40.450Z"
   },
   {
    "duration": 224,
    "start_time": "2023-06-28T10:25:40.562Z"
   },
   {
    "duration": 0,
    "start_time": "2023-06-28T10:25:40.796Z"
   },
   {
    "duration": 0,
    "start_time": "2023-06-28T10:25:40.798Z"
   },
   {
    "duration": 0,
    "start_time": "2023-06-28T10:25:40.801Z"
   },
   {
    "duration": 0,
    "start_time": "2023-06-28T10:25:40.809Z"
   },
   {
    "duration": 0,
    "start_time": "2023-06-28T10:25:40.814Z"
   },
   {
    "duration": 0,
    "start_time": "2023-06-28T10:25:40.814Z"
   },
   {
    "duration": 0,
    "start_time": "2023-06-28T10:25:40.815Z"
   },
   {
    "duration": 0,
    "start_time": "2023-06-28T10:25:40.816Z"
   },
   {
    "duration": 0,
    "start_time": "2023-06-28T10:25:40.817Z"
   },
   {
    "duration": 0,
    "start_time": "2023-06-28T10:25:40.822Z"
   },
   {
    "duration": 0,
    "start_time": "2023-06-28T10:25:40.827Z"
   },
   {
    "duration": 0,
    "start_time": "2023-06-28T10:25:40.832Z"
   },
   {
    "duration": 0,
    "start_time": "2023-06-28T10:25:40.838Z"
   },
   {
    "duration": 0,
    "start_time": "2023-06-28T10:25:40.843Z"
   },
   {
    "duration": 0,
    "start_time": "2023-06-28T10:25:40.848Z"
   },
   {
    "duration": 0,
    "start_time": "2023-06-28T10:25:40.854Z"
   },
   {
    "duration": 0,
    "start_time": "2023-06-28T10:25:40.855Z"
   },
   {
    "duration": 1,
    "start_time": "2023-06-28T10:25:40.861Z"
   },
   {
    "duration": 0,
    "start_time": "2023-06-28T10:25:40.869Z"
   },
   {
    "duration": 12,
    "start_time": "2023-06-28T10:26:00.258Z"
   },
   {
    "duration": 6,
    "start_time": "2023-06-28T10:26:06.270Z"
   },
   {
    "duration": 15,
    "start_time": "2023-06-28T10:26:17.728Z"
   },
   {
    "duration": 10,
    "start_time": "2023-06-28T10:28:34.646Z"
   },
   {
    "duration": 17,
    "start_time": "2023-06-28T10:28:41.157Z"
   },
   {
    "duration": 10,
    "start_time": "2023-06-28T10:28:56.684Z"
   },
   {
    "duration": 23,
    "start_time": "2023-06-28T10:29:08.907Z"
   },
   {
    "duration": 613,
    "start_time": "2023-06-28T10:29:22.649Z"
   },
   {
    "duration": 1786,
    "start_time": "2023-06-28T10:29:32.756Z"
   },
   {
    "duration": 227,
    "start_time": "2023-06-28T10:29:34.552Z"
   },
   {
    "duration": 135,
    "start_time": "2023-06-28T10:29:34.783Z"
   },
   {
    "duration": 16,
    "start_time": "2023-06-28T10:29:34.920Z"
   },
   {
    "duration": 59,
    "start_time": "2023-06-28T10:29:34.939Z"
   },
   {
    "duration": 22,
    "start_time": "2023-06-28T10:29:35.000Z"
   },
   {
    "duration": 162,
    "start_time": "2023-06-28T10:29:35.024Z"
   },
   {
    "duration": 159,
    "start_time": "2023-06-28T10:29:35.188Z"
   },
   {
    "duration": 0,
    "start_time": "2023-06-28T10:29:35.351Z"
   },
   {
    "duration": 0,
    "start_time": "2023-06-28T10:29:35.352Z"
   },
   {
    "duration": 0,
    "start_time": "2023-06-28T10:29:35.353Z"
   },
   {
    "duration": 0,
    "start_time": "2023-06-28T10:29:35.354Z"
   },
   {
    "duration": 0,
    "start_time": "2023-06-28T10:29:35.355Z"
   },
   {
    "duration": 0,
    "start_time": "2023-06-28T10:29:35.356Z"
   },
   {
    "duration": 0,
    "start_time": "2023-06-28T10:29:35.357Z"
   },
   {
    "duration": 0,
    "start_time": "2023-06-28T10:29:35.359Z"
   },
   {
    "duration": 0,
    "start_time": "2023-06-28T10:29:35.360Z"
   },
   {
    "duration": 0,
    "start_time": "2023-06-28T10:29:35.361Z"
   },
   {
    "duration": 0,
    "start_time": "2023-06-28T10:29:35.362Z"
   },
   {
    "duration": 0,
    "start_time": "2023-06-28T10:29:35.364Z"
   },
   {
    "duration": 0,
    "start_time": "2023-06-28T10:29:35.366Z"
   },
   {
    "duration": 0,
    "start_time": "2023-06-28T10:29:35.367Z"
   },
   {
    "duration": 0,
    "start_time": "2023-06-28T10:29:35.369Z"
   },
   {
    "duration": 0,
    "start_time": "2023-06-28T10:29:35.370Z"
   },
   {
    "duration": 0,
    "start_time": "2023-06-28T10:29:35.372Z"
   },
   {
    "duration": 0,
    "start_time": "2023-06-28T10:29:35.373Z"
   },
   {
    "duration": 0,
    "start_time": "2023-06-28T10:29:35.375Z"
   },
   {
    "duration": 10,
    "start_time": "2023-06-28T10:30:00.587Z"
   },
   {
    "duration": 26,
    "start_time": "2023-06-28T10:32:23.363Z"
   },
   {
    "duration": 8776,
    "start_time": "2023-06-28T10:32:30.920Z"
   },
   {
    "duration": 157,
    "start_time": "2023-06-28T10:32:39.699Z"
   },
   {
    "duration": 84,
    "start_time": "2023-06-28T10:32:39.865Z"
   },
   {
    "duration": 24,
    "start_time": "2023-06-28T10:32:39.966Z"
   },
   {
    "duration": 96,
    "start_time": "2023-06-28T10:32:39.993Z"
   },
   {
    "duration": 26,
    "start_time": "2023-06-28T10:32:40.091Z"
   },
   {
    "duration": 107,
    "start_time": "2023-06-28T10:32:40.124Z"
   },
   {
    "duration": 149,
    "start_time": "2023-06-28T10:32:40.233Z"
   },
   {
    "duration": 538,
    "start_time": "2023-06-28T10:32:40.385Z"
   },
   {
    "duration": 568,
    "start_time": "2023-06-28T10:32:40.931Z"
   },
   {
    "duration": 288,
    "start_time": "2023-06-28T10:32:41.505Z"
   },
   {
    "duration": 404,
    "start_time": "2023-06-28T10:32:41.796Z"
   },
   {
    "duration": 320,
    "start_time": "2023-06-28T10:32:42.207Z"
   },
   {
    "duration": 420,
    "start_time": "2023-06-28T10:32:42.529Z"
   },
   {
    "duration": 22,
    "start_time": "2023-06-28T10:32:42.955Z"
   },
   {
    "duration": 244,
    "start_time": "2023-06-28T10:32:42.983Z"
   },
   {
    "duration": 7,
    "start_time": "2023-06-28T10:32:43.229Z"
   },
   {
    "duration": 288,
    "start_time": "2023-06-28T10:32:43.255Z"
   },
   {
    "duration": 11,
    "start_time": "2023-06-28T10:32:43.550Z"
   },
   {
    "duration": 402,
    "start_time": "2023-06-28T10:32:43.565Z"
   },
   {
    "duration": 200,
    "start_time": "2023-06-28T10:32:43.969Z"
   },
   {
    "duration": 10,
    "start_time": "2023-06-28T10:32:44.176Z"
   },
   {
    "duration": 311,
    "start_time": "2023-06-28T10:32:44.188Z"
   },
   {
    "duration": 69,
    "start_time": "2023-06-28T10:32:44.501Z"
   },
   {
    "duration": 22,
    "start_time": "2023-06-28T10:32:44.573Z"
   },
   {
    "duration": 125,
    "start_time": "2023-06-28T10:32:44.597Z"
   },
   {
    "duration": 84,
    "start_time": "2023-06-28T10:32:44.724Z"
   },
   {
    "duration": 394,
    "start_time": "2023-06-28T10:33:13.084Z"
   },
   {
    "duration": 342,
    "start_time": "2023-06-28T10:33:37.003Z"
   },
   {
    "duration": 321,
    "start_time": "2023-06-28T10:33:46.686Z"
   },
   {
    "duration": 309,
    "start_time": "2023-06-28T10:35:15.052Z"
   },
   {
    "duration": 298,
    "start_time": "2023-06-28T10:36:04.856Z"
   },
   {
    "duration": 262,
    "start_time": "2023-06-28T10:36:09.760Z"
   },
   {
    "duration": 297,
    "start_time": "2023-06-28T10:36:23.694Z"
   },
   {
    "duration": 382,
    "start_time": "2023-06-28T10:36:45.794Z"
   },
   {
    "duration": 358,
    "start_time": "2023-06-28T10:37:25.508Z"
   },
   {
    "duration": 374,
    "start_time": "2023-06-28T10:37:47.658Z"
   },
   {
    "duration": 277,
    "start_time": "2023-06-28T10:38:50.920Z"
   },
   {
    "duration": 397,
    "start_time": "2023-06-28T10:39:06.786Z"
   },
   {
    "duration": 66,
    "start_time": "2023-06-28T16:22:11.031Z"
   },
   {
    "duration": 1370,
    "start_time": "2023-06-28T16:22:16.741Z"
   },
   {
    "duration": 254,
    "start_time": "2023-06-28T16:22:18.134Z"
   },
   {
    "duration": 56,
    "start_time": "2023-06-28T16:22:18.389Z"
   },
   {
    "duration": 15,
    "start_time": "2023-06-28T16:22:18.449Z"
   },
   {
    "duration": 10,
    "start_time": "2023-06-28T16:22:18.467Z"
   },
   {
    "duration": 9,
    "start_time": "2023-06-28T16:22:18.478Z"
   },
   {
    "duration": 45,
    "start_time": "2023-06-28T16:22:18.488Z"
   },
   {
    "duration": 33,
    "start_time": "2023-06-28T16:22:18.534Z"
   },
   {
    "duration": 283,
    "start_time": "2023-06-28T16:22:18.568Z"
   },
   {
    "duration": 322,
    "start_time": "2023-06-28T16:22:18.858Z"
   },
   {
    "duration": 215,
    "start_time": "2023-06-28T16:22:19.181Z"
   },
   {
    "duration": 377,
    "start_time": "2023-06-28T16:22:19.399Z"
   },
   {
    "duration": 245,
    "start_time": "2023-06-28T16:22:19.777Z"
   },
   {
    "duration": 296,
    "start_time": "2023-06-28T16:22:20.029Z"
   },
   {
    "duration": 15,
    "start_time": "2023-06-28T16:22:20.326Z"
   },
   {
    "duration": 149,
    "start_time": "2023-06-28T16:22:20.342Z"
   },
   {
    "duration": 4,
    "start_time": "2023-06-28T16:22:20.492Z"
   },
   {
    "duration": 217,
    "start_time": "2023-06-28T16:22:20.498Z"
   },
   {
    "duration": 3,
    "start_time": "2023-06-28T16:22:20.717Z"
   },
   {
    "duration": 212,
    "start_time": "2023-06-28T16:22:20.721Z"
   },
   {
    "duration": 144,
    "start_time": "2023-06-28T16:22:20.934Z"
   },
   {
    "duration": 5,
    "start_time": "2023-06-28T16:22:21.079Z"
   },
   {
    "duration": 192,
    "start_time": "2023-06-28T16:22:21.086Z"
   },
   {
    "duration": 8,
    "start_time": "2023-06-28T16:22:21.280Z"
   },
   {
    "duration": 28,
    "start_time": "2023-06-28T16:22:21.290Z"
   },
   {
    "duration": 67,
    "start_time": "2023-06-28T16:22:21.320Z"
   },
   {
    "duration": 34,
    "start_time": "2023-06-28T16:22:21.388Z"
   },
   {
    "duration": 264,
    "start_time": "2023-06-28T16:22:44.628Z"
   },
   {
    "duration": 219,
    "start_time": "2023-06-28T16:23:13.224Z"
   },
   {
    "duration": 255,
    "start_time": "2023-06-28T16:23:26.560Z"
   },
   {
    "duration": 404,
    "start_time": "2023-06-28T16:23:55.626Z"
   },
   {
    "duration": 310,
    "start_time": "2023-06-28T16:24:47.256Z"
   },
   {
    "duration": 191,
    "start_time": "2023-06-28T16:25:23.942Z"
   },
   {
    "duration": 176,
    "start_time": "2023-06-28T16:25:42.662Z"
   },
   {
    "duration": 334,
    "start_time": "2023-06-28T16:26:16.638Z"
   },
   {
    "duration": 188,
    "start_time": "2023-06-28T16:27:37.542Z"
   },
   {
    "duration": 157,
    "start_time": "2023-06-28T16:30:02.734Z"
   },
   {
    "duration": 163,
    "start_time": "2023-06-28T16:30:17.432Z"
   },
   {
    "duration": 207,
    "start_time": "2023-06-28T16:30:27.955Z"
   },
   {
    "duration": 248,
    "start_time": "2023-06-28T16:30:42.638Z"
   },
   {
    "duration": 43,
    "start_time": "2023-06-28T20:21:41.361Z"
   },
   {
    "duration": 1233,
    "start_time": "2023-06-28T20:21:49.301Z"
   },
   {
    "duration": 241,
    "start_time": "2023-06-28T20:21:50.536Z"
   },
   {
    "duration": 27,
    "start_time": "2023-06-28T20:21:50.778Z"
   },
   {
    "duration": 8,
    "start_time": "2023-06-28T20:21:50.806Z"
   },
   {
    "duration": 18,
    "start_time": "2023-06-28T20:21:50.815Z"
   },
   {
    "duration": 8,
    "start_time": "2023-06-28T20:21:50.835Z"
   },
   {
    "duration": 26,
    "start_time": "2023-06-28T20:21:50.845Z"
   },
   {
    "duration": 7,
    "start_time": "2023-06-28T20:21:50.872Z"
   },
   {
    "duration": 250,
    "start_time": "2023-06-28T20:21:50.899Z"
   },
   {
    "duration": 260,
    "start_time": "2023-06-28T20:21:51.151Z"
   },
   {
    "duration": 180,
    "start_time": "2023-06-28T20:21:51.412Z"
   },
   {
    "duration": 358,
    "start_time": "2023-06-28T20:21:51.593Z"
   },
   {
    "duration": 224,
    "start_time": "2023-06-28T20:21:51.954Z"
   },
   {
    "duration": 320,
    "start_time": "2023-06-28T20:21:52.181Z"
   },
   {
    "duration": 10,
    "start_time": "2023-06-28T20:21:52.502Z"
   },
   {
    "duration": 142,
    "start_time": "2023-06-28T20:21:52.513Z"
   },
   {
    "duration": 4,
    "start_time": "2023-06-28T20:21:52.656Z"
   },
   {
    "duration": 156,
    "start_time": "2023-06-28T20:21:52.661Z"
   },
   {
    "duration": 4,
    "start_time": "2023-06-28T20:21:52.818Z"
   },
   {
    "duration": 203,
    "start_time": "2023-06-28T20:21:52.824Z"
   },
   {
    "duration": 126,
    "start_time": "2023-06-28T20:21:53.028Z"
   },
   {
    "duration": 5,
    "start_time": "2023-06-28T20:21:53.155Z"
   },
   {
    "duration": 20,
    "start_time": "2023-06-28T20:21:53.161Z"
   },
   {
    "duration": 24,
    "start_time": "2023-06-28T20:21:53.182Z"
   },
   {
    "duration": 7,
    "start_time": "2023-06-28T20:21:53.207Z"
   },
   {
    "duration": 25,
    "start_time": "2023-06-28T20:21:53.215Z"
   },
   {
    "duration": 12,
    "start_time": "2023-06-28T20:21:53.241Z"
   },
   {
    "duration": 18,
    "start_time": "2023-06-28T20:23:34.358Z"
   },
   {
    "duration": 19,
    "start_time": "2023-06-28T20:23:56.996Z"
   },
   {
    "duration": 23,
    "start_time": "2023-06-28T20:24:24.882Z"
   },
   {
    "duration": 20,
    "start_time": "2023-06-28T20:24:32.002Z"
   },
   {
    "duration": 31,
    "start_time": "2023-06-28T20:24:39.115Z"
   },
   {
    "duration": 9,
    "start_time": "2023-06-28T20:30:32.139Z"
   },
   {
    "duration": 20,
    "start_time": "2023-06-28T20:30:40.523Z"
   },
   {
    "duration": 69,
    "start_time": "2023-06-28T20:31:09.802Z"
   },
   {
    "duration": 11,
    "start_time": "2023-06-28T20:31:22.407Z"
   },
   {
    "duration": 12,
    "start_time": "2023-06-28T20:31:25.996Z"
   },
   {
    "duration": 23,
    "start_time": "2023-06-28T20:32:47.648Z"
   },
   {
    "duration": 9,
    "start_time": "2023-06-28T20:33:00.013Z"
   },
   {
    "duration": 24,
    "start_time": "2023-06-28T20:33:09.401Z"
   },
   {
    "duration": 12,
    "start_time": "2023-06-28T20:33:27.722Z"
   },
   {
    "duration": 12,
    "start_time": "2023-06-28T20:33:43.729Z"
   },
   {
    "duration": 411,
    "start_time": "2023-06-28T20:48:50.400Z"
   },
   {
    "duration": 992,
    "start_time": "2023-06-28T21:01:15.520Z"
   },
   {
    "duration": 76,
    "start_time": "2023-06-28T21:01:16.514Z"
   },
   {
    "duration": 26,
    "start_time": "2023-06-28T21:01:16.591Z"
   },
   {
    "duration": 9,
    "start_time": "2023-06-28T21:01:16.618Z"
   },
   {
    "duration": 10,
    "start_time": "2023-06-28T21:01:16.629Z"
   },
   {
    "duration": 10,
    "start_time": "2023-06-28T21:01:16.641Z"
   },
   {
    "duration": 52,
    "start_time": "2023-06-28T21:01:16.652Z"
   },
   {
    "duration": 7,
    "start_time": "2023-06-28T21:01:16.706Z"
   },
   {
    "duration": 260,
    "start_time": "2023-06-28T21:01:16.714Z"
   },
   {
    "duration": 250,
    "start_time": "2023-06-28T21:01:16.977Z"
   },
   {
    "duration": 180,
    "start_time": "2023-06-28T21:01:17.229Z"
   },
   {
    "duration": 295,
    "start_time": "2023-06-28T21:01:17.410Z"
   },
   {
    "duration": 208,
    "start_time": "2023-06-28T21:01:17.707Z"
   },
   {
    "duration": 302,
    "start_time": "2023-06-28T21:01:17.917Z"
   },
   {
    "duration": 11,
    "start_time": "2023-06-28T21:01:18.221Z"
   },
   {
    "duration": 151,
    "start_time": "2023-06-28T21:01:18.234Z"
   },
   {
    "duration": 4,
    "start_time": "2023-06-28T21:01:18.386Z"
   },
   {
    "duration": 161,
    "start_time": "2023-06-28T21:01:18.392Z"
   },
   {
    "duration": 4,
    "start_time": "2023-06-28T21:01:18.554Z"
   },
   {
    "duration": 223,
    "start_time": "2023-06-28T21:01:18.560Z"
   },
   {
    "duration": 133,
    "start_time": "2023-06-28T21:01:18.784Z"
   },
   {
    "duration": 5,
    "start_time": "2023-06-28T21:01:18.919Z"
   },
   {
    "duration": 27,
    "start_time": "2023-06-28T21:01:18.926Z"
   },
   {
    "duration": 10,
    "start_time": "2023-06-28T21:01:18.955Z"
   },
   {
    "duration": 8,
    "start_time": "2023-06-28T21:01:18.967Z"
   },
   {
    "duration": 43,
    "start_time": "2023-06-28T21:01:18.977Z"
   },
   {
    "duration": 12,
    "start_time": "2023-06-28T21:01:19.022Z"
   }
  ],
  "kernelspec": {
   "display_name": "Python 3 (ipykernel)",
   "language": "python",
   "name": "python3"
  },
  "language_info": {
   "codemirror_mode": {
    "name": "ipython",
    "version": 3
   },
   "file_extension": ".py",
   "mimetype": "text/x-python",
   "name": "python",
   "nbconvert_exporter": "python",
   "pygments_lexer": "ipython3",
   "version": "3.9.12"
  },
  "toc": {
   "base_numbering": 1,
   "nav_menu": {},
   "number_sections": true,
   "sideBar": true,
   "skip_h1_title": true,
   "title_cell": "Table of Contents",
   "title_sidebar": "Contents",
   "toc_cell": false,
   "toc_position": {
    "height": "calc(100% - 180px)",
    "left": "10px",
    "top": "150px",
    "width": "371px"
   },
   "toc_section_display": true,
   "toc_window_display": false
  }
 },
 "nbformat": 4,
 "nbformat_minor": 2
}
