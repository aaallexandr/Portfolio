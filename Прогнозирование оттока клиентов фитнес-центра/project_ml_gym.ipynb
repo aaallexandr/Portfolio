{
 "cells": [
  {
   "cell_type": "markdown",
   "metadata": {},
   "source": [
    "# Прогнозирование оттока клиентов для фитнес-центра"
   ]
  },
  {
   "cell_type": "markdown",
   "metadata": {},
   "source": [
    "### Постановка задачи\n",
    "\n",
    "Сеть фитнес-центров разрабатывает стратегию взаимодействия с клиентами на основе аналитических данных.\n",
    "\n",
    "**Цель исследования** — провести анализ клиентов и подготовить план действий по удержанию клиентов.\n",
    "\n",
    "**Задачи исследования:**\n",
    "\n",
    "* научиться прогнозировать вероятность оттока для каждого клиента;\n",
    "* сформировать типичные портреты клиентов: выделить несколько наиболее ярких групп и охарактеризовать их основные свойства;\n",
    "* проанализировать основные признаки, наиболее сильно влияющие на отток;\n",
    "* сформулировать основные выводы и разработать рекомендации по повышению качества работы с клиентами:"
   ]
  },
  {
   "cell_type": "markdown",
   "metadata": {},
   "source": [
    "### План исследования\n",
    "\n",
    "1. Предобработка данных\n",
    "2. Исследовательский анализ данных\n",
    "3. Построение модели прогнозирования оттока клиентов\n",
    "4. Кластеризация клиентов\n",
    "5. Подготовка выводов и рекомендаций"
   ]
  },
  {
   "cell_type": "markdown",
   "metadata": {},
   "source": [
    "### Импортирование библиотек"
   ]
  },
  {
   "cell_type": "code",
   "execution_count": 1,
   "metadata": {},
   "outputs": [],
   "source": [
    "# Импортирование библиотек\n",
    "import pandas as pd\n",
    "import matplotlib.pyplot as plt\n",
    "import seaborn as sns\n",
    "import numpy as np\n",
    "import itertools\n",
    "import warnings\n",
    "\n",
    "from sklearn.model_selection import train_test_split\n",
    "from sklearn.linear_model import LogisticRegression\n",
    "from sklearn.metrics import accuracy_score, precision_score, recall_score\n",
    "from sklearn.ensemble import RandomForestClassifier, GradientBoostingClassifier\n",
    "from sklearn.preprocessing import StandardScaler\n",
    "from scipy.cluster.hierarchy import dendrogram, linkage\n",
    "from sklearn.cluster import KMeans\n",
    "\n",
    "# Игнорировать все предупреждения\n",
    "warnings.filterwarnings(\"ignore\")\n",
    "\n",
    "# Зададим стиль для всех графиков\n",
    "sns.set_style('darkgrid')"
   ]
  },
  {
   "cell_type": "markdown",
   "metadata": {},
   "source": [
    "### Загрузка данных"
   ]
  },
  {
   "cell_type": "code",
   "execution_count": 2,
   "metadata": {},
   "outputs": [],
   "source": [
    "# Чтение файла\n",
    "data = pd.read_csv('/Users/aaleksakhin/Library/CloudStorage/GoogleDrive-aaalexahin@gmail.com/My Drive/Data/Datasets/project_ml_gym/gym_churn.csv')"
   ]
  },
  {
   "cell_type": "code",
   "execution_count": 3,
   "metadata": {},
   "outputs": [
    {
     "data": {
      "text/html": [
       "<div>\n",
       "<style scoped>\n",
       "    .dataframe tbody tr th:only-of-type {\n",
       "        vertical-align: middle;\n",
       "    }\n",
       "\n",
       "    .dataframe tbody tr th {\n",
       "        vertical-align: top;\n",
       "    }\n",
       "\n",
       "    .dataframe thead th {\n",
       "        text-align: right;\n",
       "    }\n",
       "</style>\n",
       "<table border=\"1\" class=\"dataframe\">\n",
       "  <thead>\n",
       "    <tr style=\"text-align: right;\">\n",
       "      <th></th>\n",
       "      <th>gender</th>\n",
       "      <th>Near_Location</th>\n",
       "      <th>Partner</th>\n",
       "      <th>Promo_friends</th>\n",
       "      <th>Phone</th>\n",
       "      <th>Contract_period</th>\n",
       "      <th>Group_visits</th>\n",
       "      <th>Age</th>\n",
       "      <th>Avg_additional_charges_total</th>\n",
       "      <th>Month_to_end_contract</th>\n",
       "      <th>Lifetime</th>\n",
       "      <th>Avg_class_frequency_total</th>\n",
       "      <th>Avg_class_frequency_current_month</th>\n",
       "      <th>Churn</th>\n",
       "    </tr>\n",
       "  </thead>\n",
       "  <tbody>\n",
       "    <tr>\n",
       "      <th>0</th>\n",
       "      <td>1</td>\n",
       "      <td>1</td>\n",
       "      <td>1</td>\n",
       "      <td>1</td>\n",
       "      <td>0</td>\n",
       "      <td>6</td>\n",
       "      <td>1</td>\n",
       "      <td>29</td>\n",
       "      <td>14.227470</td>\n",
       "      <td>5.0</td>\n",
       "      <td>3</td>\n",
       "      <td>0.020398</td>\n",
       "      <td>0.000000</td>\n",
       "      <td>0</td>\n",
       "    </tr>\n",
       "    <tr>\n",
       "      <th>1</th>\n",
       "      <td>0</td>\n",
       "      <td>1</td>\n",
       "      <td>0</td>\n",
       "      <td>0</td>\n",
       "      <td>1</td>\n",
       "      <td>12</td>\n",
       "      <td>1</td>\n",
       "      <td>31</td>\n",
       "      <td>113.202938</td>\n",
       "      <td>12.0</td>\n",
       "      <td>7</td>\n",
       "      <td>1.922936</td>\n",
       "      <td>1.910244</td>\n",
       "      <td>0</td>\n",
       "    </tr>\n",
       "    <tr>\n",
       "      <th>2</th>\n",
       "      <td>0</td>\n",
       "      <td>1</td>\n",
       "      <td>1</td>\n",
       "      <td>0</td>\n",
       "      <td>1</td>\n",
       "      <td>1</td>\n",
       "      <td>0</td>\n",
       "      <td>28</td>\n",
       "      <td>129.448479</td>\n",
       "      <td>1.0</td>\n",
       "      <td>2</td>\n",
       "      <td>1.859098</td>\n",
       "      <td>1.736502</td>\n",
       "      <td>0</td>\n",
       "    </tr>\n",
       "    <tr>\n",
       "      <th>3</th>\n",
       "      <td>0</td>\n",
       "      <td>1</td>\n",
       "      <td>1</td>\n",
       "      <td>1</td>\n",
       "      <td>1</td>\n",
       "      <td>12</td>\n",
       "      <td>1</td>\n",
       "      <td>33</td>\n",
       "      <td>62.669863</td>\n",
       "      <td>12.0</td>\n",
       "      <td>2</td>\n",
       "      <td>3.205633</td>\n",
       "      <td>3.357215</td>\n",
       "      <td>0</td>\n",
       "    </tr>\n",
       "    <tr>\n",
       "      <th>4</th>\n",
       "      <td>1</td>\n",
       "      <td>1</td>\n",
       "      <td>1</td>\n",
       "      <td>1</td>\n",
       "      <td>1</td>\n",
       "      <td>1</td>\n",
       "      <td>0</td>\n",
       "      <td>26</td>\n",
       "      <td>198.362265</td>\n",
       "      <td>1.0</td>\n",
       "      <td>3</td>\n",
       "      <td>1.113884</td>\n",
       "      <td>1.120078</td>\n",
       "      <td>0</td>\n",
       "    </tr>\n",
       "  </tbody>\n",
       "</table>\n",
       "</div>"
      ],
      "text/plain": [
       "   gender  Near_Location  Partner  Promo_friends  Phone  Contract_period  \\\n",
       "0       1              1        1              1      0                6   \n",
       "1       0              1        0              0      1               12   \n",
       "2       0              1        1              0      1                1   \n",
       "3       0              1        1              1      1               12   \n",
       "4       1              1        1              1      1                1   \n",
       "\n",
       "   Group_visits  Age  Avg_additional_charges_total  Month_to_end_contract  \\\n",
       "0             1   29                     14.227470                    5.0   \n",
       "1             1   31                    113.202938                   12.0   \n",
       "2             0   28                    129.448479                    1.0   \n",
       "3             1   33                     62.669863                   12.0   \n",
       "4             0   26                    198.362265                    1.0   \n",
       "\n",
       "   Lifetime  Avg_class_frequency_total  Avg_class_frequency_current_month  \\\n",
       "0         3                   0.020398                           0.000000   \n",
       "1         7                   1.922936                           1.910244   \n",
       "2         2                   1.859098                           1.736502   \n",
       "3         2                   3.205633                           3.357215   \n",
       "4         3                   1.113884                           1.120078   \n",
       "\n",
       "   Churn  \n",
       "0      0  \n",
       "1      0  \n",
       "2      0  \n",
       "3      0  \n",
       "4      0  "
      ]
     },
     "execution_count": 3,
     "metadata": {},
     "output_type": "execute_result"
    }
   ],
   "source": [
    "# Выведение первых пяти строк\n",
    "data.head()"
   ]
  },
  {
   "cell_type": "markdown",
   "metadata": {},
   "source": [
    "### Предобработка и исследовательский анализ данных"
   ]
  },
  {
   "cell_type": "markdown",
   "metadata": {},
   "source": [
    "Изучим качество данных и при необходимости сделаем предобработку. Для начала выведем основную информацию о датасете методом `.info()`."
   ]
  },
  {
   "cell_type": "code",
   "execution_count": 4,
   "metadata": {},
   "outputs": [
    {
     "name": "stdout",
     "output_type": "stream",
     "text": [
      "<class 'pandas.core.frame.DataFrame'>\n",
      "RangeIndex: 4000 entries, 0 to 3999\n",
      "Data columns (total 14 columns):\n",
      " #   Column                             Non-Null Count  Dtype  \n",
      "---  ------                             --------------  -----  \n",
      " 0   gender                             4000 non-null   int64  \n",
      " 1   Near_Location                      4000 non-null   int64  \n",
      " 2   Partner                            4000 non-null   int64  \n",
      " 3   Promo_friends                      4000 non-null   int64  \n",
      " 4   Phone                              4000 non-null   int64  \n",
      " 5   Contract_period                    4000 non-null   int64  \n",
      " 6   Group_visits                       4000 non-null   int64  \n",
      " 7   Age                                4000 non-null   int64  \n",
      " 8   Avg_additional_charges_total       4000 non-null   float64\n",
      " 9   Month_to_end_contract              4000 non-null   float64\n",
      " 10  Lifetime                           4000 non-null   int64  \n",
      " 11  Avg_class_frequency_total          4000 non-null   float64\n",
      " 12  Avg_class_frequency_current_month  4000 non-null   float64\n",
      " 13  Churn                              4000 non-null   int64  \n",
      "dtypes: float64(4), int64(10)\n",
      "memory usage: 437.6 KB\n"
     ]
    }
   ],
   "source": [
    "# Вывод метода info()\n",
    "data.info()"
   ]
  },
  {
   "cell_type": "markdown",
   "metadata": {},
   "source": [
    "Датасет состоит из 4 000 строк, ни в одном столбце пропусков нет."
   ]
  },
  {
   "cell_type": "markdown",
   "metadata": {},
   "source": [
    "Проверим уникальные значения в столбцах `gender`,\n",
    "                       `Near_Location`,\n",
    "                       `Partner`,\n",
    "                       `Promo_friends`,\n",
    "                       `Phone`,\n",
    "                       `Contract_period`\n",
    "                       `Group_visits` и\n",
    "                       `Churn`\n",
    "                       . По условию задания, значения в этих столбцах могут принимать могут быть равны только нулю или единице, кроме `Contract_period` — в этом столбце значения должны быть равны длительности абонемента в месяцах — 1, 6 или 12 "
   ]
  },
  {
   "cell_type": "code",
   "execution_count": 5,
   "metadata": {},
   "outputs": [
    {
     "name": "stdout",
     "output_type": "stream",
     "text": [
      "gender [1 0]\n",
      "Near_Location [1 0]\n",
      "Partner [1 0]\n",
      "Promo_friends [1 0]\n",
      "Phone [0 1]\n",
      "Group_visits [1 0]\n",
      "Churn [0 1]\n",
      "Contract_period [ 6 12  1]\n"
     ]
    }
   ],
   "source": [
    "# Создадим список названий столбцов\n",
    "unique_values_check = ['gender',\n",
    "                       'Near_Location',\n",
    "                       'Partner',\n",
    "                       'Promo_friends',\n",
    "                       'Phone',\n",
    "                       'Group_visits',\n",
    "                       'Churn',\n",
    "                       'Contract_period']\n",
    "\n",
    "# Циклом выведем уникальные значения для каждого столбца\n",
    "for i in unique_values_check:\n",
    "    print (i, data[i].unique())"
   ]
  },
  {
   "cell_type": "markdown",
   "metadata": {},
   "source": [
    "Все хорошо, лишних значений нет."
   ]
  },
  {
   "cell_type": "markdown",
   "metadata": {},
   "source": [
    "Теперь проверим диапазон значений в столбце `Month_to_end_contract` — значения в этом столбце не должны быть больше максимальной длительности абонемента (12 месяцев) и меньше минимальной длительности (1 месяц)."
   ]
  },
  {
   "cell_type": "code",
   "execution_count": 6,
   "metadata": {},
   "outputs": [
    {
     "data": {
      "text/plain": [
       "1.0"
      ]
     },
     "metadata": {},
     "output_type": "display_data"
    },
    {
     "data": {
      "text/plain": [
       "12.0"
      ]
     },
     "metadata": {},
     "output_type": "display_data"
    }
   ],
   "source": [
    "# Выведем максимальное и минимальное значение столбца Month_to_end_contract\n",
    "display (data['Month_to_end_contract'].min())\n",
    "display (data['Month_to_end_contract'].max())"
   ]
  },
  {
   "cell_type": "markdown",
   "metadata": {},
   "source": [
    "Все логично — значения в столбце находятся в верном диапазоне."
   ]
  },
  {
   "cell_type": "markdown",
   "metadata": {},
   "source": [
    "Также по логике значения в столбце `Month_to_end_contract` не должны быть больше значения в столбце `Contract_period`, проверим это."
   ]
  },
  {
   "cell_type": "code",
   "execution_count": 7,
   "metadata": {},
   "outputs": [
    {
     "data": {
      "text/plain": [
       "0"
      ]
     },
     "execution_count": 7,
     "metadata": {},
     "output_type": "execute_result"
    }
   ],
   "source": [
    "data.loc[data['Month_to_end_contract'] > data['Contract_period']]['Contract_period'].count()"
   ]
  },
  {
   "cell_type": "markdown",
   "metadata": {},
   "source": [
    "Все отлично, значения в столбце `Month_to_end_contract` не противоречат логике."
   ]
  },
  {
   "cell_type": "markdown",
   "metadata": {},
   "source": [
    "Теперь изучим средние значения и стандартные отклонения для столбцов с численными значениями — `Age`,\n",
    "                `Avg_additional_charges_total`,\n",
    "                `Avg_class_frequency_total`,\n",
    "                `Avg_class_frequency_current_month`,\n",
    "                `Lifetime` "
   ]
  },
  {
   "cell_type": "code",
   "execution_count": 8,
   "metadata": {
    "scrolled": false
   },
   "outputs": [
    {
     "name": "stdout",
     "output_type": "stream",
     "text": [
      "Age\n",
      "count    4000.000000\n",
      "mean       29.184250\n",
      "std         3.258367\n",
      "min        18.000000\n",
      "25%        27.000000\n",
      "50%        29.000000\n",
      "75%        31.000000\n",
      "max        41.000000\n",
      "Name: Age, dtype: float64\n",
      "\n",
      "Avg_additional_charges_total\n",
      "count    4000.000000\n",
      "mean      146.943728\n",
      "std        96.355602\n",
      "min         0.148205\n",
      "25%        68.868830\n",
      "50%       136.220159\n",
      "75%       210.949625\n",
      "max       552.590740\n",
      "Name: Avg_additional_charges_total, dtype: float64\n",
      "\n",
      "Avg_class_frequency_total\n",
      "count    4000.000000\n",
      "mean        1.879020\n",
      "std         0.972245\n",
      "min         0.000000\n",
      "25%         1.180875\n",
      "50%         1.832768\n",
      "75%         2.536078\n",
      "max         6.023668\n",
      "Name: Avg_class_frequency_total, dtype: float64\n",
      "\n",
      "Avg_class_frequency_current_month\n",
      "count    4000.000000\n",
      "mean        1.767052\n",
      "std         1.052906\n",
      "min         0.000000\n",
      "25%         0.963003\n",
      "50%         1.719574\n",
      "75%         2.510336\n",
      "max         6.146783\n",
      "Name: Avg_class_frequency_current_month, dtype: float64\n",
      "\n",
      "Lifetime\n",
      "count    4000.000000\n",
      "mean        3.724750\n",
      "std         3.749267\n",
      "min         0.000000\n",
      "25%         1.000000\n",
      "50%         3.000000\n",
      "75%         5.000000\n",
      "max        31.000000\n",
      "Name: Lifetime, dtype: float64\n",
      "\n"
     ]
    }
   ],
   "source": [
    "# Создадим список из названий столбцов\n",
    "decribe_check = ['Age',\n",
    "                 'Avg_additional_charges_total',\n",
    "                 'Avg_class_frequency_total',\n",
    "                 'Avg_class_frequency_current_month',\n",
    "                 'Lifetime']\n",
    "                \n",
    "# Для каждого столбца выведем информацию о распределении значений\n",
    "for i in decribe_check:\n",
    "    print (i)\n",
    "    print (data[i].describe())\n",
    "    print ()"
   ]
  },
  {
   "cell_type": "markdown",
   "metadata": {},
   "source": [
    "Данные выглядят нормально, больших выбросов нет:\n",
    "\n",
    "* `Age`: минимальное значение 18 — видимо, в зал можно ходить только совершеннолетним. Максимальное значение — 41 год.\n",
    "* `Avg_class_frequency_total` и `Avg_class_frequency_current_month` — здесь все логично. Минимальное количество посещений в неделю = 0, максимальное — не больше 7."
   ]
  },
  {
   "cell_type": "markdown",
   "metadata": {},
   "source": [
    "Рассмотрим средние значения признаков в группах отвалившихся и оставшихся пользователей."
   ]
  },
  {
   "cell_type": "code",
   "execution_count": 9,
   "metadata": {},
   "outputs": [
    {
     "data": {
      "text/html": [
       "<div>\n",
       "<style scoped>\n",
       "    .dataframe tbody tr th:only-of-type {\n",
       "        vertical-align: middle;\n",
       "    }\n",
       "\n",
       "    .dataframe tbody tr th {\n",
       "        vertical-align: top;\n",
       "    }\n",
       "\n",
       "    .dataframe thead th {\n",
       "        text-align: right;\n",
       "    }\n",
       "</style>\n",
       "<table border=\"1\" class=\"dataframe\">\n",
       "  <thead>\n",
       "    <tr style=\"text-align: right;\">\n",
       "      <th></th>\n",
       "      <th>gender</th>\n",
       "      <th>Near_Location</th>\n",
       "      <th>Partner</th>\n",
       "      <th>Promo_friends</th>\n",
       "      <th>Phone</th>\n",
       "      <th>Contract_period</th>\n",
       "      <th>Group_visits</th>\n",
       "      <th>Age</th>\n",
       "      <th>Avg_additional_charges_total</th>\n",
       "      <th>Month_to_end_contract</th>\n",
       "      <th>Lifetime</th>\n",
       "      <th>Avg_class_frequency_total</th>\n",
       "      <th>Avg_class_frequency_current_month</th>\n",
       "    </tr>\n",
       "    <tr>\n",
       "      <th>Churn</th>\n",
       "      <th></th>\n",
       "      <th></th>\n",
       "      <th></th>\n",
       "      <th></th>\n",
       "      <th></th>\n",
       "      <th></th>\n",
       "      <th></th>\n",
       "      <th></th>\n",
       "      <th></th>\n",
       "      <th></th>\n",
       "      <th></th>\n",
       "      <th></th>\n",
       "      <th></th>\n",
       "    </tr>\n",
       "  </thead>\n",
       "  <tbody>\n",
       "    <tr>\n",
       "      <th>0</th>\n",
       "      <td>0.510037</td>\n",
       "      <td>0.873086</td>\n",
       "      <td>0.534195</td>\n",
       "      <td>0.353522</td>\n",
       "      <td>0.903709</td>\n",
       "      <td>5.747193</td>\n",
       "      <td>0.464103</td>\n",
       "      <td>29.976523</td>\n",
       "      <td>158.445715</td>\n",
       "      <td>5.283089</td>\n",
       "      <td>4.711807</td>\n",
       "      <td>2.024876</td>\n",
       "      <td>2.027882</td>\n",
       "    </tr>\n",
       "    <tr>\n",
       "      <th>1</th>\n",
       "      <td>0.510839</td>\n",
       "      <td>0.768143</td>\n",
       "      <td>0.355325</td>\n",
       "      <td>0.183789</td>\n",
       "      <td>0.902922</td>\n",
       "      <td>1.728558</td>\n",
       "      <td>0.268615</td>\n",
       "      <td>26.989632</td>\n",
       "      <td>115.082899</td>\n",
       "      <td>1.662582</td>\n",
       "      <td>0.990575</td>\n",
       "      <td>1.474995</td>\n",
       "      <td>1.044546</td>\n",
       "    </tr>\n",
       "  </tbody>\n",
       "</table>\n",
       "</div>"
      ],
      "text/plain": [
       "         gender  Near_Location   Partner  Promo_friends     Phone  \\\n",
       "Churn                                                               \n",
       "0      0.510037       0.873086  0.534195       0.353522  0.903709   \n",
       "1      0.510839       0.768143  0.355325       0.183789  0.902922   \n",
       "\n",
       "       Contract_period  Group_visits        Age  Avg_additional_charges_total  \\\n",
       "Churn                                                                           \n",
       "0             5.747193      0.464103  29.976523                    158.445715   \n",
       "1             1.728558      0.268615  26.989632                    115.082899   \n",
       "\n",
       "       Month_to_end_contract  Lifetime  Avg_class_frequency_total  \\\n",
       "Churn                                                               \n",
       "0                   5.283089  4.711807                   2.024876   \n",
       "1                   1.662582  0.990575                   1.474995   \n",
       "\n",
       "       Avg_class_frequency_current_month  \n",
       "Churn                                     \n",
       "0                               2.027882  \n",
       "1                               1.044546  "
      ]
     },
     "execution_count": 9,
     "metadata": {},
     "output_type": "execute_result"
    }
   ],
   "source": [
    "# Группировка значений по столбцу Churn\n",
    "data.groupby('Churn').mean()"
   ]
  },
  {
   "cell_type": "markdown",
   "metadata": {},
   "source": [
    "По полученным данным можно выдвинуть предварительные гипотезы. Например, среди отвалившихся пользователей доля людей, которые живут или работают около фитнес-центра, заметно ниже — можно предположить, что близость фитнес-центра к дому или к месту работы является важным фактором оттока пользователей. Такие же гипотезы можно выдвинуть для факта работы на компанию-партнера, факта посещения клуба в рамках акции \"приведи друга\" и факта посещения групповых занятий — можно предположить, что все эти факторы увеличивают вероятность удержания клиента.\n",
    "\n",
    "Среди отвалившихся пользователей средняя длительность абнемента заметно ниже, чем среди удержанных. Можно выдвинуть гипотезу о том, что у отвалившихся клиентов изначально не самые серьезные намерения посещать фитнес-центр, поэтому они берут абонемент на короткий срок и отваливаются."
   ]
  },
  {
   "cell_type": "markdown",
   "metadata": {},
   "source": [
    "Построим гистрограммы для каждого признака в разрезе отвалившихся и оставшихся клиентов"
   ]
  },
  {
   "cell_type": "code",
   "execution_count": 10,
   "metadata": {},
   "outputs": [],
   "source": [
    "# Сделаем отдельные датафреймы по значению Churn\n",
    "churn_0_data = data[data['Churn'] == 0]\n",
    "churn_1_data = data[data['Churn'] == 1]"
   ]
  },
  {
   "cell_type": "code",
   "execution_count": 11,
   "metadata": {
    "scrolled": false
   },
   "outputs": [
    {
     "data": {
      "image/png": "[encoded data removed]",
      "text/plain": [
       "<Figure size 864x288 with 2 Axes>"
      ]
     },
     "metadata": {
      "needs_background": "light"
     },
     "output_type": "display_data"
    },
    {
     "data": {
      "image/png": "[encoded data removed]",
      "text/plain": [
       "<Figure size 864x288 with 2 Axes>"
      ]
     },
     "metadata": {
      "needs_background": "light"
     },
     "output_type": "display_data"
    },
    {
     "data": {
      "image/png": "[encoded data removed]",
      "text/plain": [
       "<Figure size 864x288 with 2 Axes>"
      ]
     },
     "metadata": {
      "needs_background": "light"
     },
     "output_type": "display_data"
    },
    {
     "data": {
      "image/png": "[encoded data removed]",
      "text/plain": [
       "<Figure size 864x288 with 2 Axes>"
      ]
     },
     "metadata": {
      "needs_background": "light"
     },
     "output_type": "display_data"
    },
    {
     "data": {
      "image/png": "[encoded data removed]",
      "text/plain": [
       "<Figure size 864x288 with 2 Axes>"
      ]
     },
     "metadata": {
      "needs_background": "light"
     },
     "output_type": "display_data"
    },
    {
     "data": {
      "image/png": "[encoded data removed]",
      "text/plain": [
       "<Figure size 864x288 with 2 Axes>"
      ]
     },
     "metadata": {
      "needs_background": "light"
     },
     "output_type": "display_data"
    },
    {
     "data": {
      "image/png": "[encoded data removed]",
      "text/plain": [
       "<Figure size 864x288 with 2 Axes>"
      ]
     },
     "metadata": {
      "needs_background": "light"
     },
     "output_type": "display_data"
    },
    {
     "data": {
      "image/png": "[encoded data removed]",
      "text/plain": [
       "<Figure size 864x288 with 2 Axes>"
      ]
     },
     "metadata": {
      "needs_background": "light"
     },
     "output_type": "display_data"
    },
    {
     "data": {
      "image/png": "[encoded data removed]",
      "text/plain": [
       "<Figure size 864x288 with 2 Axes>"
      ]
     },
     "metadata": {
      "needs_background": "light"
     },
     "output_type": "display_data"
    },
    {
     "data": {
      "image/png": "[encoded data removed]",
      "text/plain": [
       "<Figure size 864x288 with 2 Axes>"
      ]
     },
     "metadata": {
      "needs_background": "light"
     },
     "output_type": "display_data"
    },
    {
     "data": {
      "image/png": "[encoded data removed]",
      "text/plain": [
       "<Figure size 864x288 with 2 Axes>"
      ]
     },
     "metadata": {
      "needs_background": "light"
     },
     "output_type": "display_data"
    },
    {
     "data": {
      "image/png": "[encoded data removed]",
      "text/plain": [
       "<Figure size 864x288 with 2 Axes>"
      ]
     },
     "metadata": {
      "needs_background": "light"
     },
     "output_type": "display_data"
    },
    {
     "data": {
      "image/png": "[encoded data removed]",
      "text/plain": [
       "<Figure size 864x288 with 2 Axes>"
      ]
     },
     "metadata": {
      "needs_background": "light"
     },
     "output_type": "display_data"
    }
   ],
   "source": [
    "# Напишет цикл, который построит отдельные гистрограммы для каждого признака, кроме самого Churn\n",
    "\n",
    "for c in list(data.drop(columns = ['Churn']).columns):\n",
    "    \n",
    "    plt.figure(figsize=(12, 4))\n",
    "    \n",
    "    ax1 = plt.subplot(1, 2, 1)\n",
    "    ax2 = plt.subplot(1, 2, 2, sharey=ax1)\n",
    "    \n",
    "    # Plot for churn = 0\n",
    "    ax1.hist(churn_0_data[c], bins=20) \n",
    "    ax1.set_title('Удержанные пользователи')\n",
    "    ax1.set_xlabel(c)\n",
    "    ax1.set_ylabel('')\n",
    "    \n",
    "    # Plot for churn = 1\n",
    "    ax2.hist(churn_1_data[c], bins=20)  # Replace 'column_name' with the column you want to plot\n",
    "    ax2.set_title('Отвалившиеся пользователи')\n",
    "    ax2.set_xlabel(c)\n",
    "    \n",
    "    plt.tight_layout()  # To ensure the plots do not overlap\n",
    "    plt.show()"
   ]
  },
  {
   "cell_type": "markdown",
   "metadata": {},
   "source": [
    "Основные выводы:\n",
    "\n",
    "* По полу обе группы распределены почти поровну.\n",
    "* Среди удержанных клиентов подавляющее большинство живет или работает около фитнес-центра — 2500 против 400. Среди отвалившихся  клиентов группа людей, живущих или работающих около фитнес-центра, также превалирует, но в меньшей степени — 700 против 250. Можно предположить, что близость фитнес-центра к месту работы или проживания является важным фактором удержаения клиента.\n",
    "* Среди отвалившихся пользователей совсем небольшая часть пользователей пришла в зал по рекомендации друга — в группе удержанных клиентов количество и доля таких пользователей существенно выше. Можно предоложить, что рекомендация друга также является важным фактором удержания клиента.\n",
    "* Наиболее часто встречаемая длительность абонемента среди пользователей с оттоком — 1 месяц. \n",
    "* Отвалившиется пользователей редко посещают групповые занятия. Численность тех, кто хотя бы раз посетил групповое занятия, составляет менее 300 человек.\n",
    "* Возрастное распределение пользователей в обеих группах примерно одинаковое. Среди удержанных пользователей много клиентов в возрасте 30 лет.\n",
    "* Удержанные пользователи тратят существенно больше денег на дополнительные услуги в фитнес-центре.\n",
    "* Среди отвалившихся пользователей заметен пик в районе нуля в средней частоте посещений в неделю за предыдущий месяц, что логично — отвалившиется пользователи часто ни разу не посещали фитнес-центр за последний месяц. Среди удержанных пользователей пик находится между 2 и 3 посещениями в неделю."
   ]
  },
  {
   "cell_type": "markdown",
   "metadata": {},
   "source": [
    "Построим матрицу корреляций всех признаков в виде хитмэпа."
   ]
  },
  {
   "cell_type": "code",
   "execution_count": 12,
   "metadata": {},
   "outputs": [
    {
     "data": {
      "image/png": "[encoded data removed]",
      "text/plain": [
       "<Figure size 1152x432 with 2 Axes>"
      ]
     },
     "metadata": {
      "needs_background": "light"
     },
     "output_type": "display_data"
    }
   ],
   "source": [
    "# Зададим размер графика\n",
    "plt.figure(figsize=(16, 6))\n",
    "\n",
    "# Построение хитмэпа\n",
    "sns.heatmap(data.corr(), annot=True, cmap='coolwarm', fmt=\".2f\", linewidths=0.5)\n",
    "plt.title('Матрица корреляций')\n",
    "plt.show()"
   ]
  },
  {
   "cell_type": "markdown",
   "metadata": {},
   "source": [
    "В целом признаки не сильно коррелируют друг с другом — самая сильная корреляция между признаками  `Month_to_end_contract` и `Contract_period`, а также у `Avg_class_frequency_current_month` и `Avg_class_frequency_total`."
   ]
  },
  {
   "cell_type": "markdown",
   "metadata": {},
   "source": [
    "### Построение модели прогнозирования оттока клиентов"
   ]
  },
  {
   "cell_type": "markdown",
   "metadata": {},
   "source": [
    "Построим модели машинного обучения, которые будут прогнозировать отток клиентов. Создадим модели двух типов — модель логистической регрессии и случайный лес. Для начала разделим датасет на матрицу признаков и вектор целевой переменной. В качестве целевой переменной возьмем факт оттока клиента: Churn = 0 и Churn = 1."
   ]
  },
  {
   "cell_type": "code",
   "execution_count": 13,
   "metadata": {},
   "outputs": [],
   "source": [
    "# Разделим данные на матрицу признаков Х и вектор целевых переменных Y\n",
    "X = data.drop('Churn', axis = 1)\n",
    "Y = data['Churn']"
   ]
  },
  {
   "cell_type": "markdown",
   "metadata": {},
   "source": [
    "Теперь разделим датасет на две выборки: обучающую и валидационную"
   ]
  },
  {
   "cell_type": "code",
   "execution_count": 14,
   "metadata": {},
   "outputs": [],
   "source": [
    "# Разделим модель на обучающую и валидационную выборку\n",
    "X_train, X_test, Y_train, Y_test = train_test_split(X, Y, test_size=0.2, random_state=0)"
   ]
  },
  {
   "cell_type": "markdown",
   "metadata": {},
   "source": [
    "Приведем данные в стандартный вид — создадим объект-стандартизатор и применим к выборкам."
   ]
  },
  {
   "cell_type": "code",
   "execution_count": 15,
   "metadata": {},
   "outputs": [],
   "source": [
    "# Создание стандартизатора\n",
    "scaler = StandardScaler()\n",
    "\n",
    "# Обучение стандартизатора\n",
    "scaler.fit(X_train)\n",
    "\n",
    "# Стандартизация матриц с признаками в обучающей и валидационной выборках \n",
    "X_train_st = scaler.transform(X_train)\n",
    "X_test_st = scaler.transform(X_test)"
   ]
  },
  {
   "cell_type": "markdown",
   "metadata": {},
   "source": [
    "Обучим модель логистической регрессии и оценим ее качество с помощью метрик `accuracy`, `precision` и `recall`."
   ]
  },
  {
   "cell_type": "code",
   "execution_count": 16,
   "metadata": {},
   "outputs": [
    {
     "name": "stdout",
     "output_type": "stream",
     "text": [
      "Accuracy: 0.92\n",
      "Precision: 0.85\n",
      "Recall: 0.83\n"
     ]
    }
   ],
   "source": [
    "# Задаем алгоритм модели\n",
    "lr_model = LogisticRegression(random_state=0)\n",
    "\n",
    "# Обучение модели\n",
    "lr_model.fit(X_train_st, Y_train)\n",
    "\n",
    "# Прогнозирование данных\n",
    "lr_predictions = lr_model.predict(X_test_st)\n",
    "\n",
    "# Расчет метрик accuracy, precision и recall\n",
    "print('Accuracy: {:.2f}'.format(accuracy_score(Y_test, lr_predictions)))\n",
    "print('Precision: {:.2f}'.format(precision_score(Y_test, lr_predictions)))\n",
    "print('Recall: {:.2f}'.format(recall_score(Y_test, lr_predictions)))"
   ]
  },
  {
   "cell_type": "markdown",
   "metadata": {},
   "source": [
    "Теперь обучим модель типа \"случайный лес\""
   ]
  },
  {
   "cell_type": "code",
   "execution_count": 17,
   "metadata": {},
   "outputs": [
    {
     "name": "stdout",
     "output_type": "stream",
     "text": [
      "Accuracy: 0.92\n",
      "Precision: 0.84\n",
      "Recall: 0.82\n"
     ]
    }
   ],
   "source": [
    "# Задаем алгоритм модели\n",
    "rf_model = RandomForestClassifier(n_estimators = 100, random_state=0)\n",
    "\n",
    "# Обучение модели\n",
    "rf_model.fit(X_train, Y_train)\n",
    "\n",
    "# Прогнозирование данных\n",
    "rf_predictions = rf_model.predict(X_test)\n",
    "\n",
    "print('Accuracy: {:.2f}'.format(accuracy_score(Y_test, rf_predictions)))\n",
    "print('Precision: {:.2f}'.format(precision_score(Y_test, rf_predictions)))\n",
    "print('Recall: {:.2f}'.format(recall_score(Y_test, rf_predictions)))"
   ]
  },
  {
   "cell_type": "markdown",
   "metadata": {},
   "source": [
    "**Вывод**: обе модели одинаково хорошо справляются с прогнозированием оттока клинетов."
   ]
  },
  {
   "cell_type": "markdown",
   "metadata": {},
   "source": [
    "### Кластеризация клиентов"
   ]
  },
  {
   "cell_type": "markdown",
   "metadata": {},
   "source": [
    "Теперь проведем кластеризацию клиентов. Для начала отбросим целевой показатель оттока и приведем данные в стандартный вид."
   ]
  },
  {
   "cell_type": "code",
   "execution_count": 18,
   "metadata": {},
   "outputs": [],
   "source": [
    "# Стандартизация данных\n",
    "x_sc = scaler.fit_transform(data.drop(columns = ['Churn']))"
   ]
  },
  {
   "cell_type": "markdown",
   "metadata": {},
   "source": [
    "Теперь построим дендрограмму для выделения кластеров методом агломеративной иерархической кластеризации\n"
   ]
  },
  {
   "cell_type": "code",
   "execution_count": 19,
   "metadata": {},
   "outputs": [
    {
     "data": {
      "image/png": "[encoded data removed]",
      "text/plain": [
       "<Figure size 1440x720 with 1 Axes>"
      ]
     },
     "metadata": {
      "needs_background": "light"
     },
     "output_type": "display_data"
    }
   ],
   "source": [
    "# Создадим матрицу расстояний\n",
    "linked = linkage(x_sc, method = 'ward') \n",
    "\n",
    "# Построим дендрограмму\n",
    "\n",
    "\n",
    "plt.figure(figsize=(20, 10))  \n",
    "dendrogram(linked, orientation='top')\n",
    "plt.title('Дендрограма')\n",
    "plt.show()\n",
    "\n"
   ]
  },
  {
   "cell_type": "markdown",
   "metadata": {},
   "source": [
    "На основании дендрограммы можно выделить четыре кластера "
   ]
  },
  {
   "cell_type": "markdown",
   "metadata": {},
   "source": [
    "Теперь воспользуемся методом кластеризации K-Means — зададим 5 кластеров и посмотрим на средние значения всех признаков внутри каждого кластера."
   ]
  },
  {
   "cell_type": "code",
   "execution_count": 20,
   "metadata": {},
   "outputs": [
    {
     "data": {
      "text/html": [
       "<div>\n",
       "<style scoped>\n",
       "    .dataframe tbody tr th:only-of-type {\n",
       "        vertical-align: middle;\n",
       "    }\n",
       "\n",
       "    .dataframe tbody tr th {\n",
       "        vertical-align: top;\n",
       "    }\n",
       "\n",
       "    .dataframe thead th {\n",
       "        text-align: right;\n",
       "    }\n",
       "</style>\n",
       "<table border=\"1\" class=\"dataframe\">\n",
       "  <thead>\n",
       "    <tr style=\"text-align: right;\">\n",
       "      <th></th>\n",
       "      <th>gender</th>\n",
       "      <th>Near_Location</th>\n",
       "      <th>Partner</th>\n",
       "      <th>Promo_friends</th>\n",
       "      <th>Phone</th>\n",
       "      <th>Contract_period</th>\n",
       "      <th>Group_visits</th>\n",
       "      <th>Age</th>\n",
       "      <th>Avg_additional_charges_total</th>\n",
       "      <th>Month_to_end_contract</th>\n",
       "      <th>Lifetime</th>\n",
       "      <th>Avg_class_frequency_total</th>\n",
       "      <th>Avg_class_frequency_current_month</th>\n",
       "      <th>Churn</th>\n",
       "    </tr>\n",
       "    <tr>\n",
       "      <th>cluster_km</th>\n",
       "      <th></th>\n",
       "      <th></th>\n",
       "      <th></th>\n",
       "      <th></th>\n",
       "      <th></th>\n",
       "      <th></th>\n",
       "      <th></th>\n",
       "      <th></th>\n",
       "      <th></th>\n",
       "      <th></th>\n",
       "      <th></th>\n",
       "      <th></th>\n",
       "      <th></th>\n",
       "      <th></th>\n",
       "    </tr>\n",
       "  </thead>\n",
       "  <tbody>\n",
       "    <tr>\n",
       "      <th>0</th>\n",
       "      <td>0.502970</td>\n",
       "      <td>0.959406</td>\n",
       "      <td>0.783168</td>\n",
       "      <td>0.574257</td>\n",
       "      <td>1.000000</td>\n",
       "      <td>10.889109</td>\n",
       "      <td>0.542574</td>\n",
       "      <td>29.982178</td>\n",
       "      <td>160.761016</td>\n",
       "      <td>9.954455</td>\n",
       "      <td>4.736634</td>\n",
       "      <td>1.982055</td>\n",
       "      <td>1.974789</td>\n",
       "      <td>0.027723</td>\n",
       "    </tr>\n",
       "    <tr>\n",
       "      <th>1</th>\n",
       "      <td>0.522078</td>\n",
       "      <td>0.862338</td>\n",
       "      <td>0.470130</td>\n",
       "      <td>0.306494</td>\n",
       "      <td>0.000000</td>\n",
       "      <td>4.787013</td>\n",
       "      <td>0.425974</td>\n",
       "      <td>29.301299</td>\n",
       "      <td>143.957664</td>\n",
       "      <td>4.475325</td>\n",
       "      <td>3.924675</td>\n",
       "      <td>1.847220</td>\n",
       "      <td>1.716369</td>\n",
       "      <td>0.267532</td>\n",
       "    </tr>\n",
       "    <tr>\n",
       "      <th>2</th>\n",
       "      <td>0.495050</td>\n",
       "      <td>0.000000</td>\n",
       "      <td>0.463366</td>\n",
       "      <td>0.079208</td>\n",
       "      <td>1.000000</td>\n",
       "      <td>2.352475</td>\n",
       "      <td>0.215842</td>\n",
       "      <td>28.477228</td>\n",
       "      <td>135.457501</td>\n",
       "      <td>2.198020</td>\n",
       "      <td>2.809901</td>\n",
       "      <td>1.660461</td>\n",
       "      <td>1.477324</td>\n",
       "      <td>0.443564</td>\n",
       "    </tr>\n",
       "    <tr>\n",
       "      <th>3</th>\n",
       "      <td>0.485737</td>\n",
       "      <td>1.000000</td>\n",
       "      <td>0.350238</td>\n",
       "      <td>0.240095</td>\n",
       "      <td>1.000000</td>\n",
       "      <td>1.948494</td>\n",
       "      <td>0.341521</td>\n",
       "      <td>28.167987</td>\n",
       "      <td>131.622204</td>\n",
       "      <td>1.856577</td>\n",
       "      <td>2.440571</td>\n",
       "      <td>1.247634</td>\n",
       "      <td>1.012983</td>\n",
       "      <td>0.514263</td>\n",
       "    </tr>\n",
       "    <tr>\n",
       "      <th>4</th>\n",
       "      <td>0.559666</td>\n",
       "      <td>0.976134</td>\n",
       "      <td>0.356802</td>\n",
       "      <td>0.230310</td>\n",
       "      <td>0.998807</td>\n",
       "      <td>2.669451</td>\n",
       "      <td>0.473747</td>\n",
       "      <td>30.125298</td>\n",
       "      <td>161.657905</td>\n",
       "      <td>2.459427</td>\n",
       "      <td>4.898568</td>\n",
       "      <td>2.852002</td>\n",
       "      <td>2.850161</td>\n",
       "      <td>0.068019</td>\n",
       "    </tr>\n",
       "  </tbody>\n",
       "</table>\n",
       "</div>"
      ],
      "text/plain": [
       "              gender  Near_Location   Partner  Promo_friends     Phone  \\\n",
       "cluster_km                                                               \n",
       "0           0.502970       0.959406  0.783168       0.574257  1.000000   \n",
       "1           0.522078       0.862338  0.470130       0.306494  0.000000   \n",
       "2           0.495050       0.000000  0.463366       0.079208  1.000000   \n",
       "3           0.485737       1.000000  0.350238       0.240095  1.000000   \n",
       "4           0.559666       0.976134  0.356802       0.230310  0.998807   \n",
       "\n",
       "            Contract_period  Group_visits        Age  \\\n",
       "cluster_km                                             \n",
       "0                 10.889109      0.542574  29.982178   \n",
       "1                  4.787013      0.425974  29.301299   \n",
       "2                  2.352475      0.215842  28.477228   \n",
       "3                  1.948494      0.341521  28.167987   \n",
       "4                  2.669451      0.473747  30.125298   \n",
       "\n",
       "            Avg_additional_charges_total  Month_to_end_contract  Lifetime  \\\n",
       "cluster_km                                                                  \n",
       "0                             160.761016               9.954455  4.736634   \n",
       "1                             143.957664               4.475325  3.924675   \n",
       "2                             135.457501               2.198020  2.809901   \n",
       "3                             131.622204               1.856577  2.440571   \n",
       "4                             161.657905               2.459427  4.898568   \n",
       "\n",
       "            Avg_class_frequency_total  Avg_class_frequency_current_month  \\\n",
       "cluster_km                                                                 \n",
       "0                            1.982055                           1.974789   \n",
       "1                            1.847220                           1.716369   \n",
       "2                            1.660461                           1.477324   \n",
       "3                            1.247634                           1.012983   \n",
       "4                            2.852002                           2.850161   \n",
       "\n",
       "               Churn  \n",
       "cluster_km            \n",
       "0           0.027723  \n",
       "1           0.267532  \n",
       "2           0.443564  \n",
       "3           0.514263  \n",
       "4           0.068019  "
      ]
     },
     "metadata": {},
     "output_type": "display_data"
    }
   ],
   "source": [
    "# Задаём число кластеров, равное 5\n",
    "km = KMeans(n_clusters=5, random_state=0) \n",
    "\n",
    "# Применяем алгоритм к данным и формируем вектор кластеров\n",
    "labels = km.fit_predict(x_sc) \n",
    "\n",
    "# Сохраняем метки кластера в поле нашего датасета\n",
    "data['cluster_km'] = labels\n",
    "\n",
    "# Выводим статистику по средним значениям наших признаков по кластерам\n",
    "display (data.groupby('cluster_km').mean())"
   ]
  },
  {
   "cell_type": "markdown",
   "metadata": {},
   "source": [
    "Можно заметить, что по некоторым признакам выделенные кластеры почти не отличаются — например, у клиентов из всех кластеров почти одинаковое половое распределение и средний возраст. По некоторым признакам одни кластеры отличаются существенно, а другие нет — например, кластеры 2 и 3 сильно отличаются по факту проживания/работы у фитнес центра, а кластеры 0, 1 и 4 по этому же признаку отличаются не так значительно. \n",
    "\n",
    "В целом по таблице средних значений можно выделить основные характеристики клиентов, которые склонны к оттоку. Наиболее склонные к оттоку  кластеры под номерами 2 и 3, так среди них самая большая доля клиентов со значением Churn = 1. Их объединяет: низкая посещаемость групповых занятий, небольшая длительность абонемента."
   ]
  },
  {
   "cell_type": "markdown",
   "metadata": {},
   "source": [
    "Посмотрим на распределение кластеров по категориальными признакам — построим график типа `countplot`"
   ]
  },
  {
   "cell_type": "code",
   "execution_count": 21,
   "metadata": {
    "scrolled": false
   },
   "outputs": [
    {
     "data": {
      "image/png": "[encoded data removed]",
      "text/plain": [
       "<Figure size 864x288 with 1 Axes>"
      ]
     },
     "metadata": {
      "needs_background": "light"
     },
     "output_type": "display_data"
    },
    {
     "data": {
      "image/png": "[encoded data removed]",
      "text/plain": [
       "<Figure size 864x288 with 1 Axes>"
      ]
     },
     "metadata": {
      "needs_background": "light"
     },
     "output_type": "display_data"
    },
    {
     "data": {
      "image/png": "[encoded data removed]",
      "text/plain": [
       "<Figure size 864x288 with 1 Axes>"
      ]
     },
     "metadata": {
      "needs_background": "light"
     },
     "output_type": "display_data"
    },
    {
     "data": {
      "image/png": "[encoded data removed]",
      "text/plain": [
       "<Figure size 864x288 with 1 Axes>"
      ]
     },
     "metadata": {
      "needs_background": "light"
     },
     "output_type": "display_data"
    },
    {
     "data": {
      "image/png": "[encoded data removed]",
      "text/plain": [
       "<Figure size 864x288 with 1 Axes>"
      ]
     },
     "metadata": {
      "needs_background": "light"
     },
     "output_type": "display_data"
    },
    {
     "data": {
      "image/png": "[encoded data removed]",
      "text/plain": [
       "<Figure size 864x288 with 1 Axes>"
      ]
     },
     "metadata": {
      "needs_background": "light"
     },
     "output_type": "display_data"
    },
    {
     "data": {
      "image/png": "[encoded data removed]",
      "text/plain": [
       "<Figure size 864x288 with 1 Axes>"
      ]
     },
     "metadata": {
      "needs_background": "light"
     },
     "output_type": "display_data"
    },
    {
     "data": {
      "image/png": "[encoded data removed]",
      "text/plain": [
       "<Figure size 864x288 with 1 Axes>"
      ]
     },
     "metadata": {
      "needs_background": "light"
     },
     "output_type": "display_data"
    }
   ],
   "source": [
    "# Создадим список с категориальными столбцами\n",
    "categorical_columns = ['Churn',\n",
    "                       'gender',\n",
    "                       'Near_Location',\n",
    "                       'Partner',\n",
    "                       'Promo_friends',\n",
    "                       'Phone',\n",
    "                       'Contract_period',\n",
    "                       'Group_visits',\n",
    "                       ]\n",
    "\n",
    "# Для каждого столбца сделаем график в разбивке на кластеры\n",
    "for column in categorical_columns:\n",
    "    plt.figure(figsize=(12,4))\n",
    "    sns.countplot(x=data[column], hue='cluster_km', data=data)\n",
    "    plt.title(column)\n",
    "    plt.show()"
   ]
  },
  {
   "cell_type": "markdown",
   "metadata": {},
   "source": [
    "**Выводы**:\n",
    "\n"
   ]
  },
  {
   "cell_type": "markdown",
   "metadata": {},
   "source": [
    "* Нулевой кластер наиболее лоялен к услугам фитнес-центра — это самый часто встречающийся кластер в группе удержанных пользователей и наименее встречающийся кластер в группе отвалившихся пользователей. Среди отвалившихся пользователей больше всего представителей третьего кластера — около 600 клиентов.\n",
    "* Среди клиентов, которые живут или работают около фитнес-центра больше всего представителей третьего кластера — того самого, который чаще всего отваливается. В то же время, в этой группе достаточно много клиентов из \"лояльных\" кластеров под номерами 0 и 4.\n",
    "* По графику с распределение кластеров по значению `Promo Friends` и `Partner` видно, что представители третьего кластара редко приходят в фитнес-центр по рекомендации друга или от компании-партнера. По первому кластеру картина обратная. Из этого можно сделать вывод, что рекомендация друга и работа в компании-партнере являются важными факторами удержания.\n",
    "* Представители третьего кластера почти не посещают групповые занятия.\n",
    "* По длительности абонемента прослеживается логика — наименее лояльные кластеры берут абонемент на более короткий срок.\n",
    "* Распределение пользователей по кластерам среди мужчин и женщин одинаковое"
   ]
  },
  {
   "cell_type": "markdown",
   "metadata": {},
   "source": [
    "Теперь построим график типа `kdeplot` для численных столбцов:"
   ]
  },
  {
   "cell_type": "code",
   "execution_count": 22,
   "metadata": {
    "scrolled": false
   },
   "outputs": [
    {
     "data": {
      "image/png": "[encoded data removed]",
      "text/plain": [
       "<Figure size 864x288 with 1 Axes>"
      ]
     },
     "metadata": {
      "needs_background": "light"
     },
     "output_type": "display_data"
    },
    {
     "data": {
      "image/png": "[encoded data removed]",
      "text/plain": [
       "<Figure size 864x288 with 1 Axes>"
      ]
     },
     "metadata": {
      "needs_background": "light"
     },
     "output_type": "display_data"
    },
    {
     "data": {
      "image/png": "[encoded data removed]",
      "text/plain": [
       "<Figure size 864x288 with 1 Axes>"
      ]
     },
     "metadata": {
      "needs_background": "light"
     },
     "output_type": "display_data"
    },
    {
     "data": {
      "image/png": "[encoded data removed]",
      "text/plain": [
       "<Figure size 864x288 with 1 Axes>"
      ]
     },
     "metadata": {
      "needs_background": "light"
     },
     "output_type": "display_data"
    },
    {
     "data": {
      "image/png": "[encoded data removed]",
      "text/plain": [
       "<Figure size 864x288 with 1 Axes>"
      ]
     },
     "metadata": {
      "needs_background": "light"
     },
     "output_type": "display_data"
    },
    {
     "data": {
      "image/png": "[encoded data removed]",
      "text/plain": [
       "<Figure size 864x288 with 1 Axes>"
      ]
     },
     "metadata": {
      "needs_background": "light"
     },
     "output_type": "display_data"
    }
   ],
   "source": [
    "# Создадим список с численными столбцами\n",
    "numeric_columns = ['Age',\n",
    "                   'Avg_additional_charges_total',\n",
    "                   'Month_to_end_contract',\n",
    "                   'Lifetime',\n",
    "                   'Avg_class_frequency_total',\n",
    "                   'Avg_class_frequency_current_month']\n",
    "\n",
    "custom_palette = [\"blue\", \"orange\", \"green\", 'red', 'purple']\n",
    "\n",
    "# Для каждого столбца сделаем график в разбивке на кластеры\n",
    "for column in numeric_columns:\n",
    "    plt.figure(figsize=(12,4))\n",
    "    sns.kdeplot(x=data[column], hue='cluster_km', data=data, palette=custom_palette)\n",
    "    plt.title(column)\n",
    "    plt.show()"
   ]
  },
  {
   "cell_type": "markdown",
   "metadata": {},
   "source": [
    "**Выводы:**\n",
    "\n",
    "* Среди кластеров заметны существеные отличия в частое помещений в неделю — в третьем и втором кластерах чаще всего клиенту посещают зал около одного раза, клиенты остальных кластеров, как правило, ходят в зал чаще — 2 и более раз.\n",
    "* Среди представителей третьего кластера много пользователей, у которых скоро заканчивается договор — это сваязано с тем, что представители этого кластера берут абонемент на короткий срок.\n",
    "* Возрастое распределение кластеров примерно одинаковое — от 27 до 32 лет, третий кластер самый молодой."
   ]
  },
  {
   "cell_type": "markdown",
   "metadata": {},
   "source": [
    "Рассчитаем долю оттока для каждого кластера."
   ]
  },
  {
   "cell_type": "code",
   "execution_count": 23,
   "metadata": {},
   "outputs": [
    {
     "data": {
      "text/plain": [
       "cluster_km\n",
       "0    0.027723\n",
       "1    0.267532\n",
       "2    0.443564\n",
       "3    0.514263\n",
       "4    0.068019\n",
       "Name: Churn, dtype: float64"
      ]
     },
     "execution_count": 23,
     "metadata": {},
     "output_type": "execute_result"
    }
   ],
   "source": [
    "# Группировка датасета по параметру cluster_km и расчет доли клиентов, для которых Churn = 1\n",
    "data.groupby('cluster_km')['Churn'].mean()"
   ]
  },
  {
   "cell_type": "markdown",
   "metadata": {},
   "source": [
    "Видно, что кластеры под номерами 2 и 3 наименее лояльны к услугам фитнес-центра — в этих кластерах доля оттока самая высокая 44% и 51% соответственно."
   ]
  },
  {
   "cell_type": "markdown",
   "metadata": {},
   "source": [
    "### Выводы и рекомендации"
   ]
  },
  {
   "cell_type": "markdown",
   "metadata": {},
   "source": [
    "В ходе исследования был выполнен анализ сети фитнес-центоров на основании данных об оттоке клинетов с различными признаками\n",
    "\n",
    "**Описание работ**\n",
    "\n",
    "* Проверка качества данных: поиск дубликатов, оценка статистических выбросов.\n",
    "* Исследовательский анализ данных: описание распределения признаков с помощью гистрограмм, построение матрицы корреляций.\n",
    "* Построение моделей машинного обучения двумя способами, оценка качества прогнозов моделей.\n",
    "* Выделение и анализ кластеров клиентов\n",
    "\n",
    "**Основные выводы**\n",
    "\n",
    "* По полу обе группы распределены почти поровну.\n",
    "* Возрастное распределение пользователей в обеих группах также примерно одинаковое.\n",
    "* Среди удержанных клиентов подавляющее большинство живет или работает около фитнес-центра. Близость фитнес-центра к месту работы или проживания является важным фактором удержания клиента.\n",
    "* Наиболее часто встречаемая длительность абонемента среди пользователей с оттоком — 1 месяц. \n",
    "* Отвалившиется пользователей редко посещают групповые занятия. Численность тех, кто хотя бы раз посетил групповое занятия, составляет менее 300 человек.\n",
    "* Удержанные пользователи тратят существенно больше денег на дополнительные услуги в фитнес-центре.\n",
    "* Среди отвалившихся пользователей заметен пик в районе нуля в средней частоте посещений в неделю за предыдущий месяц, что логично — отвалившиется пользователи часто ни разу не посещали фитнес-центр за последний месяц. Среди удержанных пользователей пик находится между 2 и 3 посещениями в неделю.\n",
    "* Кластеры под номерами 2 и 3 наименее лояльны к услугам фитнес-центра — в этих кластерах самая высокая доля оттока. Их объединяет: низкая посещаемость групповых занятий, небольшая длительность абонемента.\n",
    "\n",
    "\n",
    "**Рекомендации**\n",
    "\n",
    "* Сфокусировать маркетинговые усилия на людях, которые работают или живут около фитнес-центра. Попытка привлечь клиентов, которые живут или работают далеко от фитнес центра, вероятно, не принесет успех и не окупит маркетинговые затраты. Можно проработать маркетинговую стратегию таргетирования на тех, кто продолжительное время находится в радиусе 5-10 километров от фитнес-центра.\n",
    "* Среди отвалившихся пользователей много тех, кто ни разу не посетил групповые занятия — возможно, они не нашли то, что их интересует. Можно провести опрос среди этой аудитории, что понять, наличие каких групповых занятий может поспособствовать их удержанию.\n",
    "* Достаточно много пользователей с оттоком купили абонемент на короткий срок. Возможно, имеет смысл сделать покупку абонемента на длительный срок более выгодной — это потенциально может позволнить удержать клиента. "
   ]
  }
 ],
 "metadata": {
  "ExecuteTimeLog": [
   {
    "duration": 50,
    "start_time": "2023-07-26T13:50:55.275Z"
   },
   {
    "duration": 422,
    "start_time": "2023-07-26T13:50:58.367Z"
   },
   {
    "duration": 112,
    "start_time": "2023-07-26T13:50:59.093Z"
   },
   {
    "duration": 33,
    "start_time": "2023-07-26T14:01:10.318Z"
   },
   {
    "duration": 14,
    "start_time": "2023-07-26T14:01:24.009Z"
   },
   {
    "duration": 12,
    "start_time": "2023-07-26T14:01:29.594Z"
   },
   {
    "duration": 50,
    "start_time": "2023-07-26T14:03:00.892Z"
   },
   {
    "duration": 1750,
    "start_time": "2023-07-26T14:09:27.350Z"
   },
   {
    "duration": 9,
    "start_time": "2023-07-26T14:09:34.484Z"
   },
   {
    "duration": 3,
    "start_time": "2023-07-26T14:14:28.205Z"
   },
   {
    "duration": 6,
    "start_time": "2023-07-26T14:15:34.319Z"
   },
   {
    "duration": 8,
    "start_time": "2023-07-26T14:16:57.782Z"
   },
   {
    "duration": 7,
    "start_time": "2023-07-26T14:17:45.774Z"
   },
   {
    "duration": 7,
    "start_time": "2023-07-26T14:18:24.684Z"
   },
   {
    "duration": 7,
    "start_time": "2023-07-26T14:18:28.371Z"
   },
   {
    "duration": 5,
    "start_time": "2023-07-26T14:18:31.145Z"
   },
   {
    "duration": 9,
    "start_time": "2023-07-26T14:19:42.342Z"
   },
   {
    "duration": 2,
    "start_time": "2023-07-26T14:22:30.559Z"
   },
   {
    "duration": 20,
    "start_time": "2023-07-26T14:23:03.112Z"
   },
   {
    "duration": 19,
    "start_time": "2023-07-26T14:23:25.202Z"
   },
   {
    "duration": 18,
    "start_time": "2023-07-26T14:23:35.915Z"
   },
   {
    "duration": 19,
    "start_time": "2023-07-26T14:23:44.785Z"
   },
   {
    "duration": 544,
    "start_time": "2023-07-26T14:26:40.493Z"
   },
   {
    "duration": 20,
    "start_time": "2023-07-26T14:26:55.315Z"
   },
   {
    "duration": 17,
    "start_time": "2023-07-26T14:27:05.762Z"
   },
   {
    "duration": 1227,
    "start_time": "2023-07-26T14:27:16.496Z"
   },
   {
    "duration": 117,
    "start_time": "2023-07-26T14:27:33.576Z"
   },
   {
    "duration": 21,
    "start_time": "2023-07-26T14:27:50.595Z"
   },
   {
    "duration": 195,
    "start_time": "2023-07-26T14:28:33.616Z"
   },
   {
    "duration": 212,
    "start_time": "2023-07-26T14:28:48.703Z"
   },
   {
    "duration": 195,
    "start_time": "2023-07-26T14:28:59.953Z"
   },
   {
    "duration": 7,
    "start_time": "2023-07-26T14:29:04.388Z"
   },
   {
    "duration": 201,
    "start_time": "2023-07-26T14:29:05.582Z"
   },
   {
    "duration": 392,
    "start_time": "2023-07-26T14:29:16.313Z"
   },
   {
    "duration": 36,
    "start_time": "2023-07-26T14:29:16.707Z"
   },
   {
    "duration": 20,
    "start_time": "2023-07-26T14:29:16.745Z"
   },
   {
    "duration": 13,
    "start_time": "2023-07-26T14:29:16.767Z"
   },
   {
    "duration": 8,
    "start_time": "2023-07-26T14:29:16.782Z"
   },
   {
    "duration": 476,
    "start_time": "2023-07-26T14:29:16.792Z"
   },
   {
    "duration": 22,
    "start_time": "2023-07-26T14:29:32.179Z"
   },
   {
    "duration": 202,
    "start_time": "2023-07-26T14:29:52.677Z"
   },
   {
    "duration": 20,
    "start_time": "2023-07-26T14:30:06.781Z"
   },
   {
    "duration": 6,
    "start_time": "2023-07-26T14:32:19.315Z"
   },
   {
    "duration": 5,
    "start_time": "2023-07-26T14:32:24.427Z"
   },
   {
    "duration": 6,
    "start_time": "2023-07-26T14:32:28.674Z"
   },
   {
    "duration": 5,
    "start_time": "2023-07-26T14:32:37.744Z"
   },
   {
    "duration": 6,
    "start_time": "2023-07-26T14:32:56.858Z"
   },
   {
    "duration": 16,
    "start_time": "2023-07-26T14:42:54.670Z"
   },
   {
    "duration": 5,
    "start_time": "2023-07-26T14:42:56.145Z"
   },
   {
    "duration": 18,
    "start_time": "2023-07-26T14:42:56.691Z"
   },
   {
    "duration": 93,
    "start_time": "2023-07-26T14:54:26.894Z"
   },
   {
    "duration": 103,
    "start_time": "2023-07-26T14:54:30.709Z"
   },
   {
    "duration": 144,
    "start_time": "2023-07-26T14:55:40.223Z"
   },
   {
    "duration": 95,
    "start_time": "2023-07-26T14:55:58.031Z"
   },
   {
    "duration": 99,
    "start_time": "2023-07-26T14:56:03.229Z"
   },
   {
    "duration": 93,
    "start_time": "2023-07-26T14:56:07.121Z"
   },
   {
    "duration": 17,
    "start_time": "2023-07-26T14:58:42.364Z"
   },
   {
    "duration": 16,
    "start_time": "2023-07-26T14:58:54.323Z"
   },
   {
    "duration": 16,
    "start_time": "2023-07-26T14:59:01.381Z"
   },
   {
    "duration": 16,
    "start_time": "2023-07-26T14:59:53.024Z"
   },
   {
    "duration": 83,
    "start_time": "2023-07-26T15:00:33.303Z"
   },
   {
    "duration": 16,
    "start_time": "2023-07-26T15:00:45.682Z"
   },
   {
    "duration": 13,
    "start_time": "2023-07-26T15:01:20.111Z"
   },
   {
    "duration": 18,
    "start_time": "2023-07-26T15:02:03.520Z"
   },
   {
    "duration": 23,
    "start_time": "2023-07-26T15:03:32.087Z"
   },
   {
    "duration": 20,
    "start_time": "2023-07-26T15:06:14.551Z"
   },
   {
    "duration": 170,
    "start_time": "2023-07-26T15:43:57.273Z"
   },
   {
    "duration": 637,
    "start_time": "2023-07-26T15:44:16.463Z"
   },
   {
    "duration": 93,
    "start_time": "2023-07-26T15:44:21.367Z"
   },
   {
    "duration": 20,
    "start_time": "2023-07-26T15:44:24.871Z"
   },
   {
    "duration": 7,
    "start_time": "2023-07-26T15:44:46.760Z"
   },
   {
    "duration": 6,
    "start_time": "2023-07-26T15:44:55.787Z"
   },
   {
    "duration": 6,
    "start_time": "2023-07-26T15:45:52.585Z"
   },
   {
    "duration": 17,
    "start_time": "2023-07-26T15:47:24.747Z"
   },
   {
    "duration": 3175,
    "start_time": "2023-07-26T15:47:39.271Z"
   },
   {
    "duration": 11,
    "start_time": "2023-07-26T15:48:07.013Z"
   },
   {
    "duration": 2225,
    "start_time": "2023-07-26T15:49:23.157Z"
   },
   {
    "duration": 8,
    "start_time": "2023-07-26T15:49:42.653Z"
   },
   {
    "duration": 6,
    "start_time": "2023-07-26T15:49:52.324Z"
   },
   {
    "duration": 5,
    "start_time": "2023-07-26T15:50:33.222Z"
   },
   {
    "duration": 24,
    "start_time": "2023-07-26T15:52:06.691Z"
   },
   {
    "duration": 990,
    "start_time": "2023-07-26T15:52:11.354Z"
   },
   {
    "duration": 1058,
    "start_time": "2023-07-26T15:52:22.154Z"
   },
   {
    "duration": 3,
    "start_time": "2023-07-26T15:52:48.965Z"
   },
   {
    "duration": 697,
    "start_time": "2023-07-26T15:52:52.498Z"
   },
   {
    "duration": 34,
    "start_time": "2023-07-26T15:52:53.197Z"
   },
   {
    "duration": 15,
    "start_time": "2023-07-26T15:52:53.232Z"
   },
   {
    "duration": 30,
    "start_time": "2023-07-26T15:52:53.248Z"
   },
   {
    "duration": 15,
    "start_time": "2023-07-26T15:52:53.280Z"
   },
   {
    "duration": 23,
    "start_time": "2023-07-26T15:52:53.296Z"
   },
   {
    "duration": 23,
    "start_time": "2023-07-26T15:52:53.320Z"
   },
   {
    "duration": 30,
    "start_time": "2023-07-26T15:52:53.345Z"
   },
   {
    "duration": 12,
    "start_time": "2023-07-26T15:52:53.376Z"
   },
   {
    "duration": 14,
    "start_time": "2023-07-26T15:52:53.390Z"
   },
   {
    "duration": 1041,
    "start_time": "2023-07-26T15:52:53.405Z"
   },
   {
    "duration": 1295,
    "start_time": "2023-07-26T15:53:32.103Z"
   },
   {
    "duration": 1180,
    "start_time": "2023-07-26T15:53:41.015Z"
   },
   {
    "duration": 1218,
    "start_time": "2023-07-26T15:53:48.496Z"
   },
   {
    "duration": 1475,
    "start_time": "2023-07-26T15:53:58.539Z"
   },
   {
    "duration": 1902,
    "start_time": "2023-07-26T15:55:34.694Z"
   },
   {
    "duration": 1658,
    "start_time": "2023-07-26T15:55:47.664Z"
   },
   {
    "duration": 1533,
    "start_time": "2023-07-26T15:56:01.535Z"
   },
   {
    "duration": 186,
    "start_time": "2023-07-26T16:06:48.367Z"
   },
   {
    "duration": 4,
    "start_time": "2023-07-26T16:06:54.068Z"
   },
   {
    "duration": 6,
    "start_time": "2023-07-26T16:07:01.832Z"
   },
   {
    "duration": 2478,
    "start_time": "2023-07-26T16:08:24.195Z"
   },
   {
    "duration": 413,
    "start_time": "2023-07-26T16:08:40.498Z"
   },
   {
    "duration": 458,
    "start_time": "2023-07-26T16:10:27.486Z"
   },
   {
    "duration": 2400,
    "start_time": "2023-07-26T16:11:41.947Z"
   },
   {
    "duration": 277,
    "start_time": "2023-07-26T16:11:52.204Z"
   },
   {
    "duration": 205,
    "start_time": "2023-07-26T16:14:33.007Z"
   },
   {
    "duration": 13,
    "start_time": "2023-07-26T16:19:55.541Z"
   },
   {
    "duration": 213,
    "start_time": "2023-07-26T16:20:04.117Z"
   },
   {
    "duration": 236,
    "start_time": "2023-07-26T16:20:56.393Z"
   },
   {
    "duration": 1793,
    "start_time": "2023-07-26T16:21:13.961Z"
   },
   {
    "duration": 954,
    "start_time": "2023-07-26T16:21:21.893Z"
   },
   {
    "duration": 512,
    "start_time": "2023-07-26T16:21:30.003Z"
   },
   {
    "duration": 207,
    "start_time": "2023-07-26T16:21:38.537Z"
   },
   {
    "duration": 247,
    "start_time": "2023-07-26T16:22:44.022Z"
   },
   {
    "duration": 224,
    "start_time": "2023-07-26T16:22:52.018Z"
   },
   {
    "duration": 4,
    "start_time": "2023-07-26T16:24:01.936Z"
   },
   {
    "duration": 8,
    "start_time": "2023-07-26T16:24:13.512Z"
   },
   {
    "duration": 4,
    "start_time": "2023-07-26T16:25:22.138Z"
   },
   {
    "duration": 9,
    "start_time": "2023-07-26T16:25:54.995Z"
   },
   {
    "duration": 5,
    "start_time": "2023-07-26T16:26:07.207Z"
   },
   {
    "duration": 201,
    "start_time": "2023-07-26T16:27:44.460Z"
   },
   {
    "duration": 3,
    "start_time": "2023-07-26T16:27:44.979Z"
   },
   {
    "duration": 3,
    "start_time": "2023-07-26T16:27:47.460Z"
   },
   {
    "duration": 2,
    "start_time": "2023-07-26T16:28:24.312Z"
   },
   {
    "duration": 1311,
    "start_time": "2023-07-26T16:28:31.867Z"
   },
   {
    "duration": 35,
    "start_time": "2023-07-26T16:28:33.180Z"
   },
   {
    "duration": 16,
    "start_time": "2023-07-26T16:28:33.216Z"
   },
   {
    "duration": 16,
    "start_time": "2023-07-26T16:28:33.234Z"
   },
   {
    "duration": 10,
    "start_time": "2023-07-26T16:28:33.251Z"
   },
   {
    "duration": 6,
    "start_time": "2023-07-26T16:28:33.271Z"
   },
   {
    "duration": 29,
    "start_time": "2023-07-26T16:28:33.279Z"
   },
   {
    "duration": 14,
    "start_time": "2023-07-26T16:28:33.310Z"
   },
   {
    "duration": 11,
    "start_time": "2023-07-26T16:28:33.325Z"
   },
   {
    "duration": 5,
    "start_time": "2023-07-26T16:28:33.338Z"
   },
   {
    "duration": 237,
    "start_time": "2023-07-26T16:28:33.344Z"
   },
   {
    "duration": 3,
    "start_time": "2023-07-26T16:28:33.583Z"
   },
   {
    "duration": 4,
    "start_time": "2023-07-26T16:28:55.020Z"
   },
   {
    "duration": 4,
    "start_time": "2023-07-26T16:29:06.485Z"
   },
   {
    "duration": 2,
    "start_time": "2023-07-26T16:29:18.431Z"
   },
   {
    "duration": 4,
    "start_time": "2023-07-26T16:29:31.283Z"
   },
   {
    "duration": 4,
    "start_time": "2023-07-26T16:29:34.933Z"
   },
   {
    "duration": 5,
    "start_time": "2023-07-26T16:30:09.362Z"
   },
   {
    "duration": 4,
    "start_time": "2023-07-26T16:30:29.687Z"
   },
   {
    "duration": 2963,
    "start_time": "2023-07-26T16:31:36.970Z"
   },
   {
    "duration": 2954,
    "start_time": "2023-07-26T16:32:45.255Z"
   },
   {
    "duration": 3082,
    "start_time": "2023-07-26T16:32:58.427Z"
   },
   {
    "duration": 2943,
    "start_time": "2023-07-26T16:34:10.482Z"
   },
   {
    "duration": 2901,
    "start_time": "2023-07-26T16:35:07.921Z"
   },
   {
    "duration": 2958,
    "start_time": "2023-07-26T16:35:23.796Z"
   },
   {
    "duration": 3027,
    "start_time": "2023-07-26T16:35:50.195Z"
   },
   {
    "duration": 3034,
    "start_time": "2023-07-26T16:39:31.802Z"
   },
   {
    "duration": 2995,
    "start_time": "2023-07-26T16:40:41.076Z"
   },
   {
    "duration": 236,
    "start_time": "2023-07-26T16:41:08.698Z"
   },
   {
    "duration": 216,
    "start_time": "2023-07-26T16:41:17.839Z"
   },
   {
    "duration": 2997,
    "start_time": "2023-07-26T16:41:18.659Z"
   },
   {
    "duration": 3009,
    "start_time": "2023-07-26T16:41:38.666Z"
   },
   {
    "duration": 3086,
    "start_time": "2023-07-26T16:41:55.421Z"
   },
   {
    "duration": 22,
    "start_time": "2023-07-26T16:56:15.368Z"
   },
   {
    "duration": 439,
    "start_time": "2023-07-26T16:57:19.305Z"
   },
   {
    "duration": 214,
    "start_time": "2023-07-26T16:57:37.798Z"
   },
   {
    "duration": 626,
    "start_time": "2023-07-26T16:58:10.447Z"
   },
   {
    "duration": 1462,
    "start_time": "2023-07-26T16:59:12.966Z"
   },
   {
    "duration": 1478,
    "start_time": "2023-07-26T16:59:23.056Z"
   },
   {
    "duration": 1439,
    "start_time": "2023-07-26T16:59:34.012Z"
   },
   {
    "duration": 1599,
    "start_time": "2023-07-26T16:59:57.638Z"
   },
   {
    "duration": 1546,
    "start_time": "2023-07-26T17:00:05.874Z"
   },
   {
    "duration": 1586,
    "start_time": "2023-07-26T17:00:16.116Z"
   },
   {
    "duration": 1540,
    "start_time": "2023-07-26T17:00:50.405Z"
   },
   {
    "duration": 1637,
    "start_time": "2023-07-26T17:01:00.993Z"
   },
   {
    "duration": 1445,
    "start_time": "2023-07-26T17:01:13.705Z"
   },
   {
    "duration": 1462,
    "start_time": "2023-07-26T17:01:20.182Z"
   },
   {
    "duration": 1517,
    "start_time": "2023-07-26T17:01:26.903Z"
   },
   {
    "duration": 1538,
    "start_time": "2023-07-26T17:01:33.537Z"
   },
   {
    "duration": 1429,
    "start_time": "2023-07-26T17:01:44.843Z"
   },
   {
    "duration": 1424,
    "start_time": "2023-07-26T17:02:06.605Z"
   },
   {
    "duration": 1539,
    "start_time": "2023-07-26T17:02:19.809Z"
   },
   {
    "duration": 1412,
    "start_time": "2023-07-26T17:02:27.327Z"
   },
   {
    "duration": 1520,
    "start_time": "2023-07-26T17:08:31.754Z"
   },
   {
    "duration": 1531,
    "start_time": "2023-07-26T17:09:00.830Z"
   },
   {
    "duration": 1511,
    "start_time": "2023-07-26T17:09:14.779Z"
   },
   {
    "duration": 12,
    "start_time": "2023-07-26T17:10:31.799Z"
   },
   {
    "duration": 10,
    "start_time": "2023-07-26T17:20:33.488Z"
   },
   {
    "duration": 6,
    "start_time": "2023-07-26T17:35:35.494Z"
   },
   {
    "duration": 67,
    "start_time": "2023-07-27T14:41:26.956Z"
   },
   {
    "duration": 1570,
    "start_time": "2023-07-27T14:41:33.861Z"
   },
   {
    "duration": 297,
    "start_time": "2023-07-27T14:41:35.433Z"
   },
   {
    "duration": 18,
    "start_time": "2023-07-27T14:41:35.732Z"
   },
   {
    "duration": 79,
    "start_time": "2023-07-27T14:41:35.752Z"
   },
   {
    "duration": 28,
    "start_time": "2023-07-27T14:41:35.834Z"
   },
   {
    "duration": 9,
    "start_time": "2023-07-27T14:41:35.870Z"
   },
   {
    "duration": 43,
    "start_time": "2023-07-27T14:41:35.881Z"
   },
   {
    "duration": 16,
    "start_time": "2023-07-27T14:41:35.926Z"
   },
   {
    "duration": 30,
    "start_time": "2023-07-27T14:41:35.943Z"
   },
   {
    "duration": 24,
    "start_time": "2023-07-27T14:41:35.980Z"
   },
   {
    "duration": 3775,
    "start_time": "2023-07-27T14:41:36.006Z"
   },
   {
    "duration": 1930,
    "start_time": "2023-07-27T14:41:39.794Z"
   },
   {
    "duration": 258,
    "start_time": "2023-07-27T14:45:46.385Z"
   },
   {
    "duration": 233,
    "start_time": "2023-07-27T14:46:16.651Z"
   },
   {
    "duration": 827,
    "start_time": "2023-07-27T14:46:38.585Z"
   },
   {
    "duration": 4,
    "start_time": "2023-07-27T14:49:54.200Z"
   },
   {
    "duration": 623,
    "start_time": "2023-07-27T14:53:51.511Z"
   },
   {
    "duration": 5,
    "start_time": "2023-07-27T15:01:37.044Z"
   },
   {
    "duration": 5,
    "start_time": "2023-07-27T15:01:41.716Z"
   },
   {
    "duration": 13,
    "start_time": "2023-07-27T15:01:46.177Z"
   },
   {
    "duration": 6,
    "start_time": "2023-07-27T15:02:13.571Z"
   },
   {
    "duration": 6,
    "start_time": "2023-07-27T15:03:08.232Z"
   },
   {
    "duration": 7,
    "start_time": "2023-07-27T15:03:11.817Z"
   },
   {
    "duration": 8,
    "start_time": "2023-07-27T15:03:39.896Z"
   },
   {
    "duration": 12,
    "start_time": "2023-07-27T15:06:52.504Z"
   },
   {
    "duration": 22,
    "start_time": "2023-07-27T15:07:55.901Z"
   },
   {
    "duration": 19,
    "start_time": "2023-07-27T15:12:19.822Z"
   },
   {
    "duration": 8,
    "start_time": "2023-07-27T15:23:08.913Z"
   },
   {
    "duration": 8,
    "start_time": "2023-07-27T15:23:13.353Z"
   },
   {
    "duration": 368,
    "start_time": "2023-07-27T15:40:37.107Z"
   },
   {
    "duration": 248,
    "start_time": "2023-07-27T15:40:42.699Z"
   },
   {
    "duration": 421,
    "start_time": "2023-07-27T15:40:47.193Z"
   },
   {
    "duration": 277,
    "start_time": "2023-07-27T15:40:51.220Z"
   },
   {
    "duration": 262,
    "start_time": "2023-07-27T15:40:57.817Z"
   },
   {
    "duration": 255,
    "start_time": "2023-07-27T15:47:57.827Z"
   },
   {
    "duration": 227,
    "start_time": "2023-07-27T15:48:31.784Z"
   },
   {
    "duration": 301,
    "start_time": "2023-07-27T15:49:29.283Z"
   },
   {
    "duration": 263,
    "start_time": "2023-07-27T15:51:09.802Z"
   },
   {
    "duration": 224,
    "start_time": "2023-07-27T15:51:17.851Z"
   },
   {
    "duration": 207,
    "start_time": "2023-07-27T15:51:37.306Z"
   },
   {
    "duration": 227,
    "start_time": "2023-07-27T15:51:51.170Z"
   },
   {
    "duration": 194,
    "start_time": "2023-07-27T15:53:31.519Z"
   },
   {
    "duration": 357,
    "start_time": "2023-07-27T15:53:38.655Z"
   },
   {
    "duration": 223,
    "start_time": "2023-07-27T15:54:49.090Z"
   },
   {
    "duration": 209,
    "start_time": "2023-07-27T15:54:53.370Z"
   },
   {
    "duration": 191,
    "start_time": "2023-07-27T15:54:57.571Z"
   },
   {
    "duration": 230,
    "start_time": "2023-07-27T15:57:16.154Z"
   },
   {
    "duration": 258,
    "start_time": "2023-07-27T15:57:30.581Z"
   },
   {
    "duration": 205,
    "start_time": "2023-07-27T16:15:31.301Z"
   },
   {
    "duration": 183,
    "start_time": "2023-07-27T16:15:42.404Z"
   },
   {
    "duration": 220,
    "start_time": "2023-07-27T16:16:27.217Z"
   },
   {
    "duration": 195,
    "start_time": "2023-07-27T16:24:46.219Z"
   },
   {
    "duration": 256,
    "start_time": "2023-07-27T16:24:52.583Z"
   },
   {
    "duration": 392,
    "start_time": "2023-07-27T16:25:16.617Z"
   },
   {
    "duration": 247,
    "start_time": "2023-07-27T16:25:21.262Z"
   },
   {
    "duration": 240,
    "start_time": "2023-07-27T16:25:24.954Z"
   },
   {
    "duration": 252,
    "start_time": "2023-07-27T16:26:25.821Z"
   },
   {
    "duration": 297,
    "start_time": "2023-07-27T16:27:09.378Z"
   },
   {
    "duration": 507,
    "start_time": "2023-07-27T16:27:16.954Z"
   },
   {
    "duration": 265,
    "start_time": "2023-07-27T16:27:31.174Z"
   },
   {
    "duration": 373,
    "start_time": "2023-07-27T16:30:41.866Z"
   },
   {
    "duration": 284,
    "start_time": "2023-07-27T16:30:58.572Z"
   },
   {
    "duration": 272,
    "start_time": "2023-07-27T16:31:04.400Z"
   },
   {
    "duration": 266,
    "start_time": "2023-07-27T16:31:56.407Z"
   },
   {
    "duration": 323,
    "start_time": "2023-07-27T16:34:32.121Z"
   },
   {
    "duration": 324,
    "start_time": "2023-07-27T16:34:37.612Z"
   },
   {
    "duration": 345,
    "start_time": "2023-07-27T16:34:45.081Z"
   },
   {
    "duration": 445,
    "start_time": "2023-07-27T16:36:16.770Z"
   },
   {
    "duration": 223,
    "start_time": "2023-07-27T16:36:21.219Z"
   },
   {
    "duration": 202,
    "start_time": "2023-07-27T16:36:27.004Z"
   },
   {
    "duration": 223,
    "start_time": "2023-07-27T16:36:33.976Z"
   },
   {
    "duration": 234,
    "start_time": "2023-07-27T16:37:32.005Z"
   },
   {
    "duration": 216,
    "start_time": "2023-07-27T16:37:36.424Z"
   },
   {
    "duration": 217,
    "start_time": "2023-07-27T16:37:42.758Z"
   },
   {
    "duration": 214,
    "start_time": "2023-07-27T16:37:47.425Z"
   },
   {
    "duration": 261,
    "start_time": "2023-07-27T16:38:27.200Z"
   },
   {
    "duration": 228,
    "start_time": "2023-07-27T16:38:37.810Z"
   },
   {
    "duration": 257,
    "start_time": "2023-07-27T16:38:42.764Z"
   },
   {
    "duration": 358,
    "start_time": "2023-07-27T16:39:21.254Z"
   },
   {
    "duration": 13,
    "start_time": "2023-07-27T16:47:27.554Z"
   },
   {
    "duration": 419,
    "start_time": "2023-07-27T16:53:18.383Z"
   },
   {
    "duration": 11,
    "start_time": "2023-07-27T16:54:54.753Z"
   },
   {
    "duration": 19,
    "start_time": "2023-07-27T16:54:56.908Z"
   },
   {
    "duration": 7,
    "start_time": "2023-07-27T16:55:01.504Z"
   },
   {
    "duration": 22,
    "start_time": "2023-07-27T16:55:08.967Z"
   },
   {
    "duration": 4,
    "start_time": "2023-07-27T16:55:12.412Z"
   },
   {
    "duration": 8,
    "start_time": "2023-07-27T16:56:12.595Z"
   },
   {
    "duration": 20,
    "start_time": "2023-07-27T16:56:18.713Z"
   },
   {
    "duration": 35,
    "start_time": "2023-07-27T16:56:29.099Z"
   },
   {
    "duration": 6,
    "start_time": "2023-07-27T16:56:33.826Z"
   },
   {
    "duration": 114,
    "start_time": "2023-07-27T16:59:36.682Z"
   },
   {
    "duration": 1627,
    "start_time": "2023-07-27T16:59:52.797Z"
   },
   {
    "duration": 43,
    "start_time": "2023-07-27T16:59:54.426Z"
   },
   {
    "duration": 20,
    "start_time": "2023-07-27T16:59:54.475Z"
   },
   {
    "duration": 18,
    "start_time": "2023-07-27T16:59:54.496Z"
   },
   {
    "duration": 7,
    "start_time": "2023-07-27T16:59:54.516Z"
   },
   {
    "duration": 5,
    "start_time": "2023-07-27T16:59:54.524Z"
   },
   {
    "duration": 28,
    "start_time": "2023-07-27T16:59:54.531Z"
   },
   {
    "duration": 31,
    "start_time": "2023-07-27T16:59:54.563Z"
   },
   {
    "duration": 15,
    "start_time": "2023-07-27T16:59:54.596Z"
   },
   {
    "duration": 220,
    "start_time": "2023-07-27T16:59:54.613Z"
   },
   {
    "duration": 204,
    "start_time": "2023-07-27T16:59:54.835Z"
   },
   {
    "duration": 248,
    "start_time": "2023-07-27T16:59:55.040Z"
   },
   {
    "duration": 207,
    "start_time": "2023-07-27T16:59:55.289Z"
   },
   {
    "duration": 391,
    "start_time": "2023-07-27T16:59:55.499Z"
   },
   {
    "duration": 370,
    "start_time": "2023-07-27T16:59:55.901Z"
   },
   {
    "duration": 220,
    "start_time": "2023-07-27T16:59:56.280Z"
   },
   {
    "duration": 241,
    "start_time": "2023-07-27T16:59:56.501Z"
   },
   {
    "duration": 273,
    "start_time": "2023-07-27T16:59:56.744Z"
   },
   {
    "duration": 285,
    "start_time": "2023-07-27T16:59:57.019Z"
   },
   {
    "duration": 1668,
    "start_time": "2023-07-27T16:59:57.306Z"
   },
   {
    "duration": 8,
    "start_time": "2023-07-27T16:59:58.977Z"
   },
   {
    "duration": 8,
    "start_time": "2023-07-27T16:59:58.996Z"
   },
   {
    "duration": 157,
    "start_time": "2023-07-27T16:59:59.006Z"
   },
   {
    "duration": 37,
    "start_time": "2023-07-27T17:00:06.452Z"
   },
   {
    "duration": 24,
    "start_time": "2023-07-27T17:01:23.619Z"
   },
   {
    "duration": 30,
    "start_time": "2023-07-27T17:01:27.920Z"
   },
   {
    "duration": 37,
    "start_time": "2023-07-27T17:01:33.401Z"
   },
   {
    "duration": 52,
    "start_time": "2023-07-27T17:02:11.330Z"
   },
   {
    "duration": 4,
    "start_time": "2023-07-27T17:07:07.915Z"
   },
   {
    "duration": 3,
    "start_time": "2023-07-27T17:07:11.803Z"
   },
   {
    "duration": 1608,
    "start_time": "2023-07-27T17:07:16.506Z"
   },
   {
    "duration": 36,
    "start_time": "2023-07-27T17:07:18.116Z"
   },
   {
    "duration": 34,
    "start_time": "2023-07-27T17:07:18.154Z"
   },
   {
    "duration": 17,
    "start_time": "2023-07-27T17:07:18.196Z"
   },
   {
    "duration": 7,
    "start_time": "2023-07-27T17:07:18.216Z"
   },
   {
    "duration": 8,
    "start_time": "2023-07-27T17:07:18.224Z"
   },
   {
    "duration": 36,
    "start_time": "2023-07-27T17:07:18.234Z"
   },
   {
    "duration": 29,
    "start_time": "2023-07-27T17:07:18.273Z"
   },
   {
    "duration": 55,
    "start_time": "2023-07-27T17:07:18.304Z"
   },
   {
    "duration": 256,
    "start_time": "2023-07-27T17:07:18.361Z"
   },
   {
    "duration": 236,
    "start_time": "2023-07-27T17:07:18.619Z"
   },
   {
    "duration": 267,
    "start_time": "2023-07-27T17:07:18.866Z"
   },
   {
    "duration": 293,
    "start_time": "2023-07-27T17:07:19.136Z"
   },
   {
    "duration": 389,
    "start_time": "2023-07-27T17:07:19.432Z"
   },
   {
    "duration": 383,
    "start_time": "2023-07-27T17:07:19.822Z"
   },
   {
    "duration": 247,
    "start_time": "2023-07-27T17:07:20.206Z"
   },
   {
    "duration": 239,
    "start_time": "2023-07-27T17:07:20.455Z"
   },
   {
    "duration": 309,
    "start_time": "2023-07-27T17:07:20.697Z"
   },
   {
    "duration": 312,
    "start_time": "2023-07-27T17:07:21.008Z"
   },
   {
    "duration": 1580,
    "start_time": "2023-07-27T17:07:21.322Z"
   },
   {
    "duration": 5,
    "start_time": "2023-07-27T17:07:22.903Z"
   },
   {
    "duration": 9,
    "start_time": "2023-07-27T17:07:22.910Z"
   },
   {
    "duration": 75,
    "start_time": "2023-07-27T17:07:22.921Z"
   },
   {
    "duration": 217,
    "start_time": "2023-07-27T17:07:23.056Z"
   },
   {
    "duration": 8,
    "start_time": "2023-07-27T17:07:37.702Z"
   },
   {
    "duration": 26,
    "start_time": "2023-07-27T17:10:10.295Z"
   },
   {
    "duration": 8,
    "start_time": "2023-07-27T17:10:12.309Z"
   },
   {
    "duration": 1538,
    "start_time": "2023-07-27T17:10:18.396Z"
   },
   {
    "duration": 45,
    "start_time": "2023-07-27T17:10:19.936Z"
   },
   {
    "duration": 20,
    "start_time": "2023-07-27T17:10:19.982Z"
   },
   {
    "duration": 15,
    "start_time": "2023-07-27T17:10:20.004Z"
   },
   {
    "duration": 10,
    "start_time": "2023-07-27T17:10:20.022Z"
   },
   {
    "duration": 11,
    "start_time": "2023-07-27T17:10:20.034Z"
   },
   {
    "duration": 9,
    "start_time": "2023-07-27T17:10:20.057Z"
   },
   {
    "duration": 29,
    "start_time": "2023-07-27T17:10:20.071Z"
   },
   {
    "duration": 24,
    "start_time": "2023-07-27T17:10:20.102Z"
   },
   {
    "duration": 234,
    "start_time": "2023-07-27T17:10:20.127Z"
   },
   {
    "duration": 201,
    "start_time": "2023-07-27T17:10:20.362Z"
   },
   {
    "duration": 219,
    "start_time": "2023-07-27T17:10:20.566Z"
   },
   {
    "duration": 217,
    "start_time": "2023-07-27T17:10:20.787Z"
   },
   {
    "duration": 388,
    "start_time": "2023-07-27T17:10:21.006Z"
   },
   {
    "duration": 351,
    "start_time": "2023-07-27T17:10:21.395Z"
   },
   {
    "duration": 241,
    "start_time": "2023-07-27T17:10:21.758Z"
   },
   {
    "duration": 241,
    "start_time": "2023-07-27T17:10:22.000Z"
   },
   {
    "duration": 272,
    "start_time": "2023-07-27T17:10:22.242Z"
   },
   {
    "duration": 290,
    "start_time": "2023-07-27T17:10:22.516Z"
   },
   {
    "duration": 1606,
    "start_time": "2023-07-27T17:10:22.808Z"
   },
   {
    "duration": 5,
    "start_time": "2023-07-27T17:10:24.416Z"
   },
   {
    "duration": 31,
    "start_time": "2023-07-27T17:10:24.422Z"
   },
   {
    "duration": 78,
    "start_time": "2023-07-27T17:10:24.455Z"
   },
   {
    "duration": 129,
    "start_time": "2023-07-27T17:10:24.535Z"
   },
   {
    "duration": 44,
    "start_time": "2023-07-27T17:12:04.222Z"
   },
   {
    "duration": 112,
    "start_time": "2023-07-27T17:17:10.193Z"
   },
   {
    "duration": 4,
    "start_time": "2023-07-27T17:17:22.208Z"
   },
   {
    "duration": 1725,
    "start_time": "2023-07-27T17:17:26.781Z"
   },
   {
    "duration": 34,
    "start_time": "2023-07-27T17:17:28.509Z"
   },
   {
    "duration": 28,
    "start_time": "2023-07-27T17:17:28.545Z"
   },
   {
    "duration": 20,
    "start_time": "2023-07-27T17:17:28.577Z"
   },
   {
    "duration": 6,
    "start_time": "2023-07-27T17:17:28.600Z"
   },
   {
    "duration": 20,
    "start_time": "2023-07-27T17:17:28.608Z"
   },
   {
    "duration": 10,
    "start_time": "2023-07-27T17:17:28.629Z"
   },
   {
    "duration": 44,
    "start_time": "2023-07-27T17:17:28.640Z"
   },
   {
    "duration": 17,
    "start_time": "2023-07-27T17:17:28.688Z"
   },
   {
    "duration": 242,
    "start_time": "2023-07-27T17:17:28.707Z"
   },
   {
    "duration": 249,
    "start_time": "2023-07-27T17:17:28.951Z"
   },
   {
    "duration": 297,
    "start_time": "2023-07-27T17:17:29.203Z"
   },
   {
    "duration": 339,
    "start_time": "2023-07-27T17:17:29.502Z"
   },
   {
    "duration": 267,
    "start_time": "2023-07-27T17:17:29.844Z"
   },
   {
    "duration": 377,
    "start_time": "2023-07-27T17:17:30.112Z"
   },
   {
    "duration": 240,
    "start_time": "2023-07-27T17:17:30.491Z"
   },
   {
    "duration": 264,
    "start_time": "2023-07-27T17:17:30.733Z"
   },
   {
    "duration": 299,
    "start_time": "2023-07-27T17:17:31.000Z"
   },
   {
    "duration": 291,
    "start_time": "2023-07-27T17:17:31.301Z"
   },
   {
    "duration": 1550,
    "start_time": "2023-07-27T17:17:31.594Z"
   },
   {
    "duration": 5,
    "start_time": "2023-07-27T17:17:33.146Z"
   },
   {
    "duration": 28,
    "start_time": "2023-07-27T17:17:33.157Z"
   },
   {
    "duration": 53,
    "start_time": "2023-07-27T17:17:33.187Z"
   },
   {
    "duration": 21,
    "start_time": "2023-07-27T17:17:33.258Z"
   },
   {
    "duration": 18,
    "start_time": "2023-07-27T17:17:33.285Z"
   },
   {
    "duration": 12,
    "start_time": "2023-07-27T17:20:26.154Z"
   },
   {
    "duration": 195,
    "start_time": "2023-07-27T17:21:59.770Z"
   },
   {
    "duration": 190,
    "start_time": "2023-07-27T17:22:17.784Z"
   },
   {
    "duration": 577,
    "start_time": "2023-07-27T17:23:28.447Z"
   },
   {
    "duration": 424,
    "start_time": "2023-07-27T17:23:50.844Z"
   },
   {
    "duration": 5,
    "start_time": "2023-07-27T17:29:36.713Z"
   },
   {
    "duration": 1806,
    "start_time": "2023-07-27T17:29:41.957Z"
   },
   {
    "duration": 36,
    "start_time": "2023-07-27T17:29:43.773Z"
   },
   {
    "duration": 17,
    "start_time": "2023-07-27T17:29:43.811Z"
   },
   {
    "duration": 52,
    "start_time": "2023-07-27T17:29:43.829Z"
   },
   {
    "duration": 7,
    "start_time": "2023-07-27T17:29:43.885Z"
   },
   {
    "duration": 18,
    "start_time": "2023-07-27T17:29:43.894Z"
   },
   {
    "duration": 18,
    "start_time": "2023-07-27T17:29:43.914Z"
   },
   {
    "duration": 44,
    "start_time": "2023-07-27T17:29:43.934Z"
   },
   {
    "duration": 19,
    "start_time": "2023-07-27T17:29:43.984Z"
   },
   {
    "duration": 259,
    "start_time": "2023-07-27T17:29:44.005Z"
   },
   {
    "duration": 217,
    "start_time": "2023-07-27T17:29:44.266Z"
   },
   {
    "duration": 212,
    "start_time": "2023-07-27T17:29:44.485Z"
   },
   {
    "duration": 313,
    "start_time": "2023-07-27T17:29:44.699Z"
   },
   {
    "duration": 268,
    "start_time": "2023-07-27T17:29:45.015Z"
   },
   {
    "duration": 365,
    "start_time": "2023-07-27T17:29:45.288Z"
   },
   {
    "duration": 246,
    "start_time": "2023-07-27T17:29:45.658Z"
   },
   {
    "duration": 239,
    "start_time": "2023-07-27T17:29:45.906Z"
   },
   {
    "duration": 291,
    "start_time": "2023-07-27T17:29:46.147Z"
   },
   {
    "duration": 272,
    "start_time": "2023-07-27T17:29:46.439Z"
   },
   {
    "duration": 1570,
    "start_time": "2023-07-27T17:29:46.713Z"
   },
   {
    "duration": 5,
    "start_time": "2023-07-27T17:29:48.285Z"
   },
   {
    "duration": 10,
    "start_time": "2023-07-27T17:29:48.292Z"
   },
   {
    "duration": 882,
    "start_time": "2023-07-27T17:29:48.304Z"
   },
   {
    "duration": 559,
    "start_time": "2023-07-27T17:29:49.189Z"
   },
   {
    "duration": 1560,
    "start_time": "2023-07-27T17:31:29.155Z"
   },
   {
    "duration": 34,
    "start_time": "2023-07-27T17:31:30.717Z"
   },
   {
    "duration": 26,
    "start_time": "2023-07-27T17:31:30.753Z"
   },
   {
    "duration": 44,
    "start_time": "2023-07-27T17:31:30.781Z"
   },
   {
    "duration": 23,
    "start_time": "2023-07-27T17:31:30.828Z"
   },
   {
    "duration": 76,
    "start_time": "2023-07-27T17:31:30.852Z"
   },
   {
    "duration": 113,
    "start_time": "2023-07-27T17:31:30.930Z"
   },
   {
    "duration": 56,
    "start_time": "2023-07-27T17:31:31.044Z"
   },
   {
    "duration": 51,
    "start_time": "2023-07-27T17:31:31.102Z"
   },
   {
    "duration": 239,
    "start_time": "2023-07-27T17:31:31.155Z"
   },
   {
    "duration": 199,
    "start_time": "2023-07-27T17:31:31.396Z"
   },
   {
    "duration": 217,
    "start_time": "2023-07-27T17:31:31.597Z"
   },
   {
    "duration": 321,
    "start_time": "2023-07-27T17:31:31.816Z"
   },
   {
    "duration": 284,
    "start_time": "2023-07-27T17:31:32.139Z"
   },
   {
    "duration": 354,
    "start_time": "2023-07-27T17:31:32.425Z"
   },
   {
    "duration": 214,
    "start_time": "2023-07-27T17:31:32.782Z"
   },
   {
    "duration": 233,
    "start_time": "2023-07-27T17:31:32.997Z"
   },
   {
    "duration": 281,
    "start_time": "2023-07-27T17:31:33.231Z"
   },
   {
    "duration": 274,
    "start_time": "2023-07-27T17:31:33.514Z"
   },
   {
    "duration": 1450,
    "start_time": "2023-07-27T17:31:33.790Z"
   },
   {
    "duration": 4,
    "start_time": "2023-07-27T17:31:35.242Z"
   },
   {
    "duration": 16,
    "start_time": "2023-07-27T17:31:35.267Z"
   },
   {
    "duration": 1194,
    "start_time": "2023-07-27T17:31:35.285Z"
   },
   {
    "duration": 417,
    "start_time": "2023-07-27T17:31:36.481Z"
   },
   {
    "duration": 29,
    "start_time": "2023-07-27T17:33:20.655Z"
   },
   {
    "duration": 9,
    "start_time": "2023-07-27T17:33:23.325Z"
   },
   {
    "duration": 15,
    "start_time": "2023-07-27T17:33:27.168Z"
   },
   {
    "duration": 9,
    "start_time": "2023-07-27T17:33:30.712Z"
   },
   {
    "duration": 114,
    "start_time": "2023-07-27T17:35:58.197Z"
   },
   {
    "duration": 687,
    "start_time": "2023-07-27T17:36:04.597Z"
   },
   {
    "duration": 627,
    "start_time": "2023-07-27T17:36:07.403Z"
   },
   {
    "duration": 668,
    "start_time": "2023-07-27T17:36:11.947Z"
   },
   {
    "duration": 4,
    "start_time": "2023-07-27T17:36:36.422Z"
   },
   {
    "duration": 116831,
    "start_time": "2023-07-27T17:37:23.919Z"
   },
   {
    "duration": 116003,
    "start_time": "2023-07-27T17:39:57.007Z"
   },
   {
    "duration": 4,
    "start_time": "2023-07-27T17:42:24.610Z"
   },
   {
    "duration": 31,
    "start_time": "2023-07-27T17:43:56.647Z"
   },
   {
    "duration": 1635,
    "start_time": "2023-07-27T17:44:00.951Z"
   },
   {
    "duration": 35,
    "start_time": "2023-07-27T17:44:02.588Z"
   },
   {
    "duration": 22,
    "start_time": "2023-07-27T17:44:02.625Z"
   },
   {
    "duration": 25,
    "start_time": "2023-07-27T17:44:02.649Z"
   },
   {
    "duration": 8,
    "start_time": "2023-07-27T17:44:02.684Z"
   },
   {
    "duration": 28,
    "start_time": "2023-07-27T17:44:02.694Z"
   },
   {
    "duration": 26,
    "start_time": "2023-07-27T17:44:02.724Z"
   },
   {
    "duration": 38,
    "start_time": "2023-07-27T17:44:02.751Z"
   },
   {
    "duration": 17,
    "start_time": "2023-07-27T17:44:02.796Z"
   },
   {
    "duration": 228,
    "start_time": "2023-07-27T17:44:02.814Z"
   },
   {
    "duration": 230,
    "start_time": "2023-07-27T17:44:03.043Z"
   },
   {
    "duration": 233,
    "start_time": "2023-07-27T17:44:03.288Z"
   },
   {
    "duration": 333,
    "start_time": "2023-07-27T17:44:03.524Z"
   },
   {
    "duration": 280,
    "start_time": "2023-07-27T17:44:03.862Z"
   },
   {
    "duration": 365,
    "start_time": "2023-07-27T17:44:04.144Z"
   },
   {
    "duration": 240,
    "start_time": "2023-07-27T17:44:04.511Z"
   },
   {
    "duration": 231,
    "start_time": "2023-07-27T17:44:04.753Z"
   },
   {
    "duration": 263,
    "start_time": "2023-07-27T17:44:04.986Z"
   },
   {
    "duration": 264,
    "start_time": "2023-07-27T17:44:05.251Z"
   },
   {
    "duration": 1463,
    "start_time": "2023-07-27T17:44:05.517Z"
   },
   {
    "duration": 5,
    "start_time": "2023-07-27T17:44:06.983Z"
   },
   {
    "duration": 42,
    "start_time": "2023-07-27T17:44:06.989Z"
   },
   {
    "duration": 757,
    "start_time": "2023-07-27T17:44:07.033Z"
   },
   {
    "duration": 517,
    "start_time": "2023-07-27T17:44:07.791Z"
   },
   {
    "duration": 8,
    "start_time": "2023-07-27T17:44:08.309Z"
   },
   {
    "duration": 770,
    "start_time": "2023-07-27T17:44:08.319Z"
   },
   {
    "duration": 6,
    "start_time": "2023-07-27T17:44:09.092Z"
   },
   {
    "duration": 120,
    "start_time": "2023-07-27T17:46:02.801Z"
   },
   {
    "duration": 951,
    "start_time": "2023-07-27T17:46:16.010Z"
   },
   {
    "duration": 860,
    "start_time": "2023-07-27T17:46:56.208Z"
   },
   {
    "duration": 1182,
    "start_time": "2023-07-27T17:47:40.201Z"
   },
   {
    "duration": 1065,
    "start_time": "2023-07-27T17:48:35.700Z"
   },
   {
    "duration": 11,
    "start_time": "2023-07-27T17:51:33.105Z"
   },
   {
    "duration": 5,
    "start_time": "2023-07-27T17:51:49.208Z"
   },
   {
    "duration": 1572,
    "start_time": "2023-07-27T17:51:54.110Z"
   },
   {
    "duration": 33,
    "start_time": "2023-07-27T17:51:55.685Z"
   },
   {
    "duration": 15,
    "start_time": "2023-07-27T17:51:55.720Z"
   },
   {
    "duration": 12,
    "start_time": "2023-07-27T17:51:55.736Z"
   },
   {
    "duration": 13,
    "start_time": "2023-07-27T17:51:55.750Z"
   },
   {
    "duration": 15,
    "start_time": "2023-07-27T17:51:55.764Z"
   },
   {
    "duration": 8,
    "start_time": "2023-07-27T17:51:55.780Z"
   },
   {
    "duration": 20,
    "start_time": "2023-07-27T17:51:55.789Z"
   },
   {
    "duration": 14,
    "start_time": "2023-07-27T17:51:55.811Z"
   },
   {
    "duration": 248,
    "start_time": "2023-07-27T17:51:55.827Z"
   },
   {
    "duration": 183,
    "start_time": "2023-07-27T17:51:56.077Z"
   },
   {
    "duration": 221,
    "start_time": "2023-07-27T17:51:56.268Z"
   },
   {
    "duration": 309,
    "start_time": "2023-07-27T17:51:56.491Z"
   },
   {
    "duration": 248,
    "start_time": "2023-07-27T17:51:56.802Z"
   },
   {
    "duration": 366,
    "start_time": "2023-07-27T17:51:57.057Z"
   },
   {
    "duration": 228,
    "start_time": "2023-07-27T17:51:57.425Z"
   },
   {
    "duration": 229,
    "start_time": "2023-07-27T17:51:57.659Z"
   },
   {
    "duration": 271,
    "start_time": "2023-07-27T17:51:57.890Z"
   },
   {
    "duration": 261,
    "start_time": "2023-07-27T17:51:58.170Z"
   },
   {
    "duration": 1562,
    "start_time": "2023-07-27T17:51:58.433Z"
   },
   {
    "duration": 6,
    "start_time": "2023-07-27T17:51:59.996Z"
   },
   {
    "duration": 61,
    "start_time": "2023-07-27T17:52:00.004Z"
   },
   {
    "duration": 698,
    "start_time": "2023-07-27T17:52:00.069Z"
   },
   {
    "duration": 453,
    "start_time": "2023-07-27T17:52:00.769Z"
   },
   {
    "duration": 11,
    "start_time": "2023-07-27T17:52:01.224Z"
   },
   {
    "duration": 706,
    "start_time": "2023-07-27T17:52:01.237Z"
   },
   {
    "duration": 22,
    "start_time": "2023-07-27T17:52:01.945Z"
   },
   {
    "duration": 1313,
    "start_time": "2023-07-27T17:52:01.970Z"
   },
   {
    "duration": 115,
    "start_time": "2023-07-27T17:52:03.289Z"
   },
   {
    "duration": 28,
    "start_time": "2023-07-27T17:55:17.950Z"
   },
   {
    "duration": 40289,
    "start_time": "2023-07-27T17:55:27.750Z"
   },
   {
    "duration": 19,
    "start_time": "2023-07-27T17:59:49.918Z"
   },
   {
    "duration": 11,
    "start_time": "2023-07-27T18:00:33.376Z"
   },
   {
    "duration": 45,
    "start_time": "2023-07-28T10:25:12.663Z"
   },
   {
    "duration": 6,
    "start_time": "2023-07-28T10:25:56.887Z"
   },
   {
    "duration": 1730,
    "start_time": "2023-07-28T10:26:04.718Z"
   },
   {
    "duration": 70,
    "start_time": "2023-07-28T10:26:06.450Z"
   },
   {
    "duration": 14,
    "start_time": "2023-07-28T10:26:06.522Z"
   },
   {
    "duration": 10,
    "start_time": "2023-07-28T10:26:06.538Z"
   },
   {
    "duration": 7,
    "start_time": "2023-07-28T10:26:06.550Z"
   },
   {
    "duration": 9,
    "start_time": "2023-07-28T10:26:06.558Z"
   },
   {
    "duration": 15,
    "start_time": "2023-07-28T10:26:06.568Z"
   },
   {
    "duration": 47,
    "start_time": "2023-07-28T10:26:06.585Z"
   },
   {
    "duration": 15,
    "start_time": "2023-07-28T10:26:06.634Z"
   },
   {
    "duration": 202,
    "start_time": "2023-07-28T10:26:06.651Z"
   },
   {
    "duration": 171,
    "start_time": "2023-07-28T10:26:06.854Z"
   },
   {
    "duration": 191,
    "start_time": "2023-07-28T10:26:07.031Z"
   },
   {
    "duration": 254,
    "start_time": "2023-07-28T10:26:07.223Z"
   },
   {
    "duration": 233,
    "start_time": "2023-07-28T10:26:07.479Z"
   },
   {
    "duration": 324,
    "start_time": "2023-07-28T10:26:07.714Z"
   },
   {
    "duration": 202,
    "start_time": "2023-07-28T10:26:08.040Z"
   },
   {
    "duration": 199,
    "start_time": "2023-07-28T10:26:08.243Z"
   },
   {
    "duration": 229,
    "start_time": "2023-07-28T10:26:08.443Z"
   },
   {
    "duration": 225,
    "start_time": "2023-07-28T10:26:08.674Z"
   },
   {
    "duration": 1393,
    "start_time": "2023-07-28T10:26:08.901Z"
   },
   {
    "duration": 4,
    "start_time": "2023-07-28T10:26:10.296Z"
   },
   {
    "duration": 9,
    "start_time": "2023-07-28T10:26:10.301Z"
   },
   {
    "duration": 23,
    "start_time": "2023-07-28T10:26:10.312Z"
   },
   {
    "duration": 300,
    "start_time": "2023-07-28T10:26:10.336Z"
   },
   {
    "duration": 425,
    "start_time": "2023-07-28T10:26:10.639Z"
   },
   {
    "duration": 9,
    "start_time": "2023-07-28T10:26:11.065Z"
   },
   {
    "duration": 597,
    "start_time": "2023-07-28T10:26:11.075Z"
   },
   {
    "duration": 5,
    "start_time": "2023-07-28T10:26:11.673Z"
   },
   {
    "duration": 1455,
    "start_time": "2023-07-28T10:26:11.680Z"
   },
   {
    "duration": 35413,
    "start_time": "2023-07-28T10:26:13.137Z"
   },
   {
    "duration": 7,
    "start_time": "2023-07-28T10:26:48.552Z"
   },
   {
    "duration": 9,
    "start_time": "2023-07-28T10:27:29.093Z"
   },
   {
    "duration": 4,
    "start_time": "2023-07-28T10:45:55.697Z"
   },
   {
    "duration": 574,
    "start_time": "2023-07-28T10:48:12.637Z"
   },
   {
    "duration": 590,
    "start_time": "2023-07-28T10:48:19.808Z"
   },
   {
    "duration": 725,
    "start_time": "2023-07-28T11:03:57.257Z"
   },
   {
    "duration": 1686,
    "start_time": "2023-07-28T11:11:58.684Z"
   },
   {
    "duration": 1529,
    "start_time": "2023-07-28T11:12:13.348Z"
   },
   {
    "duration": 1222,
    "start_time": "2023-07-28T11:12:19.650Z"
   },
   {
    "duration": 1564,
    "start_time": "2023-07-28T11:14:21.089Z"
   },
   {
    "duration": 2253,
    "start_time": "2023-07-28T11:40:41.229Z"
   },
   {
    "duration": 33,
    "start_time": "2023-07-28T11:40:43.484Z"
   },
   {
    "duration": 21,
    "start_time": "2023-07-28T11:40:43.518Z"
   },
   {
    "duration": 14,
    "start_time": "2023-07-28T11:40:43.544Z"
   },
   {
    "duration": 6,
    "start_time": "2023-07-28T11:40:43.561Z"
   },
   {
    "duration": 8,
    "start_time": "2023-07-28T11:40:43.569Z"
   },
   {
    "duration": 17,
    "start_time": "2023-07-28T11:40:43.578Z"
   },
   {
    "duration": 47,
    "start_time": "2023-07-28T11:40:43.596Z"
   },
   {
    "duration": 18,
    "start_time": "2023-07-28T11:40:43.645Z"
   },
   {
    "duration": 225,
    "start_time": "2023-07-28T11:40:43.664Z"
   },
   {
    "duration": 198,
    "start_time": "2023-07-28T11:40:43.891Z"
   },
   {
    "duration": 199,
    "start_time": "2023-07-28T11:40:44.091Z"
   },
   {
    "duration": 276,
    "start_time": "2023-07-28T11:40:44.291Z"
   },
   {
    "duration": 273,
    "start_time": "2023-07-28T11:40:44.570Z"
   },
   {
    "duration": 435,
    "start_time": "2023-07-28T11:40:44.850Z"
   },
   {
    "duration": 221,
    "start_time": "2023-07-28T11:40:45.287Z"
   },
   {
    "duration": 217,
    "start_time": "2023-07-28T11:40:45.510Z"
   },
   {
    "duration": 268,
    "start_time": "2023-07-28T11:40:45.733Z"
   },
   {
    "duration": 249,
    "start_time": "2023-07-28T11:40:46.003Z"
   },
   {
    "duration": 1406,
    "start_time": "2023-07-28T11:40:46.254Z"
   },
   {
    "duration": 5,
    "start_time": "2023-07-28T11:40:47.662Z"
   },
   {
    "duration": 52,
    "start_time": "2023-07-28T11:40:47.669Z"
   },
   {
    "duration": 51,
    "start_time": "2023-07-28T11:40:47.723Z"
   },
   {
    "duration": 867,
    "start_time": "2023-07-28T11:40:47.777Z"
   },
   {
    "duration": 433,
    "start_time": "2023-07-28T11:40:48.650Z"
   },
   {
    "duration": 10,
    "start_time": "2023-07-28T11:40:49.085Z"
   },
   {
    "duration": 619,
    "start_time": "2023-07-28T11:40:49.097Z"
   },
   {
    "duration": 930,
    "start_time": "2023-07-28T11:40:49.718Z"
   },
   {
    "duration": 38672,
    "start_time": "2023-07-28T11:40:50.651Z"
   },
   {
    "duration": 19,
    "start_time": "2023-07-28T11:41:29.325Z"
   },
   {
    "duration": 7,
    "start_time": "2023-07-28T11:53:19.329Z"
   },
   {
    "duration": 8,
    "start_time": "2023-07-28T11:56:47.102Z"
   },
   {
    "duration": 0,
    "start_time": "2023-07-28T12:41:31.573Z"
   },
   {
    "duration": 2923,
    "start_time": "2023-07-28T12:41:34.437Z"
   },
   {
    "duration": 417,
    "start_time": "2023-07-28T12:41:51.141Z"
   },
   {
    "duration": 415,
    "start_time": "2023-07-28T12:44:24.190Z"
   },
   {
    "duration": 516,
    "start_time": "2023-07-28T12:45:59.006Z"
   },
   {
    "duration": 3143,
    "start_time": "2023-07-28T12:47:56.539Z"
   },
   {
    "duration": 6,
    "start_time": "2023-07-28T12:48:27.740Z"
   },
   {
    "duration": 142,
    "start_time": "2023-07-28T12:53:44.191Z"
   },
   {
    "duration": 162,
    "start_time": "2023-07-28T12:54:03.497Z"
   },
   {
    "duration": 207,
    "start_time": "2023-07-28T12:54:44.667Z"
   },
   {
    "duration": 395,
    "start_time": "2023-07-28T12:55:25.601Z"
   },
   {
    "duration": 383,
    "start_time": "2023-07-28T12:56:56.845Z"
   },
   {
    "duration": 525,
    "start_time": "2023-07-28T12:57:27.968Z"
   },
   {
    "duration": 4,
    "start_time": "2023-07-28T12:58:10.357Z"
   },
   {
    "duration": 112,
    "start_time": "2023-07-28T12:58:43.091Z"
   },
   {
    "duration": 264,
    "start_time": "2023-07-28T12:58:52.848Z"
   },
   {
    "duration": 6236,
    "start_time": "2023-07-28T13:01:35.757Z"
   },
   {
    "duration": 6253,
    "start_time": "2023-07-28T13:02:57.310Z"
   },
   {
    "duration": 6116,
    "start_time": "2023-07-28T13:03:04.752Z"
   },
   {
    "duration": 6215,
    "start_time": "2023-07-28T13:03:19.867Z"
   },
   {
    "duration": 5792,
    "start_time": "2023-07-28T13:04:25.655Z"
   },
   {
    "duration": 8,
    "start_time": "2023-07-28T13:05:52.389Z"
   },
   {
    "duration": 8513,
    "start_time": "2023-07-28T13:05:55.405Z"
   },
   {
    "duration": 6,
    "start_time": "2023-07-28T13:06:50.189Z"
   },
   {
    "duration": 5859,
    "start_time": "2023-07-28T13:07:19.793Z"
   },
   {
    "duration": 1611,
    "start_time": "2023-07-28T13:08:16.606Z"
   },
   {
    "duration": 33,
    "start_time": "2023-07-28T13:08:18.219Z"
   },
   {
    "duration": 14,
    "start_time": "2023-07-28T13:08:18.254Z"
   },
   {
    "duration": 11,
    "start_time": "2023-07-28T13:08:18.270Z"
   },
   {
    "duration": 12,
    "start_time": "2023-07-28T13:08:18.282Z"
   },
   {
    "duration": 6,
    "start_time": "2023-07-28T13:08:18.296Z"
   },
   {
    "duration": 8,
    "start_time": "2023-07-28T13:08:18.303Z"
   },
   {
    "duration": 19,
    "start_time": "2023-07-28T13:08:18.332Z"
   },
   {
    "duration": 14,
    "start_time": "2023-07-28T13:08:18.353Z"
   },
   {
    "duration": 6,
    "start_time": "2023-07-28T13:08:18.369Z"
   },
   {
    "duration": 5593,
    "start_time": "2023-07-28T13:08:18.377Z"
   },
   {
    "duration": 1395,
    "start_time": "2023-07-28T13:08:23.972Z"
   },
   {
    "duration": 4,
    "start_time": "2023-07-28T13:08:25.368Z"
   },
   {
    "duration": 56,
    "start_time": "2023-07-28T13:08:25.373Z"
   },
   {
    "duration": 52,
    "start_time": "2023-07-28T13:08:25.431Z"
   },
   {
    "duration": 247,
    "start_time": "2023-07-28T13:08:25.485Z"
   },
   {
    "duration": 439,
    "start_time": "2023-07-28T13:08:25.735Z"
   },
   {
    "duration": 8,
    "start_time": "2023-07-28T13:08:26.175Z"
   },
   {
    "duration": 886,
    "start_time": "2023-07-28T13:08:26.184Z"
   },
   {
    "duration": 1366,
    "start_time": "2023-07-28T13:08:27.071Z"
   },
   {
    "duration": 32806,
    "start_time": "2023-07-28T13:08:28.438Z"
   },
   {
    "duration": 6,
    "start_time": "2023-07-28T13:09:01.246Z"
   },
   {
    "duration": 875,
    "start_time": "2023-07-28T13:09:11.656Z"
   },
   {
    "duration": 122,
    "start_time": "2023-07-28T13:09:21.642Z"
   },
   {
    "duration": 6,
    "start_time": "2023-07-28T13:09:54.421Z"
   },
   {
    "duration": 5635,
    "start_time": "2023-07-28T13:09:54.838Z"
   },
   {
    "duration": 1607,
    "start_time": "2023-07-28T13:10:07.309Z"
   },
   {
    "duration": 33,
    "start_time": "2023-07-28T13:10:08.918Z"
   },
   {
    "duration": 20,
    "start_time": "2023-07-28T13:10:08.953Z"
   },
   {
    "duration": 19,
    "start_time": "2023-07-28T13:10:08.974Z"
   },
   {
    "duration": 7,
    "start_time": "2023-07-28T13:10:08.995Z"
   },
   {
    "duration": 16,
    "start_time": "2023-07-28T13:10:09.004Z"
   },
   {
    "duration": 35,
    "start_time": "2023-07-28T13:10:09.022Z"
   },
   {
    "duration": 44,
    "start_time": "2023-07-28T13:10:09.059Z"
   },
   {
    "duration": 27,
    "start_time": "2023-07-28T13:10:09.105Z"
   },
   {
    "duration": 16,
    "start_time": "2023-07-28T13:10:09.134Z"
   },
   {
    "duration": 5226,
    "start_time": "2023-07-28T13:10:09.152Z"
   },
   {
    "duration": 1416,
    "start_time": "2023-07-28T13:10:14.379Z"
   },
   {
    "duration": 5,
    "start_time": "2023-07-28T13:10:15.796Z"
   },
   {
    "duration": 11,
    "start_time": "2023-07-28T13:10:15.803Z"
   },
   {
    "duration": 22,
    "start_time": "2023-07-28T13:10:15.815Z"
   },
   {
    "duration": 201,
    "start_time": "2023-07-28T13:10:15.838Z"
   },
   {
    "duration": 369,
    "start_time": "2023-07-28T13:10:16.131Z"
   },
   {
    "duration": 10,
    "start_time": "2023-07-28T13:10:16.501Z"
   },
   {
    "duration": 653,
    "start_time": "2023-07-28T13:10:16.512Z"
   },
   {
    "duration": 1479,
    "start_time": "2023-07-28T13:10:17.166Z"
   },
   {
    "duration": 33583,
    "start_time": "2023-07-28T13:10:18.646Z"
   },
   {
    "duration": 7,
    "start_time": "2023-07-28T13:10:52.230Z"
   },
   {
    "duration": 1778,
    "start_time": "2023-07-28T16:07:51.102Z"
   },
   {
    "duration": 80,
    "start_time": "2023-07-28T16:07:52.882Z"
   },
   {
    "duration": 64,
    "start_time": "2023-07-28T16:07:52.964Z"
   },
   {
    "duration": 153,
    "start_time": "2023-07-28T16:07:53.030Z"
   },
   {
    "duration": 13,
    "start_time": "2023-07-28T16:07:53.185Z"
   },
   {
    "duration": 10,
    "start_time": "2023-07-28T16:07:53.200Z"
   },
   {
    "duration": 24,
    "start_time": "2023-07-28T16:07:53.211Z"
   },
   {
    "duration": 31,
    "start_time": "2023-07-28T16:07:53.237Z"
   },
   {
    "duration": 18,
    "start_time": "2023-07-28T16:07:53.270Z"
   },
   {
    "duration": 7,
    "start_time": "2023-07-28T16:07:53.292Z"
   },
   {
    "duration": 5753,
    "start_time": "2023-07-28T16:07:53.300Z"
   },
   {
    "duration": 1409,
    "start_time": "2023-07-28T16:07:59.056Z"
   },
   {
    "duration": 5,
    "start_time": "2023-07-28T16:08:00.467Z"
   },
   {
    "duration": 46,
    "start_time": "2023-07-28T16:08:00.474Z"
   },
   {
    "duration": 71,
    "start_time": "2023-07-28T16:08:00.522Z"
   },
   {
    "duration": 448,
    "start_time": "2023-07-28T16:08:00.594Z"
   },
   {
    "duration": 435,
    "start_time": "2023-07-28T16:08:01.046Z"
   },
   {
    "duration": 10,
    "start_time": "2023-07-28T16:08:01.483Z"
   },
   {
    "duration": 584,
    "start_time": "2023-07-28T16:08:01.496Z"
   },
   {
    "duration": 1161,
    "start_time": "2023-07-28T16:08:02.081Z"
   },
   {
    "duration": 1483,
    "start_time": "2023-07-28T16:08:36.743Z"
   },
   {
    "duration": 32,
    "start_time": "2023-07-28T16:08:38.227Z"
   },
   {
    "duration": 15,
    "start_time": "2023-07-28T16:08:38.261Z"
   },
   {
    "duration": 27,
    "start_time": "2023-07-28T16:08:38.278Z"
   },
   {
    "duration": 11,
    "start_time": "2023-07-28T16:08:38.308Z"
   },
   {
    "duration": 15,
    "start_time": "2023-07-28T16:08:38.321Z"
   },
   {
    "duration": 7,
    "start_time": "2023-07-28T16:08:38.338Z"
   },
   {
    "duration": 25,
    "start_time": "2023-07-28T16:08:38.346Z"
   },
   {
    "duration": 18,
    "start_time": "2023-07-28T16:08:38.372Z"
   },
   {
    "duration": 5,
    "start_time": "2023-07-28T16:08:38.392Z"
   },
   {
    "duration": 5227,
    "start_time": "2023-07-28T16:08:38.399Z"
   },
   {
    "duration": 1445,
    "start_time": "2023-07-28T16:08:43.628Z"
   },
   {
    "duration": 5,
    "start_time": "2023-07-28T16:08:45.075Z"
   },
   {
    "duration": 36,
    "start_time": "2023-07-28T16:08:45.082Z"
   },
   {
    "duration": 54,
    "start_time": "2023-07-28T16:08:45.119Z"
   },
   {
    "duration": 657,
    "start_time": "2023-07-28T16:08:45.175Z"
   },
   {
    "duration": 340,
    "start_time": "2023-07-28T16:08:45.834Z"
   },
   {
    "duration": 8,
    "start_time": "2023-07-28T16:08:46.176Z"
   },
   {
    "duration": 109233,
    "start_time": "2023-07-28T16:08:46.186Z"
   },
   {
    "duration": 1826,
    "start_time": "2023-07-28T16:10:35.420Z"
   },
   {
    "duration": 33832,
    "start_time": "2023-07-28T16:10:37.247Z"
   },
   {
    "duration": 5,
    "start_time": "2023-07-28T16:11:11.081Z"
   },
   {
    "duration": 50,
    "start_time": "2023-07-31T20:03:08.442Z"
   },
   {
    "duration": 1681,
    "start_time": "2023-07-31T20:03:16.146Z"
   },
   {
    "duration": 69,
    "start_time": "2023-07-31T20:03:17.829Z"
   },
   {
    "duration": 16,
    "start_time": "2023-07-31T20:03:17.900Z"
   },
   {
    "duration": 18,
    "start_time": "2023-07-31T20:03:17.918Z"
   },
   {
    "duration": 10,
    "start_time": "2023-07-31T20:03:17.938Z"
   },
   {
    "duration": 26,
    "start_time": "2023-07-31T20:03:17.950Z"
   },
   {
    "duration": 28,
    "start_time": "2023-07-31T20:03:17.978Z"
   },
   {
    "duration": 34,
    "start_time": "2023-07-31T20:03:18.008Z"
   },
   {
    "duration": 27,
    "start_time": "2023-07-31T20:03:18.044Z"
   },
   {
    "duration": 13,
    "start_time": "2023-07-31T20:03:18.073Z"
   },
   {
    "duration": 5559,
    "start_time": "2023-07-31T20:03:18.088Z"
   },
   {
    "duration": 1577,
    "start_time": "2023-07-31T20:03:23.649Z"
   },
   {
    "duration": 4,
    "start_time": "2023-07-31T20:03:25.228Z"
   },
   {
    "duration": 14,
    "start_time": "2023-07-31T20:03:25.234Z"
   },
   {
    "duration": 16,
    "start_time": "2023-07-31T20:03:25.250Z"
   },
   {
    "duration": 220,
    "start_time": "2023-07-31T20:03:25.268Z"
   },
   {
    "duration": 441,
    "start_time": "2023-07-31T20:03:25.491Z"
   },
   {
    "duration": 9,
    "start_time": "2023-07-31T20:03:25.934Z"
   },
   {
    "duration": 632,
    "start_time": "2023-07-31T20:03:25.944Z"
   },
   {
    "duration": 1724,
    "start_time": "2023-07-31T20:03:26.577Z"
   },
   {
    "duration": 1594,
    "start_time": "2023-07-31T20:03:31.555Z"
   },
   {
    "duration": 32,
    "start_time": "2023-07-31T20:03:33.151Z"
   },
   {
    "duration": 17,
    "start_time": "2023-07-31T20:03:33.185Z"
   },
   {
    "duration": 20,
    "start_time": "2023-07-31T20:03:33.203Z"
   },
   {
    "duration": 54,
    "start_time": "2023-07-31T20:03:33.225Z"
   },
   {
    "duration": 54,
    "start_time": "2023-07-31T20:03:33.281Z"
   },
   {
    "duration": 25,
    "start_time": "2023-07-31T20:03:33.337Z"
   },
   {
    "duration": 34,
    "start_time": "2023-07-31T20:03:33.363Z"
   },
   {
    "duration": 14,
    "start_time": "2023-07-31T20:03:33.399Z"
   },
   {
    "duration": 9,
    "start_time": "2023-07-31T20:03:33.415Z"
   },
   {
    "duration": 5375,
    "start_time": "2023-07-31T20:03:33.426Z"
   },
   {
    "duration": 1433,
    "start_time": "2023-07-31T20:03:38.802Z"
   },
   {
    "duration": 4,
    "start_time": "2023-07-31T20:03:40.237Z"
   },
   {
    "duration": 101,
    "start_time": "2023-07-31T20:03:40.245Z"
   },
   {
    "duration": 28,
    "start_time": "2023-07-31T20:03:40.348Z"
   },
   {
    "duration": 211,
    "start_time": "2023-07-31T20:03:40.378Z"
   },
   {
    "duration": 447,
    "start_time": "2023-07-31T20:03:40.591Z"
   },
   {
    "duration": 8,
    "start_time": "2023-07-31T20:03:41.040Z"
   },
   {
    "duration": 616,
    "start_time": "2023-07-31T20:03:41.049Z"
   },
   {
    "duration": 1734,
    "start_time": "2023-07-31T20:03:41.666Z"
   },
   {
    "duration": 35297,
    "start_time": "2023-07-31T20:03:43.402Z"
   },
   {
    "duration": 4,
    "start_time": "2023-07-31T20:04:18.701Z"
   },
   {
    "duration": 7,
    "start_time": "2023-07-31T20:04:18.706Z"
   },
   {
    "duration": 3,
    "start_time": "2023-07-31T20:10:41.434Z"
   },
   {
    "duration": 1447,
    "start_time": "2023-07-31T20:13:28.505Z"
   },
   {
    "duration": 1473,
    "start_time": "2023-07-31T20:17:38.725Z"
   },
   {
    "duration": 323,
    "start_time": "2023-07-31T20:17:44.661Z"
   },
   {
    "duration": 183,
    "start_time": "2023-07-31T20:18:26.797Z"
   },
   {
    "duration": 174,
    "start_time": "2023-07-31T20:18:52.159Z"
   },
   {
    "duration": 227,
    "start_time": "2023-07-31T20:18:58.218Z"
   },
   {
    "duration": 1477,
    "start_time": "2023-07-31T20:19:56.299Z"
   },
   {
    "duration": 4,
    "start_time": "2023-07-31T20:23:39.897Z"
   },
   {
    "duration": 3,
    "start_time": "2023-07-31T20:24:38.067Z"
   },
   {
    "duration": 1460,
    "start_time": "2023-07-31T20:25:45.209Z"
   },
   {
    "duration": 3315,
    "start_time": "2023-07-31T20:26:09.959Z"
   },
   {
    "duration": 1611,
    "start_time": "2023-07-31T20:26:33.643Z"
   },
   {
    "duration": 3444,
    "start_time": "2023-07-31T20:29:12.497Z"
   },
   {
    "duration": 1552,
    "start_time": "2023-07-31T20:30:06.090Z"
   },
   {
    "duration": 1513,
    "start_time": "2023-07-31T20:31:47.209Z"
   },
   {
    "duration": 1348,
    "start_time": "2023-07-31T20:34:33.455Z"
   },
   {
    "duration": 1446,
    "start_time": "2023-07-31T20:45:47.448Z"
   },
   {
    "duration": 49,
    "start_time": "2023-08-01T17:03:32.679Z"
   },
   {
    "duration": 1794,
    "start_time": "2023-08-01T17:03:49.215Z"
   },
   {
    "duration": 72,
    "start_time": "2023-08-01T17:03:51.011Z"
   },
   {
    "duration": 22,
    "start_time": "2023-08-01T17:03:51.085Z"
   },
   {
    "duration": 28,
    "start_time": "2023-08-01T17:03:51.108Z"
   },
   {
    "duration": 13,
    "start_time": "2023-08-01T17:03:51.137Z"
   },
   {
    "duration": 34,
    "start_time": "2023-08-01T17:03:51.151Z"
   },
   {
    "duration": 39,
    "start_time": "2023-08-01T17:03:51.187Z"
   },
   {
    "duration": 50,
    "start_time": "2023-08-01T17:03:51.228Z"
   },
   {
    "duration": 33,
    "start_time": "2023-08-01T17:03:51.280Z"
   },
   {
    "duration": 19,
    "start_time": "2023-08-01T17:03:51.317Z"
   },
   {
    "duration": 5826,
    "start_time": "2023-08-01T17:03:51.338Z"
   },
   {
    "duration": 1537,
    "start_time": "2023-08-01T17:03:57.166Z"
   },
   {
    "duration": 4,
    "start_time": "2023-08-01T17:03:58.704Z"
   },
   {
    "duration": 9,
    "start_time": "2023-08-01T17:03:58.710Z"
   },
   {
    "duration": 16,
    "start_time": "2023-08-01T17:03:58.720Z"
   },
   {
    "duration": 843,
    "start_time": "2023-08-01T17:03:58.737Z"
   },
   {
    "duration": 466,
    "start_time": "2023-08-01T17:03:59.585Z"
   },
   {
    "duration": 19,
    "start_time": "2023-08-01T17:04:00.053Z"
   },
   {
    "duration": 652,
    "start_time": "2023-08-01T17:04:00.074Z"
   },
   {
    "duration": 1365,
    "start_time": "2023-08-01T17:04:00.728Z"
   },
   {
    "duration": 1632,
    "start_time": "2023-08-01T17:04:02.096Z"
   },
   {
    "duration": 1595,
    "start_time": "2023-08-01T17:04:03.729Z"
   },
   {
    "duration": 6,
    "start_time": "2023-08-01T17:04:05.325Z"
   },
   {
    "duration": 1670,
    "start_time": "2023-08-01T17:06:18.393Z"
   },
   {
    "duration": 3536,
    "start_time": "2023-08-01T17:09:09.461Z"
   },
   {
    "duration": 1730,
    "start_time": "2023-08-01T17:09:31.598Z"
   },
   {
    "duration": 1664,
    "start_time": "2023-08-01T17:18:14.945Z"
   },
   {
    "duration": 35,
    "start_time": "2023-08-01T17:18:16.611Z"
   },
   {
    "duration": 29,
    "start_time": "2023-08-01T17:18:16.648Z"
   },
   {
    "duration": 36,
    "start_time": "2023-08-01T17:18:16.679Z"
   },
   {
    "duration": 50,
    "start_time": "2023-08-01T17:18:16.717Z"
   },
   {
    "duration": 42,
    "start_time": "2023-08-01T17:18:16.768Z"
   },
   {
    "duration": 33,
    "start_time": "2023-08-01T17:18:16.812Z"
   },
   {
    "duration": 47,
    "start_time": "2023-08-01T17:18:16.847Z"
   },
   {
    "duration": 39,
    "start_time": "2023-08-01T17:18:16.896Z"
   },
   {
    "duration": 5,
    "start_time": "2023-08-01T17:18:16.936Z"
   },
   {
    "duration": 5484,
    "start_time": "2023-08-01T17:18:16.943Z"
   },
   {
    "duration": 1582,
    "start_time": "2023-08-01T17:18:22.429Z"
   },
   {
    "duration": 6,
    "start_time": "2023-08-01T17:18:24.013Z"
   },
   {
    "duration": 17,
    "start_time": "2023-08-01T17:18:24.022Z"
   },
   {
    "duration": 16,
    "start_time": "2023-08-01T17:18:24.041Z"
   },
   {
    "duration": 215,
    "start_time": "2023-08-01T17:18:24.059Z"
   },
   {
    "duration": 455,
    "start_time": "2023-08-01T17:18:24.276Z"
   },
   {
    "duration": 10,
    "start_time": "2023-08-01T17:18:24.732Z"
   },
   {
    "duration": 115643,
    "start_time": "2023-08-01T17:18:24.744Z"
   },
   {
    "duration": 1594,
    "start_time": "2023-08-01T17:20:20.388Z"
   },
   {
    "duration": 1382,
    "start_time": "2023-08-01T17:20:21.984Z"
   },
   {
    "duration": 1643,
    "start_time": "2023-08-01T17:20:23.370Z"
   },
   {
    "duration": 8,
    "start_time": "2023-08-01T17:20:25.015Z"
   }
  ],
  "kernelspec": {
   "display_name": "Python 3 (ipykernel)",
   "language": "python",
   "name": "python3"
  },
  "language_info": {
   "codemirror_mode": {
    "name": "ipython",
    "version": 3
   },
   "file_extension": ".py",
   "mimetype": "text/x-python",
   "name": "python",
   "nbconvert_exporter": "python",
   "pygments_lexer": "ipython3",
   "version": "3.9.12"
  },
  "toc": {
   "base_numbering": 1,
   "nav_menu": {},
   "number_sections": true,
   "sideBar": true,
   "skip_h1_title": true,
   "title_cell": "Table of Contents",
   "title_sidebar": "Contents",
   "toc_cell": false,
   "toc_position": {
    "height": "calc(100% - 180px)",
    "left": "10px",
    "top": "150px",
    "width": "255px"
   },
   "toc_section_display": true,
   "toc_window_display": false
  }
 },
 "nbformat": 4,
 "nbformat_minor": 2
}
